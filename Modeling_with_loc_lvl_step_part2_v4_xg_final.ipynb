{
 "cells": [
  {
   "cell_type": "markdown",
   "id": "8633c8ec",
   "metadata": {
    "toc": true
   },
   "source": [
    "<h1>Table of Contents<span class=\"tocSkip\"></span></h1>\n",
    "<div class=\"toc\"><ul class=\"toc-item\"><li><span><a href=\"#Libraries\" data-toc-modified-id=\"Libraries-1\"><span class=\"toc-item-num\">1&nbsp;&nbsp;</span>Libraries</a></span></li><li><span><a href=\"#Level-Steps\" data-toc-modified-id=\"Level-Steps-2\"><span class=\"toc-item-num\">2&nbsp;&nbsp;</span>Level Steps</a></span></li><li><span><a href=\"#Read-File\" data-toc-modified-id=\"Read-File-3\"><span class=\"toc-item-num\">3&nbsp;&nbsp;</span>Read File</a></span></li><li><span><a href=\"#Hierarchy-file-read:-upto-disagg-level-5\" data-toc-modified-id=\"Hierarchy-file-read:-upto-disagg-level-5-4\"><span class=\"toc-item-num\">4&nbsp;&nbsp;</span>Hierarchy file read: upto disagg level 5</a></span></li><li><span><a href=\"#Descriptive-Stats\" data-toc-modified-id=\"Descriptive-Stats-5\"><span class=\"toc-item-num\">5&nbsp;&nbsp;</span>Descriptive Stats</a></span><ul class=\"toc-item\"><li><span><a href=\"#Filter-dataset-upto-lowest-disaggregation-level\" data-toc-modified-id=\"Filter-dataset-upto-lowest-disaggregation-level-5.1\"><span class=\"toc-item-num\">5.1&nbsp;&nbsp;</span>Filter dataset upto lowest disaggregation level</a></span></li><li><span><a href=\"#Check-value-counts\" data-toc-modified-id=\"Check-value-counts-5.2\"><span class=\"toc-item-num\">5.2&nbsp;&nbsp;</span>Check value counts</a></span></li></ul></li><li><span><a href=\"#Oversampling-and-Train-Test-Split\" data-toc-modified-id=\"Oversampling-and-Train-Test-Split-6\"><span class=\"toc-item-num\">6&nbsp;&nbsp;</span>Oversampling and Train Test Split</a></span><ul class=\"toc-item\"><li><span><a href=\"#Oversample-for-train-test-split\" data-toc-modified-id=\"Oversample-for-train-test-split-6.1\"><span class=\"toc-item-num\">6.1&nbsp;&nbsp;</span>Oversample for train test split</a></span></li><li><span><a href=\"#Train-Test-Split\" data-toc-modified-id=\"Train-Test-Split-6.2\"><span class=\"toc-item-num\">6.2&nbsp;&nbsp;</span>Train Test Split</a></span><ul class=\"toc-item\"><li><span><a href=\"#Stratify-sanity-check-and-duplicate-removal\" data-toc-modified-id=\"Stratify-sanity-check-and-duplicate-removal-6.2.1\"><span class=\"toc-item-num\">6.2.1&nbsp;&nbsp;</span>Stratify sanity check and duplicate removal</a></span></li></ul></li></ul></li><li><span><a href=\"#Disaggregation-level-1\" data-toc-modified-id=\"Disaggregation-level-1-7\"><span class=\"toc-item-num\">7&nbsp;&nbsp;</span>Disaggregation level 1</a></span></li><li><span><a href=\"#Oversample-for-Cross-Validation\" data-toc-modified-id=\"Oversample-for-Cross-Validation-8\"><span class=\"toc-item-num\">8&nbsp;&nbsp;</span>Oversample for Cross Validation</a></span></li><li><span><a href=\"#Vectorizer\" data-toc-modified-id=\"Vectorizer-9\"><span class=\"toc-item-num\">9&nbsp;&nbsp;</span>Vectorizer</a></span><ul class=\"toc-item\"><li><span><a href=\"#Export-Vectorizer\" data-toc-modified-id=\"Export-Vectorizer-9.1\"><span class=\"toc-item-num\">9.1&nbsp;&nbsp;</span>Export Vectorizer</a></span></li><li><span><a href=\"#Add-features\" data-toc-modified-id=\"Add-features-9.2\"><span class=\"toc-item-num\">9.2&nbsp;&nbsp;</span>Add features</a></span></li><li><span><a href=\"#Export-labels\" data-toc-modified-id=\"Export-labels-9.3\"><span class=\"toc-item-num\">9.3&nbsp;&nbsp;</span>Export labels</a></span></li><li><span><a href=\"#Get-label-names\" data-toc-modified-id=\"Get-label-names-9.4\"><span class=\"toc-item-num\">9.4&nbsp;&nbsp;</span>Get label names</a></span></li></ul></li><li><span><a href=\"#Cross-Validation\" data-toc-modified-id=\"Cross-Validation-10\"><span class=\"toc-item-num\">10&nbsp;&nbsp;</span>Cross Validation</a></span></li><li><span><a href=\"#Fit-and-Predict-on-Out-of-Sample-Data\" data-toc-modified-id=\"Fit-and-Predict-on-Out-of-Sample-Data-11\"><span class=\"toc-item-num\">11&nbsp;&nbsp;</span>Fit and Predict on Out of Sample Data</a></span><ul class=\"toc-item\"><li><span><a href=\"#Export-final-model\" data-toc-modified-id=\"Export-final-model-11.1\"><span class=\"toc-item-num\">11.1&nbsp;&nbsp;</span>Export final model</a></span></li></ul></li><li><span><a href=\"#Update-dataframe-input-for-next-level\" data-toc-modified-id=\"Update-dataframe-input-for-next-level-12\"><span class=\"toc-item-num\">12&nbsp;&nbsp;</span>Update dataframe input for next level</a></span><ul class=\"toc-item\"><li><span><a href=\"#Make-prediction-on-training-dataframe\" data-toc-modified-id=\"Make-prediction-on-training-dataframe-12.1\"><span class=\"toc-item-num\">12.1&nbsp;&nbsp;</span>Make prediction on training dataframe</a></span></li><li><span><a href=\"#Add-prediction-to-original-dataframe\" data-toc-modified-id=\"Add-prediction-to-original-dataframe-12.2\"><span class=\"toc-item-num\">12.2&nbsp;&nbsp;</span>Add prediction to original dataframe</a></span><ul class=\"toc-item\"><li><span><a href=\"#Sanity-Check\" data-toc-modified-id=\"Sanity-Check-12.2.1\"><span class=\"toc-item-num\">12.2.1&nbsp;&nbsp;</span>Sanity Check</a></span></li><li><span><a href=\"#update\" data-toc-modified-id=\"update-12.2.2\"><span class=\"toc-item-num\">12.2.2&nbsp;&nbsp;</span>update</a></span></li></ul></li><li><span><a href=\"#Remove-records-for-next-level-of-disagg\" data-toc-modified-id=\"Remove-records-for-next-level-of-disagg-12.3\"><span class=\"toc-item-num\">12.3&nbsp;&nbsp;</span>Remove records for next level of disagg</a></span></li></ul></li><li><span><a href=\"#Disaggregation-2\" data-toc-modified-id=\"Disaggregation-2-13\"><span class=\"toc-item-num\">13&nbsp;&nbsp;</span>Disaggregation 2</a></span></li><li><span><a href=\"#Oversample-for-Cross-Validation\" data-toc-modified-id=\"Oversample-for-Cross-Validation-14\"><span class=\"toc-item-num\">14&nbsp;&nbsp;</span>Oversample for Cross Validation</a></span></li><li><span><a href=\"#Vectorizer\" data-toc-modified-id=\"Vectorizer-15\"><span class=\"toc-item-num\">15&nbsp;&nbsp;</span>Vectorizer</a></span><ul class=\"toc-item\"><li><span><a href=\"#Export-Vectorizer\" data-toc-modified-id=\"Export-Vectorizer-15.1\"><span class=\"toc-item-num\">15.1&nbsp;&nbsp;</span>Export Vectorizer</a></span></li><li><span><a href=\"#Add-features\" data-toc-modified-id=\"Add-features-15.2\"><span class=\"toc-item-num\">15.2&nbsp;&nbsp;</span>Add features</a></span></li><li><span><a href=\"#Export-labels\" data-toc-modified-id=\"Export-labels-15.3\"><span class=\"toc-item-num\">15.3&nbsp;&nbsp;</span>Export labels</a></span></li><li><span><a href=\"#Get-label-names\" data-toc-modified-id=\"Get-label-names-15.4\"><span class=\"toc-item-num\">15.4&nbsp;&nbsp;</span>Get label names</a></span></li></ul></li><li><span><a href=\"#Cross-Validation\" data-toc-modified-id=\"Cross-Validation-16\"><span class=\"toc-item-num\">16&nbsp;&nbsp;</span>Cross Validation</a></span></li><li><span><a href=\"#Fit-and-Predict-on-Out-of-Sample-Data\" data-toc-modified-id=\"Fit-and-Predict-on-Out-of-Sample-Data-17\"><span class=\"toc-item-num\">17&nbsp;&nbsp;</span>Fit and Predict on Out of Sample Data</a></span><ul class=\"toc-item\"><li><span><a href=\"#Export-final-model\" data-toc-modified-id=\"Export-final-model-17.1\"><span class=\"toc-item-num\">17.1&nbsp;&nbsp;</span>Export final model</a></span></li></ul></li><li><span><a href=\"#Update-dataframe-input-for-next-level\" data-toc-modified-id=\"Update-dataframe-input-for-next-level-18\"><span class=\"toc-item-num\">18&nbsp;&nbsp;</span>Update dataframe input for next level</a></span><ul class=\"toc-item\"><li><span><a href=\"#Make-prediction-on-training-dataframe\" data-toc-modified-id=\"Make-prediction-on-training-dataframe-18.1\"><span class=\"toc-item-num\">18.1&nbsp;&nbsp;</span>Make prediction on training dataframe</a></span></li><li><span><a href=\"#Add-prediction-to-original-dataframe\" data-toc-modified-id=\"Add-prediction-to-original-dataframe-18.2\"><span class=\"toc-item-num\">18.2&nbsp;&nbsp;</span>Add prediction to original dataframe</a></span><ul class=\"toc-item\"><li><span><a href=\"#Sanity-Check\" data-toc-modified-id=\"Sanity-Check-18.2.1\"><span class=\"toc-item-num\">18.2.1&nbsp;&nbsp;</span>Sanity Check</a></span></li><li><span><a href=\"#update\" data-toc-modified-id=\"update-18.2.2\"><span class=\"toc-item-num\">18.2.2&nbsp;&nbsp;</span>update</a></span></li></ul></li><li><span><a href=\"#Remove-records-for-next-level-of-disagg\" data-toc-modified-id=\"Remove-records-for-next-level-of-disagg-18.3\"><span class=\"toc-item-num\">18.3&nbsp;&nbsp;</span>Remove records for next level of disagg</a></span></li></ul></li><li><span><a href=\"#Disaggregation-3\" data-toc-modified-id=\"Disaggregation-3-19\"><span class=\"toc-item-num\">19&nbsp;&nbsp;</span>Disaggregation 3</a></span></li><li><span><a href=\"#Oversample-for-Cross-Validation\" data-toc-modified-id=\"Oversample-for-Cross-Validation-20\"><span class=\"toc-item-num\">20&nbsp;&nbsp;</span>Oversample for Cross Validation</a></span></li><li><span><a href=\"#Vectorizer\" data-toc-modified-id=\"Vectorizer-21\"><span class=\"toc-item-num\">21&nbsp;&nbsp;</span>Vectorizer</a></span><ul class=\"toc-item\"><li><span><a href=\"#Export-Vectorizer\" data-toc-modified-id=\"Export-Vectorizer-21.1\"><span class=\"toc-item-num\">21.1&nbsp;&nbsp;</span>Export Vectorizer</a></span></li><li><span><a href=\"#Add-features\" data-toc-modified-id=\"Add-features-21.2\"><span class=\"toc-item-num\">21.2&nbsp;&nbsp;</span>Add features</a></span></li><li><span><a href=\"#Export-labels\" data-toc-modified-id=\"Export-labels-21.3\"><span class=\"toc-item-num\">21.3&nbsp;&nbsp;</span>Export labels</a></span></li><li><span><a href=\"#Get-label-names\" data-toc-modified-id=\"Get-label-names-21.4\"><span class=\"toc-item-num\">21.4&nbsp;&nbsp;</span>Get label names</a></span></li></ul></li><li><span><a href=\"#Cross-Validation\" data-toc-modified-id=\"Cross-Validation-22\"><span class=\"toc-item-num\">22&nbsp;&nbsp;</span>Cross Validation</a></span></li><li><span><a href=\"#Fit-and-Predict-on-Out-of-Sample-Data\" data-toc-modified-id=\"Fit-and-Predict-on-Out-of-Sample-Data-23\"><span class=\"toc-item-num\">23&nbsp;&nbsp;</span>Fit and Predict on Out of Sample Data</a></span><ul class=\"toc-item\"><li><span><a href=\"#Export-final-model\" data-toc-modified-id=\"Export-final-model-23.1\"><span class=\"toc-item-num\">23.1&nbsp;&nbsp;</span>Export final model</a></span></li></ul></li><li><span><a href=\"#Update-dataframe-input-for-next-level\" data-toc-modified-id=\"Update-dataframe-input-for-next-level-24\"><span class=\"toc-item-num\">24&nbsp;&nbsp;</span>Update dataframe input for next level</a></span><ul class=\"toc-item\"><li><span><a href=\"#Make-prediction-on-training-dataframe\" data-toc-modified-id=\"Make-prediction-on-training-dataframe-24.1\"><span class=\"toc-item-num\">24.1&nbsp;&nbsp;</span>Make prediction on training dataframe</a></span></li><li><span><a href=\"#Add-prediction-to-original-dataframe\" data-toc-modified-id=\"Add-prediction-to-original-dataframe-24.2\"><span class=\"toc-item-num\">24.2&nbsp;&nbsp;</span>Add prediction to original dataframe</a></span><ul class=\"toc-item\"><li><span><a href=\"#Sanity-Check\" data-toc-modified-id=\"Sanity-Check-24.2.1\"><span class=\"toc-item-num\">24.2.1&nbsp;&nbsp;</span>Sanity Check</a></span></li><li><span><a href=\"#update\" data-toc-modified-id=\"update-24.2.2\"><span class=\"toc-item-num\">24.2.2&nbsp;&nbsp;</span>update</a></span></li></ul></li><li><span><a href=\"#Remove-records-for-next-level-of-disagg\" data-toc-modified-id=\"Remove-records-for-next-level-of-disagg-24.3\"><span class=\"toc-item-num\">24.3&nbsp;&nbsp;</span>Remove records for next level of disagg</a></span></li></ul></li><li><span><a href=\"#Disaggregation-4\" data-toc-modified-id=\"Disaggregation-4-25\"><span class=\"toc-item-num\">25&nbsp;&nbsp;</span>Disaggregation 4</a></span></li><li><span><a href=\"#Oversample-for-Cross-Validation\" data-toc-modified-id=\"Oversample-for-Cross-Validation-26\"><span class=\"toc-item-num\">26&nbsp;&nbsp;</span>Oversample for Cross Validation</a></span></li><li><span><a href=\"#Vectorizer\" data-toc-modified-id=\"Vectorizer-27\"><span class=\"toc-item-num\">27&nbsp;&nbsp;</span>Vectorizer</a></span><ul class=\"toc-item\"><li><span><a href=\"#Export-Vectorizer\" data-toc-modified-id=\"Export-Vectorizer-27.1\"><span class=\"toc-item-num\">27.1&nbsp;&nbsp;</span>Export Vectorizer</a></span></li><li><span><a href=\"#Add-features\" data-toc-modified-id=\"Add-features-27.2\"><span class=\"toc-item-num\">27.2&nbsp;&nbsp;</span>Add features</a></span></li><li><span><a href=\"#Export-labels\" data-toc-modified-id=\"Export-labels-27.3\"><span class=\"toc-item-num\">27.3&nbsp;&nbsp;</span>Export labels</a></span></li><li><span><a href=\"#Get-label-names\" data-toc-modified-id=\"Get-label-names-27.4\"><span class=\"toc-item-num\">27.4&nbsp;&nbsp;</span>Get label names</a></span></li></ul></li><li><span><a href=\"#Cross-Validation\" data-toc-modified-id=\"Cross-Validation-28\"><span class=\"toc-item-num\">28&nbsp;&nbsp;</span>Cross Validation</a></span></li><li><span><a href=\"#Fit-and-Predict-on-Out-of-Sample-Data\" data-toc-modified-id=\"Fit-and-Predict-on-Out-of-Sample-Data-29\"><span class=\"toc-item-num\">29&nbsp;&nbsp;</span>Fit and Predict on Out of Sample Data</a></span><ul class=\"toc-item\"><li><span><a href=\"#Export-final-model\" data-toc-modified-id=\"Export-final-model-29.1\"><span class=\"toc-item-num\">29.1&nbsp;&nbsp;</span>Export final model</a></span></li></ul></li><li><span><a href=\"#Update-dataframe-input-for-next-level\" data-toc-modified-id=\"Update-dataframe-input-for-next-level-30\"><span class=\"toc-item-num\">30&nbsp;&nbsp;</span>Update dataframe input for next level</a></span><ul class=\"toc-item\"><li><span><a href=\"#Make-prediction-on-training-dataframe\" data-toc-modified-id=\"Make-prediction-on-training-dataframe-30.1\"><span class=\"toc-item-num\">30.1&nbsp;&nbsp;</span>Make prediction on training dataframe</a></span></li><li><span><a href=\"#Add-prediction-to-original-dataframe\" data-toc-modified-id=\"Add-prediction-to-original-dataframe-30.2\"><span class=\"toc-item-num\">30.2&nbsp;&nbsp;</span>Add prediction to original dataframe</a></span><ul class=\"toc-item\"><li><span><a href=\"#Sanity-Check\" data-toc-modified-id=\"Sanity-Check-30.2.1\"><span class=\"toc-item-num\">30.2.1&nbsp;&nbsp;</span>Sanity Check</a></span></li><li><span><a href=\"#update\" data-toc-modified-id=\"update-30.2.2\"><span class=\"toc-item-num\">30.2.2&nbsp;&nbsp;</span>update</a></span></li></ul></li><li><span><a href=\"#Remove-records-for-next-level-of-disagg\" data-toc-modified-id=\"Remove-records-for-next-level-of-disagg-30.3\"><span class=\"toc-item-num\">30.3&nbsp;&nbsp;</span>Remove records for next level of disagg</a></span></li></ul></li><li><span><a href=\"#Disaggregation-5\" data-toc-modified-id=\"Disaggregation-5-31\"><span class=\"toc-item-num\">31&nbsp;&nbsp;</span>Disaggregation 5</a></span></li><li><span><a href=\"#Oversample-for-Cross-Validation\" data-toc-modified-id=\"Oversample-for-Cross-Validation-32\"><span class=\"toc-item-num\">32&nbsp;&nbsp;</span>Oversample for Cross Validation</a></span></li><li><span><a href=\"#Vectorizer\" data-toc-modified-id=\"Vectorizer-33\"><span class=\"toc-item-num\">33&nbsp;&nbsp;</span>Vectorizer</a></span><ul class=\"toc-item\"><li><span><a href=\"#Export-Vectorizer\" data-toc-modified-id=\"Export-Vectorizer-33.1\"><span class=\"toc-item-num\">33.1&nbsp;&nbsp;</span>Export Vectorizer</a></span></li><li><span><a href=\"#Add-features\" data-toc-modified-id=\"Add-features-33.2\"><span class=\"toc-item-num\">33.2&nbsp;&nbsp;</span>Add features</a></span></li><li><span><a href=\"#Export-labels\" data-toc-modified-id=\"Export-labels-33.3\"><span class=\"toc-item-num\">33.3&nbsp;&nbsp;</span>Export labels</a></span></li><li><span><a href=\"#Get-label-names\" data-toc-modified-id=\"Get-label-names-33.4\"><span class=\"toc-item-num\">33.4&nbsp;&nbsp;</span>Get label names</a></span></li></ul></li><li><span><a href=\"#Cross-Validation\" data-toc-modified-id=\"Cross-Validation-34\"><span class=\"toc-item-num\">34&nbsp;&nbsp;</span>Cross Validation</a></span></li><li><span><a href=\"#Fit-and-Predict-on-Out-of-Sample-Data\" data-toc-modified-id=\"Fit-and-Predict-on-Out-of-Sample-Data-35\"><span class=\"toc-item-num\">35&nbsp;&nbsp;</span>Fit and Predict on Out of Sample Data</a></span><ul class=\"toc-item\"><li><span><a href=\"#Export-final-model\" data-toc-modified-id=\"Export-final-model-35.1\"><span class=\"toc-item-num\">35.1&nbsp;&nbsp;</span>Export final model</a></span></li></ul></li><li><span><a href=\"#Update-dataframe-input-for-next-level\" data-toc-modified-id=\"Update-dataframe-input-for-next-level-36\"><span class=\"toc-item-num\">36&nbsp;&nbsp;</span>Update dataframe input for next level</a></span><ul class=\"toc-item\"><li><span><a href=\"#Make-prediction-on-training-dataframe\" data-toc-modified-id=\"Make-prediction-on-training-dataframe-36.1\"><span class=\"toc-item-num\">36.1&nbsp;&nbsp;</span>Make prediction on training dataframe</a></span></li><li><span><a href=\"#Add-prediction-to-original-dataframe\" data-toc-modified-id=\"Add-prediction-to-original-dataframe-36.2\"><span class=\"toc-item-num\">36.2&nbsp;&nbsp;</span>Add prediction to original dataframe</a></span><ul class=\"toc-item\"><li><span><a href=\"#Sanity-Check\" data-toc-modified-id=\"Sanity-Check-36.2.1\"><span class=\"toc-item-num\">36.2.1&nbsp;&nbsp;</span>Sanity Check</a></span></li><li><span><a href=\"#update\" data-toc-modified-id=\"update-36.2.2\"><span class=\"toc-item-num\">36.2.2&nbsp;&nbsp;</span>update</a></span></li></ul></li><li><span><a href=\"#Remove-records-for-next-level-of-disagg\" data-toc-modified-id=\"Remove-records-for-next-level-of-disagg-36.3\"><span class=\"toc-item-num\">36.3&nbsp;&nbsp;</span>Remove records for next level of disagg</a></span></li></ul></li><li><span><a href=\"#All-tags-Results\" data-toc-modified-id=\"All-tags-Results-37\"><span class=\"toc-item-num\">37&nbsp;&nbsp;</span>All tags Results</a></span><ul class=\"toc-item\"><li><span><a href=\"#Training-accuracy\" data-toc-modified-id=\"Training-accuracy-37.1\"><span class=\"toc-item-num\">37.1&nbsp;&nbsp;</span>Training accuracy</a></span></li><li><span><a href=\"#Testing-accuracy\" data-toc-modified-id=\"Testing-accuracy-37.2\"><span class=\"toc-item-num\">37.2&nbsp;&nbsp;</span>Testing accuracy</a></span></li></ul></li></ul></div>"
   ]
  },
  {
   "cell_type": "markdown",
   "id": "1887c66c",
   "metadata": {},
   "source": [
    "# Libraries"
   ]
  },
  {
   "cell_type": "code",
   "execution_count": 242,
   "id": "c0f3fc73",
   "metadata": {
    "ExecuteTime": {
     "end_time": "2023-07-03T07:31:14.768634Z",
     "start_time": "2023-07-03T07:31:14.703972Z"
    }
   },
   "outputs": [],
   "source": [
    "import pandas as pd  #dataframe\n",
    "import numpy as np  #stats\n",
    "import pickle  #loading data\n",
    "# !pip install -U spacy\n",
    "# !python -m spacy download en_core_web_sm\n",
    "import re  #regex\n",
    "\n",
    "from sklearn.model_selection import cross_val_score  # cross validation\n",
    "from sklearn.model_selection import StratifiedKFold # cross validation\n",
    "\n",
    "from sklearn.model_selection import train_test_split  #train_test_split\n",
    "from sklearn.feature_extraction.text import CountVectorizer  #vectorizer\n",
    "from sklearn.feature_extraction.text import TfidfTransformer  #tfidf\n",
    "from sklearn.feature_extraction.text import TfidfVectorizer\n",
    "\n",
    "\n",
    "from sklearn.pipeline import Pipeline  # Pipeline\n",
    "\n",
    "from sklearn.tree import DecisionTreeClassifier # Decision tree\n",
    "from sklearn.naive_bayes import MultinomialNB  # Naive Bayes\n",
    "from sklearn.ensemble import RandomForestClassifier # random forest\n",
    "#!pip install xgboost==1.5\n",
    "from xgboost import XGBClassifier # XGBoost classifier\n",
    "from sklearn.ensemble import AdaBoostClassifier # adaptive boosting classifier\n",
    "from sklearn.svm import SVC # Support Vector Machine\n",
    "\n",
    "\n",
    "import string  # for punctuations\n",
    "\n",
    "import matplotlib.pyplot as plt  # visualization\n",
    "import seaborn as sns  #  visualization\n",
    "\n",
    "from scipy.sparse import csr_matrix  # dealing with sparse matrix\n",
    "from scipy.sparse import hstack  # joining sparse matrix\n",
    "from scipy.sparse import vstack  # joining sparse matrix\n",
    "\n",
    "from sklearn.metrics import confusion_matrix #metrics\n",
    "from sklearn import metrics #metrics\n",
    "\n",
    "\n",
    "import re #regex\n",
    "from wordcloud import WordCloud #wordcloud\n",
    "# from gensim.utils import simple_preprocess # preprocessing lda\n",
    "# import nltk # for stopwords\n",
    "# nltk.download('stopwords') #stopwords\n",
    "# from nltk.corpus import stopwords #stopwords\n",
    "# import gensim #lda\n",
    "# import gensim.corpora as corpora #lda\n",
    "# from pprint import pprint #lda\n",
    "# from gensim.models import CoherenceModel #metrics\n",
    "# from nltk.stem.snowball import SnowballStemmer # for stemming\n",
    "\n",
    "import spacy # for lemmatization"
   ]
  },
  {
   "cell_type": "code",
   "execution_count": null,
   "id": "a96ff2ff",
   "metadata": {
    "ExecuteTime": {
     "end_time": "2023-05-18T17:19:54.770757Z",
     "start_time": "2023-05-18T17:19:54.018930Z"
    }
   },
   "outputs": [],
   "source": []
  },
  {
   "cell_type": "code",
   "execution_count": null,
   "id": "a79f95cb",
   "metadata": {
    "ExecuteTime": {
     "end_time": "2023-05-18T17:20:36.537667Z",
     "start_time": "2023-05-18T17:20:36.530496Z"
    }
   },
   "outputs": [],
   "source": []
  },
  {
   "cell_type": "markdown",
   "id": "fa100b54",
   "metadata": {},
   "source": [
    "# Level Steps"
   ]
  },
  {
   "cell_type": "markdown",
   "id": "2c120e94",
   "metadata": {},
   "source": [
    "# Read File"
   ]
  },
  {
   "cell_type": "code",
   "execution_count": 243,
   "id": "21aa00ef",
   "metadata": {
    "ExecuteTime": {
     "end_time": "2023-07-03T07:31:17.599637Z",
     "start_time": "2023-07-03T07:31:15.823199Z"
    }
   },
   "outputs": [],
   "source": [
    "# Code to retrieve pickle\n",
    "# use pickle to retrieve\n",
    "\n",
    "file = open(\"df_with_loc_lvl_step_v4.sav\",'rb')\n",
    "df_focus = pickle.load(file)\n",
    "file.close()"
   ]
  },
  {
   "cell_type": "code",
   "execution_count": 244,
   "id": "6185ed81",
   "metadata": {
    "ExecuteTime": {
     "end_time": "2023-07-03T07:31:17.630189Z",
     "start_time": "2023-07-03T07:31:17.599637Z"
    }
   },
   "outputs": [],
   "source": [
    "# extract max_disagg from columns\n",
    "\n",
    "cols = df_focus.columns\n",
    "\n",
    "tag_col_list = list(filter(lambda v: re.match(\"tag_\\d+\", v), cols)) # filter tag_\"disagg_level\" columns\n",
    "num_tag_col_list = [int(re.findall(\"\\d+\", v)[0]) for v in tag_col_list] # extract only number\n",
    "max_disagg = max(num_tag_col_list) # get max of the numbers"
   ]
  },
  {
   "cell_type": "code",
   "execution_count": 245,
   "id": "938c981b",
   "metadata": {
    "ExecuteTime": {
     "end_time": "2023-07-03T07:31:17.724151Z",
     "start_time": "2023-07-03T07:31:17.632184Z"
    }
   },
   "outputs": [
    {
     "data": {
      "text/html": [
       "<div>\n",
       "<style scoped>\n",
       "    .dataframe tbody tr th:only-of-type {\n",
       "        vertical-align: middle;\n",
       "    }\n",
       "\n",
       "    .dataframe tbody tr th {\n",
       "        vertical-align: top;\n",
       "    }\n",
       "\n",
       "    .dataframe thead th {\n",
       "        text-align: right;\n",
       "    }\n",
       "</style>\n",
       "<table border=\"1\" class=\"dataframe\">\n",
       "  <thead>\n",
       "    <tr style=\"text-align: right;\">\n",
       "      <th></th>\n",
       "      <th>Unnamed: 0</th>\n",
       "      <th>adsh</th>\n",
       "      <th>report</th>\n",
       "      <th>line</th>\n",
       "      <th>stmt</th>\n",
       "      <th>inpth</th>\n",
       "      <th>tag</th>\n",
       "      <th>version_x</th>\n",
       "      <th>prole</th>\n",
       "      <th>plabel</th>\n",
       "      <th>...</th>\n",
       "      <th>plabel_proc</th>\n",
       "      <th>y_actual_broad_cat</th>\n",
       "      <th>y_pred_broad_cat</th>\n",
       "      <th>broad_cat_pred</th>\n",
       "      <th>disagg_level</th>\n",
       "      <th>tag_5</th>\n",
       "      <th>tag_4</th>\n",
       "      <th>tag_3</th>\n",
       "      <th>tag_2</th>\n",
       "      <th>tag_1</th>\n",
       "    </tr>\n",
       "  </thead>\n",
       "  <tbody>\n",
       "    <tr>\n",
       "      <th>0</th>\n",
       "      <td>15014272</td>\n",
       "      <td>0001564590-19-041725</td>\n",
       "      <td>6</td>\n",
       "      <td>10</td>\n",
       "      <td>CF</td>\n",
       "      <td>0</td>\n",
       "      <td>ResearchAndDevelopmentInProcess</td>\n",
       "      <td>us-gaap/2019</td>\n",
       "      <td>terseLabel</td>\n",
       "      <td>acquired ipr d</td>\n",
       "      <td>...</td>\n",
       "      <td>acquired ipr</td>\n",
       "      <td>3</td>\n",
       "      <td>3</td>\n",
       "      <td>OpExp</td>\n",
       "      <td>4.0</td>\n",
       "      <td>NaN</td>\n",
       "      <td>ResearchAndDevelopmentInProcess</td>\n",
       "      <td>AdjustmentsNoncashItemsToReconcileNetIncomeLos...</td>\n",
       "      <td>AdjustmentsToReconcileNetIncomeLossToCashProvi...</td>\n",
       "      <td>NetCashProvidedByUsedInOperatingActivities</td>\n",
       "    </tr>\n",
       "    <tr>\n",
       "      <th>1</th>\n",
       "      <td>15014272</td>\n",
       "      <td>0001564590-19-041725</td>\n",
       "      <td>6</td>\n",
       "      <td>10</td>\n",
       "      <td>CF</td>\n",
       "      <td>0</td>\n",
       "      <td>ResearchAndDevelopmentInProcess</td>\n",
       "      <td>us-gaap/2019</td>\n",
       "      <td>terseLabel</td>\n",
       "      <td>acquired ipr d</td>\n",
       "      <td>...</td>\n",
       "      <td>acquired ipr</td>\n",
       "      <td>3</td>\n",
       "      <td>3</td>\n",
       "      <td>OpExp</td>\n",
       "      <td>4.0</td>\n",
       "      <td>NaN</td>\n",
       "      <td>ResearchAndDevelopmentInProcess</td>\n",
       "      <td>AdjustmentsNoncashItemsToReconcileNetIncomeLos...</td>\n",
       "      <td>AdjustmentsToReconcileNetIncomeLossToCashProvi...</td>\n",
       "      <td>NetCashProvidedByUsedInOperatingActivities</td>\n",
       "    </tr>\n",
       "    <tr>\n",
       "      <th>2</th>\n",
       "      <td>15014272</td>\n",
       "      <td>0001564590-19-041725</td>\n",
       "      <td>6</td>\n",
       "      <td>10</td>\n",
       "      <td>CF</td>\n",
       "      <td>0</td>\n",
       "      <td>ResearchAndDevelopmentInProcess</td>\n",
       "      <td>us-gaap/2019</td>\n",
       "      <td>terseLabel</td>\n",
       "      <td>acquired ipr d</td>\n",
       "      <td>...</td>\n",
       "      <td>acquired ipr</td>\n",
       "      <td>3</td>\n",
       "      <td>3</td>\n",
       "      <td>OpExp</td>\n",
       "      <td>4.0</td>\n",
       "      <td>NaN</td>\n",
       "      <td>ResearchAndDevelopmentInProcess</td>\n",
       "      <td>AdjustmentsNoncashItemsToReconcileNetIncomeLos...</td>\n",
       "      <td>AdjustmentsToReconcileNetIncomeLossToCashProvi...</td>\n",
       "      <td>NetCashProvidedByUsedInOperatingActivities</td>\n",
       "    </tr>\n",
       "    <tr>\n",
       "      <th>3</th>\n",
       "      <td>15014272</td>\n",
       "      <td>0001564590-19-041725</td>\n",
       "      <td>6</td>\n",
       "      <td>10</td>\n",
       "      <td>CF</td>\n",
       "      <td>0</td>\n",
       "      <td>ResearchAndDevelopmentInProcess</td>\n",
       "      <td>us-gaap/2019</td>\n",
       "      <td>terseLabel</td>\n",
       "      <td>acquired ipr d</td>\n",
       "      <td>...</td>\n",
       "      <td>acquired ipr</td>\n",
       "      <td>3</td>\n",
       "      <td>3</td>\n",
       "      <td>OpExp</td>\n",
       "      <td>4.0</td>\n",
       "      <td>NaN</td>\n",
       "      <td>ResearchAndDevelopmentInProcess</td>\n",
       "      <td>AdjustmentsNoncashItemsToReconcileNetIncomeLos...</td>\n",
       "      <td>AdjustmentsToReconcileNetIncomeLossToCashProvi...</td>\n",
       "      <td>NetCashProvidedByUsedInOperatingActivities</td>\n",
       "    </tr>\n",
       "    <tr>\n",
       "      <th>4</th>\n",
       "      <td>15014272</td>\n",
       "      <td>0001564590-19-041725</td>\n",
       "      <td>6</td>\n",
       "      <td>10</td>\n",
       "      <td>CF</td>\n",
       "      <td>0</td>\n",
       "      <td>ResearchAndDevelopmentInProcess</td>\n",
       "      <td>us-gaap/2019</td>\n",
       "      <td>terseLabel</td>\n",
       "      <td>acquired ipr d</td>\n",
       "      <td>...</td>\n",
       "      <td>acquired ipr</td>\n",
       "      <td>3</td>\n",
       "      <td>3</td>\n",
       "      <td>OpExp</td>\n",
       "      <td>4.0</td>\n",
       "      <td>NaN</td>\n",
       "      <td>ResearchAndDevelopmentInProcess</td>\n",
       "      <td>AdjustmentsNoncashItemsToReconcileNetIncomeLos...</td>\n",
       "      <td>AdjustmentsToReconcileNetIncomeLossToCashProvi...</td>\n",
       "      <td>NetCashProvidedByUsedInOperatingActivities</td>\n",
       "    </tr>\n",
       "  </tbody>\n",
       "</table>\n",
       "<p>5 rows × 28 columns</p>\n",
       "</div>"
      ],
      "text/plain": [
       "   Unnamed: 0                  adsh  report  line stmt  inpth  \\\n",
       "0    15014272  0001564590-19-041725       6    10   CF      0   \n",
       "1    15014272  0001564590-19-041725       6    10   CF      0   \n",
       "2    15014272  0001564590-19-041725       6    10   CF      0   \n",
       "3    15014272  0001564590-19-041725       6    10   CF      0   \n",
       "4    15014272  0001564590-19-041725       6    10   CF      0   \n",
       "\n",
       "                               tag     version_x       prole          plabel  \\\n",
       "0  ResearchAndDevelopmentInProcess  us-gaap/2019  terseLabel  acquired ipr d   \n",
       "1  ResearchAndDevelopmentInProcess  us-gaap/2019  terseLabel  acquired ipr d   \n",
       "2  ResearchAndDevelopmentInProcess  us-gaap/2019  terseLabel  acquired ipr d   \n",
       "3  ResearchAndDevelopmentInProcess  us-gaap/2019  terseLabel  acquired ipr d   \n",
       "4  ResearchAndDevelopmentInProcess  us-gaap/2019  terseLabel  acquired ipr d   \n",
       "\n",
       "   ...   plabel_proc  y_actual_broad_cat y_pred_broad_cat  broad_cat_pred  \\\n",
       "0  ...  acquired ipr                   3                3           OpExp   \n",
       "1  ...  acquired ipr                   3                3           OpExp   \n",
       "2  ...  acquired ipr                   3                3           OpExp   \n",
       "3  ...  acquired ipr                   3                3           OpExp   \n",
       "4  ...  acquired ipr                   3                3           OpExp   \n",
       "\n",
       "  disagg_level  tag_5                            tag_4  \\\n",
       "0          4.0    NaN  ResearchAndDevelopmentInProcess   \n",
       "1          4.0    NaN  ResearchAndDevelopmentInProcess   \n",
       "2          4.0    NaN  ResearchAndDevelopmentInProcess   \n",
       "3          4.0    NaN  ResearchAndDevelopmentInProcess   \n",
       "4          4.0    NaN  ResearchAndDevelopmentInProcess   \n",
       "\n",
       "                                               tag_3  \\\n",
       "0  AdjustmentsNoncashItemsToReconcileNetIncomeLos...   \n",
       "1  AdjustmentsNoncashItemsToReconcileNetIncomeLos...   \n",
       "2  AdjustmentsNoncashItemsToReconcileNetIncomeLos...   \n",
       "3  AdjustmentsNoncashItemsToReconcileNetIncomeLos...   \n",
       "4  AdjustmentsNoncashItemsToReconcileNetIncomeLos...   \n",
       "\n",
       "                                               tag_2  \\\n",
       "0  AdjustmentsToReconcileNetIncomeLossToCashProvi...   \n",
       "1  AdjustmentsToReconcileNetIncomeLossToCashProvi...   \n",
       "2  AdjustmentsToReconcileNetIncomeLossToCashProvi...   \n",
       "3  AdjustmentsToReconcileNetIncomeLossToCashProvi...   \n",
       "4  AdjustmentsToReconcileNetIncomeLossToCashProvi...   \n",
       "\n",
       "                                        tag_1  \n",
       "0  NetCashProvidedByUsedInOperatingActivities  \n",
       "1  NetCashProvidedByUsedInOperatingActivities  \n",
       "2  NetCashProvidedByUsedInOperatingActivities  \n",
       "3  NetCashProvidedByUsedInOperatingActivities  \n",
       "4  NetCashProvidedByUsedInOperatingActivities  \n",
       "\n",
       "[5 rows x 28 columns]"
      ]
     },
     "execution_count": 245,
     "metadata": {},
     "output_type": "execute_result"
    }
   ],
   "source": [
    "# view dataframe\n",
    "\n",
    "df_focus.head()"
   ]
  },
  {
   "cell_type": "code",
   "execution_count": 246,
   "id": "c0dfdbbf",
   "metadata": {
    "ExecuteTime": {
     "end_time": "2023-07-03T07:31:17.784271Z",
     "start_time": "2023-07-03T07:31:17.725915Z"
    }
   },
   "outputs": [
    {
     "data": {
      "text/plain": [
       "OpExp            183810\n",
       "Profitability    147490\n",
       "Tax              105250\n",
       "NonOp             59130\n",
       "IntExp            56505\n",
       "Revenues           3770\n",
       "Name: broad_cat, dtype: int64"
      ]
     },
     "execution_count": 246,
     "metadata": {},
     "output_type": "execute_result"
    }
   ],
   "source": [
    "# Check broadcats\n",
    "\n",
    "df_focus[\"broad_cat\"].value_counts()"
   ]
  },
  {
   "cell_type": "code",
   "execution_count": 247,
   "id": "82676eef",
   "metadata": {
    "ExecuteTime": {
     "end_time": "2023-07-03T07:31:18.046478Z",
     "start_time": "2023-07-03T07:31:17.786265Z"
    }
   },
   "outputs": [
    {
     "data": {
      "text/html": [
       "<div>\n",
       "<style scoped>\n",
       "    .dataframe tbody tr th:only-of-type {\n",
       "        vertical-align: middle;\n",
       "    }\n",
       "\n",
       "    .dataframe tbody tr th {\n",
       "        vertical-align: top;\n",
       "    }\n",
       "\n",
       "    .dataframe thead th {\n",
       "        text-align: right;\n",
       "    }\n",
       "</style>\n",
       "<table border=\"1\" class=\"dataframe\">\n",
       "  <thead>\n",
       "    <tr style=\"text-align: right;\">\n",
       "      <th></th>\n",
       "      <th>plabel_proc</th>\n",
       "      <th>y_pred_broad_cat</th>\n",
       "      <th>disagg_level</th>\n",
       "      <th>tag</th>\n",
       "      <th>tag_5</th>\n",
       "      <th>tag_4</th>\n",
       "      <th>tag_3</th>\n",
       "      <th>tag_2</th>\n",
       "      <th>tag_1</th>\n",
       "    </tr>\n",
       "  </thead>\n",
       "  <tbody>\n",
       "    <tr>\n",
       "      <th>0</th>\n",
       "      <td>acquired ipr</td>\n",
       "      <td>3</td>\n",
       "      <td>4.0</td>\n",
       "      <td>ResearchAndDevelopmentInProcess</td>\n",
       "      <td>NaN</td>\n",
       "      <td>ResearchAndDevelopmentInProcess</td>\n",
       "      <td>AdjustmentsNoncashItemsToReconcileNetIncomeLos...</td>\n",
       "      <td>AdjustmentsToReconcileNetIncomeLossToCashProvi...</td>\n",
       "      <td>NetCashProvidedByUsedInOperatingActivities</td>\n",
       "    </tr>\n",
       "    <tr>\n",
       "      <th>1</th>\n",
       "      <td>acquired ipr</td>\n",
       "      <td>3</td>\n",
       "      <td>4.0</td>\n",
       "      <td>ResearchAndDevelopmentInProcess</td>\n",
       "      <td>NaN</td>\n",
       "      <td>ResearchAndDevelopmentInProcess</td>\n",
       "      <td>AdjustmentsNoncashItemsToReconcileNetIncomeLos...</td>\n",
       "      <td>AdjustmentsToReconcileNetIncomeLossToCashProvi...</td>\n",
       "      <td>NetCashProvidedByUsedInOperatingActivities</td>\n",
       "    </tr>\n",
       "    <tr>\n",
       "      <th>2</th>\n",
       "      <td>acquired ipr</td>\n",
       "      <td>3</td>\n",
       "      <td>4.0</td>\n",
       "      <td>ResearchAndDevelopmentInProcess</td>\n",
       "      <td>NaN</td>\n",
       "      <td>ResearchAndDevelopmentInProcess</td>\n",
       "      <td>AdjustmentsNoncashItemsToReconcileNetIncomeLos...</td>\n",
       "      <td>AdjustmentsToReconcileNetIncomeLossToCashProvi...</td>\n",
       "      <td>NetCashProvidedByUsedInOperatingActivities</td>\n",
       "    </tr>\n",
       "    <tr>\n",
       "      <th>3</th>\n",
       "      <td>acquired ipr</td>\n",
       "      <td>3</td>\n",
       "      <td>4.0</td>\n",
       "      <td>ResearchAndDevelopmentInProcess</td>\n",
       "      <td>NaN</td>\n",
       "      <td>ResearchAndDevelopmentInProcess</td>\n",
       "      <td>AdjustmentsNoncashItemsToReconcileNetIncomeLos...</td>\n",
       "      <td>AdjustmentsToReconcileNetIncomeLossToCashProvi...</td>\n",
       "      <td>NetCashProvidedByUsedInOperatingActivities</td>\n",
       "    </tr>\n",
       "    <tr>\n",
       "      <th>4</th>\n",
       "      <td>acquired ipr</td>\n",
       "      <td>3</td>\n",
       "      <td>4.0</td>\n",
       "      <td>ResearchAndDevelopmentInProcess</td>\n",
       "      <td>NaN</td>\n",
       "      <td>ResearchAndDevelopmentInProcess</td>\n",
       "      <td>AdjustmentsNoncashItemsToReconcileNetIncomeLos...</td>\n",
       "      <td>AdjustmentsToReconcileNetIncomeLossToCashProvi...</td>\n",
       "      <td>NetCashProvidedByUsedInOperatingActivities</td>\n",
       "    </tr>\n",
       "  </tbody>\n",
       "</table>\n",
       "</div>"
      ],
      "text/plain": [
       "    plabel_proc  y_pred_broad_cat  disagg_level  \\\n",
       "0  acquired ipr                 3           4.0   \n",
       "1  acquired ipr                 3           4.0   \n",
       "2  acquired ipr                 3           4.0   \n",
       "3  acquired ipr                 3           4.0   \n",
       "4  acquired ipr                 3           4.0   \n",
       "\n",
       "                               tag tag_5                            tag_4  \\\n",
       "0  ResearchAndDevelopmentInProcess   NaN  ResearchAndDevelopmentInProcess   \n",
       "1  ResearchAndDevelopmentInProcess   NaN  ResearchAndDevelopmentInProcess   \n",
       "2  ResearchAndDevelopmentInProcess   NaN  ResearchAndDevelopmentInProcess   \n",
       "3  ResearchAndDevelopmentInProcess   NaN  ResearchAndDevelopmentInProcess   \n",
       "4  ResearchAndDevelopmentInProcess   NaN  ResearchAndDevelopmentInProcess   \n",
       "\n",
       "                                               tag_3  \\\n",
       "0  AdjustmentsNoncashItemsToReconcileNetIncomeLos...   \n",
       "1  AdjustmentsNoncashItemsToReconcileNetIncomeLos...   \n",
       "2  AdjustmentsNoncashItemsToReconcileNetIncomeLos...   \n",
       "3  AdjustmentsNoncashItemsToReconcileNetIncomeLos...   \n",
       "4  AdjustmentsNoncashItemsToReconcileNetIncomeLos...   \n",
       "\n",
       "                                               tag_2  \\\n",
       "0  AdjustmentsToReconcileNetIncomeLossToCashProvi...   \n",
       "1  AdjustmentsToReconcileNetIncomeLossToCashProvi...   \n",
       "2  AdjustmentsToReconcileNetIncomeLossToCashProvi...   \n",
       "3  AdjustmentsToReconcileNetIncomeLossToCashProvi...   \n",
       "4  AdjustmentsToReconcileNetIncomeLossToCashProvi...   \n",
       "\n",
       "                                        tag_1  \n",
       "0  NetCashProvidedByUsedInOperatingActivities  \n",
       "1  NetCashProvidedByUsedInOperatingActivities  \n",
       "2  NetCashProvidedByUsedInOperatingActivities  \n",
       "3  NetCashProvidedByUsedInOperatingActivities  \n",
       "4  NetCashProvidedByUsedInOperatingActivities  "
      ]
     },
     "execution_count": 247,
     "metadata": {},
     "output_type": "execute_result"
    }
   ],
   "source": [
    "# Select Columns\n",
    "df_focus = df_focus[[\"plabel_proc\"] + [\"y_pred_broad_cat\"] + [\"disagg_level\"] + list(df_focus.filter(regex=\"tag\").columns) +\n",
    "                       list(df_focus.filter(regex=\"interact\").columns) + list(df_focus.filter(regex=\"presence\").columns)]\n",
    "df_focus.head()"
   ]
  },
  {
   "cell_type": "code",
   "execution_count": 248,
   "id": "20b6fbd2",
   "metadata": {
    "ExecuteTime": {
     "end_time": "2023-07-03T07:31:20.673158Z",
     "start_time": "2023-07-03T07:31:18.047475Z"
    }
   },
   "outputs": [
    {
     "name": "stdout",
     "output_type": "stream",
     "text": [
      "before removal total rows 555955\n",
      "before removal No of duplicates 548864\n",
      "before removal Percentage of duplicates 98.7245370578554\n",
      "after removal total rows 7091\n",
      "after removal No of duplicates 0\n",
      "after removal Percentage of duplicates 0.0\n"
     ]
    }
   ],
   "source": [
    "# Remove duplicates\n",
    "\n",
    "# Before removing duplicates\n",
    "print(\"before removal total rows\", len(df_focus))\n",
    "print(\"before removal No of duplicates\", df_focus.duplicated().sum())\n",
    "print(\"before removal Percentage of duplicates\", 100*df_focus.duplicated().sum()/len(df_focus))\n",
    "\n",
    "# remove duplicates and reset index\n",
    "df_focus.drop_duplicates(inplace = True)\n",
    "df_focus.reset_index(drop = True, inplace = True)\n",
    "\n",
    "# After removing duplicates\n",
    "print(\"after removal total rows\", len(df_focus))\n",
    "print(\"after removal No of duplicates\", df_focus.duplicated().sum())\n",
    "print(\"after removal Percentage of duplicates\", 100*df_focus.duplicated().sum()/len(df_focus))"
   ]
  },
  {
   "cell_type": "code",
   "execution_count": 249,
   "id": "d367cd1b",
   "metadata": {
    "ExecuteTime": {
     "end_time": "2023-07-03T07:31:20.704052Z",
     "start_time": "2023-07-03T07:31:20.676118Z"
    }
   },
   "outputs": [
    {
     "data": {
      "text/plain": [
       "6888"
      ]
     },
     "execution_count": 249,
     "metadata": {},
     "output_type": "execute_result"
    }
   ],
   "source": [
    "# Check unique plabels\n",
    "\n",
    "len(df_focus.plabel_proc.unique())"
   ]
  },
  {
   "cell_type": "code",
   "execution_count": 250,
   "id": "451805f3",
   "metadata": {
    "ExecuteTime": {
     "end_time": "2023-07-03T07:31:20.720003Z",
     "start_time": "2023-07-03T07:31:20.707035Z"
    }
   },
   "outputs": [
    {
     "data": {
      "text/plain": [
       "NetCashProvidedByUsedInOperatingActivities    7091\n",
       "Name: tag_1, dtype: int64"
      ]
     },
     "execution_count": 250,
     "metadata": {},
     "output_type": "execute_result"
    }
   ],
   "source": [
    "# Check value counts\n",
    "df_focus[\"tag_1\"].value_counts()"
   ]
  },
  {
   "cell_type": "code",
   "execution_count": 251,
   "id": "b33721a8",
   "metadata": {
    "ExecuteTime": {
     "end_time": "2023-07-03T07:31:20.735471Z",
     "start_time": "2023-07-03T07:31:20.721999Z"
    }
   },
   "outputs": [
    {
     "data": {
      "text/plain": [
       "Index(['plabel_proc', 'y_pred_broad_cat', 'disagg_level', 'tag', 'tag_5',\n",
       "       'tag_4', 'tag_3', 'tag_2', 'tag_1'],\n",
       "      dtype='object')"
      ]
     },
     "execution_count": 251,
     "metadata": {},
     "output_type": "execute_result"
    }
   ],
   "source": [
    "# check columns\n",
    "df_focus.columns"
   ]
  },
  {
   "cell_type": "code",
   "execution_count": 252,
   "id": "b0ac0f23",
   "metadata": {
    "ExecuteTime": {
     "end_time": "2023-07-03T07:31:20.767385Z",
     "start_time": "2023-07-03T07:31:20.736469Z"
    }
   },
   "outputs": [
    {
     "data": {
      "text/plain": [
       "(7091, 9)"
      ]
     },
     "execution_count": 252,
     "metadata": {},
     "output_type": "execute_result"
    }
   ],
   "source": [
    "df_focus.shape"
   ]
  },
  {
   "cell_type": "markdown",
   "id": "cfda2098",
   "metadata": {},
   "source": [
    "# Hierarchy file read: upto disagg level 5"
   ]
  },
  {
   "cell_type": "code",
   "execution_count": 253,
   "id": "fc929806",
   "metadata": {
    "ExecuteTime": {
     "end_time": "2023-07-03T07:31:27.767440Z",
     "start_time": "2023-07-03T07:31:27.720083Z"
    }
   },
   "outputs": [
    {
     "data": {
      "text/html": [
       "<div>\n",
       "<style scoped>\n",
       "    .dataframe tbody tr th:only-of-type {\n",
       "        vertical-align: middle;\n",
       "    }\n",
       "\n",
       "    .dataframe tbody tr th {\n",
       "        vertical-align: top;\n",
       "    }\n",
       "\n",
       "    .dataframe thead th {\n",
       "        text-align: right;\n",
       "    }\n",
       "</style>\n",
       "<table border=\"1\" class=\"dataframe\">\n",
       "  <thead>\n",
       "    <tr style=\"text-align: right;\">\n",
       "      <th></th>\n",
       "      <th>disagg_1</th>\n",
       "      <th>disagg_2</th>\n",
       "      <th>disagg_3</th>\n",
       "      <th>disagg_4</th>\n",
       "      <th>disagg_5</th>\n",
       "    </tr>\n",
       "  </thead>\n",
       "  <tbody>\n",
       "    <tr>\n",
       "      <th>0</th>\n",
       "      <td>NetCashProvidedByUsedInFinancingActivities</td>\n",
       "      <td>CashProvidedByUsedInFinancingActivitiesDiscont...</td>\n",
       "      <td>NaN</td>\n",
       "      <td>NaN</td>\n",
       "      <td>NaN</td>\n",
       "    </tr>\n",
       "    <tr>\n",
       "      <th>1</th>\n",
       "      <td>NetCashProvidedByUsedInFinancingActivities</td>\n",
       "      <td>NetCashProvidedByUsedInFinancingActivitiesCont...</td>\n",
       "      <td>DistributionMadeToLimitedLiabilityCompanyLLCMe...</td>\n",
       "      <td>NaN</td>\n",
       "      <td>NaN</td>\n",
       "    </tr>\n",
       "    <tr>\n",
       "      <th>2</th>\n",
       "      <td>NetCashProvidedByUsedInFinancingActivities</td>\n",
       "      <td>NetCashProvidedByUsedInFinancingActivitiesCont...</td>\n",
       "      <td>DistributionMadeToLimitedPartnerCashDistributi...</td>\n",
       "      <td>NaN</td>\n",
       "      <td>NaN</td>\n",
       "    </tr>\n",
       "    <tr>\n",
       "      <th>3</th>\n",
       "      <td>NetCashProvidedByUsedInFinancingActivities</td>\n",
       "      <td>NetCashProvidedByUsedInFinancingActivitiesCont...</td>\n",
       "      <td>IncreaseDecreaseInAdvancePaymentsByBorrowersFo...</td>\n",
       "      <td>NaN</td>\n",
       "      <td>NaN</td>\n",
       "    </tr>\n",
       "    <tr>\n",
       "      <th>4</th>\n",
       "      <td>NetCashProvidedByUsedInFinancingActivities</td>\n",
       "      <td>NetCashProvidedByUsedInFinancingActivitiesCont...</td>\n",
       "      <td>IncreaseDecreaseInDeposits</td>\n",
       "      <td>IncreaseDecreaseInDemandDeposits</td>\n",
       "      <td>NaN</td>\n",
       "    </tr>\n",
       "  </tbody>\n",
       "</table>\n",
       "</div>"
      ],
      "text/plain": [
       "                                     disagg_1  \\\n",
       "0  NetCashProvidedByUsedInFinancingActivities   \n",
       "1  NetCashProvidedByUsedInFinancingActivities   \n",
       "2  NetCashProvidedByUsedInFinancingActivities   \n",
       "3  NetCashProvidedByUsedInFinancingActivities   \n",
       "4  NetCashProvidedByUsedInFinancingActivities   \n",
       "\n",
       "                                            disagg_2  \\\n",
       "0  CashProvidedByUsedInFinancingActivitiesDiscont...   \n",
       "1  NetCashProvidedByUsedInFinancingActivitiesCont...   \n",
       "2  NetCashProvidedByUsedInFinancingActivitiesCont...   \n",
       "3  NetCashProvidedByUsedInFinancingActivitiesCont...   \n",
       "4  NetCashProvidedByUsedInFinancingActivitiesCont...   \n",
       "\n",
       "                                            disagg_3  \\\n",
       "0                                                NaN   \n",
       "1  DistributionMadeToLimitedLiabilityCompanyLLCMe...   \n",
       "2  DistributionMadeToLimitedPartnerCashDistributi...   \n",
       "3  IncreaseDecreaseInAdvancePaymentsByBorrowersFo...   \n",
       "4                         IncreaseDecreaseInDeposits   \n",
       "\n",
       "                           disagg_4 disagg_5  \n",
       "0                               NaN      NaN  \n",
       "1                               NaN      NaN  \n",
       "2                               NaN      NaN  \n",
       "3                               NaN      NaN  \n",
       "4  IncreaseDecreaseInDemandDeposits      NaN  "
      ]
     },
     "execution_count": 253,
     "metadata": {},
     "output_type": "execute_result"
    }
   ],
   "source": [
    "# read hierarchy file\n",
    "# use pickle to retrieve\n",
    "\n",
    "file = open(\"df_hierarchy.sav\",'rb')\n",
    "df_hier = pickle.load(file)\n",
    "file.close()\n",
    "\n",
    "df_hier.head()"
   ]
  },
  {
   "cell_type": "code",
   "execution_count": 254,
   "id": "b0ba643d",
   "metadata": {
    "ExecuteTime": {
     "end_time": "2023-07-03T07:31:28.109965Z",
     "start_time": "2023-07-03T07:31:28.044636Z"
    }
   },
   "outputs": [],
   "source": [
    "# basic cleaning\n",
    "\n",
    "for col in df_hier.columns:\n",
    "    df_hier[col] = df_hier[col].str.strip()"
   ]
  },
  {
   "cell_type": "code",
   "execution_count": 255,
   "id": "25e35270",
   "metadata": {
    "ExecuteTime": {
     "end_time": "2023-07-03T07:31:28.371426Z",
     "start_time": "2023-07-03T07:31:28.352477Z"
    }
   },
   "outputs": [
    {
     "name": "stdout",
     "output_type": "stream",
     "text": [
      "1\n",
      "2\n",
      "3\n",
      "4\n",
      "5\n"
     ]
    }
   ],
   "source": [
    "# get a list of all unique values across aggregation levels\n",
    "\n",
    "unique_list = []\n",
    "\n",
    "for i in range(1, max_disagg+1):\n",
    "    print(i)\n",
    "    unique_list = unique_list + list(df_hier[\"disagg_\" + str(i)].dropna().unique())"
   ]
  },
  {
   "cell_type": "markdown",
   "id": "7a326a0d",
   "metadata": {},
   "source": [
    "# Descriptive Stats"
   ]
  },
  {
   "cell_type": "markdown",
   "id": "1252d85e",
   "metadata": {},
   "source": [
    "## Filter dataset upto lowest disaggregation level"
   ]
  },
  {
   "cell_type": "code",
   "execution_count": 256,
   "id": "5bb995af",
   "metadata": {
    "ExecuteTime": {
     "end_time": "2023-07-03T07:32:00.399016Z",
     "start_time": "2023-07-03T07:32:00.380063Z"
    }
   },
   "outputs": [
    {
     "data": {
      "text/plain": [
       "0.0"
      ]
     },
     "execution_count": 256,
     "metadata": {},
     "output_type": "execute_result"
    }
   ],
   "source": [
    "# Check nulls\n",
    "100* df_focus[\"tag_1\"].isna().sum()/len(df_focus)"
   ]
  },
  {
   "cell_type": "code",
   "execution_count": 257,
   "id": "d8bdb1f7",
   "metadata": {
    "ExecuteTime": {
     "end_time": "2023-07-03T07:32:00.724978Z",
     "start_time": "2023-07-03T07:32:00.707513Z"
    }
   },
   "outputs": [],
   "source": [
    "# drop nulls in highest level of aggregation (lowest level of disaggregation)\n",
    "\n",
    "df_focus.dropna(subset = [\"tag_1\"], inplace = True)"
   ]
  },
  {
   "cell_type": "code",
   "execution_count": 258,
   "id": "a246f50c",
   "metadata": {
    "ExecuteTime": {
     "end_time": "2023-07-03T07:32:01.114367Z",
     "start_time": "2023-07-03T07:32:01.095801Z"
    }
   },
   "outputs": [
    {
     "data": {
      "text/plain": [
       "(7091, 9)"
      ]
     },
     "execution_count": 258,
     "metadata": {},
     "output_type": "execute_result"
    }
   ],
   "source": [
    "# check shape\n",
    "\n",
    "df_focus.shape"
   ]
  },
  {
   "cell_type": "markdown",
   "id": "6d5bc9e9",
   "metadata": {},
   "source": [
    "## Check value counts"
   ]
  },
  {
   "cell_type": "code",
   "execution_count": 259,
   "id": "d2ac9886",
   "metadata": {
    "ExecuteTime": {
     "end_time": "2023-07-03T07:32:01.864547Z",
     "start_time": "2023-07-03T07:32:01.832662Z"
    }
   },
   "outputs": [
    {
     "name": "stdout",
     "output_type": "stream",
     "text": [
      "TAG_1\n"
     ]
    },
    {
     "data": {
      "text/plain": [
       "NetCashProvidedByUsedInOperatingActivities    7091\n",
       "Name: tag_1, dtype: int64"
      ]
     },
     "metadata": {},
     "output_type": "display_data"
    },
    {
     "name": "stdout",
     "output_type": "stream",
     "text": [
      "\n",
      "\n",
      "\n",
      "TAG_2\n"
     ]
    },
    {
     "data": {
      "text/plain": [
       "AdjustmentsToReconcileNetIncomeLossToCashProvidedByUsedInOperatingActivities    6896\n",
       "ProfitLoss                                                                       195\n",
       "Name: tag_2, dtype: int64"
      ]
     },
     "metadata": {},
     "output_type": "display_data"
    },
    {
     "name": "stdout",
     "output_type": "stream",
     "text": [
      "\n",
      "\n",
      "\n",
      "TAG_3\n"
     ]
    },
    {
     "data": {
      "text/plain": [
       "AdjustmentsNoncashItemsToReconcileNetIncomeLossToCashProvidedByUsedInOperatingActivities    6896\n",
       "Name: tag_3, dtype: int64"
      ]
     },
     "metadata": {},
     "output_type": "display_data"
    },
    {
     "name": "stdout",
     "output_type": "stream",
     "text": [
      "\n",
      "\n",
      "\n",
      "TAG_4\n"
     ]
    },
    {
     "data": {
      "text/plain": [
       "GainsLossesOnExtinguishmentOfDebt                                                        969\n",
       "GainLossOnSaleOfPropertyPlantEquipment                                                   963\n",
       "IncomeLossFromEquityMethodInvestmentsNetOfDividendsOrDistributions                       885\n",
       "ProvisionForDoubtfulAccounts                                                             800\n",
       "RestructuringCostsAndAssetImpairmentCharges                                              617\n",
       "GainLossOnInvestments                                                                    457\n",
       "InventoryWriteDown                                                                       418\n",
       "ForeignCurrencyTransactionGainLossUnrealized                                             408\n",
       "DeferredIncomeTaxesAndTaxCredits                                                         309\n",
       "DisposalGroupNotDiscontinuedOperationGainLossOnDisposal                                  223\n",
       "DebtInstrumentConvertibleBeneficialConversionFeature                                     137\n",
       "GainLossOnSaleOfDerivatives                                                              124\n",
       "GainLossOnDispositionOfIntangibleAssets                                                  119\n",
       "ResearchAndDevelopmentInProcess                                                           83\n",
       "GainLossOnContractTermination                                                             65\n",
       "DepreciationDepletionAndAmortization                                                      63\n",
       "ProvisionForLoanLeaseAndOtherLosses                                                       62\n",
       "BusinessCombinationBargainPurchaseGainRecognizedAmount                                    57\n",
       "ProductWarrantyExpense                                                                    26\n",
       "AccretionExpenseIncludingAssetRetirementObligations                                       24\n",
       "LossContingencyLossInPeriod                                                               20\n",
       "EnvironmentalExpenseAndLiabilities                                                        15\n",
       "GainLossOnSaleOfPreviouslyUnissuedStockBySubsidiaryOrEquityInvesteeNonoperatingIncome     13\n",
       "GainLossOnSaleOfLoansAndLeases                                                            12\n",
       "GainLossOnCondemnation                                                                    10\n",
       "RecapitalizationCosts                                                                      8\n",
       "PublicUtilitiesAllowanceForFundsUsedDuringConstructionAdditions                            4\n",
       "LeveragedLeasesIncomeStatementNetIncomeFromLeveragedLeases                                 3\n",
       "CarryingCostsPropertyAndExplorationRights                                                  2\n",
       "Name: tag_4, dtype: int64"
      ]
     },
     "metadata": {},
     "output_type": "display_data"
    },
    {
     "name": "stdout",
     "output_type": "stream",
     "text": [
      "\n",
      "\n",
      "\n",
      "TAG_5\n"
     ]
    },
    {
     "data": {
      "text/plain": [
       "IncomeLossFromEquityMethodInvestments    885\n",
       "AssetImpairmentCharges                   617\n",
       "DeferredIncomeTaxExpenseBenefit          309\n",
       "RealizedInvestmentGainsLosses             80\n",
       "OtherDepreciationAndAmortization          63\n",
       "EnvironmentalRemediationExpense           15\n",
       "GainLossOnSalesOfLoansNet                 12\n",
       "Name: tag_5, dtype: int64"
      ]
     },
     "metadata": {},
     "output_type": "display_data"
    },
    {
     "name": "stdout",
     "output_type": "stream",
     "text": [
      "\n",
      "\n",
      "\n"
     ]
    }
   ],
   "source": [
    "# check value counts for all disaggregation level\n",
    "\n",
    "for i in range(1, max_disagg+1):\n",
    "    print(\"TAG_\" + str(i))\n",
    "    display(df_focus[\"tag_\"+str(i)].value_counts())\n",
    "    print(\"\\n\\n\")\n",
    "    "
   ]
  },
  {
   "cell_type": "code",
   "execution_count": 260,
   "id": "ed08e55f",
   "metadata": {
    "ExecuteTime": {
     "end_time": "2023-07-03T07:32:02.434865Z",
     "start_time": "2023-07-03T07:32:02.406432Z"
    }
   },
   "outputs": [
    {
     "data": {
      "text/html": [
       "<div>\n",
       "<style scoped>\n",
       "    .dataframe tbody tr th:only-of-type {\n",
       "        vertical-align: middle;\n",
       "    }\n",
       "\n",
       "    .dataframe tbody tr th {\n",
       "        vertical-align: top;\n",
       "    }\n",
       "\n",
       "    .dataframe thead th {\n",
       "        text-align: right;\n",
       "    }\n",
       "</style>\n",
       "<table border=\"1\" class=\"dataframe\">\n",
       "  <thead>\n",
       "    <tr style=\"text-align: right;\">\n",
       "      <th></th>\n",
       "      <th>plabel_proc</th>\n",
       "      <th>y_pred_broad_cat</th>\n",
       "      <th>disagg_level</th>\n",
       "      <th>tag</th>\n",
       "      <th>tag_5</th>\n",
       "      <th>tag_4</th>\n",
       "      <th>tag_3</th>\n",
       "      <th>tag_2</th>\n",
       "      <th>tag_1</th>\n",
       "    </tr>\n",
       "  </thead>\n",
       "  <tbody>\n",
       "    <tr>\n",
       "      <th>0</th>\n",
       "      <td>acquired ipr</td>\n",
       "      <td>3</td>\n",
       "      <td>4.0</td>\n",
       "      <td>ResearchAndDevelopmentInProcess</td>\n",
       "      <td>NaN</td>\n",
       "      <td>ResearchAndDevelopmentInProcess</td>\n",
       "      <td>AdjustmentsNoncashItemsToReconcileNetIncomeLos...</td>\n",
       "      <td>AdjustmentsToReconcileNetIncomeLossToCashProvi...</td>\n",
       "      <td>NetCashProvidedByUsedInOperatingActivities</td>\n",
       "    </tr>\n",
       "    <tr>\n",
       "      <th>1</th>\n",
       "      <td>acquired in process research and development</td>\n",
       "      <td>0</td>\n",
       "      <td>4.0</td>\n",
       "      <td>ResearchAndDevelopmentInProcess</td>\n",
       "      <td>NaN</td>\n",
       "      <td>ResearchAndDevelopmentInProcess</td>\n",
       "      <td>AdjustmentsNoncashItemsToReconcileNetIncomeLos...</td>\n",
       "      <td>AdjustmentsToReconcileNetIncomeLossToCashProvi...</td>\n",
       "      <td>NetCashProvidedByUsedInOperatingActivities</td>\n",
       "    </tr>\n",
       "    <tr>\n",
       "      <th>2</th>\n",
       "      <td>research and development licenses acquired exp...</td>\n",
       "      <td>3</td>\n",
       "      <td>4.0</td>\n",
       "      <td>ResearchAndDevelopmentInProcess</td>\n",
       "      <td>NaN</td>\n",
       "      <td>ResearchAndDevelopmentInProcess</td>\n",
       "      <td>AdjustmentsNoncashItemsToReconcileNetIncomeLos...</td>\n",
       "      <td>AdjustmentsToReconcileNetIncomeLossToCashProvi...</td>\n",
       "      <td>NetCashProvidedByUsedInOperatingActivities</td>\n",
       "    </tr>\n",
       "    <tr>\n",
       "      <th>3</th>\n",
       "      <td>purchase of in process research and development</td>\n",
       "      <td>3</td>\n",
       "      <td>4.0</td>\n",
       "      <td>ResearchAndDevelopmentInProcess</td>\n",
       "      <td>NaN</td>\n",
       "      <td>ResearchAndDevelopmentInProcess</td>\n",
       "      <td>AdjustmentsNoncashItemsToReconcileNetIncomeLos...</td>\n",
       "      <td>AdjustmentsToReconcileNetIncomeLossToCashProvi...</td>\n",
       "      <td>NetCashProvidedByUsedInOperatingActivities</td>\n",
       "    </tr>\n",
       "    <tr>\n",
       "      <th>4</th>\n",
       "      <td>acquired product rights and in process researc...</td>\n",
       "      <td>3</td>\n",
       "      <td>4.0</td>\n",
       "      <td>ResearchAndDevelopmentInProcess</td>\n",
       "      <td>NaN</td>\n",
       "      <td>ResearchAndDevelopmentInProcess</td>\n",
       "      <td>AdjustmentsNoncashItemsToReconcileNetIncomeLos...</td>\n",
       "      <td>AdjustmentsToReconcileNetIncomeLossToCashProvi...</td>\n",
       "      <td>NetCashProvidedByUsedInOperatingActivities</td>\n",
       "    </tr>\n",
       "    <tr>\n",
       "      <th>...</th>\n",
       "      <td>...</td>\n",
       "      <td>...</td>\n",
       "      <td>...</td>\n",
       "      <td>...</td>\n",
       "      <td>...</td>\n",
       "      <td>...</td>\n",
       "      <td>...</td>\n",
       "      <td>...</td>\n",
       "      <td>...</td>\n",
       "    </tr>\n",
       "    <tr>\n",
       "      <th>7086</th>\n",
       "      <td>loss on impairments</td>\n",
       "      <td>3</td>\n",
       "      <td>5.0</td>\n",
       "      <td>AssetImpairmentCharges</td>\n",
       "      <td>AssetImpairmentCharges</td>\n",
       "      <td>RestructuringCostsAndAssetImpairmentCharges</td>\n",
       "      <td>AdjustmentsNoncashItemsToReconcileNetIncomeLos...</td>\n",
       "      <td>AdjustmentsToReconcileNetIncomeLossToCashProvi...</td>\n",
       "      <td>NetCashProvidedByUsedInOperatingActivities</td>\n",
       "    </tr>\n",
       "    <tr>\n",
       "      <th>7087</th>\n",
       "      <td>accretion on decommissioning obligations</td>\n",
       "      <td>3</td>\n",
       "      <td>4.0</td>\n",
       "      <td>AccretionExpenseIncludingAssetRetirementObliga...</td>\n",
       "      <td>NaN</td>\n",
       "      <td>AccretionExpenseIncludingAssetRetirementObliga...</td>\n",
       "      <td>AdjustmentsNoncashItemsToReconcileNetIncomeLos...</td>\n",
       "      <td>AdjustmentsToReconcileNetIncomeLossToCashProvi...</td>\n",
       "      <td>NetCashProvidedByUsedInOperatingActivities</td>\n",
       "    </tr>\n",
       "    <tr>\n",
       "      <th>7088</th>\n",
       "      <td>reclamation and remediation accretion</td>\n",
       "      <td>3</td>\n",
       "      <td>4.0</td>\n",
       "      <td>AccretionExpenseIncludingAssetRetirementObliga...</td>\n",
       "      <td>NaN</td>\n",
       "      <td>AccretionExpenseIncludingAssetRetirementObliga...</td>\n",
       "      <td>AdjustmentsNoncashItemsToReconcileNetIncomeLos...</td>\n",
       "      <td>AdjustmentsToReconcileNetIncomeLossToCashProvi...</td>\n",
       "      <td>NetCashProvidedByUsedInOperatingActivities</td>\n",
       "    </tr>\n",
       "    <tr>\n",
       "      <th>7089</th>\n",
       "      <td>reclamation and remediation note</td>\n",
       "      <td>3</td>\n",
       "      <td>4.0</td>\n",
       "      <td>AccretionExpenseIncludingAssetRetirementObliga...</td>\n",
       "      <td>NaN</td>\n",
       "      <td>AccretionExpenseIncludingAssetRetirementObliga...</td>\n",
       "      <td>AdjustmentsNoncashItemsToReconcileNetIncomeLos...</td>\n",
       "      <td>AdjustmentsToReconcileNetIncomeLossToCashProvi...</td>\n",
       "      <td>NetCashProvidedByUsedInOperatingActivities</td>\n",
       "    </tr>\n",
       "    <tr>\n",
       "      <th>7090</th>\n",
       "      <td>accretion of consideration payable</td>\n",
       "      <td>3</td>\n",
       "      <td>4.0</td>\n",
       "      <td>AccretionExpenseIncludingAssetRetirementObliga...</td>\n",
       "      <td>NaN</td>\n",
       "      <td>AccretionExpenseIncludingAssetRetirementObliga...</td>\n",
       "      <td>AdjustmentsNoncashItemsToReconcileNetIncomeLos...</td>\n",
       "      <td>AdjustmentsToReconcileNetIncomeLossToCashProvi...</td>\n",
       "      <td>NetCashProvidedByUsedInOperatingActivities</td>\n",
       "    </tr>\n",
       "  </tbody>\n",
       "</table>\n",
       "<p>7091 rows × 9 columns</p>\n",
       "</div>"
      ],
      "text/plain": [
       "                                            plabel_proc  y_pred_broad_cat  \\\n",
       "0                                          acquired ipr                 3   \n",
       "1          acquired in process research and development                 0   \n",
       "2     research and development licenses acquired exp...                 3   \n",
       "3       purchase of in process research and development                 3   \n",
       "4     acquired product rights and in process researc...                 3   \n",
       "...                                                 ...               ...   \n",
       "7086                                loss on impairments                 3   \n",
       "7087           accretion on decommissioning obligations                 3   \n",
       "7088              reclamation and remediation accretion                 3   \n",
       "7089                   reclamation and remediation note                 3   \n",
       "7090                 accretion of consideration payable                 3   \n",
       "\n",
       "      disagg_level                                                tag  \\\n",
       "0              4.0                    ResearchAndDevelopmentInProcess   \n",
       "1              4.0                    ResearchAndDevelopmentInProcess   \n",
       "2              4.0                    ResearchAndDevelopmentInProcess   \n",
       "3              4.0                    ResearchAndDevelopmentInProcess   \n",
       "4              4.0                    ResearchAndDevelopmentInProcess   \n",
       "...            ...                                                ...   \n",
       "7086           5.0                             AssetImpairmentCharges   \n",
       "7087           4.0  AccretionExpenseIncludingAssetRetirementObliga...   \n",
       "7088           4.0  AccretionExpenseIncludingAssetRetirementObliga...   \n",
       "7089           4.0  AccretionExpenseIncludingAssetRetirementObliga...   \n",
       "7090           4.0  AccretionExpenseIncludingAssetRetirementObliga...   \n",
       "\n",
       "                       tag_5  \\\n",
       "0                        NaN   \n",
       "1                        NaN   \n",
       "2                        NaN   \n",
       "3                        NaN   \n",
       "4                        NaN   \n",
       "...                      ...   \n",
       "7086  AssetImpairmentCharges   \n",
       "7087                     NaN   \n",
       "7088                     NaN   \n",
       "7089                     NaN   \n",
       "7090                     NaN   \n",
       "\n",
       "                                                  tag_4  \\\n",
       "0                       ResearchAndDevelopmentInProcess   \n",
       "1                       ResearchAndDevelopmentInProcess   \n",
       "2                       ResearchAndDevelopmentInProcess   \n",
       "3                       ResearchAndDevelopmentInProcess   \n",
       "4                       ResearchAndDevelopmentInProcess   \n",
       "...                                                 ...   \n",
       "7086        RestructuringCostsAndAssetImpairmentCharges   \n",
       "7087  AccretionExpenseIncludingAssetRetirementObliga...   \n",
       "7088  AccretionExpenseIncludingAssetRetirementObliga...   \n",
       "7089  AccretionExpenseIncludingAssetRetirementObliga...   \n",
       "7090  AccretionExpenseIncludingAssetRetirementObliga...   \n",
       "\n",
       "                                                  tag_3  \\\n",
       "0     AdjustmentsNoncashItemsToReconcileNetIncomeLos...   \n",
       "1     AdjustmentsNoncashItemsToReconcileNetIncomeLos...   \n",
       "2     AdjustmentsNoncashItemsToReconcileNetIncomeLos...   \n",
       "3     AdjustmentsNoncashItemsToReconcileNetIncomeLos...   \n",
       "4     AdjustmentsNoncashItemsToReconcileNetIncomeLos...   \n",
       "...                                                 ...   \n",
       "7086  AdjustmentsNoncashItemsToReconcileNetIncomeLos...   \n",
       "7087  AdjustmentsNoncashItemsToReconcileNetIncomeLos...   \n",
       "7088  AdjustmentsNoncashItemsToReconcileNetIncomeLos...   \n",
       "7089  AdjustmentsNoncashItemsToReconcileNetIncomeLos...   \n",
       "7090  AdjustmentsNoncashItemsToReconcileNetIncomeLos...   \n",
       "\n",
       "                                                  tag_2  \\\n",
       "0     AdjustmentsToReconcileNetIncomeLossToCashProvi...   \n",
       "1     AdjustmentsToReconcileNetIncomeLossToCashProvi...   \n",
       "2     AdjustmentsToReconcileNetIncomeLossToCashProvi...   \n",
       "3     AdjustmentsToReconcileNetIncomeLossToCashProvi...   \n",
       "4     AdjustmentsToReconcileNetIncomeLossToCashProvi...   \n",
       "...                                                 ...   \n",
       "7086  AdjustmentsToReconcileNetIncomeLossToCashProvi...   \n",
       "7087  AdjustmentsToReconcileNetIncomeLossToCashProvi...   \n",
       "7088  AdjustmentsToReconcileNetIncomeLossToCashProvi...   \n",
       "7089  AdjustmentsToReconcileNetIncomeLossToCashProvi...   \n",
       "7090  AdjustmentsToReconcileNetIncomeLossToCashProvi...   \n",
       "\n",
       "                                           tag_1  \n",
       "0     NetCashProvidedByUsedInOperatingActivities  \n",
       "1     NetCashProvidedByUsedInOperatingActivities  \n",
       "2     NetCashProvidedByUsedInOperatingActivities  \n",
       "3     NetCashProvidedByUsedInOperatingActivities  \n",
       "4     NetCashProvidedByUsedInOperatingActivities  \n",
       "...                                          ...  \n",
       "7086  NetCashProvidedByUsedInOperatingActivities  \n",
       "7087  NetCashProvidedByUsedInOperatingActivities  \n",
       "7088  NetCashProvidedByUsedInOperatingActivities  \n",
       "7089  NetCashProvidedByUsedInOperatingActivities  \n",
       "7090  NetCashProvidedByUsedInOperatingActivities  \n",
       "\n",
       "[7091 rows x 9 columns]"
      ]
     },
     "execution_count": 260,
     "metadata": {},
     "output_type": "execute_result"
    }
   ],
   "source": [
    "# Check broadcats\n",
    "df_focus"
   ]
  },
  {
   "cell_type": "markdown",
   "id": "730adbfb",
   "metadata": {},
   "source": [
    "# Oversampling and Train Test Split\n",
    "\n",
    "We first split data into training and testing and then proceed to disaggregation levels.\n",
    "\n",
    "First we oversample to make sure there is atleast 1 count for each class of tags across all disaggregation levels in training and testing dataframe"
   ]
  },
  {
   "cell_type": "markdown",
   "id": "b71b1fa4",
   "metadata": {},
   "source": [
    "## Oversample for train test split"
   ]
  },
  {
   "cell_type": "code",
   "execution_count": 261,
   "id": "3e5c8870",
   "metadata": {
    "ExecuteTime": {
     "end_time": "2023-07-03T07:32:05.259679Z",
     "start_time": "2023-07-03T07:32:05.236749Z"
    }
   },
   "outputs": [],
   "source": [
    "#classes to focus on\n",
    "\n",
    "classes_under = list(df_focus.tag.value_counts()[df_focus.tag.value_counts() < 2].index)"
   ]
  },
  {
   "cell_type": "code",
   "execution_count": 262,
   "id": "fe9931bf",
   "metadata": {
    "ExecuteTime": {
     "end_time": "2023-07-03T07:32:05.525915Z",
     "start_time": "2023-07-03T07:32:05.516398Z"
    },
    "scrolled": true
   },
   "outputs": [
    {
     "data": {
      "text/plain": [
       "(0, 9)"
      ]
     },
     "execution_count": 262,
     "metadata": {},
     "output_type": "execute_result"
    }
   ],
   "source": [
    "# Check number of records that have classes less than 5\n",
    "\n",
    "df_focus[df_focus[\"tag\"].isin(classes_under)].shape"
   ]
  },
  {
   "cell_type": "code",
   "execution_count": 263,
   "id": "faa50080",
   "metadata": {
    "ExecuteTime": {
     "end_time": "2023-07-03T07:32:05.849173Z",
     "start_time": "2023-07-03T07:32:05.747928Z"
    }
   },
   "outputs": [
    {
     "data": {
      "text/html": [
       "<div>\n",
       "<style scoped>\n",
       "    .dataframe tbody tr th:only-of-type {\n",
       "        vertical-align: middle;\n",
       "    }\n",
       "\n",
       "    .dataframe tbody tr th {\n",
       "        vertical-align: top;\n",
       "    }\n",
       "\n",
       "    .dataframe thead th {\n",
       "        text-align: right;\n",
       "    }\n",
       "</style>\n",
       "<table border=\"1\" class=\"dataframe\">\n",
       "  <thead>\n",
       "    <tr style=\"text-align: right;\">\n",
       "      <th></th>\n",
       "    </tr>\n",
       "  </thead>\n",
       "  <tbody>\n",
       "  </tbody>\n",
       "</table>\n",
       "</div>"
      ],
      "text/plain": [
       "Empty DataFrame\n",
       "Columns: []\n",
       "Index: []"
      ]
     },
     "metadata": {},
     "output_type": "display_data"
    },
    {
     "data": {
      "text/html": [
       "<div>\n",
       "<style scoped>\n",
       "    .dataframe tbody tr th:only-of-type {\n",
       "        vertical-align: middle;\n",
       "    }\n",
       "\n",
       "    .dataframe tbody tr th {\n",
       "        vertical-align: top;\n",
       "    }\n",
       "\n",
       "    .dataframe thead th {\n",
       "        text-align: right;\n",
       "    }\n",
       "</style>\n",
       "<table border=\"1\" class=\"dataframe\">\n",
       "  <thead>\n",
       "    <tr style=\"text-align: right;\">\n",
       "      <th></th>\n",
       "      <th>plabel_proc</th>\n",
       "      <th>y_pred_broad_cat</th>\n",
       "      <th>disagg_level</th>\n",
       "      <th>tag</th>\n",
       "      <th>tag_5</th>\n",
       "      <th>tag_4</th>\n",
       "      <th>tag_3</th>\n",
       "      <th>tag_2</th>\n",
       "      <th>tag_1</th>\n",
       "    </tr>\n",
       "  </thead>\n",
       "  <tbody>\n",
       "    <tr>\n",
       "      <th>7086</th>\n",
       "      <td>loss on impairments</td>\n",
       "      <td>3</td>\n",
       "      <td>5.0</td>\n",
       "      <td>AssetImpairmentCharges</td>\n",
       "      <td>AssetImpairmentCharges</td>\n",
       "      <td>RestructuringCostsAndAssetImpairmentCharges</td>\n",
       "      <td>AdjustmentsNoncashItemsToReconcileNetIncomeLos...</td>\n",
       "      <td>AdjustmentsToReconcileNetIncomeLossToCashProvi...</td>\n",
       "      <td>NetCashProvidedByUsedInOperatingActivities</td>\n",
       "    </tr>\n",
       "    <tr>\n",
       "      <th>7087</th>\n",
       "      <td>accretion on decommissioning obligations</td>\n",
       "      <td>3</td>\n",
       "      <td>4.0</td>\n",
       "      <td>AccretionExpenseIncludingAssetRetirementObliga...</td>\n",
       "      <td>NaN</td>\n",
       "      <td>AccretionExpenseIncludingAssetRetirementObliga...</td>\n",
       "      <td>AdjustmentsNoncashItemsToReconcileNetIncomeLos...</td>\n",
       "      <td>AdjustmentsToReconcileNetIncomeLossToCashProvi...</td>\n",
       "      <td>NetCashProvidedByUsedInOperatingActivities</td>\n",
       "    </tr>\n",
       "    <tr>\n",
       "      <th>7088</th>\n",
       "      <td>reclamation and remediation accretion</td>\n",
       "      <td>3</td>\n",
       "      <td>4.0</td>\n",
       "      <td>AccretionExpenseIncludingAssetRetirementObliga...</td>\n",
       "      <td>NaN</td>\n",
       "      <td>AccretionExpenseIncludingAssetRetirementObliga...</td>\n",
       "      <td>AdjustmentsNoncashItemsToReconcileNetIncomeLos...</td>\n",
       "      <td>AdjustmentsToReconcileNetIncomeLossToCashProvi...</td>\n",
       "      <td>NetCashProvidedByUsedInOperatingActivities</td>\n",
       "    </tr>\n",
       "    <tr>\n",
       "      <th>7089</th>\n",
       "      <td>reclamation and remediation note</td>\n",
       "      <td>3</td>\n",
       "      <td>4.0</td>\n",
       "      <td>AccretionExpenseIncludingAssetRetirementObliga...</td>\n",
       "      <td>NaN</td>\n",
       "      <td>AccretionExpenseIncludingAssetRetirementObliga...</td>\n",
       "      <td>AdjustmentsNoncashItemsToReconcileNetIncomeLos...</td>\n",
       "      <td>AdjustmentsToReconcileNetIncomeLossToCashProvi...</td>\n",
       "      <td>NetCashProvidedByUsedInOperatingActivities</td>\n",
       "    </tr>\n",
       "    <tr>\n",
       "      <th>7090</th>\n",
       "      <td>accretion of consideration payable</td>\n",
       "      <td>3</td>\n",
       "      <td>4.0</td>\n",
       "      <td>AccretionExpenseIncludingAssetRetirementObliga...</td>\n",
       "      <td>NaN</td>\n",
       "      <td>AccretionExpenseIncludingAssetRetirementObliga...</td>\n",
       "      <td>AdjustmentsNoncashItemsToReconcileNetIncomeLos...</td>\n",
       "      <td>AdjustmentsToReconcileNetIncomeLossToCashProvi...</td>\n",
       "      <td>NetCashProvidedByUsedInOperatingActivities</td>\n",
       "    </tr>\n",
       "  </tbody>\n",
       "</table>\n",
       "</div>"
      ],
      "text/plain": [
       "                                   plabel_proc  y_pred_broad_cat  \\\n",
       "7086                       loss on impairments                 3   \n",
       "7087  accretion on decommissioning obligations                 3   \n",
       "7088     reclamation and remediation accretion                 3   \n",
       "7089          reclamation and remediation note                 3   \n",
       "7090        accretion of consideration payable                 3   \n",
       "\n",
       "      disagg_level                                                tag  \\\n",
       "7086           5.0                             AssetImpairmentCharges   \n",
       "7087           4.0  AccretionExpenseIncludingAssetRetirementObliga...   \n",
       "7088           4.0  AccretionExpenseIncludingAssetRetirementObliga...   \n",
       "7089           4.0  AccretionExpenseIncludingAssetRetirementObliga...   \n",
       "7090           4.0  AccretionExpenseIncludingAssetRetirementObliga...   \n",
       "\n",
       "                       tag_5  \\\n",
       "7086  AssetImpairmentCharges   \n",
       "7087                     NaN   \n",
       "7088                     NaN   \n",
       "7089                     NaN   \n",
       "7090                     NaN   \n",
       "\n",
       "                                                  tag_4  \\\n",
       "7086        RestructuringCostsAndAssetImpairmentCharges   \n",
       "7087  AccretionExpenseIncludingAssetRetirementObliga...   \n",
       "7088  AccretionExpenseIncludingAssetRetirementObliga...   \n",
       "7089  AccretionExpenseIncludingAssetRetirementObliga...   \n",
       "7090  AccretionExpenseIncludingAssetRetirementObliga...   \n",
       "\n",
       "                                                  tag_3  \\\n",
       "7086  AdjustmentsNoncashItemsToReconcileNetIncomeLos...   \n",
       "7087  AdjustmentsNoncashItemsToReconcileNetIncomeLos...   \n",
       "7088  AdjustmentsNoncashItemsToReconcileNetIncomeLos...   \n",
       "7089  AdjustmentsNoncashItemsToReconcileNetIncomeLos...   \n",
       "7090  AdjustmentsNoncashItemsToReconcileNetIncomeLos...   \n",
       "\n",
       "                                                  tag_2  \\\n",
       "7086  AdjustmentsToReconcileNetIncomeLossToCashProvi...   \n",
       "7087  AdjustmentsToReconcileNetIncomeLossToCashProvi...   \n",
       "7088  AdjustmentsToReconcileNetIncomeLossToCashProvi...   \n",
       "7089  AdjustmentsToReconcileNetIncomeLossToCashProvi...   \n",
       "7090  AdjustmentsToReconcileNetIncomeLossToCashProvi...   \n",
       "\n",
       "                                           tag_1  \n",
       "7086  NetCashProvidedByUsedInOperatingActivities  \n",
       "7087  NetCashProvidedByUsedInOperatingActivities  \n",
       "7088  NetCashProvidedByUsedInOperatingActivities  \n",
       "7089  NetCashProvidedByUsedInOperatingActivities  \n",
       "7090  NetCashProvidedByUsedInOperatingActivities  "
      ]
     },
     "metadata": {},
     "output_type": "display_data"
    }
   ],
   "source": [
    "# get dataframes\n",
    "\n",
    "## other classes\n",
    "df_classes_other = df_focus[~df_focus[\"tag\"].isin(classes_under)]\n",
    "\n",
    "## classes needing treatment\n",
    "df_classes_under = pd.DataFrame()\n",
    "min_count = 2\n",
    "for x in classes_under:\n",
    "    print(x)\n",
    "    df1 = df_focus[df_focus[\"tag\"] == x]\n",
    "    df1_resampled = df1.sample(min_count, replace=True)\n",
    "    \n",
    "    df_classes_under = pd.concat([df_classes_under, df1_resampled], axis = 0)\n",
    "    \n",
    "display(df_classes_under.head())\n",
    "\n",
    "## get new dataframe\n",
    "\n",
    "df_focus_resampled = pd.concat([df_classes_other, df_classes_under], axis = 0)\n",
    "\n",
    "display(df_focus_resampled.tail())"
   ]
  },
  {
   "cell_type": "markdown",
   "id": "5e6ea8a0",
   "metadata": {},
   "source": [
    "## Train Test Split"
   ]
  },
  {
   "cell_type": "code",
   "execution_count": 264,
   "id": "5c7fbeed",
   "metadata": {
    "ExecuteTime": {
     "end_time": "2023-07-03T07:32:06.472167Z",
     "start_time": "2023-07-03T07:32:06.458236Z"
    }
   },
   "outputs": [],
   "source": [
    "# Get dependent and independent variables\n",
    "\n",
    "X = df_focus_resampled.drop([\"tag\"], axis = 1)\n",
    "y = df_focus_resampled[[\"tag\"]]"
   ]
  },
  {
   "cell_type": "code",
   "execution_count": 265,
   "id": "e2516f6c",
   "metadata": {
    "ExecuteTime": {
     "end_time": "2023-07-03T07:32:06.813669Z",
     "start_time": "2023-07-03T07:32:06.724206Z"
    }
   },
   "outputs": [],
   "source": [
    "# Split\n",
    "X_train, X_test, y_train, y_test = train_test_split(X,\n",
    "                                                    y,\n",
    "                                                    test_size=0.3,\n",
    "                                                    random_state=2023,\n",
    "                                                   stratify = y)"
   ]
  },
  {
   "cell_type": "code",
   "execution_count": 266,
   "id": "b3982fd3",
   "metadata": {
    "ExecuteTime": {
     "end_time": "2023-07-03T07:32:07.024956Z",
     "start_time": "2023-07-03T07:32:07.016463Z"
    }
   },
   "outputs": [],
   "source": [
    "# Get original training and testing dataframes to check results later\n",
    "\n",
    "df_train_og = X_train.copy()\n",
    "df_train_og[\"tag\"] = y_train\n",
    "\n",
    "df_test_og = X_test.copy()\n",
    "df_test_og[\"tag\"] = y_test"
   ]
  },
  {
   "cell_type": "code",
   "execution_count": 267,
   "id": "9860d823",
   "metadata": {
    "ExecuteTime": {
     "end_time": "2023-07-03T07:32:07.372953Z",
     "start_time": "2023-07-03T07:32:07.358583Z"
    }
   },
   "outputs": [],
   "source": [
    "# Get training and testing set for first disaggregation level. NOTE: this step is needed for automated loop development in future for different levels of disaggregation\n",
    "df_train = df_train_og.copy()\n",
    "df_test = df_test_og.copy()\n",
    "\n"
   ]
  },
  {
   "cell_type": "markdown",
   "id": "f1657777",
   "metadata": {},
   "source": [
    "### Stratify sanity check and duplicate removal"
   ]
  },
  {
   "cell_type": "code",
   "execution_count": 268,
   "id": "7c1bbdf6",
   "metadata": {
    "ExecuteTime": {
     "end_time": "2023-07-03T07:32:08.074559Z",
     "start_time": "2023-07-03T07:32:08.060612Z"
    }
   },
   "outputs": [
    {
     "name": "stdout",
     "output_type": "stream",
     "text": [
      "check if all tags in test are present in train (sum should be 0) 0\n",
      "check if all tags in train are present in test (sum need not be 0) 0\n"
     ]
    }
   ],
   "source": [
    "# Also, check if stratified worked. And remove duplicates (that were oversampled from the og data that we will be refering to for results later)\n",
    "\n",
    "\n",
    "print(\"check if all tags in test are present in train (sum should be 0)\", (~df_test_og[\"tag\"].isin(df_train_og[\"tag\"].unique())).sum())\n",
    "print(\"check if all tags in train are present in test (sum need not be 0)\", (~df_train_og[\"tag\"].isin(df_test_og[\"tag\"].unique())).sum())\n",
    "\n"
   ]
  },
  {
   "cell_type": "code",
   "execution_count": 269,
   "id": "4319df08",
   "metadata": {
    "ExecuteTime": {
     "end_time": "2023-07-03T07:32:08.387972Z",
     "start_time": "2023-07-03T07:32:08.332092Z"
    }
   },
   "outputs": [
    {
     "name": "stdout",
     "output_type": "stream",
     "text": [
      "duplicates in train removed 0\n",
      "duplicates in test removed 0\n"
     ]
    }
   ],
   "source": [
    "# Remove duplicate from result table\n",
    "\n",
    "print(\"duplicates in train removed\", df_train_og.duplicated().sum())\n",
    "df_train_og.drop_duplicates(inplace = True)\n",
    "\n",
    "print(\"duplicates in test removed\", df_test_og.duplicated().sum())\n",
    "df_test_og.drop_duplicates(inplace = True)"
   ]
  },
  {
   "cell_type": "code",
   "execution_count": 270,
   "id": "ff7a8b4b",
   "metadata": {
    "ExecuteTime": {
     "end_time": "2023-07-03T07:32:08.884161Z",
     "start_time": "2023-07-03T07:32:08.866207Z"
    }
   },
   "outputs": [],
   "source": [
    "# Set CV folds\n",
    "\n",
    "splits = 5"
   ]
  },
  {
   "cell_type": "markdown",
   "id": "7983ad0d",
   "metadata": {},
   "source": [
    "# Disaggregation level 2"
   ]
  },
  {
   "cell_type": "code",
   "execution_count": 137,
   "id": "2bcc1621",
   "metadata": {
    "ExecuteTime": {
     "end_time": "2023-07-03T07:32:09.471881Z",
     "start_time": "2023-07-03T07:32:09.458915Z"
    }
   },
   "outputs": [],
   "source": [
    "# set current disaggregation level\n",
    "\n",
    "current_disagg = 2"
   ]
  },
  {
   "cell_type": "code",
   "execution_count": 138,
   "id": "5cdd6402",
   "metadata": {
    "ExecuteTime": {
     "end_time": "2023-07-03T07:32:09.893437Z",
     "start_time": "2023-07-03T07:32:09.874519Z"
    }
   },
   "outputs": [],
   "source": [
    "# filter for those records where disaggregation level is same or higher than our current\n",
    "\n",
    "df_train = df_train[df_train[\"disagg_level\"] >= current_disagg]\n",
    "df_test = df_test[df_test[\"disagg_level\"] >= current_disagg]"
   ]
  },
  {
   "cell_type": "code",
   "execution_count": 139,
   "id": "ef7ecfb6",
   "metadata": {},
   "outputs": [
    {
     "data": {
      "text/html": [
       "<div>\n",
       "<style scoped>\n",
       "    .dataframe tbody tr th:only-of-type {\n",
       "        vertical-align: middle;\n",
       "    }\n",
       "\n",
       "    .dataframe tbody tr th {\n",
       "        vertical-align: top;\n",
       "    }\n",
       "\n",
       "    .dataframe thead th {\n",
       "        text-align: right;\n",
       "    }\n",
       "</style>\n",
       "<table border=\"1\" class=\"dataframe\">\n",
       "  <thead>\n",
       "    <tr style=\"text-align: right;\">\n",
       "      <th></th>\n",
       "      <th>plabel_proc</th>\n",
       "      <th>y_pred_broad_cat</th>\n",
       "      <th>disagg_level</th>\n",
       "      <th>tag_5</th>\n",
       "      <th>tag_4</th>\n",
       "      <th>tag_3</th>\n",
       "      <th>tag_2</th>\n",
       "      <th>tag_1</th>\n",
       "      <th>tag</th>\n",
       "    </tr>\n",
       "  </thead>\n",
       "  <tbody>\n",
       "    <tr>\n",
       "      <th>122</th>\n",
       "      <td>provision for doubtful accounts and sales returns</td>\n",
       "      <td>3</td>\n",
       "      <td>4.0</td>\n",
       "      <td>NaN</td>\n",
       "      <td>ProvisionForDoubtfulAccounts</td>\n",
       "      <td>AdjustmentsNoncashItemsToReconcileNetIncomeLos...</td>\n",
       "      <td>AdjustmentsToReconcileNetIncomeLossToCashProvi...</td>\n",
       "      <td>NetCashProvidedByUsedInOperatingActivities</td>\n",
       "      <td>ProvisionForDoubtfulAccounts</td>\n",
       "    </tr>\n",
       "    <tr>\n",
       "      <th>4493</th>\n",
       "      <td>impairment loss on film costs</td>\n",
       "      <td>3</td>\n",
       "      <td>5.0</td>\n",
       "      <td>AssetImpairmentCharges</td>\n",
       "      <td>RestructuringCostsAndAssetImpairmentCharges</td>\n",
       "      <td>AdjustmentsNoncashItemsToReconcileNetIncomeLos...</td>\n",
       "      <td>AdjustmentsToReconcileNetIncomeLossToCashProvi...</td>\n",
       "      <td>NetCashProvidedByUsedInOperatingActivities</td>\n",
       "      <td>AssetImpairmentCharges</td>\n",
       "    </tr>\n",
       "    <tr>\n",
       "      <th>5437</th>\n",
       "      <td>gain loss on sale or retirement of property pl...</td>\n",
       "      <td>3</td>\n",
       "      <td>4.0</td>\n",
       "      <td>NaN</td>\n",
       "      <td>GainLossOnSaleOfPropertyPlantEquipment</td>\n",
       "      <td>AdjustmentsNoncashItemsToReconcileNetIncomeLos...</td>\n",
       "      <td>AdjustmentsToReconcileNetIncomeLossToCashProvi...</td>\n",
       "      <td>NetCashProvidedByUsedInOperatingActivities</td>\n",
       "      <td>GainLossOnSaleOfPropertyPlantEquipment</td>\n",
       "    </tr>\n",
       "    <tr>\n",
       "      <th>3641</th>\n",
       "      <td>gain loss from joint ventures</td>\n",
       "      <td>3</td>\n",
       "      <td>5.0</td>\n",
       "      <td>IncomeLossFromEquityMethodInvestments</td>\n",
       "      <td>IncomeLossFromEquityMethodInvestmentsNetOfDivi...</td>\n",
       "      <td>AdjustmentsNoncashItemsToReconcileNetIncomeLos...</td>\n",
       "      <td>AdjustmentsToReconcileNetIncomeLossToCashProvi...</td>\n",
       "      <td>NetCashProvidedByUsedInOperatingActivities</td>\n",
       "      <td>IncomeLossFromEquityMethodInvestments</td>\n",
       "    </tr>\n",
       "    <tr>\n",
       "      <th>2562</th>\n",
       "      <td>loss on change in fair value of debt and warra...</td>\n",
       "      <td>0</td>\n",
       "      <td>4.0</td>\n",
       "      <td>NaN</td>\n",
       "      <td>DisposalGroupNotDiscontinuedOperationGainLossO...</td>\n",
       "      <td>AdjustmentsNoncashItemsToReconcileNetIncomeLos...</td>\n",
       "      <td>AdjustmentsToReconcileNetIncomeLossToCashProvi...</td>\n",
       "      <td>NetCashProvidedByUsedInOperatingActivities</td>\n",
       "      <td>DisposalGroupNotDiscontinuedOperationGainLossO...</td>\n",
       "    </tr>\n",
       "    <tr>\n",
       "      <th>...</th>\n",
       "      <td>...</td>\n",
       "      <td>...</td>\n",
       "      <td>...</td>\n",
       "      <td>...</td>\n",
       "      <td>...</td>\n",
       "      <td>...</td>\n",
       "      <td>...</td>\n",
       "      <td>...</td>\n",
       "      <td>...</td>\n",
       "    </tr>\n",
       "    <tr>\n",
       "      <th>1784</th>\n",
       "      <td>gain on sale or disposal of property equipment...</td>\n",
       "      <td>3</td>\n",
       "      <td>4.0</td>\n",
       "      <td>NaN</td>\n",
       "      <td>GainLossOnSaleOfPropertyPlantEquipment</td>\n",
       "      <td>AdjustmentsNoncashItemsToReconcileNetIncomeLos...</td>\n",
       "      <td>AdjustmentsToReconcileNetIncomeLossToCashProvi...</td>\n",
       "      <td>NetCashProvidedByUsedInOperatingActivities</td>\n",
       "      <td>GainLossOnSaleOfPropertyPlantEquipment</td>\n",
       "    </tr>\n",
       "    <tr>\n",
       "      <th>2159</th>\n",
       "      <td>gain loss on investment</td>\n",
       "      <td>1</td>\n",
       "      <td>4.0</td>\n",
       "      <td>NaN</td>\n",
       "      <td>GainLossOnInvestments</td>\n",
       "      <td>AdjustmentsNoncashItemsToReconcileNetIncomeLos...</td>\n",
       "      <td>AdjustmentsToReconcileNetIncomeLossToCashProvi...</td>\n",
       "      <td>NetCashProvidedByUsedInOperatingActivities</td>\n",
       "      <td>GainLossOnInvestments</td>\n",
       "    </tr>\n",
       "    <tr>\n",
       "      <th>2494</th>\n",
       "      <td>gain on divestiture</td>\n",
       "      <td>3</td>\n",
       "      <td>4.0</td>\n",
       "      <td>NaN</td>\n",
       "      <td>DisposalGroupNotDiscontinuedOperationGainLossO...</td>\n",
       "      <td>AdjustmentsNoncashItemsToReconcileNetIncomeLos...</td>\n",
       "      <td>AdjustmentsToReconcileNetIncomeLossToCashProvi...</td>\n",
       "      <td>NetCashProvidedByUsedInOperatingActivities</td>\n",
       "      <td>DisposalGroupNotDiscontinuedOperationGainLossO...</td>\n",
       "    </tr>\n",
       "    <tr>\n",
       "      <th>2660</th>\n",
       "      <td>deferred tax recovery</td>\n",
       "      <td>2</td>\n",
       "      <td>5.0</td>\n",
       "      <td>DeferredIncomeTaxExpenseBenefit</td>\n",
       "      <td>DeferredIncomeTaxesAndTaxCredits</td>\n",
       "      <td>AdjustmentsNoncashItemsToReconcileNetIncomeLos...</td>\n",
       "      <td>AdjustmentsToReconcileNetIncomeLossToCashProvi...</td>\n",
       "      <td>NetCashProvidedByUsedInOperatingActivities</td>\n",
       "      <td>DeferredIncomeTaxExpenseBenefit</td>\n",
       "    </tr>\n",
       "    <tr>\n",
       "      <th>6021</th>\n",
       "      <td>allowance for credit gain loss</td>\n",
       "      <td>3</td>\n",
       "      <td>4.0</td>\n",
       "      <td>NaN</td>\n",
       "      <td>ProvisionForDoubtfulAccounts</td>\n",
       "      <td>AdjustmentsNoncashItemsToReconcileNetIncomeLos...</td>\n",
       "      <td>AdjustmentsToReconcileNetIncomeLossToCashProvi...</td>\n",
       "      <td>NetCashProvidedByUsedInOperatingActivities</td>\n",
       "      <td>ProvisionForDoubtfulAccounts</td>\n",
       "    </tr>\n",
       "  </tbody>\n",
       "</table>\n",
       "<p>4963 rows × 9 columns</p>\n",
       "</div>"
      ],
      "text/plain": [
       "                                            plabel_proc  y_pred_broad_cat  \\\n",
       "122   provision for doubtful accounts and sales returns                 3   \n",
       "4493                      impairment loss on film costs                 3   \n",
       "5437  gain loss on sale or retirement of property pl...                 3   \n",
       "3641                      gain loss from joint ventures                 3   \n",
       "2562  loss on change in fair value of debt and warra...                 0   \n",
       "...                                                 ...               ...   \n",
       "1784  gain on sale or disposal of property equipment...                 3   \n",
       "2159                            gain loss on investment                 1   \n",
       "2494                                gain on divestiture                 3   \n",
       "2660                              deferred tax recovery                 2   \n",
       "6021                     allowance for credit gain loss                 3   \n",
       "\n",
       "      disagg_level                                  tag_5  \\\n",
       "122            4.0                                    NaN   \n",
       "4493           5.0                 AssetImpairmentCharges   \n",
       "5437           4.0                                    NaN   \n",
       "3641           5.0  IncomeLossFromEquityMethodInvestments   \n",
       "2562           4.0                                    NaN   \n",
       "...            ...                                    ...   \n",
       "1784           4.0                                    NaN   \n",
       "2159           4.0                                    NaN   \n",
       "2494           4.0                                    NaN   \n",
       "2660           5.0        DeferredIncomeTaxExpenseBenefit   \n",
       "6021           4.0                                    NaN   \n",
       "\n",
       "                                                  tag_4  \\\n",
       "122                        ProvisionForDoubtfulAccounts   \n",
       "4493        RestructuringCostsAndAssetImpairmentCharges   \n",
       "5437             GainLossOnSaleOfPropertyPlantEquipment   \n",
       "3641  IncomeLossFromEquityMethodInvestmentsNetOfDivi...   \n",
       "2562  DisposalGroupNotDiscontinuedOperationGainLossO...   \n",
       "...                                                 ...   \n",
       "1784             GainLossOnSaleOfPropertyPlantEquipment   \n",
       "2159                              GainLossOnInvestments   \n",
       "2494  DisposalGroupNotDiscontinuedOperationGainLossO...   \n",
       "2660                   DeferredIncomeTaxesAndTaxCredits   \n",
       "6021                       ProvisionForDoubtfulAccounts   \n",
       "\n",
       "                                                  tag_3  \\\n",
       "122   AdjustmentsNoncashItemsToReconcileNetIncomeLos...   \n",
       "4493  AdjustmentsNoncashItemsToReconcileNetIncomeLos...   \n",
       "5437  AdjustmentsNoncashItemsToReconcileNetIncomeLos...   \n",
       "3641  AdjustmentsNoncashItemsToReconcileNetIncomeLos...   \n",
       "2562  AdjustmentsNoncashItemsToReconcileNetIncomeLos...   \n",
       "...                                                 ...   \n",
       "1784  AdjustmentsNoncashItemsToReconcileNetIncomeLos...   \n",
       "2159  AdjustmentsNoncashItemsToReconcileNetIncomeLos...   \n",
       "2494  AdjustmentsNoncashItemsToReconcileNetIncomeLos...   \n",
       "2660  AdjustmentsNoncashItemsToReconcileNetIncomeLos...   \n",
       "6021  AdjustmentsNoncashItemsToReconcileNetIncomeLos...   \n",
       "\n",
       "                                                  tag_2  \\\n",
       "122   AdjustmentsToReconcileNetIncomeLossToCashProvi...   \n",
       "4493  AdjustmentsToReconcileNetIncomeLossToCashProvi...   \n",
       "5437  AdjustmentsToReconcileNetIncomeLossToCashProvi...   \n",
       "3641  AdjustmentsToReconcileNetIncomeLossToCashProvi...   \n",
       "2562  AdjustmentsToReconcileNetIncomeLossToCashProvi...   \n",
       "...                                                 ...   \n",
       "1784  AdjustmentsToReconcileNetIncomeLossToCashProvi...   \n",
       "2159  AdjustmentsToReconcileNetIncomeLossToCashProvi...   \n",
       "2494  AdjustmentsToReconcileNetIncomeLossToCashProvi...   \n",
       "2660  AdjustmentsToReconcileNetIncomeLossToCashProvi...   \n",
       "6021  AdjustmentsToReconcileNetIncomeLossToCashProvi...   \n",
       "\n",
       "                                           tag_1  \\\n",
       "122   NetCashProvidedByUsedInOperatingActivities   \n",
       "4493  NetCashProvidedByUsedInOperatingActivities   \n",
       "5437  NetCashProvidedByUsedInOperatingActivities   \n",
       "3641  NetCashProvidedByUsedInOperatingActivities   \n",
       "2562  NetCashProvidedByUsedInOperatingActivities   \n",
       "...                                          ...   \n",
       "1784  NetCashProvidedByUsedInOperatingActivities   \n",
       "2159  NetCashProvidedByUsedInOperatingActivities   \n",
       "2494  NetCashProvidedByUsedInOperatingActivities   \n",
       "2660  NetCashProvidedByUsedInOperatingActivities   \n",
       "6021  NetCashProvidedByUsedInOperatingActivities   \n",
       "\n",
       "                                                    tag  \n",
       "122                        ProvisionForDoubtfulAccounts  \n",
       "4493                             AssetImpairmentCharges  \n",
       "5437             GainLossOnSaleOfPropertyPlantEquipment  \n",
       "3641              IncomeLossFromEquityMethodInvestments  \n",
       "2562  DisposalGroupNotDiscontinuedOperationGainLossO...  \n",
       "...                                                 ...  \n",
       "1784             GainLossOnSaleOfPropertyPlantEquipment  \n",
       "2159                              GainLossOnInvestments  \n",
       "2494  DisposalGroupNotDiscontinuedOperationGainLossO...  \n",
       "2660                    DeferredIncomeTaxExpenseBenefit  \n",
       "6021                       ProvisionForDoubtfulAccounts  \n",
       "\n",
       "[4963 rows x 9 columns]"
      ]
     },
     "execution_count": 139,
     "metadata": {},
     "output_type": "execute_result"
    }
   ],
   "source": [
    "df_train"
   ]
  },
  {
   "cell_type": "code",
   "execution_count": 140,
   "id": "eb055449",
   "metadata": {
    "ExecuteTime": {
     "end_time": "2023-07-03T07:32:11.006923Z",
     "start_time": "2023-07-03T07:32:10.994956Z"
    }
   },
   "outputs": [],
   "source": [
    "# select columns\n",
    "df_train = df_train[[\"plabel_proc\"] + [\"y_pred_broad_cat\"] + [\"disagg_level\"] + list(df_train.filter(regex=\"tag_\\d+_pred$\").columns) +\n",
    "                       list(df_train.filter(regex=\"interact\").columns) + list(df_train.filter(regex=\"presence\").columns) + [\"tag\"] + [\"tag_2\"]]\n"
   ]
  },
  {
   "cell_type": "code",
   "execution_count": null,
   "id": "f1fd8ff7",
   "metadata": {},
   "outputs": [],
   "source": [
    "# select columns\n",
    "#df_train = df_train[[\"plabel_proc\"] + [\"y_pred_broad_cat\"] + [\"disagg_level\"] + list(df_train.filter(regex=\"tag_\\d+_pred$\").columns) +\n",
    "                       #list(df_train.filter(regex=\"interact\").columns) + list(df_train.filter(regex=\"presence\").columns) + [\"tag\"] + [\"tag_\"+str(current_disagg)]]\n"
   ]
  },
  {
   "cell_type": "code",
   "execution_count": 141,
   "id": "0afa339e",
   "metadata": {
    "ExecuteTime": {
     "end_time": "2023-07-03T07:32:12.189567Z",
     "start_time": "2023-07-03T07:32:12.179567Z"
    }
   },
   "outputs": [
    {
     "data": {
      "text/plain": [
       "4868"
      ]
     },
     "execution_count": 141,
     "metadata": {},
     "output_type": "execute_result"
    }
   ],
   "source": [
    "# check plabel unique values\n",
    "\n",
    "len(df_train[\"plabel_proc\"].unique())"
   ]
  },
  {
   "cell_type": "code",
   "execution_count": 142,
   "id": "7494f924",
   "metadata": {
    "ExecuteTime": {
     "end_time": "2023-07-03T07:32:12.518257Z",
     "start_time": "2023-07-03T07:32:12.497310Z"
    }
   },
   "outputs": [
    {
     "data": {
      "text/plain": [
       "plabel_proc         0\n",
       "y_pred_broad_cat    0\n",
       "disagg_level        0\n",
       "tag                 0\n",
       "tag_2               0\n",
       "dtype: int64"
      ]
     },
     "metadata": {},
     "output_type": "display_data"
    },
    {
     "name": "stdout",
     "output_type": "stream",
     "text": [
      "after dropping\n"
     ]
    },
    {
     "name": "stderr",
     "output_type": "stream",
     "text": [
      "C:\\Users\\gbatt\\AppData\\Local\\Temp\\ipykernel_19856\\1395124636.py:4: SettingWithCopyWarning: \n",
      "A value is trying to be set on a copy of a slice from a DataFrame\n",
      "\n",
      "See the caveats in the documentation: https://pandas.pydata.org/pandas-docs/stable/user_guide/indexing.html#returning-a-view-versus-a-copy\n",
      "  df_train.dropna(subset = list(df_train.filter(regex=\"tag_\\d+_pred$\").columns), inplace = True)\n"
     ]
    },
    {
     "data": {
      "text/plain": [
       "plabel_proc         0\n",
       "y_pred_broad_cat    0\n",
       "disagg_level        0\n",
       "tag                 0\n",
       "tag_2               0\n",
       "dtype: int64"
      ]
     },
     "metadata": {},
     "output_type": "display_data"
    }
   ],
   "source": [
    "# drop nulls\n",
    "\n",
    "display(df_train.isnull().sum())\n",
    "df_train.dropna(subset = list(df_train.filter(regex=\"tag_\\d+_pred$\").columns), inplace = True)\n",
    "print(\"after dropping\")\n",
    "display(df_train.isnull().sum())"
   ]
  },
  {
   "cell_type": "code",
   "execution_count": 143,
   "id": "5b0cc318",
   "metadata": {
    "ExecuteTime": {
     "end_time": "2023-07-03T07:32:12.842611Z",
     "start_time": "2023-07-03T07:32:12.822174Z"
    }
   },
   "outputs": [],
   "source": [
    "# Get X_train, y_train, X_test, y_test for current disaggregation\n",
    "\n",
    "X_train = df_train[[\"plabel_proc\"] + [\"y_pred_broad_cat\"] + [\"disagg_level\"] + list(df_train.filter(regex=\"tag_\\d+_pred$\").columns) +\n",
    "                       list(df_train.filter(regex=\"interact\").columns) + list(df_train.filter(regex=\"presence\").columns)]\n",
    "\n",
    "y_train = df_train[[\"tag_\"+str(current_disagg)]]\n",
    "\n",
    "X_test = df_test[[\"plabel_proc\"] + [\"y_pred_broad_cat\"] + [\"disagg_level\"] + list(df_train.filter(regex=\"tag_\\d+_pred$\").columns) +\n",
    "                       list(df_test.filter(regex=\"interact\").columns) + list(df_test.filter(regex=\"presence\").columns)]\n",
    "\n",
    "y_test = df_test[[\"tag_\"+str(current_disagg)]]"
   ]
  },
  {
   "cell_type": "markdown",
   "id": "3b767c4b",
   "metadata": {},
   "source": [
    "# Oversample for Cross Validation"
   ]
  },
  {
   "cell_type": "markdown",
   "id": "43b5fbdc",
   "metadata": {
    "ExecuteTime": {
     "end_time": "2023-03-29T16:39:58.703888Z",
     "start_time": "2023-03-29T16:39:58.687422Z"
    }
   },
   "source": [
    "We oversample again to make sure classes can be present across all n_splits of cross validation"
   ]
  },
  {
   "cell_type": "code",
   "execution_count": 144,
   "id": "11574282",
   "metadata": {
    "ExecuteTime": {
     "end_time": "2023-07-03T07:32:13.764322Z",
     "start_time": "2023-07-03T07:32:13.747368Z"
    }
   },
   "outputs": [],
   "source": [
    "# Combine dataframe\n",
    "df_train = pd.concat([X_train, y_train], axis = 1)"
   ]
  },
  {
   "cell_type": "code",
   "execution_count": 145,
   "id": "bf6bc572",
   "metadata": {
    "ExecuteTime": {
     "end_time": "2023-07-03T07:32:14.089684Z",
     "start_time": "2023-07-03T07:32:14.073759Z"
    }
   },
   "outputs": [
    {
     "data": {
      "text/plain": [
       "AdjustmentsToReconcileNetIncomeLossToCashProvidedByUsedInOperatingActivities    4827\n",
       "ProfitLoss                                                                       136\n",
       "Name: tag_2, dtype: int64"
      ]
     },
     "execution_count": 145,
     "metadata": {},
     "output_type": "execute_result"
    }
   ],
   "source": [
    "#check tag frequency for current disaggregation levels\n",
    "\n",
    "df_train[\"tag_\"+str(current_disagg)].value_counts()"
   ]
  },
  {
   "cell_type": "markdown",
   "id": "a7f3d7c3",
   "metadata": {},
   "source": [
    "We oversample to make sure frequency of all classes is atleast equal to n_splits (5 in our case since we use 5 fold cross validation)"
   ]
  },
  {
   "cell_type": "code",
   "execution_count": 146,
   "id": "5852eb82",
   "metadata": {
    "ExecuteTime": {
     "end_time": "2023-07-03T07:32:15.762084Z",
     "start_time": "2023-07-03T07:32:15.752119Z"
    }
   },
   "outputs": [],
   "source": [
    "#classes to train on\n",
    "\n",
    "classes_under = list(df_train[\"tag_\"+str(current_disagg)].\\\n",
    "                     value_counts()[df_train[\"tag_\"+str(current_disagg)].value_counts() < 5].index)"
   ]
  },
  {
   "cell_type": "code",
   "execution_count": 147,
   "id": "73908638",
   "metadata": {
    "ExecuteTime": {
     "end_time": "2023-07-03T07:32:16.010962Z",
     "start_time": "2023-07-03T07:32:15.999025Z"
    }
   },
   "outputs": [
    {
     "data": {
      "text/plain": [
       "(0, 4)"
      ]
     },
     "execution_count": 147,
     "metadata": {},
     "output_type": "execute_result"
    }
   ],
   "source": [
    "# Check number of records that have classes less than 5\n",
    "\n",
    "df_train[df_train[\"tag_\"+str(current_disagg)].isin(classes_under)].shape"
   ]
  },
  {
   "cell_type": "code",
   "execution_count": 148,
   "id": "b187db14",
   "metadata": {
    "ExecuteTime": {
     "end_time": "2023-07-03T07:32:16.243588Z",
     "start_time": "2023-07-03T07:32:16.239598Z"
    }
   },
   "outputs": [
    {
     "data": {
      "text/plain": [
       "(4963, 4)"
      ]
     },
     "execution_count": 148,
     "metadata": {},
     "output_type": "execute_result"
    }
   ],
   "source": [
    "# Check shape\n",
    "df_train.shape"
   ]
  },
  {
   "cell_type": "code",
   "execution_count": 149,
   "id": "3009de07",
   "metadata": {
    "ExecuteTime": {
     "end_time": "2023-07-03T07:32:16.494195Z",
     "start_time": "2023-07-03T07:32:16.468297Z"
    },
    "scrolled": true
   },
   "outputs": [
    {
     "data": {
      "text/html": [
       "<div>\n",
       "<style scoped>\n",
       "    .dataframe tbody tr th:only-of-type {\n",
       "        vertical-align: middle;\n",
       "    }\n",
       "\n",
       "    .dataframe tbody tr th {\n",
       "        vertical-align: top;\n",
       "    }\n",
       "\n",
       "    .dataframe thead th {\n",
       "        text-align: right;\n",
       "    }\n",
       "</style>\n",
       "<table border=\"1\" class=\"dataframe\">\n",
       "  <thead>\n",
       "    <tr style=\"text-align: right;\">\n",
       "      <th></th>\n",
       "    </tr>\n",
       "  </thead>\n",
       "  <tbody>\n",
       "  </tbody>\n",
       "</table>\n",
       "</div>"
      ],
      "text/plain": [
       "Empty DataFrame\n",
       "Columns: []\n",
       "Index: []"
      ]
     },
     "metadata": {},
     "output_type": "display_data"
    },
    {
     "data": {
      "text/html": [
       "<div>\n",
       "<style scoped>\n",
       "    .dataframe tbody tr th:only-of-type {\n",
       "        vertical-align: middle;\n",
       "    }\n",
       "\n",
       "    .dataframe tbody tr th {\n",
       "        vertical-align: top;\n",
       "    }\n",
       "\n",
       "    .dataframe thead th {\n",
       "        text-align: right;\n",
       "    }\n",
       "</style>\n",
       "<table border=\"1\" class=\"dataframe\">\n",
       "  <thead>\n",
       "    <tr style=\"text-align: right;\">\n",
       "      <th></th>\n",
       "      <th>plabel_proc</th>\n",
       "      <th>y_pred_broad_cat</th>\n",
       "      <th>disagg_level</th>\n",
       "      <th>tag_2</th>\n",
       "    </tr>\n",
       "  </thead>\n",
       "  <tbody>\n",
       "    <tr>\n",
       "      <th>1784</th>\n",
       "      <td>gain on sale or disposal of property equipment...</td>\n",
       "      <td>3</td>\n",
       "      <td>4.0</td>\n",
       "      <td>AdjustmentsToReconcileNetIncomeLossToCashProvi...</td>\n",
       "    </tr>\n",
       "    <tr>\n",
       "      <th>2159</th>\n",
       "      <td>gain loss on investment</td>\n",
       "      <td>1</td>\n",
       "      <td>4.0</td>\n",
       "      <td>AdjustmentsToReconcileNetIncomeLossToCashProvi...</td>\n",
       "    </tr>\n",
       "    <tr>\n",
       "      <th>2494</th>\n",
       "      <td>gain on divestiture</td>\n",
       "      <td>3</td>\n",
       "      <td>4.0</td>\n",
       "      <td>AdjustmentsToReconcileNetIncomeLossToCashProvi...</td>\n",
       "    </tr>\n",
       "    <tr>\n",
       "      <th>2660</th>\n",
       "      <td>deferred tax recovery</td>\n",
       "      <td>2</td>\n",
       "      <td>5.0</td>\n",
       "      <td>AdjustmentsToReconcileNetIncomeLossToCashProvi...</td>\n",
       "    </tr>\n",
       "    <tr>\n",
       "      <th>6021</th>\n",
       "      <td>allowance for credit gain loss</td>\n",
       "      <td>3</td>\n",
       "      <td>4.0</td>\n",
       "      <td>AdjustmentsToReconcileNetIncomeLossToCashProvi...</td>\n",
       "    </tr>\n",
       "  </tbody>\n",
       "</table>\n",
       "</div>"
      ],
      "text/plain": [
       "                                            plabel_proc  y_pred_broad_cat  \\\n",
       "1784  gain on sale or disposal of property equipment...                 3   \n",
       "2159                            gain loss on investment                 1   \n",
       "2494                                gain on divestiture                 3   \n",
       "2660                              deferred tax recovery                 2   \n",
       "6021                     allowance for credit gain loss                 3   \n",
       "\n",
       "      disagg_level                                              tag_2  \n",
       "1784           4.0  AdjustmentsToReconcileNetIncomeLossToCashProvi...  \n",
       "2159           4.0  AdjustmentsToReconcileNetIncomeLossToCashProvi...  \n",
       "2494           4.0  AdjustmentsToReconcileNetIncomeLossToCashProvi...  \n",
       "2660           5.0  AdjustmentsToReconcileNetIncomeLossToCashProvi...  \n",
       "6021           4.0  AdjustmentsToReconcileNetIncomeLossToCashProvi...  "
      ]
     },
     "metadata": {},
     "output_type": "display_data"
    }
   ],
   "source": [
    "# get dataframes\n",
    "\n",
    "## other classes\n",
    "df_classes_other = df_train[~df_train[\"tag_\"+str(current_disagg)].isin(classes_under)]\n",
    "\n",
    "## classes needing treatment\n",
    "df_classes_under = pd.DataFrame()\n",
    "min_count = 5\n",
    "for x in classes_under:\n",
    "    print(x)\n",
    "    df1 = df_train[df_train[\"tag_\"+str(current_disagg)] == x]\n",
    "    df1_resampled = df1.sample(min_count, replace=True)\n",
    "    \n",
    "    df_classes_under = pd.concat([df_classes_under, df1_resampled], axis = 0)\n",
    "    \n",
    "display(df_classes_under.head())\n",
    "\n",
    "## get new dataframe\n",
    "\n",
    "df_train_resampled = pd.concat([df_classes_other, df_classes_under], axis = 0)\n",
    "\n",
    "display(df_train_resampled.tail())"
   ]
  },
  {
   "cell_type": "code",
   "execution_count": 150,
   "id": "964a3fcd",
   "metadata": {
    "ExecuteTime": {
     "end_time": "2023-07-03T07:32:16.738914Z",
     "start_time": "2023-07-03T07:32:16.722359Z"
    }
   },
   "outputs": [
    {
     "data": {
      "text/plain": [
       "(4963, 4)"
      ]
     },
     "execution_count": 150,
     "metadata": {},
     "output_type": "execute_result"
    }
   ],
   "source": [
    "# check resampled shape\n",
    "\n",
    "df_train_resampled.shape"
   ]
  },
  {
   "cell_type": "code",
   "execution_count": 151,
   "id": "1c3ac004",
   "metadata": {
    "ExecuteTime": {
     "end_time": "2023-07-03T07:32:20.566028Z",
     "start_time": "2023-07-03T07:32:20.549124Z"
    }
   },
   "outputs": [],
   "source": [
    "# Split into X_train and y_train\n",
    "\n",
    "X_train = df_train_resampled.drop([\"tag_\"+str(current_disagg)], axis = 1)\n",
    "y_train = df_train_resampled[[\"tag_\"+str(current_disagg)]].copy()"
   ]
  },
  {
   "cell_type": "markdown",
   "id": "27451dc3",
   "metadata": {},
   "source": [
    "# Vectorizer"
   ]
  },
  {
   "cell_type": "markdown",
   "id": "504f067f",
   "metadata": {},
   "source": [
    "We use TF-IDF for this"
   ]
  },
  {
   "cell_type": "code",
   "execution_count": 152,
   "id": "a100d5ce",
   "metadata": {
    "ExecuteTime": {
     "end_time": "2023-07-03T07:32:21.555806Z",
     "start_time": "2023-07-03T07:32:21.423399Z"
    }
   },
   "outputs": [],
   "source": [
    "# Vectorize the text column\n",
    "td = TfidfVectorizer(max_features=10000)\n",
    "X_train_dtm = td.fit_transform(X_train[\"plabel_proc\"])\n",
    "X_test_dtm = td.transform(X_test[\"plabel_proc\"])"
   ]
  },
  {
   "cell_type": "markdown",
   "id": "341d39c4",
   "metadata": {},
   "source": [
    "## Export Vectorizer"
   ]
  },
  {
   "cell_type": "code",
   "execution_count": 153,
   "id": "4e98e448",
   "metadata": {
    "ExecuteTime": {
     "end_time": "2023-07-03T07:32:26.991928Z",
     "start_time": "2023-07-03T07:32:26.975997Z"
    }
   },
   "outputs": [
    {
     "name": "stdout",
     "output_type": "stream",
     "text": [
      "Model is saved into to disk successfully Using Pickle\n"
     ]
    }
   ],
   "source": [
    "# Export vectorizer\n",
    "\n",
    "object_filename = \"tfidf_disagg_\"+str(current_disagg)+\".sav\"\n",
    "saved_model = pickle.dump(td, open(object_filename,'wb'))\n",
    "print('Model is saved into to disk successfully Using Pickle')\n"
   ]
  },
  {
   "cell_type": "markdown",
   "id": "416db0aa",
   "metadata": {},
   "source": [
    "## Add features"
   ]
  },
  {
   "cell_type": "code",
   "execution_count": 154,
   "id": "ea390f2f",
   "metadata": {
    "ExecuteTime": {
     "end_time": "2023-07-03T07:32:27.820538Z",
     "start_time": "2023-07-03T07:32:27.810566Z"
    }
   },
   "outputs": [
    {
     "data": {
      "text/plain": [
       "(4963, 1016)"
      ]
     },
     "metadata": {},
     "output_type": "display_data"
    },
    {
     "data": {
      "text/plain": [
       "[('provision', 730),\n",
       " ('for', 372),\n",
       " ('doubtful', 289),\n",
       " ('accounts', 9),\n",
       " ('and', 61)]"
      ]
     },
     "execution_count": 154,
     "metadata": {},
     "output_type": "execute_result"
    }
   ],
   "source": [
    "# Check number of tokens\n",
    "\n",
    "display(X_train_dtm.shape)\n",
    "\n",
    "# Some examples\n",
    "list(td.vocabulary_.items())[:5]"
   ]
  },
  {
   "cell_type": "code",
   "execution_count": 155,
   "id": "b8f126ec",
   "metadata": {
    "ExecuteTime": {
     "end_time": "2023-07-03T07:32:28.226003Z",
     "start_time": "2023-07-03T07:32:28.207018Z"
    }
   },
   "outputs": [],
   "source": [
    "# Preprocess additional features\n",
    "\n",
    "## training set\n",
    "X_train_add_features = X_train[[\"y_pred_broad_cat\"] + list(df_train.filter(regex=\"tag_\\d+_pred$\").columns) +\n",
    "                               list(df_focus_resampled.filter(regex=\"interact\").columns) + \n",
    "                               list(df_focus_resampled.filter(regex=\"presence\").columns)]\n",
    "X_train_add_features_sparse = csr_matrix(X_train_add_features.to_numpy())  # convert to numpy first, then sparse matrix\n",
    "X_train_modeling = hstack([X_train_dtm, X_train_add_features_sparse])  # concatenate sparse matrix\n",
    "\n",
    "## testing set\n",
    "X_test_add_features = X_test[[\"y_pred_broad_cat\"] + list(df_train.filter(regex=\"tag_\\d+_pred$\").columns) +\n",
    "                             list(df_focus_resampled.filter(regex = \"interact\").columns) + \n",
    "                             list(df_focus_resampled.filter(regex=\"presence\").columns)]\n",
    "X_test_add_features_sparse = csr_matrix(X_test_add_features.to_numpy()) # convert to numpy first, then sparse matrix\n",
    "X_test_modeling = hstack([X_test_dtm, X_test_add_features_sparse]) # concatenate sparse matrix"
   ]
  },
  {
   "cell_type": "code",
   "execution_count": 156,
   "id": "e7c8e4cd",
   "metadata": {
    "ExecuteTime": {
     "end_time": "2023-07-03T07:32:28.660015Z",
     "start_time": "2023-07-03T07:32:28.639948Z"
    }
   },
   "outputs": [
    {
     "data": {
      "text/plain": [
       "({'AdjustmentsToReconcileNetIncomeLossToCashProvidedByUsedInOperatingActivities': 0,\n",
       "  'ProfitLoss': 1},\n",
       " {0: 'AdjustmentsToReconcileNetIncomeLossToCashProvidedByUsedInOperatingActivities',\n",
       "  1: 'ProfitLoss'})"
      ]
     },
     "execution_count": 156,
     "metadata": {},
     "output_type": "execute_result"
    }
   ],
   "source": [
    "# Get label dictionary for future mapping\n",
    "labels_to_ids = {}\n",
    "ids_to_labels = {}\n",
    "for i, label in enumerate(df_train_og['tag_'+str(current_disagg)].dropna().unique()):\n",
    "    labels_to_ids[label] = i\n",
    "    ids_to_labels[i] = label\n",
    "\n",
    "labels_to_ids, ids_to_labels"
   ]
  },
  {
   "cell_type": "markdown",
   "id": "a5d22c5f",
   "metadata": {},
   "source": [
    "## Export labels"
   ]
  },
  {
   "cell_type": "code",
   "execution_count": 157,
   "id": "980bd15a",
   "metadata": {
    "ExecuteTime": {
     "end_time": "2023-07-03T07:32:29.676593Z",
     "start_time": "2023-07-03T07:32:29.654477Z"
    }
   },
   "outputs": [
    {
     "name": "stdout",
     "output_type": "stream",
     "text": [
      "Model is saved into to disk successfully Using Pickle\n",
      "Model is saved into to disk successfully Using Pickle\n"
     ]
    }
   ],
   "source": [
    "# Export labels\n",
    "\n",
    "object_filename = \"labels_to_ids_\"+str(current_disagg)+\".sav\"\n",
    "saved_model = pickle.dump(labels_to_ids, open(object_filename,'wb'))\n",
    "print('Model is saved into to disk successfully Using Pickle')\n",
    "\n",
    "object_filename = \"ids_to_labels_\"+str(current_disagg)+\".sav\"\n",
    "saved_model = pickle.dump(ids_to_labels, open(object_filename,'wb'))\n",
    "print('Model is saved into to disk successfully Using Pickle')"
   ]
  },
  {
   "cell_type": "markdown",
   "id": "4462ade6",
   "metadata": {},
   "source": [
    "## Get label names"
   ]
  },
  {
   "cell_type": "code",
   "execution_count": 158,
   "id": "80b59222",
   "metadata": {
    "ExecuteTime": {
     "end_time": "2023-07-03T07:32:31.019291Z",
     "start_time": "2023-07-03T07:32:31.014305Z"
    }
   },
   "outputs": [],
   "source": [
    "# get label names\n",
    "labelnames = [str(x) for x in list(labels_to_ids.keys())]"
   ]
  },
  {
   "cell_type": "code",
   "execution_count": 159,
   "id": "cddffae4",
   "metadata": {
    "ExecuteTime": {
     "end_time": "2023-07-03T07:32:31.501172Z",
     "start_time": "2023-07-03T07:32:31.487280Z"
    }
   },
   "outputs": [
    {
     "data": {
      "text/plain": [
       "array([0, 0, 0, ..., 0, 0, 0], dtype=int64)"
      ]
     },
     "execution_count": 159,
     "metadata": {},
     "output_type": "execute_result"
    }
   ],
   "source": [
    "# map training y\n",
    "y_train = y_train['tag_'+str(current_disagg)].map(labels_to_ids).values\n",
    "y_train"
   ]
  },
  {
   "cell_type": "code",
   "execution_count": 160,
   "id": "5945f2ba",
   "metadata": {
    "ExecuteTime": {
     "end_time": "2023-07-03T07:32:32.059164Z",
     "start_time": "2023-07-03T07:32:32.049190Z"
    }
   },
   "outputs": [
    {
     "data": {
      "text/plain": [
       "array([0, 0, 0, ..., 0, 0, 0], dtype=int64)"
      ]
     },
     "execution_count": 160,
     "metadata": {},
     "output_type": "execute_result"
    }
   ],
   "source": [
    "# map testing y\n",
    "\n",
    "y_test = y_test['tag_'+str(current_disagg)].map(labels_to_ids).values\n",
    "y_test"
   ]
  },
  {
   "cell_type": "markdown",
   "id": "8711d781",
   "metadata": {},
   "source": [
    "# Cross Validation"
   ]
  },
  {
   "cell_type": "code",
   "execution_count": 161,
   "id": "4baae360",
   "metadata": {
    "ExecuteTime": {
     "end_time": "2023-07-03T07:34:04.992042Z",
     "start_time": "2023-07-03T07:32:33.076532Z"
    }
   },
   "outputs": [
    {
     "name": "stderr",
     "output_type": "stream",
     "text": [
      "c:\\Users\\gbatt\\miniconda3\\lib\\site-packages\\sklearn\\ensemble\\_weight_boosting.py:527: FutureWarning: The SAMME.R algorithm (the default) is deprecated and will be removed in 1.6. Use the SAMME algorithm to circumvent this warning.\n",
      "  warnings.warn(\n",
      "c:\\Users\\gbatt\\miniconda3\\lib\\site-packages\\sklearn\\ensemble\\_weight_boosting.py:527: FutureWarning: The SAMME.R algorithm (the default) is deprecated and will be removed in 1.6. Use the SAMME algorithm to circumvent this warning.\n",
      "  warnings.warn(\n",
      "c:\\Users\\gbatt\\miniconda3\\lib\\site-packages\\sklearn\\ensemble\\_weight_boosting.py:527: FutureWarning: The SAMME.R algorithm (the default) is deprecated and will be removed in 1.6. Use the SAMME algorithm to circumvent this warning.\n",
      "  warnings.warn(\n",
      "c:\\Users\\gbatt\\miniconda3\\lib\\site-packages\\sklearn\\ensemble\\_weight_boosting.py:527: FutureWarning: The SAMME.R algorithm (the default) is deprecated and will be removed in 1.6. Use the SAMME algorithm to circumvent this warning.\n",
      "  warnings.warn(\n",
      "c:\\Users\\gbatt\\miniconda3\\lib\\site-packages\\sklearn\\ensemble\\_weight_boosting.py:527: FutureWarning: The SAMME.R algorithm (the default) is deprecated and will be removed in 1.6. Use the SAMME algorithm to circumvent this warning.\n",
      "  warnings.warn(\n"
     ]
    },
    {
     "name": "stdout",
     "output_type": "stream",
     "text": [
      "CPU times: total: 1min 12s\n",
      "Wall time: 12.5 s\n"
     ]
    }
   ],
   "source": [
    "%%time\n",
    "## get model list\n",
    "models = [MultinomialNB(), DecisionTreeClassifier(), RandomForestClassifier(), XGBClassifier(), AdaBoostClassifier(), SVC()]\n",
    "\n",
    "## CV dataframe. splits = 5 set before stepwise modeling\n",
    "\n",
    "CV = StratifiedKFold(n_splits=splits)\n",
    "\n",
    "\n",
    "globals()[\"cv_df_tag_\"+str(current_disagg)] = pd.DataFrame(index=range(splits * len(models)))\n",
    "\n",
    "## update in loop\n",
    "entries = []\n",
    "for model in models:\n",
    "    model_name = model.__class__.__name__\n",
    "    accuracies = cross_val_score(model,\n",
    "                                 X_train_modeling,\n",
    "                                 y_train,\n",
    "                                 scoring='accuracy',\n",
    "                                 cv=CV)\n",
    "    for fold_idx, accuracy in enumerate(accuracies):\n",
    "        entries.append((model_name, fold_idx, accuracy))\n",
    "globals()[\"cv_df_tag_\"+str(current_disagg)] = pd.DataFrame(entries, columns=['model_name', 'fold_idx', 'accuracy'])"
   ]
  },
  {
   "cell_type": "code",
   "execution_count": 162,
   "id": "ba2c5c07",
   "metadata": {
    "ExecuteTime": {
     "end_time": "2023-07-03T07:34:05.396622Z",
     "start_time": "2023-07-03T07:34:04.994007Z"
    }
   },
   "outputs": [
    {
     "name": "stderr",
     "output_type": "stream",
     "text": [
      "C:\\Users\\gbatt\\AppData\\Local\\Temp\\ipykernel_19856\\3252306620.py:4: FutureWarning: Use \"auto\" to set automatic grayscale colors. From v0.14.0, \"gray\" will default to matplotlib's definition.\n",
      "  sns.stripplot(x='model_name',\n"
     ]
    },
    {
     "data": {
      "image/png": "[encoded data removed]",
      "text/plain": [
       "<Figure size 640x480 with 1 Axes>"
      ]
     },
     "metadata": {},
     "output_type": "display_data"
    }
   ],
   "source": [
    "# visualize models\n",
    "cv_df = globals()[\"cv_df_tag_\"+str(current_disagg)]\n",
    "sns.boxplot(x='model_name', y='accuracy', data=cv_df)\n",
    "sns.stripplot(x='model_name',\n",
    "              y='accuracy',\n",
    "              data=cv_df,\n",
    "              size=8,\n",
    "              jitter=True,\n",
    "              edgecolor=\"gray\",\n",
    "              linewidth=2)\n",
    "plt.show()"
   ]
  },
  {
   "cell_type": "code",
   "execution_count": 163,
   "id": "0f2e1b76",
   "metadata": {
    "ExecuteTime": {
     "end_time": "2023-07-03T07:34:05.426542Z",
     "start_time": "2023-07-03T07:34:05.397619Z"
    }
   },
   "outputs": [
    {
     "data": {
      "text/html": [
       "<div>\n",
       "<style scoped>\n",
       "    .dataframe tbody tr th:only-of-type {\n",
       "        vertical-align: middle;\n",
       "    }\n",
       "\n",
       "    .dataframe tbody tr th {\n",
       "        vertical-align: top;\n",
       "    }\n",
       "\n",
       "    .dataframe thead th {\n",
       "        text-align: right;\n",
       "    }\n",
       "</style>\n",
       "<table border=\"1\" class=\"dataframe\">\n",
       "  <thead>\n",
       "    <tr style=\"text-align: right;\">\n",
       "      <th></th>\n",
       "      <th>model_name</th>\n",
       "      <th>fold_idx</th>\n",
       "      <th>accuracy</th>\n",
       "    </tr>\n",
       "  </thead>\n",
       "  <tbody>\n",
       "    <tr>\n",
       "      <th>0</th>\n",
       "      <td>MultinomialNB</td>\n",
       "      <td>0</td>\n",
       "      <td>0.979859</td>\n",
       "    </tr>\n",
       "    <tr>\n",
       "      <th>1</th>\n",
       "      <td>MultinomialNB</td>\n",
       "      <td>1</td>\n",
       "      <td>0.974824</td>\n",
       "    </tr>\n",
       "    <tr>\n",
       "      <th>2</th>\n",
       "      <td>MultinomialNB</td>\n",
       "      <td>2</td>\n",
       "      <td>0.978852</td>\n",
       "    </tr>\n",
       "    <tr>\n",
       "      <th>3</th>\n",
       "      <td>MultinomialNB</td>\n",
       "      <td>3</td>\n",
       "      <td>0.979839</td>\n",
       "    </tr>\n",
       "    <tr>\n",
       "      <th>4</th>\n",
       "      <td>MultinomialNB</td>\n",
       "      <td>4</td>\n",
       "      <td>0.978831</td>\n",
       "    </tr>\n",
       "    <tr>\n",
       "      <th>5</th>\n",
       "      <td>DecisionTreeClassifier</td>\n",
       "      <td>0</td>\n",
       "      <td>0.990937</td>\n",
       "    </tr>\n",
       "    <tr>\n",
       "      <th>6</th>\n",
       "      <td>DecisionTreeClassifier</td>\n",
       "      <td>1</td>\n",
       "      <td>0.988922</td>\n",
       "    </tr>\n",
       "    <tr>\n",
       "      <th>7</th>\n",
       "      <td>DecisionTreeClassifier</td>\n",
       "      <td>2</td>\n",
       "      <td>0.988922</td>\n",
       "    </tr>\n",
       "    <tr>\n",
       "      <th>8</th>\n",
       "      <td>DecisionTreeClassifier</td>\n",
       "      <td>3</td>\n",
       "      <td>0.986895</td>\n",
       "    </tr>\n",
       "    <tr>\n",
       "      <th>9</th>\n",
       "      <td>DecisionTreeClassifier</td>\n",
       "      <td>4</td>\n",
       "      <td>0.991935</td>\n",
       "    </tr>\n",
       "    <tr>\n",
       "      <th>10</th>\n",
       "      <td>RandomForestClassifier</td>\n",
       "      <td>0</td>\n",
       "      <td>0.996979</td>\n",
       "    </tr>\n",
       "    <tr>\n",
       "      <th>11</th>\n",
       "      <td>RandomForestClassifier</td>\n",
       "      <td>1</td>\n",
       "      <td>0.990937</td>\n",
       "    </tr>\n",
       "    <tr>\n",
       "      <th>12</th>\n",
       "      <td>RandomForestClassifier</td>\n",
       "      <td>2</td>\n",
       "      <td>0.993958</td>\n",
       "    </tr>\n",
       "    <tr>\n",
       "      <th>13</th>\n",
       "      <td>RandomForestClassifier</td>\n",
       "      <td>3</td>\n",
       "      <td>0.992944</td>\n",
       "    </tr>\n",
       "    <tr>\n",
       "      <th>14</th>\n",
       "      <td>RandomForestClassifier</td>\n",
       "      <td>4</td>\n",
       "      <td>0.995968</td>\n",
       "    </tr>\n",
       "    <tr>\n",
       "      <th>15</th>\n",
       "      <td>XGBClassifier</td>\n",
       "      <td>0</td>\n",
       "      <td>0.995972</td>\n",
       "    </tr>\n",
       "    <tr>\n",
       "      <th>16</th>\n",
       "      <td>XGBClassifier</td>\n",
       "      <td>1</td>\n",
       "      <td>0.988922</td>\n",
       "    </tr>\n",
       "    <tr>\n",
       "      <th>17</th>\n",
       "      <td>XGBClassifier</td>\n",
       "      <td>2</td>\n",
       "      <td>0.990937</td>\n",
       "    </tr>\n",
       "    <tr>\n",
       "      <th>18</th>\n",
       "      <td>XGBClassifier</td>\n",
       "      <td>3</td>\n",
       "      <td>0.989919</td>\n",
       "    </tr>\n",
       "    <tr>\n",
       "      <th>19</th>\n",
       "      <td>XGBClassifier</td>\n",
       "      <td>4</td>\n",
       "      <td>0.991935</td>\n",
       "    </tr>\n",
       "    <tr>\n",
       "      <th>20</th>\n",
       "      <td>AdaBoostClassifier</td>\n",
       "      <td>0</td>\n",
       "      <td>0.994965</td>\n",
       "    </tr>\n",
       "    <tr>\n",
       "      <th>21</th>\n",
       "      <td>AdaBoostClassifier</td>\n",
       "      <td>1</td>\n",
       "      <td>0.990937</td>\n",
       "    </tr>\n",
       "    <tr>\n",
       "      <th>22</th>\n",
       "      <td>AdaBoostClassifier</td>\n",
       "      <td>2</td>\n",
       "      <td>0.993958</td>\n",
       "    </tr>\n",
       "    <tr>\n",
       "      <th>23</th>\n",
       "      <td>AdaBoostClassifier</td>\n",
       "      <td>3</td>\n",
       "      <td>0.991935</td>\n",
       "    </tr>\n",
       "    <tr>\n",
       "      <th>24</th>\n",
       "      <td>AdaBoostClassifier</td>\n",
       "      <td>4</td>\n",
       "      <td>0.995968</td>\n",
       "    </tr>\n",
       "    <tr>\n",
       "      <th>25</th>\n",
       "      <td>SVC</td>\n",
       "      <td>0</td>\n",
       "      <td>0.993958</td>\n",
       "    </tr>\n",
       "    <tr>\n",
       "      <th>26</th>\n",
       "      <td>SVC</td>\n",
       "      <td>1</td>\n",
       "      <td>0.988922</td>\n",
       "    </tr>\n",
       "    <tr>\n",
       "      <th>27</th>\n",
       "      <td>SVC</td>\n",
       "      <td>2</td>\n",
       "      <td>0.984894</td>\n",
       "    </tr>\n",
       "    <tr>\n",
       "      <th>28</th>\n",
       "      <td>SVC</td>\n",
       "      <td>3</td>\n",
       "      <td>0.993952</td>\n",
       "    </tr>\n",
       "    <tr>\n",
       "      <th>29</th>\n",
       "      <td>SVC</td>\n",
       "      <td>4</td>\n",
       "      <td>0.994960</td>\n",
       "    </tr>\n",
       "  </tbody>\n",
       "</table>\n",
       "</div>"
      ],
      "text/plain": [
       "                model_name  fold_idx  accuracy\n",
       "0            MultinomialNB         0  0.979859\n",
       "1            MultinomialNB         1  0.974824\n",
       "2            MultinomialNB         2  0.978852\n",
       "3            MultinomialNB         3  0.979839\n",
       "4            MultinomialNB         4  0.978831\n",
       "5   DecisionTreeClassifier         0  0.990937\n",
       "6   DecisionTreeClassifier         1  0.988922\n",
       "7   DecisionTreeClassifier         2  0.988922\n",
       "8   DecisionTreeClassifier         3  0.986895\n",
       "9   DecisionTreeClassifier         4  0.991935\n",
       "10  RandomForestClassifier         0  0.996979\n",
       "11  RandomForestClassifier         1  0.990937\n",
       "12  RandomForestClassifier         2  0.993958\n",
       "13  RandomForestClassifier         3  0.992944\n",
       "14  RandomForestClassifier         4  0.995968\n",
       "15           XGBClassifier         0  0.995972\n",
       "16           XGBClassifier         1  0.988922\n",
       "17           XGBClassifier         2  0.990937\n",
       "18           XGBClassifier         3  0.989919\n",
       "19           XGBClassifier         4  0.991935\n",
       "20      AdaBoostClassifier         0  0.994965\n",
       "21      AdaBoostClassifier         1  0.990937\n",
       "22      AdaBoostClassifier         2  0.993958\n",
       "23      AdaBoostClassifier         3  0.991935\n",
       "24      AdaBoostClassifier         4  0.995968\n",
       "25                     SVC         0  0.993958\n",
       "26                     SVC         1  0.988922\n",
       "27                     SVC         2  0.984894\n",
       "28                     SVC         3  0.993952\n",
       "29                     SVC         4  0.994960"
      ]
     },
     "metadata": {},
     "output_type": "display_data"
    },
    {
     "data": {
      "text/plain": [
       "'avg accuracy'"
      ]
     },
     "metadata": {},
     "output_type": "display_data"
    },
    {
     "data": {
      "text/plain": [
       "model_name\n",
       "AdaBoostClassifier        0.993552\n",
       "DecisionTreeClassifier    0.989522\n",
       "MultinomialNB             0.978441\n",
       "RandomForestClassifier    0.994157\n",
       "SVC                       0.991337\n",
       "XGBClassifier             0.991537\n",
       "Name: accuracy, dtype: float64"
      ]
     },
     "execution_count": 163,
     "metadata": {},
     "output_type": "execute_result"
    }
   ],
   "source": [
    "# View df\n",
    "\n",
    "display(cv_df)\n",
    "\n",
    "# Accuracy score\n",
    "display(\"avg accuracy\")\n",
    "cv_df.groupby('model_name').accuracy.mean()"
   ]
  },
  {
   "cell_type": "markdown",
   "id": "f267ac5b",
   "metadata": {},
   "source": [
    "**Notes: We use XGBoostClassifier since it gives the best (or second best) results and maintain consistency in modeling as such**"
   ]
  },
  {
   "cell_type": "code",
   "execution_count": null,
   "id": "d466a67b",
   "metadata": {},
   "outputs": [],
   "source": []
  },
  {
   "cell_type": "markdown",
   "id": "ac45142a",
   "metadata": {},
   "source": [
    "# Fit and Predict on Out of Sample Data"
   ]
  },
  {
   "cell_type": "code",
   "execution_count": 165,
   "id": "17ee302c",
   "metadata": {
    "ExecuteTime": {
     "end_time": "2023-06-08T01:51:18.070107Z",
     "start_time": "2023-06-08T01:51:16.131885Z"
    }
   },
   "outputs": [],
   "source": [
    "# fit\n",
    "xgb = XGBClassifier().fit(X_train_modeling, y_train)"
   ]
  },
  {
   "cell_type": "code",
   "execution_count": 166,
   "id": "03d830b4",
   "metadata": {
    "ExecuteTime": {
     "end_time": "2023-06-08T01:51:18.105718Z",
     "start_time": "2023-06-08T01:51:18.070107Z"
    }
   },
   "outputs": [],
   "source": [
    "# predict test\n",
    "y_pred = xgb.predict(X_test_modeling)"
   ]
  },
  {
   "cell_type": "code",
   "execution_count": 167,
   "id": "c801246f",
   "metadata": {
    "ExecuteTime": {
     "end_time": "2023-06-08T01:51:18.336706Z",
     "start_time": "2023-06-08T01:51:18.105718Z"
    }
   },
   "outputs": [
    {
     "data": {
      "image/png": "[encoded data removed]",
      "text/plain": [
       "<Figure size 1000x1000 with 2 Axes>"
      ]
     },
     "metadata": {},
     "output_type": "display_data"
    },
    {
     "name": "stdout",
     "output_type": "stream",
     "text": [
      "CPU times: total: 594 ms\n",
      "Wall time: 597 ms\n"
     ]
    }
   ],
   "source": [
    "%%time\n",
    "conf_mat = confusion_matrix(y_test, y_pred)\n",
    "\n",
    "fig, ax = plt.subplots(figsize=(10, 10))\n",
    "sns.heatmap(conf_mat,\n",
    "            annot=False,\n",
    "            fmt='d',\n",
    "            xticklabels=range(len(labelnames)),\n",
    "            yticklabels=range(len(labelnames)))\n",
    "plt.ylabel('Actual')\n",
    "plt.xlabel('Predicted')\n",
    "plt.savefig(\"lvl2_confusion_matrix.png\")\n",
    "plt.show()"
   ]
  },
  {
   "cell_type": "markdown",
   "id": "41ff9a0e",
   "metadata": {},
   "source": [
    "**We update labelnames for result. It is possible that not all values from train are always present in test set. Not because of data imbalance. But because of wrong prediction, since we halt prediction for those values which have no further disaggregation possible**"
   ]
  },
  {
   "cell_type": "code",
   "execution_count": 168,
   "id": "c9e0ed2f",
   "metadata": {
    "ExecuteTime": {
     "end_time": "2023-06-08T01:51:18.351666Z",
     "start_time": "2023-06-08T01:51:18.337702Z"
    }
   },
   "outputs": [],
   "source": [
    "# update labelnames for test\n",
    "\n",
    "vals_to_drop = list(set(labels_to_ids.values()) - set(y_test) - set(y_pred))\n",
    "\n",
    "labels_to_ids_result = {key:val for key, val in labels_to_ids.items() if val not in vals_to_drop}\n",
    "\n",
    "labelnames_result = [str(x) for x in list(labels_to_ids_result.keys())]"
   ]
  },
  {
   "cell_type": "code",
   "execution_count": 169,
   "id": "ecae6b69",
   "metadata": {
    "ExecuteTime": {
     "end_time": "2023-06-08T01:51:18.367626Z",
     "start_time": "2023-06-08T01:51:18.352662Z"
    }
   },
   "outputs": [
    {
     "name": "stdout",
     "output_type": "stream",
     "text": [
      "accuracy 0.9896616541353384\n",
      "                                                                              precision    recall  f1-score   support\n",
      "\n",
      "AdjustmentsToReconcileNetIncomeLossToCashProvidedByUsedInOperatingActivities       0.99      1.00      0.99      2069\n",
      "                                                                  ProfitLoss       0.91      0.69      0.79        59\n",
      "\n",
      "                                                                    accuracy                           0.99      2128\n",
      "                                                                   macro avg       0.95      0.85      0.89      2128\n",
      "                                                                weighted avg       0.99      0.99      0.99      2128\n",
      "\n"
     ]
    }
   ],
   "source": [
    "\n",
    "print('accuracy %s' % metrics.accuracy_score(y_pred, y_test))\n",
    "print(metrics.classification_report(y_test, y_pred, zero_division=0, target_names=labelnames_result))"
   ]
  },
  {
   "cell_type": "markdown",
   "id": "6db9b6d7",
   "metadata": {},
   "source": [
    "## Export final model"
   ]
  },
  {
   "cell_type": "code",
   "execution_count": 170,
   "id": "1f9fb829",
   "metadata": {
    "ExecuteTime": {
     "end_time": "2023-06-08T01:51:18.415014Z",
     "start_time": "2023-06-08T01:51:18.368623Z"
    }
   },
   "outputs": [
    {
     "name": "stdout",
     "output_type": "stream",
     "text": [
      "Model is saved into to disk successfully Using Pickle\n"
     ]
    }
   ],
   "source": [
    "# export final model\n",
    "\n",
    "object_filename = \"model_disagg_\"+str(current_disagg)+\".sav\"\n",
    "saved_model = pickle.dump(xgb, open(object_filename,'wb'))\n",
    "print('Model is saved into to disk successfully Using Pickle')"
   ]
  },
  {
   "cell_type": "markdown",
   "id": "0de79343",
   "metadata": {},
   "source": [
    "# Update dataframe input for next level"
   ]
  },
  {
   "cell_type": "markdown",
   "id": "e303c5bb",
   "metadata": {},
   "source": [
    "**Steps:-**\n",
    "\n",
    "- First use the model to make predictions on training dataframe\n",
    "- then we check if further disaggregation is possible. If no, remove those rows\n",
    "- Do the same filtering for test set\n"
   ]
  },
  {
   "cell_type": "markdown",
   "id": "b9abb0a9",
   "metadata": {
    "ExecuteTime": {
     "end_time": "2023-04-03T18:10:16.344367Z",
     "start_time": "2023-04-03T18:10:16.324447Z"
    }
   },
   "source": [
    "## Make prediction on training dataframe\n"
   ]
  },
  {
   "cell_type": "code",
   "execution_count": 171,
   "id": "807d80a9",
   "metadata": {
    "ExecuteTime": {
     "end_time": "2023-06-08T01:51:18.506284Z",
     "start_time": "2023-06-08T01:51:18.416010Z"
    }
   },
   "outputs": [],
   "source": [
    "# Get training dataframe\n",
    "df_train = X_train.copy()\n",
    "df_train[\"tag_\"+str(current_disagg)] = y_train\n",
    "\n",
    "y_train_pred = xgb.predict(X_train_modeling)\n",
    "df_train[\"tag_\"+str(current_disagg)+\"_pred\"] = y_train_pred\n",
    "\n",
    "df_train[\"tag_\"+str(current_disagg)] = df_train[\"tag_\"+str(current_disagg)].map(ids_to_labels) #reverse map\n",
    "df_train[\"tag_\"+str(current_disagg)+\"_pred_labelled\"] = df_train[\"tag_\"+str(current_disagg)+\"_pred\"].map(ids_to_labels) #reverse map\n",
    "\n",
    "\n",
    "\n",
    "\n",
    "# Get testing dataframe\n",
    "df_test = X_test.copy()\n",
    "df_test[\"tag_\"+str(current_disagg)] = y_test\n",
    "\n",
    "df_test[\"tag_\"+str(current_disagg)+\"_pred\"]= y_pred\n",
    "\n",
    "df_test[\"tag_\"+str(current_disagg)] = df_test[\"tag_\"+str(current_disagg)].map(ids_to_labels) #reverse map\n",
    "df_test[\"tag_\"+str(current_disagg)+\"_pred_labelled\"] = df_test[\"tag_\"+str(current_disagg)+\"_pred\"].map(ids_to_labels) #reverse map"
   ]
  },
  {
   "cell_type": "markdown",
   "id": "97cd831b",
   "metadata": {},
   "source": [
    "## Add prediction to original dataframe"
   ]
  },
  {
   "cell_type": "markdown",
   "id": "d232d69b",
   "metadata": {},
   "source": [
    "### Sanity Check"
   ]
  },
  {
   "cell_type": "code",
   "execution_count": 172,
   "id": "7874b6d0",
   "metadata": {
    "ExecuteTime": {
     "end_time": "2023-06-08T01:51:18.537271Z",
     "start_time": "2023-06-08T01:51:18.508278Z"
    }
   },
   "outputs": [
    {
     "data": {
      "text/plain": [
       "4963"
      ]
     },
     "execution_count": 172,
     "metadata": {},
     "output_type": "execute_result"
    }
   ],
   "source": [
    "# if all index of train are present in og\n",
    "df_train.index.isin(list(df_train_og[df_train_og[\"disagg_level\"] >= current_disagg].index)).sum()"
   ]
  },
  {
   "cell_type": "code",
   "execution_count": 173,
   "id": "022cc9fd",
   "metadata": {
    "ExecuteTime": {
     "end_time": "2023-06-08T01:51:18.567194Z",
     "start_time": "2023-06-08T01:51:18.539266Z"
    }
   },
   "outputs": [
    {
     "data": {
      "text/plain": [
       "(4963, 9)"
      ]
     },
     "metadata": {},
     "output_type": "display_data"
    },
    {
     "data": {
      "text/plain": [
       "4963"
      ]
     },
     "execution_count": 173,
     "metadata": {},
     "output_type": "execute_result"
    }
   ],
   "source": [
    "# if all index of og are present in train\n",
    "display(df_train_og[df_train_og[\"disagg_level\"] >= current_disagg].shape)\n",
    "df_train_og[df_train_og[\"disagg_level\"] >= current_disagg].index.isin(list(df_train.index)).sum()"
   ]
  },
  {
   "cell_type": "markdown",
   "id": "2965939d",
   "metadata": {},
   "source": [
    "### update"
   ]
  },
  {
   "cell_type": "code",
   "execution_count": 174,
   "id": "2b265cc6",
   "metadata": {
    "ExecuteTime": {
     "end_time": "2023-06-08T01:51:18.582490Z",
     "start_time": "2023-06-08T01:51:18.568191Z"
    }
   },
   "outputs": [
    {
     "data": {
      "text/plain": [
       "(4963, 9)"
      ]
     },
     "metadata": {},
     "output_type": "display_data"
    },
    {
     "data": {
      "text/plain": [
       "(2128, 9)"
      ]
     },
     "metadata": {},
     "output_type": "display_data"
    }
   ],
   "source": [
    "# Check shape before join\n",
    "display(df_train_og.shape)\n",
    "display(df_test_og.shape)"
   ]
  },
  {
   "cell_type": "code",
   "execution_count": 175,
   "id": "a8dc764e",
   "metadata": {
    "ExecuteTime": {
     "end_time": "2023-06-08T01:51:18.613611Z",
     "start_time": "2023-06-08T01:51:18.583664Z"
    }
   },
   "outputs": [],
   "source": [
    "# Update og dataframes for future reviewing\n",
    "\n",
    "df_train_og = pd.merge(df_train_og, df_train[[\"tag_\"+str(current_disagg)+\"_pred_labelled\",\n",
    "                                              \"tag_\"+str(current_disagg)+\"_pred\"]], \n",
    "                       how = \"outer\", left_index = True, right_index = True)\n",
    "df_test_og = pd.merge(df_test_og, df_test[[\"tag_\"+str(current_disagg)+\"_pred_labelled\",\n",
    "                                           \"tag_\"+str(current_disagg)+\"_pred\"]], \n",
    "                      how = \"outer\", left_index = True, right_index = True)"
   ]
  },
  {
   "cell_type": "code",
   "execution_count": 176,
   "id": "bb3bef8b",
   "metadata": {
    "ExecuteTime": {
     "end_time": "2023-06-08T01:51:18.629298Z",
     "start_time": "2023-06-08T01:51:18.614646Z"
    }
   },
   "outputs": [
    {
     "data": {
      "text/plain": [
       "(4963, 11)"
      ]
     },
     "metadata": {},
     "output_type": "display_data"
    },
    {
     "data": {
      "text/plain": [
       "(2128, 11)"
      ]
     },
     "metadata": {},
     "output_type": "display_data"
    }
   ],
   "source": [
    "# Check shape after join\n",
    "display(df_train_og.shape)\n",
    "display(df_test_og.shape)"
   ]
  },
  {
   "cell_type": "code",
   "execution_count": 177,
   "id": "a7388a03",
   "metadata": {
    "ExecuteTime": {
     "end_time": "2023-06-08T01:51:18.693729Z",
     "start_time": "2023-06-08T01:51:18.630295Z"
    }
   },
   "outputs": [
    {
     "name": "stdout",
     "output_type": "stream",
     "text": [
      "duplicates in train removed 0\n",
      "duplicates in test removed 0\n"
     ]
    }
   ],
   "source": [
    "# Remove duplicate from result table\n",
    "\n",
    "print(\"duplicates in train removed\", df_train_og.duplicated().sum())\n",
    "df_train_og.drop_duplicates(inplace = True)\n",
    "\n",
    "print(\"duplicates in test removed\", df_test_og.duplicated().sum())\n",
    "df_test_og.drop_duplicates(inplace = True)"
   ]
  },
  {
   "cell_type": "code",
   "execution_count": 178,
   "id": "0cdc36ea",
   "metadata": {
    "ExecuteTime": {
     "end_time": "2023-06-08T01:51:18.708691Z",
     "start_time": "2023-06-08T01:51:18.694735Z"
    }
   },
   "outputs": [
    {
     "data": {
      "text/plain": [
       "(4963, 11)"
      ]
     },
     "metadata": {},
     "output_type": "display_data"
    },
    {
     "data": {
      "text/plain": [
       "(2128, 11)"
      ]
     },
     "metadata": {},
     "output_type": "display_data"
    }
   ],
   "source": [
    "# Check shape after removing duplicates\n",
    "display(df_train_og.shape)\n",
    "display(df_test_og.shape)"
   ]
  },
  {
   "cell_type": "markdown",
   "id": "0e4963de",
   "metadata": {},
   "source": [
    "## Remove records for next level of disagg"
   ]
  },
  {
   "cell_type": "code",
   "execution_count": 179,
   "id": "de92276b",
   "metadata": {
    "ExecuteTime": {
     "end_time": "2023-06-08T01:51:18.740603Z",
     "start_time": "2023-06-08T01:51:18.716698Z"
    }
   },
   "outputs": [],
   "source": [
    "# Fetch tags where further level of disaggregation is not present as per our hierarchy\n",
    "try:\n",
    "    no_further_disagg = list(df_hier.set_index(\"disagg_\"+str(current_disagg))\\\n",
    "                         [df_hier.set_index(\"disagg_\"+str(current_disagg))[\"disagg_\"+str(current_disagg+1)].isna()].index)\n",
    "    \n",
    "    # Remove records for these tags: get new df_train and df_test\n",
    "\n",
    "    ## training\n",
    "    df_train = df_train_og[~df_train_og[\"tag_\"+str(current_disagg)+\"_pred_labelled\"].isin(no_further_disagg)]\n",
    "\n",
    "    ## testing\n",
    "    df_test = df_test_og[~df_test_og[\"tag_\"+str(current_disagg)+\"_pred_labelled\"].isin(no_further_disagg)]\n",
    "    \n",
    "except:\n",
    "    print(\"This was the last aggregation level\")"
   ]
  },
  {
   "cell_type": "markdown",
   "id": "16847421",
   "metadata": {},
   "source": [
    "# Disaggregation 4"
   ]
  },
  {
   "cell_type": "code",
   "execution_count": null,
   "id": "fa63560e",
   "metadata": {},
   "outputs": [],
   "source": []
  },
  {
   "cell_type": "code",
   "execution_count": 271,
   "id": "f8ade3c8",
   "metadata": {
    "ExecuteTime": {
     "end_time": "2023-06-08T01:51:18.756561Z",
     "start_time": "2023-06-08T01:51:18.744592Z"
    }
   },
   "outputs": [],
   "source": [
    "# set current disaggregation level\n",
    "\n",
    "current_disagg = 4"
   ]
  },
  {
   "cell_type": "code",
   "execution_count": 272,
   "id": "730d4ea0",
   "metadata": {
    "ExecuteTime": {
     "end_time": "2023-06-08T01:51:18.772520Z",
     "start_time": "2023-06-08T01:51:18.757557Z"
    }
   },
   "outputs": [],
   "source": [
    "# filter for those records where disaggregation level is same or higher than our current\n",
    "\n",
    "df_train = df_train[df_train[\"disagg_level\"] >= current_disagg]\n",
    "df_test = df_test[df_test[\"disagg_level\"] >= current_disagg]"
   ]
  },
  {
   "cell_type": "code",
   "execution_count": 273,
   "id": "314b5af3",
   "metadata": {},
   "outputs": [
    {
     "data": {
      "text/html": [
       "<div>\n",
       "<style scoped>\n",
       "    .dataframe tbody tr th:only-of-type {\n",
       "        vertical-align: middle;\n",
       "    }\n",
       "\n",
       "    .dataframe tbody tr th {\n",
       "        vertical-align: top;\n",
       "    }\n",
       "\n",
       "    .dataframe thead th {\n",
       "        text-align: right;\n",
       "    }\n",
       "</style>\n",
       "<table border=\"1\" class=\"dataframe\">\n",
       "  <thead>\n",
       "    <tr style=\"text-align: right;\">\n",
       "      <th></th>\n",
       "      <th>plabel_proc</th>\n",
       "      <th>y_pred_broad_cat</th>\n",
       "      <th>disagg_level</th>\n",
       "      <th>tag_5</th>\n",
       "      <th>tag_4</th>\n",
       "      <th>tag_3</th>\n",
       "      <th>tag_2</th>\n",
       "      <th>tag_1</th>\n",
       "      <th>tag</th>\n",
       "    </tr>\n",
       "  </thead>\n",
       "  <tbody>\n",
       "    <tr>\n",
       "      <th>122</th>\n",
       "      <td>provision for doubtful accounts and sales returns</td>\n",
       "      <td>3</td>\n",
       "      <td>4.0</td>\n",
       "      <td>NaN</td>\n",
       "      <td>ProvisionForDoubtfulAccounts</td>\n",
       "      <td>AdjustmentsNoncashItemsToReconcileNetIncomeLos...</td>\n",
       "      <td>AdjustmentsToReconcileNetIncomeLossToCashProvi...</td>\n",
       "      <td>NetCashProvidedByUsedInOperatingActivities</td>\n",
       "      <td>ProvisionForDoubtfulAccounts</td>\n",
       "    </tr>\n",
       "    <tr>\n",
       "      <th>4493</th>\n",
       "      <td>impairment loss on film costs</td>\n",
       "      <td>3</td>\n",
       "      <td>5.0</td>\n",
       "      <td>AssetImpairmentCharges</td>\n",
       "      <td>RestructuringCostsAndAssetImpairmentCharges</td>\n",
       "      <td>AdjustmentsNoncashItemsToReconcileNetIncomeLos...</td>\n",
       "      <td>AdjustmentsToReconcileNetIncomeLossToCashProvi...</td>\n",
       "      <td>NetCashProvidedByUsedInOperatingActivities</td>\n",
       "      <td>AssetImpairmentCharges</td>\n",
       "    </tr>\n",
       "    <tr>\n",
       "      <th>5437</th>\n",
       "      <td>gain loss on sale or retirement of property pl...</td>\n",
       "      <td>3</td>\n",
       "      <td>4.0</td>\n",
       "      <td>NaN</td>\n",
       "      <td>GainLossOnSaleOfPropertyPlantEquipment</td>\n",
       "      <td>AdjustmentsNoncashItemsToReconcileNetIncomeLos...</td>\n",
       "      <td>AdjustmentsToReconcileNetIncomeLossToCashProvi...</td>\n",
       "      <td>NetCashProvidedByUsedInOperatingActivities</td>\n",
       "      <td>GainLossOnSaleOfPropertyPlantEquipment</td>\n",
       "    </tr>\n",
       "    <tr>\n",
       "      <th>3641</th>\n",
       "      <td>gain loss from joint ventures</td>\n",
       "      <td>3</td>\n",
       "      <td>5.0</td>\n",
       "      <td>IncomeLossFromEquityMethodInvestments</td>\n",
       "      <td>IncomeLossFromEquityMethodInvestmentsNetOfDivi...</td>\n",
       "      <td>AdjustmentsNoncashItemsToReconcileNetIncomeLos...</td>\n",
       "      <td>AdjustmentsToReconcileNetIncomeLossToCashProvi...</td>\n",
       "      <td>NetCashProvidedByUsedInOperatingActivities</td>\n",
       "      <td>IncomeLossFromEquityMethodInvestments</td>\n",
       "    </tr>\n",
       "    <tr>\n",
       "      <th>2562</th>\n",
       "      <td>loss on change in fair value of debt and warra...</td>\n",
       "      <td>0</td>\n",
       "      <td>4.0</td>\n",
       "      <td>NaN</td>\n",
       "      <td>DisposalGroupNotDiscontinuedOperationGainLossO...</td>\n",
       "      <td>AdjustmentsNoncashItemsToReconcileNetIncomeLos...</td>\n",
       "      <td>AdjustmentsToReconcileNetIncomeLossToCashProvi...</td>\n",
       "      <td>NetCashProvidedByUsedInOperatingActivities</td>\n",
       "      <td>DisposalGroupNotDiscontinuedOperationGainLossO...</td>\n",
       "    </tr>\n",
       "    <tr>\n",
       "      <th>...</th>\n",
       "      <td>...</td>\n",
       "      <td>...</td>\n",
       "      <td>...</td>\n",
       "      <td>...</td>\n",
       "      <td>...</td>\n",
       "      <td>...</td>\n",
       "      <td>...</td>\n",
       "      <td>...</td>\n",
       "      <td>...</td>\n",
       "    </tr>\n",
       "    <tr>\n",
       "      <th>1784</th>\n",
       "      <td>gain on sale or disposal of property equipment...</td>\n",
       "      <td>3</td>\n",
       "      <td>4.0</td>\n",
       "      <td>NaN</td>\n",
       "      <td>GainLossOnSaleOfPropertyPlantEquipment</td>\n",
       "      <td>AdjustmentsNoncashItemsToReconcileNetIncomeLos...</td>\n",
       "      <td>AdjustmentsToReconcileNetIncomeLossToCashProvi...</td>\n",
       "      <td>NetCashProvidedByUsedInOperatingActivities</td>\n",
       "      <td>GainLossOnSaleOfPropertyPlantEquipment</td>\n",
       "    </tr>\n",
       "    <tr>\n",
       "      <th>2159</th>\n",
       "      <td>gain loss on investment</td>\n",
       "      <td>1</td>\n",
       "      <td>4.0</td>\n",
       "      <td>NaN</td>\n",
       "      <td>GainLossOnInvestments</td>\n",
       "      <td>AdjustmentsNoncashItemsToReconcileNetIncomeLos...</td>\n",
       "      <td>AdjustmentsToReconcileNetIncomeLossToCashProvi...</td>\n",
       "      <td>NetCashProvidedByUsedInOperatingActivities</td>\n",
       "      <td>GainLossOnInvestments</td>\n",
       "    </tr>\n",
       "    <tr>\n",
       "      <th>2494</th>\n",
       "      <td>gain on divestiture</td>\n",
       "      <td>3</td>\n",
       "      <td>4.0</td>\n",
       "      <td>NaN</td>\n",
       "      <td>DisposalGroupNotDiscontinuedOperationGainLossO...</td>\n",
       "      <td>AdjustmentsNoncashItemsToReconcileNetIncomeLos...</td>\n",
       "      <td>AdjustmentsToReconcileNetIncomeLossToCashProvi...</td>\n",
       "      <td>NetCashProvidedByUsedInOperatingActivities</td>\n",
       "      <td>DisposalGroupNotDiscontinuedOperationGainLossO...</td>\n",
       "    </tr>\n",
       "    <tr>\n",
       "      <th>2660</th>\n",
       "      <td>deferred tax recovery</td>\n",
       "      <td>2</td>\n",
       "      <td>5.0</td>\n",
       "      <td>DeferredIncomeTaxExpenseBenefit</td>\n",
       "      <td>DeferredIncomeTaxesAndTaxCredits</td>\n",
       "      <td>AdjustmentsNoncashItemsToReconcileNetIncomeLos...</td>\n",
       "      <td>AdjustmentsToReconcileNetIncomeLossToCashProvi...</td>\n",
       "      <td>NetCashProvidedByUsedInOperatingActivities</td>\n",
       "      <td>DeferredIncomeTaxExpenseBenefit</td>\n",
       "    </tr>\n",
       "    <tr>\n",
       "      <th>6021</th>\n",
       "      <td>allowance for credit gain loss</td>\n",
       "      <td>3</td>\n",
       "      <td>4.0</td>\n",
       "      <td>NaN</td>\n",
       "      <td>ProvisionForDoubtfulAccounts</td>\n",
       "      <td>AdjustmentsNoncashItemsToReconcileNetIncomeLos...</td>\n",
       "      <td>AdjustmentsToReconcileNetIncomeLossToCashProvi...</td>\n",
       "      <td>NetCashProvidedByUsedInOperatingActivities</td>\n",
       "      <td>ProvisionForDoubtfulAccounts</td>\n",
       "    </tr>\n",
       "  </tbody>\n",
       "</table>\n",
       "<p>4827 rows × 9 columns</p>\n",
       "</div>"
      ],
      "text/plain": [
       "                                            plabel_proc  y_pred_broad_cat  \\\n",
       "122   provision for doubtful accounts and sales returns                 3   \n",
       "4493                      impairment loss on film costs                 3   \n",
       "5437  gain loss on sale or retirement of property pl...                 3   \n",
       "3641                      gain loss from joint ventures                 3   \n",
       "2562  loss on change in fair value of debt and warra...                 0   \n",
       "...                                                 ...               ...   \n",
       "1784  gain on sale or disposal of property equipment...                 3   \n",
       "2159                            gain loss on investment                 1   \n",
       "2494                                gain on divestiture                 3   \n",
       "2660                              deferred tax recovery                 2   \n",
       "6021                     allowance for credit gain loss                 3   \n",
       "\n",
       "      disagg_level                                  tag_5  \\\n",
       "122            4.0                                    NaN   \n",
       "4493           5.0                 AssetImpairmentCharges   \n",
       "5437           4.0                                    NaN   \n",
       "3641           5.0  IncomeLossFromEquityMethodInvestments   \n",
       "2562           4.0                                    NaN   \n",
       "...            ...                                    ...   \n",
       "1784           4.0                                    NaN   \n",
       "2159           4.0                                    NaN   \n",
       "2494           4.0                                    NaN   \n",
       "2660           5.0        DeferredIncomeTaxExpenseBenefit   \n",
       "6021           4.0                                    NaN   \n",
       "\n",
       "                                                  tag_4  \\\n",
       "122                        ProvisionForDoubtfulAccounts   \n",
       "4493        RestructuringCostsAndAssetImpairmentCharges   \n",
       "5437             GainLossOnSaleOfPropertyPlantEquipment   \n",
       "3641  IncomeLossFromEquityMethodInvestmentsNetOfDivi...   \n",
       "2562  DisposalGroupNotDiscontinuedOperationGainLossO...   \n",
       "...                                                 ...   \n",
       "1784             GainLossOnSaleOfPropertyPlantEquipment   \n",
       "2159                              GainLossOnInvestments   \n",
       "2494  DisposalGroupNotDiscontinuedOperationGainLossO...   \n",
       "2660                   DeferredIncomeTaxesAndTaxCredits   \n",
       "6021                       ProvisionForDoubtfulAccounts   \n",
       "\n",
       "                                                  tag_3  \\\n",
       "122   AdjustmentsNoncashItemsToReconcileNetIncomeLos...   \n",
       "4493  AdjustmentsNoncashItemsToReconcileNetIncomeLos...   \n",
       "5437  AdjustmentsNoncashItemsToReconcileNetIncomeLos...   \n",
       "3641  AdjustmentsNoncashItemsToReconcileNetIncomeLos...   \n",
       "2562  AdjustmentsNoncashItemsToReconcileNetIncomeLos...   \n",
       "...                                                 ...   \n",
       "1784  AdjustmentsNoncashItemsToReconcileNetIncomeLos...   \n",
       "2159  AdjustmentsNoncashItemsToReconcileNetIncomeLos...   \n",
       "2494  AdjustmentsNoncashItemsToReconcileNetIncomeLos...   \n",
       "2660  AdjustmentsNoncashItemsToReconcileNetIncomeLos...   \n",
       "6021  AdjustmentsNoncashItemsToReconcileNetIncomeLos...   \n",
       "\n",
       "                                                  tag_2  \\\n",
       "122   AdjustmentsToReconcileNetIncomeLossToCashProvi...   \n",
       "4493  AdjustmentsToReconcileNetIncomeLossToCashProvi...   \n",
       "5437  AdjustmentsToReconcileNetIncomeLossToCashProvi...   \n",
       "3641  AdjustmentsToReconcileNetIncomeLossToCashProvi...   \n",
       "2562  AdjustmentsToReconcileNetIncomeLossToCashProvi...   \n",
       "...                                                 ...   \n",
       "1784  AdjustmentsToReconcileNetIncomeLossToCashProvi...   \n",
       "2159  AdjustmentsToReconcileNetIncomeLossToCashProvi...   \n",
       "2494  AdjustmentsToReconcileNetIncomeLossToCashProvi...   \n",
       "2660  AdjustmentsToReconcileNetIncomeLossToCashProvi...   \n",
       "6021  AdjustmentsToReconcileNetIncomeLossToCashProvi...   \n",
       "\n",
       "                                           tag_1  \\\n",
       "122   NetCashProvidedByUsedInOperatingActivities   \n",
       "4493  NetCashProvidedByUsedInOperatingActivities   \n",
       "5437  NetCashProvidedByUsedInOperatingActivities   \n",
       "3641  NetCashProvidedByUsedInOperatingActivities   \n",
       "2562  NetCashProvidedByUsedInOperatingActivities   \n",
       "...                                          ...   \n",
       "1784  NetCashProvidedByUsedInOperatingActivities   \n",
       "2159  NetCashProvidedByUsedInOperatingActivities   \n",
       "2494  NetCashProvidedByUsedInOperatingActivities   \n",
       "2660  NetCashProvidedByUsedInOperatingActivities   \n",
       "6021  NetCashProvidedByUsedInOperatingActivities   \n",
       "\n",
       "                                                    tag  \n",
       "122                        ProvisionForDoubtfulAccounts  \n",
       "4493                             AssetImpairmentCharges  \n",
       "5437             GainLossOnSaleOfPropertyPlantEquipment  \n",
       "3641              IncomeLossFromEquityMethodInvestments  \n",
       "2562  DisposalGroupNotDiscontinuedOperationGainLossO...  \n",
       "...                                                 ...  \n",
       "1784             GainLossOnSaleOfPropertyPlantEquipment  \n",
       "2159                              GainLossOnInvestments  \n",
       "2494  DisposalGroupNotDiscontinuedOperationGainLossO...  \n",
       "2660                    DeferredIncomeTaxExpenseBenefit  \n",
       "6021                       ProvisionForDoubtfulAccounts  \n",
       "\n",
       "[4827 rows x 9 columns]"
      ]
     },
     "execution_count": 273,
     "metadata": {},
     "output_type": "execute_result"
    }
   ],
   "source": [
    "df_train"
   ]
  },
  {
   "cell_type": "code",
   "execution_count": 274,
   "id": "28252c38",
   "metadata": {
    "ExecuteTime": {
     "end_time": "2023-06-08T01:51:18.787986Z",
     "start_time": "2023-06-08T01:51:18.773023Z"
    }
   },
   "outputs": [],
   "source": [
    "# select columns\n",
    "df_train = df_train[[\"plabel_proc\"] + [\"y_pred_broad_cat\"] + [\"disagg_level\"] + list(df_train.filter(regex=\"tag_\\d+_pred$\").columns) +\n",
    "                       list(df_train.filter(regex=\"interact\").columns) + list(df_train.filter(regex=\"presence\").columns) + [\"tag\"] + [\"tag_\"+str(current_disagg)]]"
   ]
  },
  {
   "cell_type": "code",
   "execution_count": 275,
   "id": "de682f0b",
   "metadata": {
    "ExecuteTime": {
     "end_time": "2023-06-08T01:51:18.819901Z",
     "start_time": "2023-06-08T01:51:18.788984Z"
    }
   },
   "outputs": [
    {
     "data": {
      "text/plain": [
       "plabel_proc         0\n",
       "y_pred_broad_cat    0\n",
       "disagg_level        0\n",
       "tag                 0\n",
       "tag_4               0\n",
       "dtype: int64"
      ]
     },
     "metadata": {},
     "output_type": "display_data"
    },
    {
     "name": "stdout",
     "output_type": "stream",
     "text": [
      "after dropping\n"
     ]
    },
    {
     "name": "stderr",
     "output_type": "stream",
     "text": [
      "C:\\Users\\gbatt\\AppData\\Local\\Temp\\ipykernel_19856\\1395124636.py:4: SettingWithCopyWarning: \n",
      "A value is trying to be set on a copy of a slice from a DataFrame\n",
      "\n",
      "See the caveats in the documentation: https://pandas.pydata.org/pandas-docs/stable/user_guide/indexing.html#returning-a-view-versus-a-copy\n",
      "  df_train.dropna(subset = list(df_train.filter(regex=\"tag_\\d+_pred$\").columns), inplace = True)\n"
     ]
    },
    {
     "data": {
      "text/plain": [
       "plabel_proc         0\n",
       "y_pred_broad_cat    0\n",
       "disagg_level        0\n",
       "tag                 0\n",
       "tag_4               0\n",
       "dtype: int64"
      ]
     },
     "metadata": {},
     "output_type": "display_data"
    }
   ],
   "source": [
    "# drop nulls\n",
    "\n",
    "display(df_train.isnull().sum())\n",
    "df_train.dropna(subset = list(df_train.filter(regex=\"tag_\\d+_pred$\").columns), inplace = True)\n",
    "print(\"after dropping\")\n",
    "display(df_train.isnull().sum())"
   ]
  },
  {
   "cell_type": "code",
   "execution_count": 276,
   "id": "0987fc0b",
   "metadata": {
    "ExecuteTime": {
     "end_time": "2023-06-08T01:51:18.835858Z",
     "start_time": "2023-06-08T01:51:18.821895Z"
    }
   },
   "outputs": [],
   "source": [
    "# Get X_train, y_train, X_test, y_test for current disaggregation\n",
    "\n",
    "X_train = df_train[[\"plabel_proc\"] + [\"y_pred_broad_cat\"] + [\"disagg_level\"] + list(df_train.filter(regex=\"tag_\\d+_pred$\").columns) +\n",
    "                       list(df_train.filter(regex=\"interact\").columns) + list(df_train.filter(regex=\"presence\").columns)]\n",
    "\n",
    "y_train = df_train[[\"tag_\"+str(current_disagg)]]\n",
    "\n",
    "X_test = df_test[[\"plabel_proc\"] + [\"y_pred_broad_cat\"] + [\"disagg_level\"] + list(df_train.filter(regex=\"tag_\\d+_pred$\").columns) +\n",
    "                       list(df_test.filter(regex=\"interact\").columns) + list(df_test.filter(regex=\"presence\").columns)]\n",
    "\n",
    "y_test = df_test[[\"tag_\"+str(current_disagg)]]"
   ]
  },
  {
   "cell_type": "markdown",
   "id": "c588ac29",
   "metadata": {},
   "source": [
    "# Oversample for Cross Validation"
   ]
  },
  {
   "cell_type": "markdown",
   "id": "3c7ae4b8",
   "metadata": {
    "ExecuteTime": {
     "end_time": "2023-03-29T16:39:58.703888Z",
     "start_time": "2023-03-29T16:39:58.687422Z"
    }
   },
   "source": [
    "We oversample again to make sure classes can be present across all n_splits of cross validation"
   ]
  },
  {
   "cell_type": "code",
   "execution_count": 277,
   "id": "ba45296c",
   "metadata": {
    "ExecuteTime": {
     "end_time": "2023-06-08T01:51:18.851816Z",
     "start_time": "2023-06-08T01:51:18.836855Z"
    }
   },
   "outputs": [],
   "source": [
    "# Combine dataframe\n",
    "df_train = pd.concat([X_train, y_train], axis = 1)"
   ]
  },
  {
   "cell_type": "code",
   "execution_count": 278,
   "id": "6876c1c2",
   "metadata": {
    "ExecuteTime": {
     "end_time": "2023-06-08T01:51:18.866784Z",
     "start_time": "2023-06-08T01:51:18.852814Z"
    }
   },
   "outputs": [
    {
     "data": {
      "text/plain": [
       "GainsLossesOnExtinguishmentOfDebt                                                        678\n",
       "GainLossOnSaleOfPropertyPlantEquipment                                                   674\n",
       "IncomeLossFromEquityMethodInvestmentsNetOfDividendsOrDistributions                       619\n",
       "ProvisionForDoubtfulAccounts                                                             560\n",
       "RestructuringCostsAndAssetImpairmentCharges                                              432\n",
       "GainLossOnInvestments                                                                    320\n",
       "InventoryWriteDown                                                                       293\n",
       "ForeignCurrencyTransactionGainLossUnrealized                                             286\n",
       "DeferredIncomeTaxesAndTaxCredits                                                         216\n",
       "DisposalGroupNotDiscontinuedOperationGainLossOnDisposal                                  156\n",
       "DebtInstrumentConvertibleBeneficialConversionFeature                                      96\n",
       "GainLossOnSaleOfDerivatives                                                               87\n",
       "GainLossOnDispositionOfIntangibleAssets                                                   83\n",
       "ResearchAndDevelopmentInProcess                                                           58\n",
       "GainLossOnContractTermination                                                             46\n",
       "DepreciationDepletionAndAmortization                                                      44\n",
       "ProvisionForLoanLeaseAndOtherLosses                                                       43\n",
       "BusinessCombinationBargainPurchaseGainRecognizedAmount                                    40\n",
       "ProductWarrantyExpense                                                                    18\n",
       "AccretionExpenseIncludingAssetRetirementObligations                                       17\n",
       "LossContingencyLossInPeriod                                                               14\n",
       "EnvironmentalExpenseAndLiabilities                                                        11\n",
       "GainLossOnSaleOfPreviouslyUnissuedStockBySubsidiaryOrEquityInvesteeNonoperatingIncome      9\n",
       "GainLossOnSaleOfLoansAndLeases                                                             8\n",
       "GainLossOnCondemnation                                                                     7\n",
       "RecapitalizationCosts                                                                      6\n",
       "PublicUtilitiesAllowanceForFundsUsedDuringConstructionAdditions                            3\n",
       "LeveragedLeasesIncomeStatementNetIncomeFromLeveragedLeases                                 2\n",
       "CarryingCostsPropertyAndExplorationRights                                                  1\n",
       "Name: tag_4, dtype: int64"
      ]
     },
     "execution_count": 278,
     "metadata": {},
     "output_type": "execute_result"
    }
   ],
   "source": [
    "#check tag frequency for current disaggregation levels\n",
    "\n",
    "df_train[\"tag_\"+str(current_disagg)].value_counts()"
   ]
  },
  {
   "cell_type": "markdown",
   "id": "b57cef52",
   "metadata": {},
   "source": [
    "We oversample to make sure frequency of all classes is atleast equal to n_splits (5 in our case since we use 5 fold cross validation)"
   ]
  },
  {
   "cell_type": "code",
   "execution_count": 279,
   "id": "76b5c02d",
   "metadata": {
    "ExecuteTime": {
     "end_time": "2023-06-08T01:51:18.882778Z",
     "start_time": "2023-06-08T01:51:18.867781Z"
    }
   },
   "outputs": [],
   "source": [
    "#classes to train on\n",
    "\n",
    "classes_under = list(df_train[\"tag_\"+str(current_disagg)].\\\n",
    "                     value_counts()[df_train[\"tag_\"+str(current_disagg)].value_counts() < 5].index)"
   ]
  },
  {
   "cell_type": "code",
   "execution_count": 280,
   "id": "530c4f11",
   "metadata": {
    "ExecuteTime": {
     "end_time": "2023-06-08T01:51:18.898735Z",
     "start_time": "2023-06-08T01:51:18.883795Z"
    }
   },
   "outputs": [
    {
     "data": {
      "text/plain": [
       "(6, 4)"
      ]
     },
     "execution_count": 280,
     "metadata": {},
     "output_type": "execute_result"
    }
   ],
   "source": [
    "# Check number of records that have classes less than 5\n",
    "\n",
    "df_train[df_train[\"tag_\"+str(current_disagg)].isin(classes_under)].shape"
   ]
  },
  {
   "cell_type": "code",
   "execution_count": 190,
   "id": "d11ac4d9",
   "metadata": {
    "ExecuteTime": {
     "end_time": "2023-06-08T01:51:18.914692Z",
     "start_time": "2023-06-08T01:51:18.899733Z"
    }
   },
   "outputs": [
    {
     "data": {
      "text/plain": [
       "(4827, 5)"
      ]
     },
     "execution_count": 190,
     "metadata": {},
     "output_type": "execute_result"
    }
   ],
   "source": [
    "# Check shape\n",
    "df_train.shape"
   ]
  },
  {
   "cell_type": "code",
   "execution_count": 281,
   "id": "b9b9df18",
   "metadata": {
    "ExecuteTime": {
     "end_time": "2023-06-08T01:51:18.978039Z",
     "start_time": "2023-06-08T01:51:18.915690Z"
    },
    "scrolled": true
   },
   "outputs": [
    {
     "name": "stdout",
     "output_type": "stream",
     "text": [
      "PublicUtilitiesAllowanceForFundsUsedDuringConstructionAdditions\n",
      "LeveragedLeasesIncomeStatementNetIncomeFromLeveragedLeases\n",
      "CarryingCostsPropertyAndExplorationRights\n"
     ]
    },
    {
     "data": {
      "text/html": [
       "<div>\n",
       "<style scoped>\n",
       "    .dataframe tbody tr th:only-of-type {\n",
       "        vertical-align: middle;\n",
       "    }\n",
       "\n",
       "    .dataframe tbody tr th {\n",
       "        vertical-align: top;\n",
       "    }\n",
       "\n",
       "    .dataframe thead th {\n",
       "        text-align: right;\n",
       "    }\n",
       "</style>\n",
       "<table border=\"1\" class=\"dataframe\">\n",
       "  <thead>\n",
       "    <tr style=\"text-align: right;\">\n",
       "      <th></th>\n",
       "      <th>plabel_proc</th>\n",
       "      <th>y_pred_broad_cat</th>\n",
       "      <th>disagg_level</th>\n",
       "      <th>tag_4</th>\n",
       "    </tr>\n",
       "  </thead>\n",
       "  <tbody>\n",
       "    <tr>\n",
       "      <th>66</th>\n",
       "      <td>allowance for funds used during construction</td>\n",
       "      <td>3</td>\n",
       "      <td>4.0</td>\n",
       "      <td>PublicUtilitiesAllowanceForFundsUsedDuringCons...</td>\n",
       "    </tr>\n",
       "    <tr>\n",
       "      <th>64</th>\n",
       "      <td>allowance for equity funds used during constru...</td>\n",
       "      <td>1</td>\n",
       "      <td>4.0</td>\n",
       "      <td>PublicUtilitiesAllowanceForFundsUsedDuringCons...</td>\n",
       "    </tr>\n",
       "    <tr>\n",
       "      <th>66</th>\n",
       "      <td>allowance for funds used during construction</td>\n",
       "      <td>3</td>\n",
       "      <td>4.0</td>\n",
       "      <td>PublicUtilitiesAllowanceForFundsUsedDuringCons...</td>\n",
       "    </tr>\n",
       "    <tr>\n",
       "      <th>66</th>\n",
       "      <td>allowance for funds used during construction</td>\n",
       "      <td>3</td>\n",
       "      <td>4.0</td>\n",
       "      <td>PublicUtilitiesAllowanceForFundsUsedDuringCons...</td>\n",
       "    </tr>\n",
       "    <tr>\n",
       "      <th>64</th>\n",
       "      <td>allowance for equity funds used during constru...</td>\n",
       "      <td>1</td>\n",
       "      <td>4.0</td>\n",
       "      <td>PublicUtilitiesAllowanceForFundsUsedDuringCons...</td>\n",
       "    </tr>\n",
       "  </tbody>\n",
       "</table>\n",
       "</div>"
      ],
      "text/plain": [
       "                                          plabel_proc  y_pred_broad_cat  \\\n",
       "66       allowance for funds used during construction                 3   \n",
       "64  allowance for equity funds used during constru...                 1   \n",
       "66       allowance for funds used during construction                 3   \n",
       "66       allowance for funds used during construction                 3   \n",
       "64  allowance for equity funds used during constru...                 1   \n",
       "\n",
       "    disagg_level                                              tag_4  \n",
       "66           4.0  PublicUtilitiesAllowanceForFundsUsedDuringCons...  \n",
       "64           4.0  PublicUtilitiesAllowanceForFundsUsedDuringCons...  \n",
       "66           4.0  PublicUtilitiesAllowanceForFundsUsedDuringCons...  \n",
       "66           4.0  PublicUtilitiesAllowanceForFundsUsedDuringCons...  \n",
       "64           4.0  PublicUtilitiesAllowanceForFundsUsedDuringCons...  "
      ]
     },
     "metadata": {},
     "output_type": "display_data"
    },
    {
     "data": {
      "text/html": [
       "<div>\n",
       "<style scoped>\n",
       "    .dataframe tbody tr th:only-of-type {\n",
       "        vertical-align: middle;\n",
       "    }\n",
       "\n",
       "    .dataframe tbody tr th {\n",
       "        vertical-align: top;\n",
       "    }\n",
       "\n",
       "    .dataframe thead th {\n",
       "        text-align: right;\n",
       "    }\n",
       "</style>\n",
       "<table border=\"1\" class=\"dataframe\">\n",
       "  <thead>\n",
       "    <tr style=\"text-align: right;\">\n",
       "      <th></th>\n",
       "      <th>plabel_proc</th>\n",
       "      <th>y_pred_broad_cat</th>\n",
       "      <th>disagg_level</th>\n",
       "      <th>tag_4</th>\n",
       "    </tr>\n",
       "  </thead>\n",
       "  <tbody>\n",
       "    <tr>\n",
       "      <th>2823</th>\n",
       "      <td>regulatory assets liabilities carrying cost</td>\n",
       "      <td>3</td>\n",
       "      <td>4.0</td>\n",
       "      <td>CarryingCostsPropertyAndExplorationRights</td>\n",
       "    </tr>\n",
       "    <tr>\n",
       "      <th>2823</th>\n",
       "      <td>regulatory assets liabilities carrying cost</td>\n",
       "      <td>3</td>\n",
       "      <td>4.0</td>\n",
       "      <td>CarryingCostsPropertyAndExplorationRights</td>\n",
       "    </tr>\n",
       "    <tr>\n",
       "      <th>2823</th>\n",
       "      <td>regulatory assets liabilities carrying cost</td>\n",
       "      <td>3</td>\n",
       "      <td>4.0</td>\n",
       "      <td>CarryingCostsPropertyAndExplorationRights</td>\n",
       "    </tr>\n",
       "    <tr>\n",
       "      <th>2823</th>\n",
       "      <td>regulatory assets liabilities carrying cost</td>\n",
       "      <td>3</td>\n",
       "      <td>4.0</td>\n",
       "      <td>CarryingCostsPropertyAndExplorationRights</td>\n",
       "    </tr>\n",
       "    <tr>\n",
       "      <th>2823</th>\n",
       "      <td>regulatory assets liabilities carrying cost</td>\n",
       "      <td>3</td>\n",
       "      <td>4.0</td>\n",
       "      <td>CarryingCostsPropertyAndExplorationRights</td>\n",
       "    </tr>\n",
       "  </tbody>\n",
       "</table>\n",
       "</div>"
      ],
      "text/plain": [
       "                                      plabel_proc  y_pred_broad_cat  \\\n",
       "2823  regulatory assets liabilities carrying cost                 3   \n",
       "2823  regulatory assets liabilities carrying cost                 3   \n",
       "2823  regulatory assets liabilities carrying cost                 3   \n",
       "2823  regulatory assets liabilities carrying cost                 3   \n",
       "2823  regulatory assets liabilities carrying cost                 3   \n",
       "\n",
       "      disagg_level                                      tag_4  \n",
       "2823           4.0  CarryingCostsPropertyAndExplorationRights  \n",
       "2823           4.0  CarryingCostsPropertyAndExplorationRights  \n",
       "2823           4.0  CarryingCostsPropertyAndExplorationRights  \n",
       "2823           4.0  CarryingCostsPropertyAndExplorationRights  \n",
       "2823           4.0  CarryingCostsPropertyAndExplorationRights  "
      ]
     },
     "metadata": {},
     "output_type": "display_data"
    }
   ],
   "source": [
    "# get dataframes\n",
    "\n",
    "## other classes\n",
    "df_classes_other = df_train[~df_train[\"tag_\"+str(current_disagg)].isin(classes_under)]\n",
    "\n",
    "## classes needing treatment\n",
    "df_classes_under = pd.DataFrame()\n",
    "min_count = 5\n",
    "for x in classes_under:\n",
    "    print(x)\n",
    "    df1 = df_train[df_train[\"tag_\"+str(current_disagg)] == x]\n",
    "    df1_resampled = df1.sample(min_count, replace=True)\n",
    "    \n",
    "    df_classes_under = pd.concat([df_classes_under, df1_resampled], axis = 0)\n",
    "    \n",
    "display(df_classes_under.head())\n",
    "\n",
    "## get new dataframe\n",
    "\n",
    "df_train_resampled = pd.concat([df_classes_other, df_classes_under], axis = 0)\n",
    "\n",
    "display(df_train_resampled.tail())"
   ]
  },
  {
   "cell_type": "code",
   "execution_count": 282,
   "id": "157887d7",
   "metadata": {
    "ExecuteTime": {
     "end_time": "2023-06-08T01:51:18.993997Z",
     "start_time": "2023-06-08T01:51:18.979037Z"
    }
   },
   "outputs": [
    {
     "data": {
      "text/plain": [
       "(4836, 4)"
      ]
     },
     "execution_count": 282,
     "metadata": {},
     "output_type": "execute_result"
    }
   ],
   "source": [
    "# check resampled shape\n",
    "\n",
    "df_train_resampled.shape"
   ]
  },
  {
   "cell_type": "code",
   "execution_count": 283,
   "id": "580a6184",
   "metadata": {
    "ExecuteTime": {
     "end_time": "2023-06-08T01:51:19.009955Z",
     "start_time": "2023-06-08T01:51:18.994995Z"
    }
   },
   "outputs": [],
   "source": [
    "# Split into X_train and y_train\n",
    "\n",
    "X_train = df_train_resampled.drop([\"tag_\"+str(current_disagg)], axis = 1)\n",
    "y_train = df_train_resampled[[\"tag_\"+str(current_disagg)]].copy()"
   ]
  },
  {
   "cell_type": "markdown",
   "id": "bf53c75b",
   "metadata": {},
   "source": [
    "# Vectorizer"
   ]
  },
  {
   "cell_type": "markdown",
   "id": "66ed00aa",
   "metadata": {},
   "source": [
    "We use TF-IDF for this"
   ]
  },
  {
   "cell_type": "code",
   "execution_count": 284,
   "id": "f5d699ac",
   "metadata": {
    "ExecuteTime": {
     "end_time": "2023-06-08T01:51:19.112379Z",
     "start_time": "2023-06-08T01:51:19.010951Z"
    }
   },
   "outputs": [],
   "source": [
    "# Vectorize the text column\n",
    "td = TfidfVectorizer(max_features=10000)\n",
    "X_train_dtm = td.fit_transform(X_train[\"plabel_proc\"])\n",
    "X_test_dtm = td.transform(X_test[\"plabel_proc\"])"
   ]
  },
  {
   "cell_type": "markdown",
   "id": "645d2d4a",
   "metadata": {},
   "source": [
    "## Export Vectorizer"
   ]
  },
  {
   "cell_type": "code",
   "execution_count": 285,
   "id": "ebebd574",
   "metadata": {
    "ExecuteTime": {
     "end_time": "2023-06-08T01:51:19.127339Z",
     "start_time": "2023-06-08T01:51:19.113376Z"
    }
   },
   "outputs": [
    {
     "name": "stdout",
     "output_type": "stream",
     "text": [
      "Model is saved into to disk successfully Using Pickle\n"
     ]
    }
   ],
   "source": [
    "# Export vectorizer\n",
    "\n",
    "object_filename = \"tfidf_disagg_\"+str(current_disagg)+\".sav\"\n",
    "saved_model = pickle.dump(td, open(object_filename,'wb'))\n",
    "print('Model is saved into to disk successfully Using Pickle')\n"
   ]
  },
  {
   "cell_type": "markdown",
   "id": "43185ccb",
   "metadata": {},
   "source": [
    "## Add features"
   ]
  },
  {
   "cell_type": "code",
   "execution_count": 286,
   "id": "8c104485",
   "metadata": {
    "ExecuteTime": {
     "end_time": "2023-06-08T01:51:19.142300Z",
     "start_time": "2023-06-08T01:51:19.128337Z"
    }
   },
   "outputs": [
    {
     "data": {
      "text/plain": [
       "(4836, 986)"
      ]
     },
     "metadata": {},
     "output_type": "display_data"
    },
    {
     "data": {
      "text/plain": [
       "[('provision', 711),\n",
       " ('for', 363),\n",
       " ('doubtful', 282),\n",
       " ('accounts', 9),\n",
       " ('and', 59)]"
      ]
     },
     "execution_count": 286,
     "metadata": {},
     "output_type": "execute_result"
    }
   ],
   "source": [
    "# Check number of tokens\n",
    "\n",
    "display(X_train_dtm.shape)\n",
    "\n",
    "# Some examples\n",
    "list(td.vocabulary_.items())[:5]"
   ]
  },
  {
   "cell_type": "code",
   "execution_count": 287,
   "id": "e6383cf0",
   "metadata": {
    "ExecuteTime": {
     "end_time": "2023-06-08T01:51:19.163527Z",
     "start_time": "2023-06-08T01:51:19.143296Z"
    }
   },
   "outputs": [],
   "source": [
    "# Preprocess additional features\n",
    "\n",
    "## training set\n",
    "X_train_add_features = X_train[[\"y_pred_broad_cat\"] + list(df_train.filter(regex=\"tag_\\d+_pred$\").columns) +\n",
    "                               list(df_focus_resampled.filter(regex=\"interact\").columns) + \n",
    "                               list(df_focus_resampled.filter(regex=\"presence\").columns)]\n",
    "X_train_add_features_sparse = csr_matrix(X_train_add_features.to_numpy())  # convert to numpy first, then sparse matrix\n",
    "X_train_modeling = hstack([X_train_dtm, X_train_add_features_sparse])  # concatenate sparse matrix\n",
    "\n",
    "## testing set\n",
    "X_test_add_features = X_test[[\"y_pred_broad_cat\"] + list(df_train.filter(regex=\"tag_\\d+_pred$\").columns) +\n",
    "                             list(df_focus_resampled.filter(regex = \"interact\").columns) + \n",
    "                             list(df_focus_resampled.filter(regex=\"presence\").columns)]\n",
    "X_test_add_features_sparse = csr_matrix(X_test_add_features.to_numpy()) # convert to numpy first, then sparse matrix\n",
    "X_test_modeling = hstack([X_test_dtm, X_test_add_features_sparse]) # concatenate sparse matrix"
   ]
  },
  {
   "cell_type": "code",
   "execution_count": 288,
   "id": "abb42080",
   "metadata": {
    "ExecuteTime": {
     "end_time": "2023-06-08T01:51:19.179000Z",
     "start_time": "2023-06-08T01:51:19.164524Z"
    }
   },
   "outputs": [
    {
     "data": {
      "text/plain": [
       "({'ProvisionForDoubtfulAccounts': 0,\n",
       "  'RestructuringCostsAndAssetImpairmentCharges': 1,\n",
       "  'GainLossOnSaleOfPropertyPlantEquipment': 2,\n",
       "  'IncomeLossFromEquityMethodInvestmentsNetOfDividendsOrDistributions': 3,\n",
       "  'DisposalGroupNotDiscontinuedOperationGainLossOnDisposal': 4,\n",
       "  'GainLossOnInvestments': 5,\n",
       "  'GainsLossesOnExtinguishmentOfDebt': 6,\n",
       "  'ProvisionForLoanLeaseAndOtherLosses': 7,\n",
       "  'DebtInstrumentConvertibleBeneficialConversionFeature': 8,\n",
       "  'InventoryWriteDown': 9,\n",
       "  'ForeignCurrencyTransactionGainLossUnrealized': 10,\n",
       "  'GainLossOnDispositionOfIntangibleAssets': 11,\n",
       "  'DeferredIncomeTaxesAndTaxCredits': 12,\n",
       "  'GainLossOnSaleOfDerivatives': 13,\n",
       "  'GainLossOnSaleOfPreviouslyUnissuedStockBySubsidiaryOrEquityInvesteeNonoperatingIncome': 14,\n",
       "  'LeveragedLeasesIncomeStatementNetIncomeFromLeveragedLeases': 15,\n",
       "  'ProductWarrantyExpense': 16,\n",
       "  'DepreciationDepletionAndAmortization': 17,\n",
       "  'GainLossOnContractTermination': 18,\n",
       "  'LossContingencyLossInPeriod': 19,\n",
       "  'RecapitalizationCosts': 20,\n",
       "  'ResearchAndDevelopmentInProcess': 21,\n",
       "  'BusinessCombinationBargainPurchaseGainRecognizedAmount': 22,\n",
       "  'AccretionExpenseIncludingAssetRetirementObligations': 23,\n",
       "  'EnvironmentalExpenseAndLiabilities': 24,\n",
       "  'PublicUtilitiesAllowanceForFundsUsedDuringConstructionAdditions': 25,\n",
       "  'GainLossOnSaleOfLoansAndLeases': 26,\n",
       "  'CarryingCostsPropertyAndExplorationRights': 27,\n",
       "  'GainLossOnCondemnation': 28},\n",
       " {0: 'ProvisionForDoubtfulAccounts',\n",
       "  1: 'RestructuringCostsAndAssetImpairmentCharges',\n",
       "  2: 'GainLossOnSaleOfPropertyPlantEquipment',\n",
       "  3: 'IncomeLossFromEquityMethodInvestmentsNetOfDividendsOrDistributions',\n",
       "  4: 'DisposalGroupNotDiscontinuedOperationGainLossOnDisposal',\n",
       "  5: 'GainLossOnInvestments',\n",
       "  6: 'GainsLossesOnExtinguishmentOfDebt',\n",
       "  7: 'ProvisionForLoanLeaseAndOtherLosses',\n",
       "  8: 'DebtInstrumentConvertibleBeneficialConversionFeature',\n",
       "  9: 'InventoryWriteDown',\n",
       "  10: 'ForeignCurrencyTransactionGainLossUnrealized',\n",
       "  11: 'GainLossOnDispositionOfIntangibleAssets',\n",
       "  12: 'DeferredIncomeTaxesAndTaxCredits',\n",
       "  13: 'GainLossOnSaleOfDerivatives',\n",
       "  14: 'GainLossOnSaleOfPreviouslyUnissuedStockBySubsidiaryOrEquityInvesteeNonoperatingIncome',\n",
       "  15: 'LeveragedLeasesIncomeStatementNetIncomeFromLeveragedLeases',\n",
       "  16: 'ProductWarrantyExpense',\n",
       "  17: 'DepreciationDepletionAndAmortization',\n",
       "  18: 'GainLossOnContractTermination',\n",
       "  19: 'LossContingencyLossInPeriod',\n",
       "  20: 'RecapitalizationCosts',\n",
       "  21: 'ResearchAndDevelopmentInProcess',\n",
       "  22: 'BusinessCombinationBargainPurchaseGainRecognizedAmount',\n",
       "  23: 'AccretionExpenseIncludingAssetRetirementObligations',\n",
       "  24: 'EnvironmentalExpenseAndLiabilities',\n",
       "  25: 'PublicUtilitiesAllowanceForFundsUsedDuringConstructionAdditions',\n",
       "  26: 'GainLossOnSaleOfLoansAndLeases',\n",
       "  27: 'CarryingCostsPropertyAndExplorationRights',\n",
       "  28: 'GainLossOnCondemnation'})"
      ]
     },
     "execution_count": 288,
     "metadata": {},
     "output_type": "execute_result"
    }
   ],
   "source": [
    "# Get label dictionary for future mapping\n",
    "labels_to_ids = {}\n",
    "ids_to_labels = {}\n",
    "for i, label in enumerate(df_train_og['tag_'+str(current_disagg)].dropna().unique()):\n",
    "    labels_to_ids[label] = i\n",
    "    ids_to_labels[i] = label\n",
    "\n",
    "labels_to_ids, ids_to_labels"
   ]
  },
  {
   "cell_type": "markdown",
   "id": "b08532c1",
   "metadata": {},
   "source": [
    "## Export labels"
   ]
  },
  {
   "cell_type": "code",
   "execution_count": 289,
   "id": "96ee99ae",
   "metadata": {
    "ExecuteTime": {
     "end_time": "2023-06-08T01:51:19.194956Z",
     "start_time": "2023-06-08T01:51:19.179997Z"
    }
   },
   "outputs": [
    {
     "name": "stdout",
     "output_type": "stream",
     "text": [
      "Model is saved into to disk successfully Using Pickle\n",
      "Model is saved into to disk successfully Using Pickle\n"
     ]
    }
   ],
   "source": [
    "# Export labels\n",
    "\n",
    "object_filename = \"labels_to_ids_\"+str(current_disagg)+\".sav\"\n",
    "saved_model = pickle.dump(labels_to_ids, open(object_filename,'wb'))\n",
    "print('Model is saved into to disk successfully Using Pickle')\n",
    "\n",
    "object_filename = \"ids_to_labels_\"+str(current_disagg)+\".sav\"\n",
    "saved_model = pickle.dump(ids_to_labels, open(object_filename,'wb'))\n",
    "print('Model is saved into to disk successfully Using Pickle')"
   ]
  },
  {
   "cell_type": "markdown",
   "id": "2a141f4c",
   "metadata": {},
   "source": [
    "## Get label names"
   ]
  },
  {
   "cell_type": "code",
   "execution_count": 290,
   "id": "2ce99d58",
   "metadata": {
    "ExecuteTime": {
     "end_time": "2023-06-08T01:51:19.210914Z",
     "start_time": "2023-06-08T01:51:19.195956Z"
    }
   },
   "outputs": [],
   "source": [
    "# get label names\n",
    "labelnames = [str(x) for x in list(labels_to_ids.keys())]"
   ]
  },
  {
   "cell_type": "code",
   "execution_count": 291,
   "id": "fdf581df",
   "metadata": {
    "ExecuteTime": {
     "end_time": "2023-06-08T01:51:19.226871Z",
     "start_time": "2023-06-08T01:51:19.211912Z"
    }
   },
   "outputs": [
    {
     "data": {
      "text/plain": [
       "array([ 0,  1,  2, ..., 27, 27, 27], dtype=int64)"
      ]
     },
     "execution_count": 291,
     "metadata": {},
     "output_type": "execute_result"
    }
   ],
   "source": [
    "# map training y\n",
    "y_train = y_train['tag_'+str(current_disagg)].map(labels_to_ids).values\n",
    "y_train"
   ]
  },
  {
   "cell_type": "code",
   "execution_count": 292,
   "id": "b0d7702c",
   "metadata": {
    "ExecuteTime": {
     "end_time": "2023-06-08T01:51:19.242829Z",
     "start_time": "2023-06-08T01:51:19.227869Z"
    }
   },
   "outputs": [
    {
     "data": {
      "text/plain": [
       "array([5, 1, 3, ..., 5, 6, 8], dtype=int64)"
      ]
     },
     "execution_count": 292,
     "metadata": {},
     "output_type": "execute_result"
    }
   ],
   "source": [
    "# map testing y\n",
    "\n",
    "y_test = y_test['tag_'+str(current_disagg)].map(labels_to_ids).values\n",
    "y_test"
   ]
  },
  {
   "cell_type": "markdown",
   "id": "a24882fd",
   "metadata": {},
   "source": [
    "# Cross Validation"
   ]
  },
  {
   "cell_type": "code",
   "execution_count": 293,
   "id": "a9e1b165",
   "metadata": {
    "ExecuteTime": {
     "end_time": "2023-06-08T01:54:15.976065Z",
     "start_time": "2023-06-08T01:51:19.243827Z"
    }
   },
   "outputs": [
    {
     "name": "stderr",
     "output_type": "stream",
     "text": [
      "c:\\Users\\gbatt\\miniconda3\\lib\\site-packages\\sklearn\\ensemble\\_weight_boosting.py:527: FutureWarning: The SAMME.R algorithm (the default) is deprecated and will be removed in 1.6. Use the SAMME algorithm to circumvent this warning.\n",
      "  warnings.warn(\n",
      "c:\\Users\\gbatt\\miniconda3\\lib\\site-packages\\sklearn\\ensemble\\_weight_boosting.py:527: FutureWarning: The SAMME.R algorithm (the default) is deprecated and will be removed in 1.6. Use the SAMME algorithm to circumvent this warning.\n",
      "  warnings.warn(\n",
      "c:\\Users\\gbatt\\miniconda3\\lib\\site-packages\\sklearn\\ensemble\\_weight_boosting.py:527: FutureWarning: The SAMME.R algorithm (the default) is deprecated and will be removed in 1.6. Use the SAMME algorithm to circumvent this warning.\n",
      "  warnings.warn(\n",
      "c:\\Users\\gbatt\\miniconda3\\lib\\site-packages\\sklearn\\ensemble\\_weight_boosting.py:527: FutureWarning: The SAMME.R algorithm (the default) is deprecated and will be removed in 1.6. Use the SAMME algorithm to circumvent this warning.\n",
      "  warnings.warn(\n",
      "c:\\Users\\gbatt\\miniconda3\\lib\\site-packages\\sklearn\\ensemble\\_weight_boosting.py:527: FutureWarning: The SAMME.R algorithm (the default) is deprecated and will be removed in 1.6. Use the SAMME algorithm to circumvent this warning.\n",
      "  warnings.warn(\n"
     ]
    },
    {
     "name": "stdout",
     "output_type": "stream",
     "text": [
      "CPU times: total: 19min 44s\n",
      "Wall time: 1min 2s\n"
     ]
    }
   ],
   "source": [
    "%%time\n",
    "## get model list\n",
    "models = [MultinomialNB(), DecisionTreeClassifier(), RandomForestClassifier(), XGBClassifier(), AdaBoostClassifier(), SVC()]\n",
    "\n",
    "## CV dataframe. splits = 5 set before stepwise modeling\n",
    "\n",
    "CV = StratifiedKFold(n_splits=splits)\n",
    "\n",
    "\n",
    "globals()[\"cv_df_tag_\"+str(current_disagg)] = pd.DataFrame(index=range(splits * len(models)))\n",
    "\n",
    "## update in loop\n",
    "entries = []\n",
    "for model in models:\n",
    "    model_name = model.__class__.__name__\n",
    "    accuracies = cross_val_score(model,\n",
    "                                 X_train_modeling,\n",
    "                                 y_train,\n",
    "                                 scoring='accuracy',\n",
    "                                 cv=CV)\n",
    "    for fold_idx, accuracy in enumerate(accuracies):\n",
    "        entries.append((model_name, fold_idx, accuracy))\n",
    "globals()[\"cv_df_tag_\"+str(current_disagg)] = pd.DataFrame(entries, columns=['model_name', 'fold_idx', 'accuracy'])"
   ]
  },
  {
   "cell_type": "code",
   "execution_count": 294,
   "id": "5146b99e",
   "metadata": {
    "ExecuteTime": {
     "end_time": "2023-06-08T01:54:16.134749Z",
     "start_time": "2023-06-08T01:54:15.976065Z"
    }
   },
   "outputs": [
    {
     "name": "stderr",
     "output_type": "stream",
     "text": [
      "C:\\Users\\gbatt\\AppData\\Local\\Temp\\ipykernel_19856\\3252306620.py:4: FutureWarning: Use \"auto\" to set automatic grayscale colors. From v0.14.0, \"gray\" will default to matplotlib's definition.\n",
      "  sns.stripplot(x='model_name',\n"
     ]
    },
    {
     "data": {
      "image/png": "[encoded data removed]",
      "text/plain": [
       "<Figure size 640x480 with 1 Axes>"
      ]
     },
     "metadata": {},
     "output_type": "display_data"
    }
   ],
   "source": [
    "# visualize models\n",
    "cv_df = globals()[\"cv_df_tag_\"+str(current_disagg)]\n",
    "sns.boxplot(x='model_name', y='accuracy', data=cv_df)\n",
    "sns.stripplot(x='model_name',\n",
    "              y='accuracy',\n",
    "              data=cv_df,\n",
    "              size=8,\n",
    "              jitter=True,\n",
    "              edgecolor=\"gray\",\n",
    "              linewidth=2)\n",
    "plt.show()"
   ]
  },
  {
   "cell_type": "code",
   "execution_count": 295,
   "id": "a1581eb0",
   "metadata": {
    "ExecuteTime": {
     "end_time": "2023-06-08T01:54:16.150709Z",
     "start_time": "2023-06-08T01:54:16.135747Z"
    }
   },
   "outputs": [
    {
     "data": {
      "text/html": [
       "<div>\n",
       "<style scoped>\n",
       "    .dataframe tbody tr th:only-of-type {\n",
       "        vertical-align: middle;\n",
       "    }\n",
       "\n",
       "    .dataframe tbody tr th {\n",
       "        vertical-align: top;\n",
       "    }\n",
       "\n",
       "    .dataframe thead th {\n",
       "        text-align: right;\n",
       "    }\n",
       "</style>\n",
       "<table border=\"1\" class=\"dataframe\">\n",
       "  <thead>\n",
       "    <tr style=\"text-align: right;\">\n",
       "      <th></th>\n",
       "      <th>model_name</th>\n",
       "      <th>fold_idx</th>\n",
       "      <th>accuracy</th>\n",
       "    </tr>\n",
       "  </thead>\n",
       "  <tbody>\n",
       "    <tr>\n",
       "      <th>0</th>\n",
       "      <td>MultinomialNB</td>\n",
       "      <td>0</td>\n",
       "      <td>0.768595</td>\n",
       "    </tr>\n",
       "    <tr>\n",
       "      <th>1</th>\n",
       "      <td>MultinomialNB</td>\n",
       "      <td>1</td>\n",
       "      <td>0.773526</td>\n",
       "    </tr>\n",
       "    <tr>\n",
       "      <th>2</th>\n",
       "      <td>MultinomialNB</td>\n",
       "      <td>2</td>\n",
       "      <td>0.755946</td>\n",
       "    </tr>\n",
       "    <tr>\n",
       "      <th>3</th>\n",
       "      <td>MultinomialNB</td>\n",
       "      <td>3</td>\n",
       "      <td>0.769390</td>\n",
       "    </tr>\n",
       "    <tr>\n",
       "      <th>4</th>\n",
       "      <td>MultinomialNB</td>\n",
       "      <td>4</td>\n",
       "      <td>0.778697</td>\n",
       "    </tr>\n",
       "    <tr>\n",
       "      <th>5</th>\n",
       "      <td>DecisionTreeClassifier</td>\n",
       "      <td>0</td>\n",
       "      <td>0.792355</td>\n",
       "    </tr>\n",
       "    <tr>\n",
       "      <th>6</th>\n",
       "      <td>DecisionTreeClassifier</td>\n",
       "      <td>1</td>\n",
       "      <td>0.796277</td>\n",
       "    </tr>\n",
       "    <tr>\n",
       "      <th>7</th>\n",
       "      <td>DecisionTreeClassifier</td>\n",
       "      <td>2</td>\n",
       "      <td>0.805584</td>\n",
       "    </tr>\n",
       "    <tr>\n",
       "      <th>8</th>\n",
       "      <td>DecisionTreeClassifier</td>\n",
       "      <td>3</td>\n",
       "      <td>0.811789</td>\n",
       "    </tr>\n",
       "    <tr>\n",
       "      <th>9</th>\n",
       "      <td>DecisionTreeClassifier</td>\n",
       "      <td>4</td>\n",
       "      <td>0.820062</td>\n",
       "    </tr>\n",
       "    <tr>\n",
       "      <th>10</th>\n",
       "      <td>RandomForestClassifier</td>\n",
       "      <td>0</td>\n",
       "      <td>0.856405</td>\n",
       "    </tr>\n",
       "    <tr>\n",
       "      <th>11</th>\n",
       "      <td>RandomForestClassifier</td>\n",
       "      <td>1</td>\n",
       "      <td>0.856256</td>\n",
       "    </tr>\n",
       "    <tr>\n",
       "      <th>12</th>\n",
       "      <td>RandomForestClassifier</td>\n",
       "      <td>2</td>\n",
       "      <td>0.869700</td>\n",
       "    </tr>\n",
       "    <tr>\n",
       "      <th>13</th>\n",
       "      <td>RandomForestClassifier</td>\n",
       "      <td>3</td>\n",
       "      <td>0.861427</td>\n",
       "    </tr>\n",
       "    <tr>\n",
       "      <th>14</th>\n",
       "      <td>RandomForestClassifier</td>\n",
       "      <td>4</td>\n",
       "      <td>0.871768</td>\n",
       "    </tr>\n",
       "    <tr>\n",
       "      <th>15</th>\n",
       "      <td>XGBClassifier</td>\n",
       "      <td>0</td>\n",
       "      <td>0.849174</td>\n",
       "    </tr>\n",
       "    <tr>\n",
       "      <th>16</th>\n",
       "      <td>XGBClassifier</td>\n",
       "      <td>1</td>\n",
       "      <td>0.841779</td>\n",
       "    </tr>\n",
       "    <tr>\n",
       "      <th>17</th>\n",
       "      <td>XGBClassifier</td>\n",
       "      <td>2</td>\n",
       "      <td>0.845915</td>\n",
       "    </tr>\n",
       "    <tr>\n",
       "      <th>18</th>\n",
       "      <td>XGBClassifier</td>\n",
       "      <td>3</td>\n",
       "      <td>0.855222</td>\n",
       "    </tr>\n",
       "    <tr>\n",
       "      <th>19</th>\n",
       "      <td>XGBClassifier</td>\n",
       "      <td>4</td>\n",
       "      <td>0.861427</td>\n",
       "    </tr>\n",
       "    <tr>\n",
       "      <th>20</th>\n",
       "      <td>AdaBoostClassifier</td>\n",
       "      <td>0</td>\n",
       "      <td>0.242769</td>\n",
       "    </tr>\n",
       "    <tr>\n",
       "      <th>21</th>\n",
       "      <td>AdaBoostClassifier</td>\n",
       "      <td>1</td>\n",
       "      <td>0.245088</td>\n",
       "    </tr>\n",
       "    <tr>\n",
       "      <th>22</th>\n",
       "      <td>AdaBoostClassifier</td>\n",
       "      <td>2</td>\n",
       "      <td>0.241986</td>\n",
       "    </tr>\n",
       "    <tr>\n",
       "      <th>23</th>\n",
       "      <td>AdaBoostClassifier</td>\n",
       "      <td>3</td>\n",
       "      <td>0.246122</td>\n",
       "    </tr>\n",
       "    <tr>\n",
       "      <th>24</th>\n",
       "      <td>AdaBoostClassifier</td>\n",
       "      <td>4</td>\n",
       "      <td>0.249224</td>\n",
       "    </tr>\n",
       "    <tr>\n",
       "      <th>25</th>\n",
       "      <td>SVC</td>\n",
       "      <td>0</td>\n",
       "      <td>0.828512</td>\n",
       "    </tr>\n",
       "    <tr>\n",
       "      <th>26</th>\n",
       "      <td>SVC</td>\n",
       "      <td>1</td>\n",
       "      <td>0.824199</td>\n",
       "    </tr>\n",
       "    <tr>\n",
       "      <th>27</th>\n",
       "      <td>SVC</td>\n",
       "      <td>2</td>\n",
       "      <td>0.845915</td>\n",
       "    </tr>\n",
       "    <tr>\n",
       "      <th>28</th>\n",
       "      <td>SVC</td>\n",
       "      <td>3</td>\n",
       "      <td>0.826267</td>\n",
       "    </tr>\n",
       "    <tr>\n",
       "      <th>29</th>\n",
       "      <td>SVC</td>\n",
       "      <td>4</td>\n",
       "      <td>0.836608</td>\n",
       "    </tr>\n",
       "  </tbody>\n",
       "</table>\n",
       "</div>"
      ],
      "text/plain": [
       "                model_name  fold_idx  accuracy\n",
       "0            MultinomialNB         0  0.768595\n",
       "1            MultinomialNB         1  0.773526\n",
       "2            MultinomialNB         2  0.755946\n",
       "3            MultinomialNB         3  0.769390\n",
       "4            MultinomialNB         4  0.778697\n",
       "5   DecisionTreeClassifier         0  0.792355\n",
       "6   DecisionTreeClassifier         1  0.796277\n",
       "7   DecisionTreeClassifier         2  0.805584\n",
       "8   DecisionTreeClassifier         3  0.811789\n",
       "9   DecisionTreeClassifier         4  0.820062\n",
       "10  RandomForestClassifier         0  0.856405\n",
       "11  RandomForestClassifier         1  0.856256\n",
       "12  RandomForestClassifier         2  0.869700\n",
       "13  RandomForestClassifier         3  0.861427\n",
       "14  RandomForestClassifier         4  0.871768\n",
       "15           XGBClassifier         0  0.849174\n",
       "16           XGBClassifier         1  0.841779\n",
       "17           XGBClassifier         2  0.845915\n",
       "18           XGBClassifier         3  0.855222\n",
       "19           XGBClassifier         4  0.861427\n",
       "20      AdaBoostClassifier         0  0.242769\n",
       "21      AdaBoostClassifier         1  0.245088\n",
       "22      AdaBoostClassifier         2  0.241986\n",
       "23      AdaBoostClassifier         3  0.246122\n",
       "24      AdaBoostClassifier         4  0.249224\n",
       "25                     SVC         0  0.828512\n",
       "26                     SVC         1  0.824199\n",
       "27                     SVC         2  0.845915\n",
       "28                     SVC         3  0.826267\n",
       "29                     SVC         4  0.836608"
      ]
     },
     "metadata": {},
     "output_type": "display_data"
    },
    {
     "data": {
      "text/plain": [
       "'avg accuracy'"
      ]
     },
     "metadata": {},
     "output_type": "display_data"
    },
    {
     "data": {
      "text/plain": [
       "model_name\n",
       "AdaBoostClassifier        0.245038\n",
       "DecisionTreeClassifier    0.805214\n",
       "MultinomialNB             0.769231\n",
       "RandomForestClassifier    0.863111\n",
       "SVC                       0.832300\n",
       "XGBClassifier             0.850703\n",
       "Name: accuracy, dtype: float64"
      ]
     },
     "execution_count": 295,
     "metadata": {},
     "output_type": "execute_result"
    }
   ],
   "source": [
    "# View df\n",
    "\n",
    "display(cv_df)\n",
    "\n",
    "# Accuracy score\n",
    "display(\"avg accuracy\")\n",
    "cv_df.groupby('model_name').accuracy.mean()"
   ]
  },
  {
   "cell_type": "markdown",
   "id": "02c53d9e",
   "metadata": {},
   "source": [
    "**Notes: We use XGBoostClassifier since it gives the best (or second best) results and maintain consistency in modeling as such**"
   ]
  },
  {
   "cell_type": "markdown",
   "id": "6265a848",
   "metadata": {},
   "source": [
    "# Fit and Predict on Out of Sample Data"
   ]
  },
  {
   "cell_type": "code",
   "execution_count": 296,
   "id": "f540e3b2",
   "metadata": {
    "ExecuteTime": {
     "end_time": "2023-06-08T01:54:28.248813Z",
     "start_time": "2023-06-08T01:54:16.151705Z"
    }
   },
   "outputs": [],
   "source": [
    "# fit\n",
    "xgb = XGBClassifier().fit(X_train_modeling, y_train)"
   ]
  },
  {
   "cell_type": "code",
   "execution_count": 297,
   "id": "16e97af7",
   "metadata": {
    "ExecuteTime": {
     "end_time": "2023-06-08T01:54:28.450668Z",
     "start_time": "2023-06-08T01:54:28.248813Z"
    }
   },
   "outputs": [],
   "source": [
    "# predict test\n",
    "y_pred = xgb.predict(X_test_modeling)"
   ]
  },
  {
   "cell_type": "code",
   "execution_count": 298,
   "id": "5c38c745",
   "metadata": {
    "ExecuteTime": {
     "end_time": "2023-06-08T01:54:29.728520Z",
     "start_time": "2023-06-08T01:54:28.452662Z"
    }
   },
   "outputs": [
    {
     "data": {
      "image/png": "[encoded data removed]",
      "text/plain": [
       "<Figure size 1000x1000 with 2 Axes>"
      ]
     },
     "metadata": {},
     "output_type": "display_data"
    },
    {
     "name": "stdout",
     "output_type": "stream",
     "text": [
      "CPU times: total: 3.73 s\n",
      "Wall time: 855 ms\n"
     ]
    }
   ],
   "source": [
    "%%time\n",
    "conf_mat = confusion_matrix(y_test, y_pred)\n",
    "\n",
    "fig, ax = plt.subplots(figsize=(10, 10))\n",
    "sns.heatmap(conf_mat,\n",
    "            annot=False,\n",
    "            fmt='d',\n",
    "            xticklabels=range(len(labelnames)),\n",
    "            yticklabels=range(len(labelnames)))\n",
    "plt.ylabel('Actual')\n",
    "plt.xlabel('Predicted')\n",
    "plt.savefig(\"lvl2_confusion_matrix.png\")\n",
    "plt.show()"
   ]
  },
  {
   "cell_type": "markdown",
   "id": "4572c61c",
   "metadata": {},
   "source": [
    "**We update labelnames for result. It is possible that not all values from train are always present in test set. Not because of data imbalance. But because of wrong prediction, since we halt prediction for those values which have no further disaggregation possible**"
   ]
  },
  {
   "cell_type": "code",
   "execution_count": 299,
   "id": "c5aa9eec",
   "metadata": {
    "ExecuteTime": {
     "end_time": "2023-06-08T01:54:29.744477Z",
     "start_time": "2023-06-08T01:54:29.729518Z"
    }
   },
   "outputs": [],
   "source": [
    "# update labelnames for test\n",
    "\n",
    "vals_to_drop = list(set(labels_to_ids.values()) - set(y_test) - set(y_pred))\n",
    "\n",
    "labels_to_ids_result = {key:val for key, val in labels_to_ids.items() if val not in vals_to_drop}\n",
    "\n",
    "labelnames_result = [str(x) for x in list(labels_to_ids_result.keys())]"
   ]
  },
  {
   "cell_type": "code",
   "execution_count": 300,
   "id": "67811ada",
   "metadata": {
    "ExecuteTime": {
     "end_time": "2023-06-08T01:54:29.765779Z",
     "start_time": "2023-06-08T01:54:29.745474Z"
    }
   },
   "outputs": [
    {
     "name": "stdout",
     "output_type": "stream",
     "text": [
      "accuracy 0.8434026099565007\n",
      "                                                                                       precision    recall  f1-score   support\n",
      "\n",
      "                                                         ProvisionForDoubtfulAccounts       0.88      0.94      0.91       240\n",
      "                                          RestructuringCostsAndAssetImpairmentCharges       0.84      0.88      0.86       185\n",
      "                                               GainLossOnSaleOfPropertyPlantEquipment       0.80      0.86      0.83       289\n",
      "                   IncomeLossFromEquityMethodInvestmentsNetOfDividendsOrDistributions       0.92      0.92      0.92       266\n",
      "                              DisposalGroupNotDiscontinuedOperationGainLossOnDisposal       0.48      0.45      0.46        67\n",
      "                                                                GainLossOnInvestments       0.73      0.80      0.76       137\n",
      "                                                    GainsLossesOnExtinguishmentOfDebt       0.87      0.90      0.89       291\n",
      "                                                  ProvisionForLoanLeaseAndOtherLosses       0.20      0.05      0.08        19\n",
      "                                 DebtInstrumentConvertibleBeneficialConversionFeature       0.95      0.90      0.93        41\n",
      "                                                                   InventoryWriteDown       0.90      0.91      0.91       125\n",
      "                                         ForeignCurrencyTransactionGainLossUnrealized       0.97      0.99      0.98       122\n",
      "                                              GainLossOnDispositionOfIntangibleAssets       0.41      0.19      0.26        36\n",
      "                                                     DeferredIncomeTaxesAndTaxCredits       0.93      0.91      0.92        93\n",
      "                                                          GainLossOnSaleOfDerivatives       0.81      0.68      0.74        37\n",
      "GainLossOnSaleOfPreviouslyUnissuedStockBySubsidiaryOrEquityInvesteeNonoperatingIncome       1.00      0.25      0.40         4\n",
      "                           LeveragedLeasesIncomeStatementNetIncomeFromLeveragedLeases       1.00      1.00      1.00         1\n",
      "                                                               ProductWarrantyExpense       0.80      0.50      0.62         8\n",
      "                                                 DepreciationDepletionAndAmortization       0.76      0.68      0.72        19\n",
      "                                                        GainLossOnContractTermination       0.75      0.63      0.69        19\n",
      "                                                          LossContingencyLossInPeriod       0.40      0.33      0.36         6\n",
      "                                                                RecapitalizationCosts       0.00      0.00      0.00         2\n",
      "                                                      ResearchAndDevelopmentInProcess       1.00      0.88      0.94        25\n",
      "                               BusinessCombinationBargainPurchaseGainRecognizedAmount       0.90      0.53      0.67        17\n",
      "                                  AccretionExpenseIncludingAssetRetirementObligations       1.00      1.00      1.00         7\n",
      "                                                   EnvironmentalExpenseAndLiabilities       1.00      0.25      0.40         4\n",
      "                      PublicUtilitiesAllowanceForFundsUsedDuringConstructionAdditions       0.00      0.00      0.00         1\n",
      "                                                       GainLossOnSaleOfLoansAndLeases       0.00      0.00      0.00         4\n",
      "                                            CarryingCostsPropertyAndExplorationRights       0.00      0.00      0.00         1\n",
      "                                                               GainLossOnCondemnation       0.00      0.00      0.00         3\n",
      "\n",
      "                                                                             accuracy                           0.84      2069\n",
      "                                                                            macro avg       0.67      0.57      0.59      2069\n",
      "                                                                         weighted avg       0.83      0.84      0.84      2069\n",
      "\n"
     ]
    }
   ],
   "source": [
    "\n",
    "print('accuracy %s' % metrics.accuracy_score(y_pred, y_test))\n",
    "print(metrics.classification_report(y_test, y_pred, zero_division=0, target_names=labelnames_result))"
   ]
  },
  {
   "cell_type": "markdown",
   "id": "3611b658",
   "metadata": {},
   "source": [
    "## Export final model"
   ]
  },
  {
   "cell_type": "code",
   "execution_count": 301,
   "id": "8092694c",
   "metadata": {
    "ExecuteTime": {
     "end_time": "2023-06-08T01:54:30.031625Z",
     "start_time": "2023-06-08T01:54:29.767770Z"
    }
   },
   "outputs": [
    {
     "name": "stdout",
     "output_type": "stream",
     "text": [
      "Model is saved into to disk successfully Using Pickle\n"
     ]
    }
   ],
   "source": [
    "# export final model\n",
    "\n",
    "object_filename = \"model_disagg_\"+str(current_disagg)+\".sav\"\n",
    "saved_model = pickle.dump(xgb, open(object_filename,'wb'))\n",
    "print('Model is saved into to disk successfully Using Pickle')"
   ]
  },
  {
   "cell_type": "markdown",
   "id": "5203d463",
   "metadata": {},
   "source": [
    "# Update dataframe input for next level"
   ]
  },
  {
   "cell_type": "markdown",
   "id": "28615b29",
   "metadata": {},
   "source": [
    "**Steps:-**\n",
    "\n",
    "- First use the model to make predictions on training dataframe\n",
    "- then we check if further disaggregation is possible. If no, remove those rows\n",
    "- Do the same filtering for test set\n"
   ]
  },
  {
   "cell_type": "markdown",
   "id": "24afaa4f",
   "metadata": {
    "ExecuteTime": {
     "end_time": "2023-04-03T18:10:16.344367Z",
     "start_time": "2023-04-03T18:10:16.324447Z"
    }
   },
   "source": [
    "## Make prediction on training dataframe\n"
   ]
  },
  {
   "cell_type": "code",
   "execution_count": 302,
   "id": "9bfb7d84",
   "metadata": {
    "ExecuteTime": {
     "end_time": "2023-06-08T01:54:30.413343Z",
     "start_time": "2023-06-08T01:54:30.032643Z"
    }
   },
   "outputs": [],
   "source": [
    "# Get training dataframe\n",
    "df_train = X_train.copy()\n",
    "df_train[\"tag_\"+str(current_disagg)] = y_train\n",
    "\n",
    "y_train_pred = xgb.predict(X_train_modeling)\n",
    "df_train[\"tag_\"+str(current_disagg)+\"_pred\"] = y_train_pred\n",
    "\n",
    "df_train[\"tag_\"+str(current_disagg)] = df_train[\"tag_\"+str(current_disagg)].map(ids_to_labels) #reverse map\n",
    "df_train[\"tag_\"+str(current_disagg)+\"_pred_labelled\"] = df_train[\"tag_\"+str(current_disagg)+\"_pred\"].map(ids_to_labels) #reverse map\n",
    "\n",
    "\n",
    "\n",
    "\n",
    "# Get testing dataframe\n",
    "df_test = X_test.copy()\n",
    "df_test[\"tag_\"+str(current_disagg)] = y_test\n",
    "\n",
    "df_test[\"tag_\"+str(current_disagg)+\"_pred\"]= y_pred\n",
    "\n",
    "df_test[\"tag_\"+str(current_disagg)] = df_test[\"tag_\"+str(current_disagg)].map(ids_to_labels) #reverse map\n",
    "df_test[\"tag_\"+str(current_disagg)+\"_pred_labelled\"] = df_test[\"tag_\"+str(current_disagg)+\"_pred\"].map(ids_to_labels) #reverse map"
   ]
  },
  {
   "cell_type": "markdown",
   "id": "3bfd89e2",
   "metadata": {},
   "source": [
    "## Add prediction to original dataframe"
   ]
  },
  {
   "cell_type": "markdown",
   "id": "9afda22d",
   "metadata": {},
   "source": [
    "### Sanity Check"
   ]
  },
  {
   "cell_type": "code",
   "execution_count": 303,
   "id": "d1e4d7c5",
   "metadata": {
    "ExecuteTime": {
     "end_time": "2023-06-08T01:54:30.444418Z",
     "start_time": "2023-06-08T01:54:30.415338Z"
    }
   },
   "outputs": [
    {
     "data": {
      "text/plain": [
       "4836"
      ]
     },
     "execution_count": 303,
     "metadata": {},
     "output_type": "execute_result"
    }
   ],
   "source": [
    "# if all index of train are present in og\n",
    "df_train.index.isin(list(df_train_og[df_train_og[\"disagg_level\"] >= current_disagg].index)).sum()"
   ]
  },
  {
   "cell_type": "code",
   "execution_count": 304,
   "id": "b31b2347",
   "metadata": {
    "ExecuteTime": {
     "end_time": "2023-06-08T01:54:30.475358Z",
     "start_time": "2023-06-08T01:54:30.446412Z"
    }
   },
   "outputs": [
    {
     "data": {
      "text/plain": [
       "(4827, 9)"
      ]
     },
     "metadata": {},
     "output_type": "display_data"
    },
    {
     "data": {
      "text/plain": [
       "4826"
      ]
     },
     "execution_count": 304,
     "metadata": {},
     "output_type": "execute_result"
    }
   ],
   "source": [
    "# if all index of og are present in train\n",
    "display(df_train_og[df_train_og[\"disagg_level\"] >= current_disagg].shape)\n",
    "df_train_og[df_train_og[\"disagg_level\"] >= current_disagg].index.isin(list(df_train.index)).sum()"
   ]
  },
  {
   "cell_type": "markdown",
   "id": "c5c60cec",
   "metadata": {},
   "source": [
    "### update"
   ]
  },
  {
   "cell_type": "code",
   "execution_count": 305,
   "id": "2c68d0cb",
   "metadata": {
    "ExecuteTime": {
     "end_time": "2023-06-08T01:54:30.490636Z",
     "start_time": "2023-06-08T01:54:30.476356Z"
    }
   },
   "outputs": [
    {
     "data": {
      "text/plain": [
       "(4963, 9)"
      ]
     },
     "metadata": {},
     "output_type": "display_data"
    },
    {
     "data": {
      "text/plain": [
       "(2128, 9)"
      ]
     },
     "metadata": {},
     "output_type": "display_data"
    }
   ],
   "source": [
    "# Check shape before join\n",
    "display(df_train_og.shape)\n",
    "display(df_test_og.shape)"
   ]
  },
  {
   "cell_type": "code",
   "execution_count": 306,
   "id": "0234c0b3",
   "metadata": {
    "ExecuteTime": {
     "end_time": "2023-06-08T01:54:30.536700Z",
     "start_time": "2023-06-08T01:54:30.491667Z"
    }
   },
   "outputs": [],
   "source": [
    "# Update og dataframes for future reviewing\n",
    "\n",
    "df_train_og = pd.merge(df_train_og, df_train[[\"tag_\"+str(current_disagg)+\"_pred_labelled\",\n",
    "                                              \"tag_\"+str(current_disagg)+\"_pred\"]], \n",
    "                       how = \"outer\", left_index = True, right_index = True)\n",
    "df_test_og = pd.merge(df_test_og, df_test[[\"tag_\"+str(current_disagg)+\"_pred_labelled\",\n",
    "                                           \"tag_\"+str(current_disagg)+\"_pred\"]], \n",
    "                      how = \"outer\", left_index = True, right_index = True)"
   ]
  },
  {
   "cell_type": "code",
   "execution_count": 307,
   "id": "2cc8367d",
   "metadata": {
    "ExecuteTime": {
     "end_time": "2023-06-08T01:54:30.552400Z",
     "start_time": "2023-06-08T01:54:30.537813Z"
    }
   },
   "outputs": [
    {
     "data": {
      "text/plain": [
       "(4973, 11)"
      ]
     },
     "metadata": {},
     "output_type": "display_data"
    },
    {
     "data": {
      "text/plain": [
       "(2128, 11)"
      ]
     },
     "metadata": {},
     "output_type": "display_data"
    }
   ],
   "source": [
    "# Check shape after join\n",
    "display(df_train_og.shape)\n",
    "display(df_test_og.shape)"
   ]
  },
  {
   "cell_type": "code",
   "execution_count": 308,
   "id": "08c9fd4f",
   "metadata": {
    "ExecuteTime": {
     "end_time": "2023-06-08T01:54:30.616125Z",
     "start_time": "2023-06-08T01:54:30.553401Z"
    }
   },
   "outputs": [
    {
     "name": "stdout",
     "output_type": "stream",
     "text": [
      "duplicates in train removed 10\n",
      "duplicates in test removed 0\n"
     ]
    }
   ],
   "source": [
    "# Remove duplicate from result table\n",
    "\n",
    "print(\"duplicates in train removed\", df_train_og.duplicated().sum())\n",
    "df_train_og.drop_duplicates(inplace = True)\n",
    "\n",
    "print(\"duplicates in test removed\", df_test_og.duplicated().sum())\n",
    "df_test_og.drop_duplicates(inplace = True)"
   ]
  },
  {
   "cell_type": "code",
   "execution_count": 309,
   "id": "e26fdc0b",
   "metadata": {
    "ExecuteTime": {
     "end_time": "2023-06-08T01:54:30.632082Z",
     "start_time": "2023-06-08T01:54:30.617131Z"
    }
   },
   "outputs": [
    {
     "data": {
      "text/plain": [
       "(4963, 11)"
      ]
     },
     "metadata": {},
     "output_type": "display_data"
    },
    {
     "data": {
      "text/plain": [
       "(2128, 11)"
      ]
     },
     "metadata": {},
     "output_type": "display_data"
    }
   ],
   "source": [
    "# Check shape after removing duplicates\n",
    "display(df_train_og.shape)\n",
    "display(df_test_og.shape)"
   ]
  },
  {
   "cell_type": "markdown",
   "id": "cef6a4ac",
   "metadata": {},
   "source": [
    "## Remove records for next level of disagg"
   ]
  },
  {
   "cell_type": "code",
   "execution_count": 310,
   "id": "5a55d06c",
   "metadata": {
    "ExecuteTime": {
     "end_time": "2023-06-08T01:54:30.648798Z",
     "start_time": "2023-06-08T01:54:30.633602Z"
    }
   },
   "outputs": [],
   "source": [
    "# Fetch tags where further level of disaggregation is not present as per our hierarchy\n",
    "try:\n",
    "    no_further_disagg = list(df_hier.set_index(\"disagg_\"+str(current_disagg))\\\n",
    "                         [df_hier.set_index(\"disagg_\"+str(current_disagg))[\"disagg_\"+str(current_disagg+1)].isna()].index)\n",
    "    \n",
    "    # Remove records for these tags: get new df_train and df_test\n",
    "\n",
    "    ## training\n",
    "    df_train = df_train_og[~df_train_og[\"tag_\"+str(current_disagg)+\"_pred_labelled\"].isin(no_further_disagg)]\n",
    "\n",
    "    ## testing\n",
    "    df_test = df_test_og[~df_test_og[\"tag_\"+str(current_disagg)+\"_pred_labelled\"].isin(no_further_disagg)]\n",
    "    \n",
    "except:\n",
    "    print(\"This was the last aggregation level\")"
   ]
  },
  {
   "cell_type": "markdown",
   "id": "8f4c109c",
   "metadata": {},
   "source": [
    "# Disaggregation 5"
   ]
  },
  {
   "cell_type": "code",
   "execution_count": 311,
   "id": "8b1908f5",
   "metadata": {
    "ExecuteTime": {
     "end_time": "2023-06-08T01:54:30.664760Z",
     "start_time": "2023-06-08T01:54:30.649797Z"
    }
   },
   "outputs": [],
   "source": [
    "# set current disaggregation level\n",
    "\n",
    "current_disagg = 5"
   ]
  },
  {
   "cell_type": "code",
   "execution_count": 312,
   "id": "8c5550a1",
   "metadata": {
    "ExecuteTime": {
     "end_time": "2023-06-08T01:54:30.680231Z",
     "start_time": "2023-06-08T01:54:30.665758Z"
    }
   },
   "outputs": [],
   "source": [
    "# filter for those records where disaggregation level is same or higher than our current\n",
    "\n",
    "df_train = df_train[df_train[\"disagg_level\"] >= current_disagg]\n",
    "df_test = df_test[df_test[\"disagg_level\"] >= current_disagg]"
   ]
  },
  {
   "cell_type": "code",
   "execution_count": 313,
   "id": "22133c10",
   "metadata": {
    "ExecuteTime": {
     "end_time": "2023-06-08T01:54:30.696188Z",
     "start_time": "2023-06-08T01:54:30.681228Z"
    }
   },
   "outputs": [],
   "source": [
    "# select columns\n",
    "df_train = df_train[[\"plabel_proc\"] + [\"y_pred_broad_cat\"] + [\"disagg_level\"] + list(df_train.filter(regex=\"tag_\\d+_pred$\").columns) +\n",
    "                       list(df_train.filter(regex=\"interact\").columns) + list(df_train.filter(regex=\"presence\").columns) + [\"tag\"] + [\"tag_\"+str(current_disagg)]]"
   ]
  },
  {
   "cell_type": "code",
   "execution_count": 314,
   "id": "c3df8ad6",
   "metadata": {
    "ExecuteTime": {
     "end_time": "2023-06-08T01:54:30.727106Z",
     "start_time": "2023-06-08T01:54:30.697186Z"
    }
   },
   "outputs": [
    {
     "data": {
      "text/plain": [
       "plabel_proc         0\n",
       "y_pred_broad_cat    0\n",
       "disagg_level        0\n",
       "tag_4_pred          0\n",
       "tag                 0\n",
       "tag_5               0\n",
       "dtype: int64"
      ]
     },
     "metadata": {},
     "output_type": "display_data"
    },
    {
     "name": "stdout",
     "output_type": "stream",
     "text": [
      "after dropping\n"
     ]
    },
    {
     "data": {
      "text/plain": [
       "plabel_proc         0\n",
       "y_pred_broad_cat    0\n",
       "disagg_level        0\n",
       "tag_4_pred          0\n",
       "tag                 0\n",
       "tag_5               0\n",
       "dtype: int64"
      ]
     },
     "metadata": {},
     "output_type": "display_data"
    }
   ],
   "source": [
    "# drop nulls\n",
    "\n",
    "display(df_train.isnull().sum())\n",
    "df_train.dropna(subset = list(df_train.filter(regex=\"tag_\\d+_pred$\").columns), inplace = True)\n",
    "print(\"after dropping\")\n",
    "display(df_train.isnull().sum())"
   ]
  },
  {
   "cell_type": "code",
   "execution_count": 315,
   "id": "bdf6be07",
   "metadata": {
    "ExecuteTime": {
     "end_time": "2023-06-08T01:54:30.742065Z",
     "start_time": "2023-06-08T01:54:30.728103Z"
    }
   },
   "outputs": [],
   "source": [
    "# Get X_train, y_train, X_test, y_test for current disaggregation\n",
    "\n",
    "X_train = df_train[[\"plabel_proc\"] + [\"y_pred_broad_cat\"] + [\"disagg_level\"] + list(df_train.filter(regex=\"tag_\\d+_pred$\").columns) +\n",
    "                       list(df_train.filter(regex=\"interact\").columns) + list(df_train.filter(regex=\"presence\").columns)]\n",
    "\n",
    "y_train = df_train[[\"tag_\"+str(current_disagg)]]\n",
    "\n",
    "X_test = df_test[[\"plabel_proc\"] + [\"y_pred_broad_cat\"] + [\"disagg_level\"] + list(df_train.filter(regex=\"tag_\\d+_pred$\").columns) +\n",
    "                       list(df_test.filter(regex=\"interact\").columns) + list(df_test.filter(regex=\"presence\").columns)]\n",
    "\n",
    "y_test = df_test[[\"tag_\"+str(current_disagg)]]"
   ]
  },
  {
   "cell_type": "markdown",
   "id": "df164989",
   "metadata": {},
   "source": [
    "# Oversample for Cross Validation"
   ]
  },
  {
   "cell_type": "markdown",
   "id": "c70c0d54",
   "metadata": {
    "ExecuteTime": {
     "end_time": "2023-03-29T16:39:58.703888Z",
     "start_time": "2023-03-29T16:39:58.687422Z"
    }
   },
   "source": [
    "We oversample again to make sure classes can be present across all n_splits of cross validation"
   ]
  },
  {
   "cell_type": "code",
   "execution_count": 316,
   "id": "b3330aeb",
   "metadata": {
    "ExecuteTime": {
     "end_time": "2023-06-08T01:54:30.758023Z",
     "start_time": "2023-06-08T01:54:30.743063Z"
    }
   },
   "outputs": [],
   "source": [
    "# Combine dataframe\n",
    "df_train = pd.concat([X_train, y_train], axis = 1)"
   ]
  },
  {
   "cell_type": "code",
   "execution_count": 317,
   "id": "e677f2d0",
   "metadata": {
    "ExecuteTime": {
     "end_time": "2023-06-08T01:54:30.773495Z",
     "start_time": "2023-06-08T01:54:30.759021Z"
    }
   },
   "outputs": [
    {
     "data": {
      "text/plain": [
       "IncomeLossFromEquityMethodInvestments    618\n",
       "AssetImpairmentCharges                   427\n",
       "DeferredIncomeTaxExpenseBenefit          214\n",
       "RealizedInvestmentGainsLosses             55\n",
       "OtherDepreciationAndAmortization          44\n",
       "EnvironmentalRemediationExpense           11\n",
       "GainLossOnSalesOfLoansNet                  7\n",
       "Name: tag_5, dtype: int64"
      ]
     },
     "execution_count": 317,
     "metadata": {},
     "output_type": "execute_result"
    }
   ],
   "source": [
    "#check tag frequency for current disaggregation levels\n",
    "\n",
    "df_train[\"tag_\"+str(current_disagg)].value_counts()"
   ]
  },
  {
   "cell_type": "markdown",
   "id": "c383dc50",
   "metadata": {},
   "source": [
    "We oversample to make sure frequency of all classes is atleast equal to n_splits (5 in our case since we use 5 fold cross validation)"
   ]
  },
  {
   "cell_type": "code",
   "execution_count": 318,
   "id": "ac86ec9b",
   "metadata": {
    "ExecuteTime": {
     "end_time": "2023-06-08T01:54:30.788457Z",
     "start_time": "2023-06-08T01:54:30.774495Z"
    }
   },
   "outputs": [],
   "source": [
    "#classes to train on\n",
    "\n",
    "classes_under = list(df_train[\"tag_\"+str(current_disagg)].\\\n",
    "                     value_counts()[df_train[\"tag_\"+str(current_disagg)].value_counts() < 5].index)"
   ]
  },
  {
   "cell_type": "code",
   "execution_count": 319,
   "id": "8823e1e2",
   "metadata": {
    "ExecuteTime": {
     "end_time": "2023-06-08T01:54:30.804415Z",
     "start_time": "2023-06-08T01:54:30.789455Z"
    }
   },
   "outputs": [
    {
     "data": {
      "text/plain": [
       "(0, 5)"
      ]
     },
     "execution_count": 319,
     "metadata": {},
     "output_type": "execute_result"
    }
   ],
   "source": [
    "# Check number of records that have classes less than 5\n",
    "\n",
    "df_train[df_train[\"tag_\"+str(current_disagg)].isin(classes_under)].shape"
   ]
  },
  {
   "cell_type": "code",
   "execution_count": 320,
   "id": "97624290",
   "metadata": {
    "ExecuteTime": {
     "end_time": "2023-06-08T01:54:30.819374Z",
     "start_time": "2023-06-08T01:54:30.805412Z"
    }
   },
   "outputs": [
    {
     "data": {
      "text/plain": [
       "(1376, 5)"
      ]
     },
     "execution_count": 320,
     "metadata": {},
     "output_type": "execute_result"
    }
   ],
   "source": [
    "# Check shape\n",
    "df_train.shape"
   ]
  },
  {
   "cell_type": "code",
   "execution_count": 321,
   "id": "511d57fd",
   "metadata": {
    "ExecuteTime": {
     "end_time": "2023-06-08T01:54:30.865254Z",
     "start_time": "2023-06-08T01:54:30.820374Z"
    },
    "scrolled": true
   },
   "outputs": [
    {
     "data": {
      "text/html": [
       "<div>\n",
       "<style scoped>\n",
       "    .dataframe tbody tr th:only-of-type {\n",
       "        vertical-align: middle;\n",
       "    }\n",
       "\n",
       "    .dataframe tbody tr th {\n",
       "        vertical-align: top;\n",
       "    }\n",
       "\n",
       "    .dataframe thead th {\n",
       "        text-align: right;\n",
       "    }\n",
       "</style>\n",
       "<table border=\"1\" class=\"dataframe\">\n",
       "  <thead>\n",
       "    <tr style=\"text-align: right;\">\n",
       "      <th></th>\n",
       "    </tr>\n",
       "  </thead>\n",
       "  <tbody>\n",
       "  </tbody>\n",
       "</table>\n",
       "</div>"
      ],
      "text/plain": [
       "Empty DataFrame\n",
       "Columns: []\n",
       "Index: []"
      ]
     },
     "metadata": {},
     "output_type": "display_data"
    },
    {
     "data": {
      "text/html": [
       "<div>\n",
       "<style scoped>\n",
       "    .dataframe tbody tr th:only-of-type {\n",
       "        vertical-align: middle;\n",
       "    }\n",
       "\n",
       "    .dataframe tbody tr th {\n",
       "        vertical-align: top;\n",
       "    }\n",
       "\n",
       "    .dataframe thead th {\n",
       "        text-align: right;\n",
       "    }\n",
       "</style>\n",
       "<table border=\"1\" class=\"dataframe\">\n",
       "  <thead>\n",
       "    <tr style=\"text-align: right;\">\n",
       "      <th></th>\n",
       "      <th>plabel_proc</th>\n",
       "      <th>y_pred_broad_cat</th>\n",
       "      <th>disagg_level</th>\n",
       "      <th>tag_4_pred</th>\n",
       "      <th>tag_5</th>\n",
       "    </tr>\n",
       "  </thead>\n",
       "  <tbody>\n",
       "    <tr>\n",
       "      <th>7080</th>\n",
       "      <td>impairment charges and write downs</td>\n",
       "      <td>3</td>\n",
       "      <td>5.0</td>\n",
       "      <td>1.0</td>\n",
       "      <td>AssetImpairmentCharges</td>\n",
       "    </tr>\n",
       "    <tr>\n",
       "      <th>7082</th>\n",
       "      <td>equity method investment loss</td>\n",
       "      <td>1</td>\n",
       "      <td>5.0</td>\n",
       "      <td>3.0</td>\n",
       "      <td>AssetImpairmentCharges</td>\n",
       "    </tr>\n",
       "    <tr>\n",
       "      <th>7083</th>\n",
       "      <td>covid related impairment charges</td>\n",
       "      <td>3</td>\n",
       "      <td>5.0</td>\n",
       "      <td>1.0</td>\n",
       "      <td>AssetImpairmentCharges</td>\n",
       "    </tr>\n",
       "    <tr>\n",
       "      <th>7085</th>\n",
       "      <td>impairment charge investment</td>\n",
       "      <td>3</td>\n",
       "      <td>5.0</td>\n",
       "      <td>1.0</td>\n",
       "      <td>AssetImpairmentCharges</td>\n",
       "    </tr>\n",
       "    <tr>\n",
       "      <th>7086</th>\n",
       "      <td>loss on impairments</td>\n",
       "      <td>3</td>\n",
       "      <td>5.0</td>\n",
       "      <td>1.0</td>\n",
       "      <td>AssetImpairmentCharges</td>\n",
       "    </tr>\n",
       "  </tbody>\n",
       "</table>\n",
       "</div>"
      ],
      "text/plain": [
       "                             plabel_proc  y_pred_broad_cat  disagg_level  \\\n",
       "7080  impairment charges and write downs                 3           5.0   \n",
       "7082       equity method investment loss                 1           5.0   \n",
       "7083    covid related impairment charges                 3           5.0   \n",
       "7085        impairment charge investment                 3           5.0   \n",
       "7086                 loss on impairments                 3           5.0   \n",
       "\n",
       "      tag_4_pred                   tag_5  \n",
       "7080         1.0  AssetImpairmentCharges  \n",
       "7082         3.0  AssetImpairmentCharges  \n",
       "7083         1.0  AssetImpairmentCharges  \n",
       "7085         1.0  AssetImpairmentCharges  \n",
       "7086         1.0  AssetImpairmentCharges  "
      ]
     },
     "metadata": {},
     "output_type": "display_data"
    }
   ],
   "source": [
    "# get dataframes\n",
    "\n",
    "## other classes\n",
    "df_classes_other = df_train[~df_train[\"tag_\"+str(current_disagg)].isin(classes_under)]\n",
    "\n",
    "## classes needing treatment\n",
    "df_classes_under = pd.DataFrame()\n",
    "min_count = 5\n",
    "for x in classes_under:\n",
    "    print(x)\n",
    "    df1 = df_train[df_train[\"tag_\"+str(current_disagg)] == x]\n",
    "    df1_resampled = df1.sample(min_count, replace=True)\n",
    "    \n",
    "    df_classes_under = pd.concat([df_classes_under, df1_resampled], axis = 0)\n",
    "    \n",
    "display(df_classes_under.head())\n",
    "\n",
    "## get new dataframe\n",
    "\n",
    "df_train_resampled = pd.concat([df_classes_other, df_classes_under], axis = 0)\n",
    "\n",
    "display(df_train_resampled.tail())"
   ]
  },
  {
   "cell_type": "code",
   "execution_count": 322,
   "id": "39d39fee",
   "metadata": {
    "ExecuteTime": {
     "end_time": "2023-06-08T01:54:30.880724Z",
     "start_time": "2023-06-08T01:54:30.866252Z"
    }
   },
   "outputs": [
    {
     "data": {
      "text/plain": [
       "(1376, 5)"
      ]
     },
     "execution_count": 322,
     "metadata": {},
     "output_type": "execute_result"
    }
   ],
   "source": [
    "# check resampled shape\n",
    "\n",
    "df_train_resampled.shape"
   ]
  },
  {
   "cell_type": "code",
   "execution_count": 323,
   "id": "eadddf45",
   "metadata": {
    "ExecuteTime": {
     "end_time": "2023-06-08T01:54:30.895686Z",
     "start_time": "2023-06-08T01:54:30.882720Z"
    }
   },
   "outputs": [],
   "source": [
    "# Split into X_train and y_train\n",
    "\n",
    "X_train = df_train_resampled.drop([\"tag_\"+str(current_disagg)], axis = 1)\n",
    "y_train = df_train_resampled[[\"tag_\"+str(current_disagg)]].copy()"
   ]
  },
  {
   "cell_type": "markdown",
   "id": "e4887f5e",
   "metadata": {},
   "source": [
    "# Vectorizer"
   ]
  },
  {
   "cell_type": "markdown",
   "id": "9f3ede45",
   "metadata": {},
   "source": [
    "We use TF-IDF for this"
   ]
  },
  {
   "cell_type": "code",
   "execution_count": 324,
   "id": "4fd0257e",
   "metadata": {
    "ExecuteTime": {
     "end_time": "2023-06-08T01:54:30.973740Z",
     "start_time": "2023-06-08T01:54:30.896682Z"
    }
   },
   "outputs": [],
   "source": [
    "# Vectorize the text column\n",
    "td = TfidfVectorizer(max_features=10000)\n",
    "X_train_dtm = td.fit_transform(X_train[\"plabel_proc\"])\n",
    "X_test_dtm = td.transform(X_test[\"plabel_proc\"])"
   ]
  },
  {
   "cell_type": "markdown",
   "id": "c56cd74f",
   "metadata": {},
   "source": [
    "## Export Vectorizer"
   ]
  },
  {
   "cell_type": "code",
   "execution_count": 325,
   "id": "3ccb6ebd",
   "metadata": {
    "ExecuteTime": {
     "end_time": "2023-06-08T01:54:30.989700Z",
     "start_time": "2023-06-08T01:54:30.975737Z"
    }
   },
   "outputs": [
    {
     "name": "stdout",
     "output_type": "stream",
     "text": [
      "Model is saved into to disk successfully Using Pickle\n"
     ]
    }
   ],
   "source": [
    "# Export vectorizer\n",
    "\n",
    "object_filename = \"tfidf_disagg_\"+str(current_disagg)+\".sav\"\n",
    "saved_model = pickle.dump(td, open(object_filename,'wb'))\n",
    "print('Model is saved into to disk successfully Using Pickle')\n"
   ]
  },
  {
   "cell_type": "markdown",
   "id": "6585dd7e",
   "metadata": {},
   "source": [
    "## Add features"
   ]
  },
  {
   "cell_type": "code",
   "execution_count": 326,
   "id": "ac2080f2",
   "metadata": {
    "ExecuteTime": {
     "end_time": "2023-06-08T01:54:31.004660Z",
     "start_time": "2023-06-08T01:54:30.990697Z"
    }
   },
   "outputs": [
    {
     "data": {
      "text/plain": [
       "(1376, 428)"
      ]
     },
     "metadata": {},
     "output_type": "display_data"
    },
    {
     "data": {
      "text/plain": [
       "[('loss', 236),\n",
       " ('on', 272),\n",
       " ('maturities', 244),\n",
       " ('of', 268),\n",
       " ('investments', 203)]"
      ]
     },
     "execution_count": 326,
     "metadata": {},
     "output_type": "execute_result"
    }
   ],
   "source": [
    "# Check number of tokens\n",
    "\n",
    "display(X_train_dtm.shape)\n",
    "\n",
    "# Some examples\n",
    "list(td.vocabulary_.items())[:5]"
   ]
  },
  {
   "cell_type": "code",
   "execution_count": 327,
   "id": "d000b5b9",
   "metadata": {
    "ExecuteTime": {
     "end_time": "2023-06-08T01:54:31.019620Z",
     "start_time": "2023-06-08T01:54:31.006655Z"
    }
   },
   "outputs": [],
   "source": [
    "# Preprocess additional features\n",
    "\n",
    "## training set\n",
    "X_train_add_features = X_train[[\"y_pred_broad_cat\"] + list(df_train.filter(regex=\"tag_\\d+_pred$\").columns) +\n",
    "                               list(df_focus_resampled.filter(regex=\"interact\").columns) + \n",
    "                               list(df_focus_resampled.filter(regex=\"presence\").columns)]\n",
    "X_train_add_features_sparse = csr_matrix(X_train_add_features.to_numpy())  # convert to numpy first, then sparse matrix\n",
    "X_train_modeling = hstack([X_train_dtm, X_train_add_features_sparse])  # concatenate sparse matrix\n",
    "\n",
    "## testing set\n",
    "X_test_add_features = X_test[[\"y_pred_broad_cat\"] + list(df_train.filter(regex=\"tag_\\d+_pred$\").columns) +\n",
    "                             list(df_focus_resampled.filter(regex = \"interact\").columns) + \n",
    "                             list(df_focus_resampled.filter(regex=\"presence\").columns)]\n",
    "X_test_add_features_sparse = csr_matrix(X_test_add_features.to_numpy()) # convert to numpy first, then sparse matrix\n",
    "X_test_modeling = hstack([X_test_dtm, X_test_add_features_sparse]) # concatenate sparse matrix"
   ]
  },
  {
   "cell_type": "code",
   "execution_count": 328,
   "id": "5e6687d3",
   "metadata": {
    "ExecuteTime": {
     "end_time": "2023-06-08T01:54:31.036952Z",
     "start_time": "2023-06-08T01:54:31.020617Z"
    }
   },
   "outputs": [
    {
     "data": {
      "text/plain": [
       "({'RealizedInvestmentGainsLosses': 0,\n",
       "  'OtherDepreciationAndAmortization': 1,\n",
       "  'IncomeLossFromEquityMethodInvestments': 2,\n",
       "  'EnvironmentalRemediationExpense': 3,\n",
       "  'DeferredIncomeTaxExpenseBenefit': 4,\n",
       "  'AssetImpairmentCharges': 5,\n",
       "  'GainLossOnSalesOfLoansNet': 6},\n",
       " {0: 'RealizedInvestmentGainsLosses',\n",
       "  1: 'OtherDepreciationAndAmortization',\n",
       "  2: 'IncomeLossFromEquityMethodInvestments',\n",
       "  3: 'EnvironmentalRemediationExpense',\n",
       "  4: 'DeferredIncomeTaxExpenseBenefit',\n",
       "  5: 'AssetImpairmentCharges',\n",
       "  6: 'GainLossOnSalesOfLoansNet'})"
      ]
     },
     "execution_count": 328,
     "metadata": {},
     "output_type": "execute_result"
    }
   ],
   "source": [
    "# Get label dictionary for future mapping\n",
    "labels_to_ids = {}\n",
    "ids_to_labels = {}\n",
    "for i, label in enumerate(df_train_og['tag_'+str(current_disagg)].dropna().unique()):\n",
    "    labels_to_ids[label] = i\n",
    "    ids_to_labels[i] = label\n",
    "\n",
    "labels_to_ids, ids_to_labels"
   ]
  },
  {
   "cell_type": "markdown",
   "id": "8e28503e",
   "metadata": {},
   "source": [
    "## Export labels"
   ]
  },
  {
   "cell_type": "code",
   "execution_count": 329,
   "id": "689c89a8",
   "metadata": {
    "ExecuteTime": {
     "end_time": "2023-06-08T01:54:31.052909Z",
     "start_time": "2023-06-08T01:54:31.037950Z"
    }
   },
   "outputs": [
    {
     "name": "stdout",
     "output_type": "stream",
     "text": [
      "Model is saved into to disk successfully Using Pickle\n",
      "Model is saved into to disk successfully Using Pickle\n"
     ]
    }
   ],
   "source": [
    "# Export labels\n",
    "\n",
    "object_filename = \"labels_to_ids_\"+str(current_disagg)+\".sav\"\n",
    "saved_model = pickle.dump(labels_to_ids, open(object_filename,'wb'))\n",
    "print('Model is saved into to disk successfully Using Pickle')\n",
    "\n",
    "object_filename = \"ids_to_labels_\"+str(current_disagg)+\".sav\"\n",
    "saved_model = pickle.dump(ids_to_labels, open(object_filename,'wb'))\n",
    "print('Model is saved into to disk successfully Using Pickle')"
   ]
  },
  {
   "cell_type": "markdown",
   "id": "d258df0f",
   "metadata": {},
   "source": [
    "## Get label names"
   ]
  },
  {
   "cell_type": "code",
   "execution_count": 330,
   "id": "dae72d3e",
   "metadata": {
    "ExecuteTime": {
     "end_time": "2023-06-08T01:54:31.068868Z",
     "start_time": "2023-06-08T01:54:31.053906Z"
    }
   },
   "outputs": [],
   "source": [
    "# get label names\n",
    "labelnames = [str(x) for x in list(labels_to_ids.keys())]"
   ]
  },
  {
   "cell_type": "code",
   "execution_count": 331,
   "id": "d559e367",
   "metadata": {
    "ExecuteTime": {
     "end_time": "2023-06-08T01:54:31.084034Z",
     "start_time": "2023-06-08T01:54:31.069867Z"
    }
   },
   "outputs": [
    {
     "data": {
      "text/plain": [
       "array([0, 0, 0, ..., 5, 5, 5], dtype=int64)"
      ]
     },
     "execution_count": 331,
     "metadata": {},
     "output_type": "execute_result"
    }
   ],
   "source": [
    "# map training y\n",
    "y_train = y_train['tag_'+str(current_disagg)].map(labels_to_ids).values\n",
    "y_train"
   ]
  },
  {
   "cell_type": "code",
   "execution_count": 332,
   "id": "8b75e945",
   "metadata": {
    "ExecuteTime": {
     "end_time": "2023-06-08T01:54:31.098995Z",
     "start_time": "2023-06-08T01:54:31.085032Z"
    }
   },
   "outputs": [
    {
     "data": {
      "text/plain": [
       "array([0, 0, 0, 0, 0, 0, 0, 0, 1, 1, 1, 1, 1, 1, 1, 1, 2, 2, 2, 2, 2, 2,\n",
       "       2, 2, 2, 2, 2, 2, 2, 2, 2, 2, 2, 2, 2, 2, 2, 2, 2, 2, 2, 2, 2, 2,\n",
       "       2, 2, 2, 2, 2, 2, 2, 2, 2, 2, 2, 2, 2, 2, 2, 2, 2, 2, 2, 2, 2, 2,\n",
       "       2, 2, 2, 2, 2, 2, 2, 2, 2, 2, 2, 2, 2, 2, 2, 2, 2, 2, 2, 2, 2, 2,\n",
       "       2, 2, 2, 2, 2, 2, 2, 2, 2, 2, 2, 2, 2, 2, 2, 2, 2, 2, 2, 2, 2, 2,\n",
       "       2, 2, 2, 2, 2, 2, 2, 2, 2, 2, 2, 2, 2, 2, 2, 2, 2, 2, 2, 2, 2, 2,\n",
       "       2, 2, 2, 2, 2, 2, 2, 2, 2, 2, 2, 2, 2, 2, 2, 2, 2, 2, 2, 2, 2, 2,\n",
       "       3, 4, 4, 4, 4, 4, 4, 4, 4, 4, 4, 4, 4, 4, 4, 4, 4, 4, 4, 4, 4, 4,\n",
       "       4, 4, 4, 4, 4, 4, 4, 4, 4, 4, 4, 4, 4, 4, 4, 4, 4, 4, 4, 4, 4, 4,\n",
       "       4, 4, 4, 4, 5, 5, 5, 5, 5, 5, 5, 5, 5, 5, 5, 5, 5, 5, 5, 5, 5, 5,\n",
       "       5, 5, 5, 5, 5, 5, 5, 5, 5, 5, 5, 5, 5, 5, 5, 5, 5, 5, 5, 5, 5, 5,\n",
       "       5, 5, 5, 5, 5, 5, 5, 5, 5, 5, 5, 5, 5, 5, 5, 5, 5, 5, 5, 5, 5, 5,\n",
       "       5, 5, 5, 5, 5, 5, 5, 5, 5, 5, 5, 5, 5, 5, 5, 5, 5, 5, 5, 0, 0, 0,\n",
       "       1, 1, 1, 1, 1, 2, 2, 2, 2, 2, 2, 2, 2, 2, 2, 2, 2, 2, 2, 2, 2, 2,\n",
       "       2, 2, 2, 2, 2, 2, 2, 2, 2, 2, 2, 2, 2, 2, 2, 2, 2, 2, 2, 2, 2, 2,\n",
       "       2, 2, 2, 2, 2, 2, 4, 4, 4, 4, 4, 4, 4, 4, 4, 4, 4, 4, 4, 4, 4, 5,\n",
       "       5, 5, 5, 5, 5, 5, 5, 5, 5, 5, 5, 5, 5, 5, 5, 5, 5, 5, 5, 5, 5, 5,\n",
       "       5, 5, 5, 5, 5, 5, 5, 5, 5, 5, 5, 5, 5, 5, 5, 0, 0, 0, 0, 0, 0, 0,\n",
       "       1, 1, 2, 2, 2, 2, 2, 2, 2, 2, 2, 2, 2, 2, 2, 2, 2, 2, 2, 2, 2, 2,\n",
       "       2, 2, 2, 2, 2, 2, 2, 2, 2, 2, 2, 2, 2, 2, 2, 2, 2, 2, 2, 2, 4, 4,\n",
       "       4, 4, 4, 4, 4, 4, 4, 4, 4, 4, 5, 5, 5, 5, 5, 5, 5, 5, 5, 5, 5, 5,\n",
       "       5, 5, 5, 5, 5, 5, 5, 5, 5, 0, 0, 0, 0, 2, 2, 2, 2, 2, 2, 2, 2, 2,\n",
       "       2, 2, 2, 2, 2, 2, 2, 2, 2, 2, 2, 2, 2, 2, 2, 2, 2, 2, 2, 2, 2, 2,\n",
       "       2, 2, 2, 2, 2, 2, 2, 4, 4, 4, 4, 4, 4, 4, 4, 4, 4, 4, 4, 4, 5, 5,\n",
       "       5, 5, 5, 5, 5, 5, 5, 5, 5, 5, 5, 5, 5, 5, 5, 5, 5, 5, 5, 5, 5, 5,\n",
       "       5, 5, 5, 5, 5], dtype=int64)"
      ]
     },
     "execution_count": 332,
     "metadata": {},
     "output_type": "execute_result"
    }
   ],
   "source": [
    "# map testing y\n",
    "\n",
    "y_test = y_test['tag_'+str(current_disagg)].map(labels_to_ids).values\n",
    "y_test"
   ]
  },
  {
   "cell_type": "markdown",
   "id": "b0552637",
   "metadata": {},
   "source": [
    "# Cross Validation"
   ]
  },
  {
   "cell_type": "code",
   "execution_count": 333,
   "id": "60243d9e",
   "metadata": {
    "ExecuteTime": {
     "end_time": "2023-06-08T01:56:28.244311Z",
     "start_time": "2023-06-08T01:54:31.099992Z"
    }
   },
   "outputs": [
    {
     "name": "stderr",
     "output_type": "stream",
     "text": [
      "c:\\Users\\gbatt\\miniconda3\\lib\\site-packages\\sklearn\\ensemble\\_weight_boosting.py:527: FutureWarning: The SAMME.R algorithm (the default) is deprecated and will be removed in 1.6. Use the SAMME algorithm to circumvent this warning.\n",
      "  warnings.warn(\n",
      "c:\\Users\\gbatt\\miniconda3\\lib\\site-packages\\sklearn\\ensemble\\_weight_boosting.py:527: FutureWarning: The SAMME.R algorithm (the default) is deprecated and will be removed in 1.6. Use the SAMME algorithm to circumvent this warning.\n",
      "  warnings.warn(\n",
      "c:\\Users\\gbatt\\miniconda3\\lib\\site-packages\\sklearn\\ensemble\\_weight_boosting.py:527: FutureWarning: The SAMME.R algorithm (the default) is deprecated and will be removed in 1.6. Use the SAMME algorithm to circumvent this warning.\n",
      "  warnings.warn(\n",
      "c:\\Users\\gbatt\\miniconda3\\lib\\site-packages\\sklearn\\ensemble\\_weight_boosting.py:527: FutureWarning: The SAMME.R algorithm (the default) is deprecated and will be removed in 1.6. Use the SAMME algorithm to circumvent this warning.\n",
      "  warnings.warn(\n",
      "c:\\Users\\gbatt\\miniconda3\\lib\\site-packages\\sklearn\\ensemble\\_weight_boosting.py:527: FutureWarning: The SAMME.R algorithm (the default) is deprecated and will be removed in 1.6. Use the SAMME algorithm to circumvent this warning.\n",
      "  warnings.warn(\n"
     ]
    },
    {
     "name": "stdout",
     "output_type": "stream",
     "text": [
      "CPU times: total: 1min 42s\n",
      "Wall time: 6.69 s\n"
     ]
    }
   ],
   "source": [
    "%%time\n",
    "## get model list\n",
    "models = [MultinomialNB(), DecisionTreeClassifier(), RandomForestClassifier(), XGBClassifier(), AdaBoostClassifier(), SVC()]\n",
    "\n",
    "## CV dataframe. splits = 5 set before stepwise modeling\n",
    "\n",
    "CV = StratifiedKFold(n_splits=splits)\n",
    "\n",
    "\n",
    "globals()[\"cv_df_tag_\"+str(current_disagg)] = pd.DataFrame(index=range(splits * len(models)))\n",
    "\n",
    "## update in loop\n",
    "entries = []\n",
    "for model in models:\n",
    "    model_name = model.__class__.__name__\n",
    "    accuracies = cross_val_score(model,\n",
    "                                 X_train_modeling,\n",
    "                                 y_train,\n",
    "                                 scoring='accuracy',\n",
    "                                 cv=CV)\n",
    "    for fold_idx, accuracy in enumerate(accuracies):\n",
    "        entries.append((model_name, fold_idx, accuracy))\n",
    "globals()[\"cv_df_tag_\"+str(current_disagg)] = pd.DataFrame(entries, columns=['model_name', 'fold_idx', 'accuracy'])"
   ]
  },
  {
   "cell_type": "code",
   "execution_count": 334,
   "id": "0bd0cc0a",
   "metadata": {
    "ExecuteTime": {
     "end_time": "2023-06-08T01:56:28.410701Z",
     "start_time": "2023-06-08T01:56:28.245308Z"
    }
   },
   "outputs": [
    {
     "name": "stderr",
     "output_type": "stream",
     "text": [
      "C:\\Users\\gbatt\\AppData\\Local\\Temp\\ipykernel_19856\\3476728938.py:5: FutureWarning: Use \"auto\" to set automatic grayscale colors. From v0.14.0, \"gray\" will default to matplotlib's definition.\n",
      "  sns.stripplot(x='model_name',\n"
     ]
    },
    {
     "data": {
      "image/png": "[encoded data removed]",
      "text/plain": [
       "<Figure size 640x480 with 1 Axes>"
      ]
     },
     "metadata": {},
     "output_type": "display_data"
    }
   ],
   "source": [
    "# visualize models\n",
    "\n",
    "cv_df = globals()[\"cv_df_tag_\"+str(current_disagg)]\n",
    "sns.boxplot(x='model_name', y='accuracy', data=cv_df)\n",
    "sns.stripplot(x='model_name',\n",
    "              y='accuracy',\n",
    "              data=cv_df,\n",
    "              size=8,\n",
    "              jitter=True,\n",
    "              edgecolor=\"gray\",\n",
    "              linewidth=2)\n",
    "plt.show()"
   ]
  },
  {
   "cell_type": "code",
   "execution_count": 335,
   "id": "44987fb4",
   "metadata": {
    "ExecuteTime": {
     "end_time": "2023-06-08T01:56:28.426661Z",
     "start_time": "2023-06-08T01:56:28.411698Z"
    }
   },
   "outputs": [
    {
     "data": {
      "text/html": [
       "<div>\n",
       "<style scoped>\n",
       "    .dataframe tbody tr th:only-of-type {\n",
       "        vertical-align: middle;\n",
       "    }\n",
       "\n",
       "    .dataframe tbody tr th {\n",
       "        vertical-align: top;\n",
       "    }\n",
       "\n",
       "    .dataframe thead th {\n",
       "        text-align: right;\n",
       "    }\n",
       "</style>\n",
       "<table border=\"1\" class=\"dataframe\">\n",
       "  <thead>\n",
       "    <tr style=\"text-align: right;\">\n",
       "      <th></th>\n",
       "      <th>model_name</th>\n",
       "      <th>fold_idx</th>\n",
       "      <th>accuracy</th>\n",
       "    </tr>\n",
       "  </thead>\n",
       "  <tbody>\n",
       "    <tr>\n",
       "      <th>0</th>\n",
       "      <td>MultinomialNB</td>\n",
       "      <td>0</td>\n",
       "      <td>0.891304</td>\n",
       "    </tr>\n",
       "    <tr>\n",
       "      <th>1</th>\n",
       "      <td>MultinomialNB</td>\n",
       "      <td>1</td>\n",
       "      <td>0.898182</td>\n",
       "    </tr>\n",
       "    <tr>\n",
       "      <th>2</th>\n",
       "      <td>MultinomialNB</td>\n",
       "      <td>2</td>\n",
       "      <td>0.898182</td>\n",
       "    </tr>\n",
       "    <tr>\n",
       "      <th>3</th>\n",
       "      <td>MultinomialNB</td>\n",
       "      <td>3</td>\n",
       "      <td>0.901818</td>\n",
       "    </tr>\n",
       "    <tr>\n",
       "      <th>4</th>\n",
       "      <td>MultinomialNB</td>\n",
       "      <td>4</td>\n",
       "      <td>0.909091</td>\n",
       "    </tr>\n",
       "    <tr>\n",
       "      <th>5</th>\n",
       "      <td>DecisionTreeClassifier</td>\n",
       "      <td>0</td>\n",
       "      <td>0.992754</td>\n",
       "    </tr>\n",
       "    <tr>\n",
       "      <th>6</th>\n",
       "      <td>DecisionTreeClassifier</td>\n",
       "      <td>1</td>\n",
       "      <td>0.985455</td>\n",
       "    </tr>\n",
       "    <tr>\n",
       "      <th>7</th>\n",
       "      <td>DecisionTreeClassifier</td>\n",
       "      <td>2</td>\n",
       "      <td>0.989091</td>\n",
       "    </tr>\n",
       "    <tr>\n",
       "      <th>8</th>\n",
       "      <td>DecisionTreeClassifier</td>\n",
       "      <td>3</td>\n",
       "      <td>0.970909</td>\n",
       "    </tr>\n",
       "    <tr>\n",
       "      <th>9</th>\n",
       "      <td>DecisionTreeClassifier</td>\n",
       "      <td>4</td>\n",
       "      <td>0.981818</td>\n",
       "    </tr>\n",
       "    <tr>\n",
       "      <th>10</th>\n",
       "      <td>RandomForestClassifier</td>\n",
       "      <td>0</td>\n",
       "      <td>0.978261</td>\n",
       "    </tr>\n",
       "    <tr>\n",
       "      <th>11</th>\n",
       "      <td>RandomForestClassifier</td>\n",
       "      <td>1</td>\n",
       "      <td>0.967273</td>\n",
       "    </tr>\n",
       "    <tr>\n",
       "      <th>12</th>\n",
       "      <td>RandomForestClassifier</td>\n",
       "      <td>2</td>\n",
       "      <td>0.978182</td>\n",
       "    </tr>\n",
       "    <tr>\n",
       "      <th>13</th>\n",
       "      <td>RandomForestClassifier</td>\n",
       "      <td>3</td>\n",
       "      <td>0.970909</td>\n",
       "    </tr>\n",
       "    <tr>\n",
       "      <th>14</th>\n",
       "      <td>RandomForestClassifier</td>\n",
       "      <td>4</td>\n",
       "      <td>0.963636</td>\n",
       "    </tr>\n",
       "    <tr>\n",
       "      <th>15</th>\n",
       "      <td>XGBClassifier</td>\n",
       "      <td>0</td>\n",
       "      <td>0.989130</td>\n",
       "    </tr>\n",
       "    <tr>\n",
       "      <th>16</th>\n",
       "      <td>XGBClassifier</td>\n",
       "      <td>1</td>\n",
       "      <td>0.985455</td>\n",
       "    </tr>\n",
       "    <tr>\n",
       "      <th>17</th>\n",
       "      <td>XGBClassifier</td>\n",
       "      <td>2</td>\n",
       "      <td>0.989091</td>\n",
       "    </tr>\n",
       "    <tr>\n",
       "      <th>18</th>\n",
       "      <td>XGBClassifier</td>\n",
       "      <td>3</td>\n",
       "      <td>0.985455</td>\n",
       "    </tr>\n",
       "    <tr>\n",
       "      <th>19</th>\n",
       "      <td>XGBClassifier</td>\n",
       "      <td>4</td>\n",
       "      <td>0.992727</td>\n",
       "    </tr>\n",
       "    <tr>\n",
       "      <th>20</th>\n",
       "      <td>AdaBoostClassifier</td>\n",
       "      <td>0</td>\n",
       "      <td>0.992754</td>\n",
       "    </tr>\n",
       "    <tr>\n",
       "      <th>21</th>\n",
       "      <td>AdaBoostClassifier</td>\n",
       "      <td>1</td>\n",
       "      <td>0.920000</td>\n",
       "    </tr>\n",
       "    <tr>\n",
       "      <th>22</th>\n",
       "      <td>AdaBoostClassifier</td>\n",
       "      <td>2</td>\n",
       "      <td>0.789091</td>\n",
       "    </tr>\n",
       "    <tr>\n",
       "      <th>23</th>\n",
       "      <td>AdaBoostClassifier</td>\n",
       "      <td>3</td>\n",
       "      <td>0.680000</td>\n",
       "    </tr>\n",
       "    <tr>\n",
       "      <th>24</th>\n",
       "      <td>AdaBoostClassifier</td>\n",
       "      <td>4</td>\n",
       "      <td>0.654545</td>\n",
       "    </tr>\n",
       "    <tr>\n",
       "      <th>25</th>\n",
       "      <td>SVC</td>\n",
       "      <td>0</td>\n",
       "      <td>0.992754</td>\n",
       "    </tr>\n",
       "    <tr>\n",
       "      <th>26</th>\n",
       "      <td>SVC</td>\n",
       "      <td>1</td>\n",
       "      <td>0.985455</td>\n",
       "    </tr>\n",
       "    <tr>\n",
       "      <th>27</th>\n",
       "      <td>SVC</td>\n",
       "      <td>2</td>\n",
       "      <td>0.985455</td>\n",
       "    </tr>\n",
       "    <tr>\n",
       "      <th>28</th>\n",
       "      <td>SVC</td>\n",
       "      <td>3</td>\n",
       "      <td>0.989091</td>\n",
       "    </tr>\n",
       "    <tr>\n",
       "      <th>29</th>\n",
       "      <td>SVC</td>\n",
       "      <td>4</td>\n",
       "      <td>0.985455</td>\n",
       "    </tr>\n",
       "  </tbody>\n",
       "</table>\n",
       "</div>"
      ],
      "text/plain": [
       "                model_name  fold_idx  accuracy\n",
       "0            MultinomialNB         0  0.891304\n",
       "1            MultinomialNB         1  0.898182\n",
       "2            MultinomialNB         2  0.898182\n",
       "3            MultinomialNB         3  0.901818\n",
       "4            MultinomialNB         4  0.909091\n",
       "5   DecisionTreeClassifier         0  0.992754\n",
       "6   DecisionTreeClassifier         1  0.985455\n",
       "7   DecisionTreeClassifier         2  0.989091\n",
       "8   DecisionTreeClassifier         3  0.970909\n",
       "9   DecisionTreeClassifier         4  0.981818\n",
       "10  RandomForestClassifier         0  0.978261\n",
       "11  RandomForestClassifier         1  0.967273\n",
       "12  RandomForestClassifier         2  0.978182\n",
       "13  RandomForestClassifier         3  0.970909\n",
       "14  RandomForestClassifier         4  0.963636\n",
       "15           XGBClassifier         0  0.989130\n",
       "16           XGBClassifier         1  0.985455\n",
       "17           XGBClassifier         2  0.989091\n",
       "18           XGBClassifier         3  0.985455\n",
       "19           XGBClassifier         4  0.992727\n",
       "20      AdaBoostClassifier         0  0.992754\n",
       "21      AdaBoostClassifier         1  0.920000\n",
       "22      AdaBoostClassifier         2  0.789091\n",
       "23      AdaBoostClassifier         3  0.680000\n",
       "24      AdaBoostClassifier         4  0.654545\n",
       "25                     SVC         0  0.992754\n",
       "26                     SVC         1  0.985455\n",
       "27                     SVC         2  0.985455\n",
       "28                     SVC         3  0.989091\n",
       "29                     SVC         4  0.985455"
      ]
     },
     "metadata": {},
     "output_type": "display_data"
    },
    {
     "data": {
      "text/plain": [
       "'avg accuracy'"
      ]
     },
     "metadata": {},
     "output_type": "display_data"
    },
    {
     "data": {
      "text/plain": [
       "model_name\n",
       "AdaBoostClassifier        0.807278\n",
       "DecisionTreeClassifier    0.984005\n",
       "MultinomialNB             0.899715\n",
       "RandomForestClassifier    0.971652\n",
       "SVC                       0.987642\n",
       "XGBClassifier             0.988372\n",
       "Name: accuracy, dtype: float64"
      ]
     },
     "execution_count": 335,
     "metadata": {},
     "output_type": "execute_result"
    }
   ],
   "source": [
    "# View df\n",
    "\n",
    "display(cv_df)\n",
    "\n",
    "# Accuracy score\n",
    "display(\"avg accuracy\")\n",
    "cv_df.groupby('model_name').accuracy.mean()"
   ]
  },
  {
   "cell_type": "markdown",
   "id": "371d0529",
   "metadata": {},
   "source": [
    "# Fit and Predict on Out of Sample Data"
   ]
  },
  {
   "cell_type": "code",
   "execution_count": 336,
   "id": "97a3ffab",
   "metadata": {
    "ExecuteTime": {
     "end_time": "2023-06-08T01:56:39.766841Z",
     "start_time": "2023-06-08T01:56:28.428655Z"
    }
   },
   "outputs": [],
   "source": [
    "# fit\n",
    "xgb = XGBClassifier().fit(X_train_modeling, y_train)"
   ]
  },
  {
   "cell_type": "code",
   "execution_count": 337,
   "id": "284f7843",
   "metadata": {
    "ExecuteTime": {
     "end_time": "2023-06-08T01:56:39.925988Z",
     "start_time": "2023-06-08T01:56:39.766841Z"
    }
   },
   "outputs": [],
   "source": [
    "# predict test\n",
    "y_pred = xgb.predict(X_test_modeling)"
   ]
  },
  {
   "cell_type": "code",
   "execution_count": 338,
   "id": "71afd79f",
   "metadata": {
    "ExecuteTime": {
     "end_time": "2023-06-08T01:56:41.133452Z",
     "start_time": "2023-06-08T01:56:39.927982Z"
    }
   },
   "outputs": [
    {
     "data": {
      "image/png": "[encoded data removed]",
      "text/plain": [
       "<Figure size 1000x1000 with 2 Axes>"
      ]
     },
     "metadata": {},
     "output_type": "display_data"
    },
    {
     "name": "stdout",
     "output_type": "stream",
     "text": [
      "CPU times: total: 453 ms\n",
      "Wall time: 459 ms\n"
     ]
    }
   ],
   "source": [
    "%%time\n",
    "conf_mat = confusion_matrix(y_test, y_pred)\n",
    "\n",
    "fig, ax = plt.subplots(figsize=(10, 10))\n",
    "sns.heatmap(conf_mat,\n",
    "            annot=False,\n",
    "            fmt='d',\n",
    "            xticklabels=range(len(labelnames)),\n",
    "            yticklabels=range(len(labelnames)))\n",
    "plt.ylabel('Actual')\n",
    "plt.xlabel('Predicted')\n",
    "plt.savefig(\"lvl2_confusion_matrix.png\")\n",
    "plt.show()"
   ]
  },
  {
   "cell_type": "markdown",
   "id": "34489226",
   "metadata": {},
   "source": [
    "**We update labelnames for result. It is possible that not all values from train are always present in test set. Not because of data imbalance. But because of wrong prediction, since we halt prediction for those values which have no further disaggregation possible**"
   ]
  },
  {
   "cell_type": "code",
   "execution_count": 339,
   "id": "1c7f6040",
   "metadata": {
    "ExecuteTime": {
     "end_time": "2023-06-08T01:56:41.146504Z",
     "start_time": "2023-06-08T01:56:41.134451Z"
    }
   },
   "outputs": [],
   "source": [
    "# update labelnames for test\n",
    "\n",
    "vals_to_drop = list(set(labels_to_ids.values()) - set(y_test) - set(y_pred))\n",
    "\n",
    "labels_to_ids_result = {key:val for key, val in labels_to_ids.items() if val not in vals_to_drop}\n",
    "\n",
    "labelnames_result = [str(x) for x in list(labels_to_ids_result.keys())]"
   ]
  },
  {
   "cell_type": "code",
   "execution_count": 340,
   "id": "46441c75",
   "metadata": {
    "ExecuteTime": {
     "end_time": "2023-06-08T01:56:41.161420Z",
     "start_time": "2023-06-08T01:56:41.146504Z"
    }
   },
   "outputs": [
    {
     "name": "stdout",
     "output_type": "stream",
     "text": [
      "accuracy 0.9495495495495495\n",
      "                                       precision    recall  f1-score   support\n",
      "\n",
      "        RealizedInvestmentGainsLosses       0.50      0.77      0.61        22\n",
      "     OtherDepreciationAndAmortization       0.93      0.87      0.90        15\n",
      "IncomeLossFromEquityMethodInvestments       0.97      0.95      0.96       261\n",
      "      EnvironmentalRemediationExpense       1.00      1.00      1.00         1\n",
      "      DeferredIncomeTaxExpenseBenefit       0.98      0.99      0.98        87\n",
      "               AssetImpairmentCharges       0.99      0.96      0.98       169\n",
      "\n",
      "                             accuracy                           0.95       555\n",
      "                            macro avg       0.90      0.92      0.90       555\n",
      "                         weighted avg       0.96      0.95      0.95       555\n",
      "\n"
     ]
    }
   ],
   "source": [
    "\n",
    "print('accuracy %s' % metrics.accuracy_score(y_pred, y_test))\n",
    "print(metrics.classification_report(y_test, y_pred, zero_division=0, target_names=labelnames_result))"
   ]
  },
  {
   "cell_type": "markdown",
   "id": "288080c5",
   "metadata": {},
   "source": [
    "## Export final model"
   ]
  },
  {
   "cell_type": "code",
   "execution_count": 341,
   "id": "286a6ac1",
   "metadata": {
    "ExecuteTime": {
     "end_time": "2023-06-08T01:56:41.429103Z",
     "start_time": "2023-06-08T01:56:41.162404Z"
    }
   },
   "outputs": [
    {
     "name": "stdout",
     "output_type": "stream",
     "text": [
      "Model is saved into to disk successfully Using Pickle\n"
     ]
    }
   ],
   "source": [
    "# export final model\n",
    "\n",
    "object_filename = \"model_disagg_\"+str(current_disagg)+\".sav\"\n",
    "saved_model = pickle.dump(xgb, open(object_filename,'wb'))\n",
    "print('Model is saved into to disk successfully Using Pickle')"
   ]
  },
  {
   "cell_type": "markdown",
   "id": "1181c96d",
   "metadata": {},
   "source": [
    "# Update dataframe input for next level"
   ]
  },
  {
   "cell_type": "markdown",
   "id": "a4d7e1ce",
   "metadata": {},
   "source": [
    "**Steps:-**\n",
    "\n",
    "- First use the model to make predictions on training dataframe\n",
    "- then we check if further disaggregation is possible. If no, remove those rows\n",
    "- Do the same filtering for test set\n"
   ]
  },
  {
   "cell_type": "markdown",
   "id": "52a79931",
   "metadata": {
    "ExecuteTime": {
     "end_time": "2023-04-03T18:10:16.344367Z",
     "start_time": "2023-04-03T18:10:16.324447Z"
    }
   },
   "source": [
    "## Make prediction on training dataframe\n"
   ]
  },
  {
   "cell_type": "code",
   "execution_count": 342,
   "id": "f3aac970",
   "metadata": {
    "ExecuteTime": {
     "end_time": "2023-06-08T01:56:41.734829Z",
     "start_time": "2023-06-08T01:56:41.430101Z"
    }
   },
   "outputs": [],
   "source": [
    "# Get training dataframe\n",
    "df_train = X_train.copy()\n",
    "df_train[\"tag_\"+str(current_disagg)] = y_train\n",
    "\n",
    "y_train_pred = xgb.predict(X_train_modeling)\n",
    "df_train[\"tag_\"+str(current_disagg)+\"_pred\"] = y_train_pred\n",
    "\n",
    "df_train[\"tag_\"+str(current_disagg)] = df_train[\"tag_\"+str(current_disagg)].map(ids_to_labels) #reverse map\n",
    "df_train[\"tag_\"+str(current_disagg)+\"_pred_labelled\"] = df_train[\"tag_\"+str(current_disagg)+\"_pred\"].map(ids_to_labels) #reverse map\n",
    "\n",
    "\n",
    "\n",
    "\n",
    "# Get testing dataframe\n",
    "df_test = X_test.copy()\n",
    "df_test[\"tag_\"+str(current_disagg)] = y_test\n",
    "\n",
    "df_test[\"tag_\"+str(current_disagg)+\"_pred\"]= y_pred\n",
    "\n",
    "df_test[\"tag_\"+str(current_disagg)] = df_test[\"tag_\"+str(current_disagg)].map(ids_to_labels) #reverse map\n",
    "df_test[\"tag_\"+str(current_disagg)+\"_pred_labelled\"] = df_test[\"tag_\"+str(current_disagg)+\"_pred\"].map(ids_to_labels) #reverse map"
   ]
  },
  {
   "cell_type": "markdown",
   "id": "c7ec902e",
   "metadata": {},
   "source": [
    "## Add prediction to original dataframe"
   ]
  },
  {
   "cell_type": "markdown",
   "id": "075bca94",
   "metadata": {},
   "source": [
    "### Sanity Check"
   ]
  },
  {
   "cell_type": "code",
   "execution_count": 343,
   "id": "18f14904",
   "metadata": {
    "ExecuteTime": {
     "end_time": "2023-06-08T01:56:41.749793Z",
     "start_time": "2023-06-08T01:56:41.736824Z"
    }
   },
   "outputs": [
    {
     "data": {
      "text/plain": [
       "1376"
      ]
     },
     "execution_count": 343,
     "metadata": {},
     "output_type": "execute_result"
    }
   ],
   "source": [
    "# if all index of train are present in og\n",
    "df_train.index.isin(list(df_train_og[df_train_og[\"disagg_level\"] >= current_disagg].index)).sum()"
   ]
  },
  {
   "cell_type": "code",
   "execution_count": 344,
   "id": "c82893ba",
   "metadata": {
    "ExecuteTime": {
     "end_time": "2023-06-08T01:56:41.780315Z",
     "start_time": "2023-06-08T01:56:41.750790Z"
    }
   },
   "outputs": [
    {
     "data": {
      "text/plain": [
       "(1386, 11)"
      ]
     },
     "metadata": {},
     "output_type": "display_data"
    },
    {
     "data": {
      "text/plain": [
       "1376"
      ]
     },
     "execution_count": 344,
     "metadata": {},
     "output_type": "execute_result"
    }
   ],
   "source": [
    "# if all index of og are present in train\n",
    "display(df_train_og[df_train_og[\"disagg_level\"] >= current_disagg].shape)\n",
    "df_train_og[df_train_og[\"disagg_level\"] >= current_disagg].index.isin(list(df_train.index)).sum()"
   ]
  },
  {
   "cell_type": "markdown",
   "id": "0585ae8d",
   "metadata": {},
   "source": [
    "### update"
   ]
  },
  {
   "cell_type": "code",
   "execution_count": 345,
   "id": "87f3b735",
   "metadata": {
    "ExecuteTime": {
     "end_time": "2023-06-08T01:56:41.796273Z",
     "start_time": "2023-06-08T01:56:41.782311Z"
    }
   },
   "outputs": [
    {
     "data": {
      "text/plain": [
       "(4963, 11)"
      ]
     },
     "metadata": {},
     "output_type": "display_data"
    },
    {
     "data": {
      "text/plain": [
       "(2128, 11)"
      ]
     },
     "metadata": {},
     "output_type": "display_data"
    }
   ],
   "source": [
    "# Check shape before join\n",
    "display(df_train_og.shape)\n",
    "display(df_test_og.shape)"
   ]
  },
  {
   "cell_type": "code",
   "execution_count": 346,
   "id": "d0b5e9eb",
   "metadata": {
    "ExecuteTime": {
     "end_time": "2023-06-08T01:56:41.852171Z",
     "start_time": "2023-06-08T01:56:41.798268Z"
    }
   },
   "outputs": [],
   "source": [
    "# Update og dataframes for future reviewing\n",
    "\n",
    "df_train_og = pd.merge(df_train_og, df_train[[\"tag_\"+str(current_disagg)+\"_pred_labelled\",\n",
    "                                              \"tag_\"+str(current_disagg)+\"_pred\"]], \n",
    "                       how = \"outer\", left_index = True, right_index = True)\n",
    "df_test_og = pd.merge(df_test_og, df_test[[\"tag_\"+str(current_disagg)+\"_pred_labelled\",\n",
    "                                           \"tag_\"+str(current_disagg)+\"_pred\"]], \n",
    "                      how = \"outer\", left_index = True, right_index = True)"
   ]
  },
  {
   "cell_type": "code",
   "execution_count": 347,
   "id": "0c3ea64b",
   "metadata": {
    "ExecuteTime": {
     "end_time": "2023-06-08T01:56:41.867923Z",
     "start_time": "2023-06-08T01:56:41.853232Z"
    }
   },
   "outputs": [
    {
     "data": {
      "text/plain": [
       "(4963, 13)"
      ]
     },
     "metadata": {},
     "output_type": "display_data"
    },
    {
     "data": {
      "text/plain": [
       "(2128, 13)"
      ]
     },
     "metadata": {},
     "output_type": "display_data"
    }
   ],
   "source": [
    "# Check shape after join\n",
    "display(df_train_og.shape)\n",
    "display(df_test_og.shape)"
   ]
  },
  {
   "cell_type": "code",
   "execution_count": 348,
   "id": "e944b7ea",
   "metadata": {
    "ExecuteTime": {
     "end_time": "2023-06-08T01:56:41.930819Z",
     "start_time": "2023-06-08T01:56:41.868961Z"
    }
   },
   "outputs": [
    {
     "name": "stdout",
     "output_type": "stream",
     "text": [
      "duplicates in train removed 0\n",
      "duplicates in test removed 0\n"
     ]
    }
   ],
   "source": [
    "# Remove duplicate from result table\n",
    "\n",
    "print(\"duplicates in train removed\", df_train_og.duplicated().sum())\n",
    "df_train_og.drop_duplicates(inplace = True)\n",
    "\n",
    "print(\"duplicates in test removed\", df_test_og.duplicated().sum())\n",
    "df_test_og.drop_duplicates(inplace = True)"
   ]
  },
  {
   "cell_type": "code",
   "execution_count": 349,
   "id": "32c0a051",
   "metadata": {
    "ExecuteTime": {
     "end_time": "2023-06-08T01:56:41.946780Z",
     "start_time": "2023-06-08T01:56:41.931815Z"
    }
   },
   "outputs": [
    {
     "data": {
      "text/plain": [
       "(4963, 13)"
      ]
     },
     "metadata": {},
     "output_type": "display_data"
    },
    {
     "data": {
      "text/plain": [
       "(2128, 13)"
      ]
     },
     "metadata": {},
     "output_type": "display_data"
    }
   ],
   "source": [
    "# Check shape after removing duplicates\n",
    "display(df_train_og.shape)\n",
    "display(df_test_og.shape)"
   ]
  },
  {
   "cell_type": "markdown",
   "id": "8acc2029",
   "metadata": {},
   "source": [
    "## Remove records for next level of disagg"
   ]
  },
  {
   "cell_type": "code",
   "execution_count": 350,
   "id": "ab3caf70",
   "metadata": {
    "ExecuteTime": {
     "end_time": "2023-06-08T01:56:41.962251Z",
     "start_time": "2023-06-08T01:56:41.947779Z"
    }
   },
   "outputs": [
    {
     "name": "stdout",
     "output_type": "stream",
     "text": [
      "This was the last aggregation level\n"
     ]
    }
   ],
   "source": [
    "# Fetch tags where further level of disaggregation is not present as per our hierarchy\n",
    "try:\n",
    "    no_further_disagg = list(df_hier.set_index(\"disagg_\"+str(current_disagg))\\\n",
    "                         [df_hier.set_index(\"disagg_\"+str(current_disagg))[\"disagg_\"+str(current_disagg+1)].isna()].index)\n",
    "    \n",
    "    # Remove records for these tags: get new df_train and df_test\n",
    "\n",
    "    ## training\n",
    "    df_train = df_train_og[~df_train_og[\"tag_\"+str(current_disagg)+\"_pred_labelled\"].isin(no_further_disagg)]\n",
    "\n",
    "    ## testing\n",
    "    df_test = df_test_og[~df_test_og[\"tag_\"+str(current_disagg)+\"_pred_labelled\"].isin(no_further_disagg)]\n",
    "    \n",
    "except:\n",
    "    print(\"This was the last aggregation level\")"
   ]
  },
  {
   "cell_type": "code",
   "execution_count": null,
   "id": "df860c4d",
   "metadata": {},
   "outputs": [],
   "source": []
  },
  {
   "cell_type": "markdown",
   "id": "55c7d873",
   "metadata": {},
   "source": [
    "# All tags Results"
   ]
  },
  {
   "cell_type": "markdown",
   "id": "2e894a75",
   "metadata": {},
   "source": [
    "Note, here the label to ids dictionary are created two separate times (training and testing)"
   ]
  },
  {
   "cell_type": "code",
   "execution_count": 351,
   "id": "78fa503e",
   "metadata": {
    "ExecuteTime": {
     "end_time": "2023-06-08T01:59:01.543179Z",
     "start_time": "2023-06-08T01:59:01.519328Z"
    }
   },
   "outputs": [
    {
     "name": "stdout",
     "output_type": "stream",
     "text": [
      "5\n",
      "4\n",
      "3\n"
     ]
    },
    {
     "ename": "KeyError",
     "evalue": "'tag_3_pred_labelled'",
     "output_type": "error",
     "traceback": [
      "\u001b[1;31m---------------------------------------------------------------------------\u001b[0m",
      "\u001b[1;31mKeyError\u001b[0m                                  Traceback (most recent call last)",
      "File \u001b[1;32mc:\\Users\\gbatt\\miniconda3\\lib\\site-packages\\pandas\\core\\indexes\\base.py:3802\u001b[0m, in \u001b[0;36mIndex.get_loc\u001b[1;34m(self, key, method, tolerance)\u001b[0m\n\u001b[0;32m   3801\u001b[0m \u001b[38;5;28;01mtry\u001b[39;00m:\n\u001b[1;32m-> 3802\u001b[0m     \u001b[38;5;28;01mreturn\u001b[39;00m \u001b[38;5;28;43mself\u001b[39;49m\u001b[38;5;241;43m.\u001b[39;49m\u001b[43m_engine\u001b[49m\u001b[38;5;241;43m.\u001b[39;49m\u001b[43mget_loc\u001b[49m\u001b[43m(\u001b[49m\u001b[43mcasted_key\u001b[49m\u001b[43m)\u001b[49m\n\u001b[0;32m   3803\u001b[0m \u001b[38;5;28;01mexcept\u001b[39;00m \u001b[38;5;167;01mKeyError\u001b[39;00m \u001b[38;5;28;01mas\u001b[39;00m err:\n",
      "File \u001b[1;32mc:\\Users\\gbatt\\miniconda3\\lib\\site-packages\\pandas\\_libs\\index.pyx:138\u001b[0m, in \u001b[0;36mpandas._libs.index.IndexEngine.get_loc\u001b[1;34m()\u001b[0m\n",
      "File \u001b[1;32mc:\\Users\\gbatt\\miniconda3\\lib\\site-packages\\pandas\\_libs\\index.pyx:165\u001b[0m, in \u001b[0;36mpandas._libs.index.IndexEngine.get_loc\u001b[1;34m()\u001b[0m\n",
      "File \u001b[1;32mpandas\\_libs\\hashtable_class_helper.pxi:5745\u001b[0m, in \u001b[0;36mpandas._libs.hashtable.PyObjectHashTable.get_item\u001b[1;34m()\u001b[0m\n",
      "File \u001b[1;32mpandas\\_libs\\hashtable_class_helper.pxi:5753\u001b[0m, in \u001b[0;36mpandas._libs.hashtable.PyObjectHashTable.get_item\u001b[1;34m()\u001b[0m\n",
      "\u001b[1;31mKeyError\u001b[0m: 'tag_3_pred_labelled'",
      "\nThe above exception was the direct cause of the following exception:\n",
      "\u001b[1;31mKeyError\u001b[0m                                  Traceback (most recent call last)",
      "Cell \u001b[1;32mIn [351], line 7\u001b[0m\n\u001b[0;32m      3\u001b[0m \u001b[38;5;28mprint\u001b[39m(current_disagg)\n\u001b[0;32m      5\u001b[0m \u001b[38;5;66;03m#train\u001b[39;00m\n\u001b[0;32m      6\u001b[0m df_train_og\u001b[38;5;241m.\u001b[39mloc[df_train_og[\u001b[38;5;124m\"\u001b[39m\u001b[38;5;124mdisagg_level\u001b[39m\u001b[38;5;124m\"\u001b[39m] \u001b[38;5;241m==\u001b[39m current_disagg, \u001b[38;5;124m\"\u001b[39m\u001b[38;5;124mtag_all_predicted\u001b[39m\u001b[38;5;124m\"\u001b[39m] \u001b[38;5;241m=\u001b[39m \\\n\u001b[1;32m----> 7\u001b[0m \u001b[43mdf_train_og\u001b[49m\u001b[38;5;241;43m.\u001b[39;49m\u001b[43mloc\u001b[49m\u001b[43m[\u001b[49m\u001b[43mdf_train_og\u001b[49m\u001b[43m[\u001b[49m\u001b[38;5;124;43m\"\u001b[39;49m\u001b[38;5;124;43mdisagg_level\u001b[39;49m\u001b[38;5;124;43m\"\u001b[39;49m\u001b[43m]\u001b[49m\u001b[43m \u001b[49m\u001b[38;5;241;43m==\u001b[39;49m\u001b[43m \u001b[49m\u001b[43mcurrent_disagg\u001b[49m\u001b[43m,\u001b[49m\u001b[43m \u001b[49m\u001b[38;5;124;43m\"\u001b[39;49m\u001b[38;5;124;43mtag_\u001b[39;49m\u001b[38;5;124;43m\"\u001b[39;49m\u001b[38;5;241;43m+\u001b[39;49m\u001b[38;5;28;43mstr\u001b[39;49m\u001b[43m(\u001b[49m\u001b[43mcurrent_disagg\u001b[49m\u001b[43m)\u001b[49m\u001b[38;5;241;43m+\u001b[39;49m\u001b[38;5;124;43m\"\u001b[39;49m\u001b[38;5;124;43m_pred_labelled\u001b[39;49m\u001b[38;5;124;43m\"\u001b[39;49m\u001b[43m]\u001b[49m\n\u001b[0;32m      9\u001b[0m \u001b[38;5;66;03m#test\u001b[39;00m\n\u001b[0;32m     10\u001b[0m df_test_og\u001b[38;5;241m.\u001b[39mloc[df_test_og[\u001b[38;5;124m\"\u001b[39m\u001b[38;5;124mdisagg_level\u001b[39m\u001b[38;5;124m\"\u001b[39m] \u001b[38;5;241m==\u001b[39m current_disagg, \u001b[38;5;124m\"\u001b[39m\u001b[38;5;124mtag_all_predicted\u001b[39m\u001b[38;5;124m\"\u001b[39m] \u001b[38;5;241m=\u001b[39m \\\n\u001b[0;32m     11\u001b[0m df_test_og\u001b[38;5;241m.\u001b[39mloc[df_test_og[\u001b[38;5;124m\"\u001b[39m\u001b[38;5;124mdisagg_level\u001b[39m\u001b[38;5;124m\"\u001b[39m] \u001b[38;5;241m==\u001b[39m current_disagg, \u001b[38;5;124m\"\u001b[39m\u001b[38;5;124mtag_\u001b[39m\u001b[38;5;124m\"\u001b[39m\u001b[38;5;241m+\u001b[39m\u001b[38;5;28mstr\u001b[39m(current_disagg)\u001b[38;5;241m+\u001b[39m\u001b[38;5;124m\"\u001b[39m\u001b[38;5;124m_pred_labelled\u001b[39m\u001b[38;5;124m\"\u001b[39m]\n",
      "File \u001b[1;32mc:\\Users\\gbatt\\miniconda3\\lib\\site-packages\\pandas\\core\\indexing.py:1067\u001b[0m, in \u001b[0;36m_LocationIndexer.__getitem__\u001b[1;34m(self, key)\u001b[0m\n\u001b[0;32m   1065\u001b[0m     \u001b[38;5;28;01mif\u001b[39;00m \u001b[38;5;28mself\u001b[39m\u001b[38;5;241m.\u001b[39m_is_scalar_access(key):\n\u001b[0;32m   1066\u001b[0m         \u001b[38;5;28;01mreturn\u001b[39;00m \u001b[38;5;28mself\u001b[39m\u001b[38;5;241m.\u001b[39mobj\u001b[38;5;241m.\u001b[39m_get_value(\u001b[38;5;241m*\u001b[39mkey, takeable\u001b[38;5;241m=\u001b[39m\u001b[38;5;28mself\u001b[39m\u001b[38;5;241m.\u001b[39m_takeable)\n\u001b[1;32m-> 1067\u001b[0m     \u001b[38;5;28;01mreturn\u001b[39;00m \u001b[38;5;28;43mself\u001b[39;49m\u001b[38;5;241;43m.\u001b[39;49m\u001b[43m_getitem_tuple\u001b[49m\u001b[43m(\u001b[49m\u001b[43mkey\u001b[49m\u001b[43m)\u001b[49m\n\u001b[0;32m   1068\u001b[0m \u001b[38;5;28;01melse\u001b[39;00m:\n\u001b[0;32m   1069\u001b[0m     \u001b[38;5;66;03m# we by definition only have the 0th axis\u001b[39;00m\n\u001b[0;32m   1070\u001b[0m     axis \u001b[38;5;241m=\u001b[39m \u001b[38;5;28mself\u001b[39m\u001b[38;5;241m.\u001b[39maxis \u001b[38;5;129;01mor\u001b[39;00m \u001b[38;5;241m0\u001b[39m\n",
      "File \u001b[1;32mc:\\Users\\gbatt\\miniconda3\\lib\\site-packages\\pandas\\core\\indexing.py:1247\u001b[0m, in \u001b[0;36m_LocIndexer._getitem_tuple\u001b[1;34m(self, tup)\u001b[0m\n\u001b[0;32m   1245\u001b[0m \u001b[38;5;28;01mwith\u001b[39;00m suppress(IndexingError):\n\u001b[0;32m   1246\u001b[0m     tup \u001b[38;5;241m=\u001b[39m \u001b[38;5;28mself\u001b[39m\u001b[38;5;241m.\u001b[39m_expand_ellipsis(tup)\n\u001b[1;32m-> 1247\u001b[0m     \u001b[38;5;28;01mreturn\u001b[39;00m \u001b[38;5;28;43mself\u001b[39;49m\u001b[38;5;241;43m.\u001b[39;49m\u001b[43m_getitem_lowerdim\u001b[49m\u001b[43m(\u001b[49m\u001b[43mtup\u001b[49m\u001b[43m)\u001b[49m\n\u001b[0;32m   1249\u001b[0m \u001b[38;5;66;03m# no multi-index, so validate all of the indexers\u001b[39;00m\n\u001b[0;32m   1250\u001b[0m tup \u001b[38;5;241m=\u001b[39m \u001b[38;5;28mself\u001b[39m\u001b[38;5;241m.\u001b[39m_validate_tuple_indexer(tup)\n",
      "File \u001b[1;32mc:\\Users\\gbatt\\miniconda3\\lib\\site-packages\\pandas\\core\\indexing.py:967\u001b[0m, in \u001b[0;36m_LocationIndexer._getitem_lowerdim\u001b[1;34m(self, tup)\u001b[0m\n\u001b[0;32m    963\u001b[0m \u001b[38;5;28;01mfor\u001b[39;00m i, key \u001b[38;5;129;01min\u001b[39;00m \u001b[38;5;28menumerate\u001b[39m(tup):\n\u001b[0;32m    964\u001b[0m     \u001b[38;5;28;01mif\u001b[39;00m is_label_like(key):\n\u001b[0;32m    965\u001b[0m         \u001b[38;5;66;03m# We don't need to check for tuples here because those are\u001b[39;00m\n\u001b[0;32m    966\u001b[0m         \u001b[38;5;66;03m#  caught by the _is_nested_tuple_indexer check above.\u001b[39;00m\n\u001b[1;32m--> 967\u001b[0m         section \u001b[38;5;241m=\u001b[39m \u001b[38;5;28;43mself\u001b[39;49m\u001b[38;5;241;43m.\u001b[39;49m\u001b[43m_getitem_axis\u001b[49m\u001b[43m(\u001b[49m\u001b[43mkey\u001b[49m\u001b[43m,\u001b[49m\u001b[43m \u001b[49m\u001b[43maxis\u001b[49m\u001b[38;5;241;43m=\u001b[39;49m\u001b[43mi\u001b[49m\u001b[43m)\u001b[49m\n\u001b[0;32m    969\u001b[0m         \u001b[38;5;66;03m# We should never have a scalar section here, because\u001b[39;00m\n\u001b[0;32m    970\u001b[0m         \u001b[38;5;66;03m#  _getitem_lowerdim is only called after a check for\u001b[39;00m\n\u001b[0;32m    971\u001b[0m         \u001b[38;5;66;03m#  is_scalar_access, which that would be.\u001b[39;00m\n\u001b[0;32m    972\u001b[0m         \u001b[38;5;28;01mif\u001b[39;00m section\u001b[38;5;241m.\u001b[39mndim \u001b[38;5;241m==\u001b[39m \u001b[38;5;28mself\u001b[39m\u001b[38;5;241m.\u001b[39mndim:\n\u001b[0;32m    973\u001b[0m             \u001b[38;5;66;03m# we're in the middle of slicing through a MultiIndex\u001b[39;00m\n\u001b[0;32m    974\u001b[0m             \u001b[38;5;66;03m# revise the key wrt to `section` by inserting an _NS\u001b[39;00m\n",
      "File \u001b[1;32mc:\\Users\\gbatt\\miniconda3\\lib\\site-packages\\pandas\\core\\indexing.py:1312\u001b[0m, in \u001b[0;36m_LocIndexer._getitem_axis\u001b[1;34m(self, key, axis)\u001b[0m\n\u001b[0;32m   1310\u001b[0m \u001b[38;5;66;03m# fall thru to straight lookup\u001b[39;00m\n\u001b[0;32m   1311\u001b[0m \u001b[38;5;28mself\u001b[39m\u001b[38;5;241m.\u001b[39m_validate_key(key, axis)\n\u001b[1;32m-> 1312\u001b[0m \u001b[38;5;28;01mreturn\u001b[39;00m \u001b[38;5;28;43mself\u001b[39;49m\u001b[38;5;241;43m.\u001b[39;49m\u001b[43m_get_label\u001b[49m\u001b[43m(\u001b[49m\u001b[43mkey\u001b[49m\u001b[43m,\u001b[49m\u001b[43m \u001b[49m\u001b[43maxis\u001b[49m\u001b[38;5;241;43m=\u001b[39;49m\u001b[43maxis\u001b[49m\u001b[43m)\u001b[49m\n",
      "File \u001b[1;32mc:\\Users\\gbatt\\miniconda3\\lib\\site-packages\\pandas\\core\\indexing.py:1260\u001b[0m, in \u001b[0;36m_LocIndexer._get_label\u001b[1;34m(self, label, axis)\u001b[0m\n\u001b[0;32m   1258\u001b[0m \u001b[38;5;28;01mdef\u001b[39;00m \u001b[38;5;21m_get_label\u001b[39m(\u001b[38;5;28mself\u001b[39m, label, axis: \u001b[38;5;28mint\u001b[39m):\n\u001b[0;32m   1259\u001b[0m     \u001b[38;5;66;03m# GH#5567 this will fail if the label is not present in the axis.\u001b[39;00m\n\u001b[1;32m-> 1260\u001b[0m     \u001b[38;5;28;01mreturn\u001b[39;00m \u001b[38;5;28;43mself\u001b[39;49m\u001b[38;5;241;43m.\u001b[39;49m\u001b[43mobj\u001b[49m\u001b[38;5;241;43m.\u001b[39;49m\u001b[43mxs\u001b[49m\u001b[43m(\u001b[49m\u001b[43mlabel\u001b[49m\u001b[43m,\u001b[49m\u001b[43m \u001b[49m\u001b[43maxis\u001b[49m\u001b[38;5;241;43m=\u001b[39;49m\u001b[43maxis\u001b[49m\u001b[43m)\u001b[49m\n",
      "File \u001b[1;32mc:\\Users\\gbatt\\miniconda3\\lib\\site-packages\\pandas\\core\\generic.py:4041\u001b[0m, in \u001b[0;36mNDFrame.xs\u001b[1;34m(self, key, axis, level, drop_level)\u001b[0m\n\u001b[0;32m   4039\u001b[0m \u001b[38;5;28;01mif\u001b[39;00m axis \u001b[38;5;241m==\u001b[39m \u001b[38;5;241m1\u001b[39m:\n\u001b[0;32m   4040\u001b[0m     \u001b[38;5;28;01mif\u001b[39;00m drop_level:\n\u001b[1;32m-> 4041\u001b[0m         \u001b[38;5;28;01mreturn\u001b[39;00m \u001b[38;5;28;43mself\u001b[39;49m\u001b[43m[\u001b[49m\u001b[43mkey\u001b[49m\u001b[43m]\u001b[49m\n\u001b[0;32m   4042\u001b[0m     index \u001b[38;5;241m=\u001b[39m \u001b[38;5;28mself\u001b[39m\u001b[38;5;241m.\u001b[39mcolumns\n\u001b[0;32m   4043\u001b[0m \u001b[38;5;28;01melse\u001b[39;00m:\n",
      "File \u001b[1;32mc:\\Users\\gbatt\\miniconda3\\lib\\site-packages\\pandas\\core\\frame.py:3807\u001b[0m, in \u001b[0;36mDataFrame.__getitem__\u001b[1;34m(self, key)\u001b[0m\n\u001b[0;32m   3805\u001b[0m \u001b[38;5;28;01mif\u001b[39;00m \u001b[38;5;28mself\u001b[39m\u001b[38;5;241m.\u001b[39mcolumns\u001b[38;5;241m.\u001b[39mnlevels \u001b[38;5;241m>\u001b[39m \u001b[38;5;241m1\u001b[39m:\n\u001b[0;32m   3806\u001b[0m     \u001b[38;5;28;01mreturn\u001b[39;00m \u001b[38;5;28mself\u001b[39m\u001b[38;5;241m.\u001b[39m_getitem_multilevel(key)\n\u001b[1;32m-> 3807\u001b[0m indexer \u001b[38;5;241m=\u001b[39m \u001b[38;5;28;43mself\u001b[39;49m\u001b[38;5;241;43m.\u001b[39;49m\u001b[43mcolumns\u001b[49m\u001b[38;5;241;43m.\u001b[39;49m\u001b[43mget_loc\u001b[49m\u001b[43m(\u001b[49m\u001b[43mkey\u001b[49m\u001b[43m)\u001b[49m\n\u001b[0;32m   3808\u001b[0m \u001b[38;5;28;01mif\u001b[39;00m is_integer(indexer):\n\u001b[0;32m   3809\u001b[0m     indexer \u001b[38;5;241m=\u001b[39m [indexer]\n",
      "File \u001b[1;32mc:\\Users\\gbatt\\miniconda3\\lib\\site-packages\\pandas\\core\\indexes\\base.py:3804\u001b[0m, in \u001b[0;36mIndex.get_loc\u001b[1;34m(self, key, method, tolerance)\u001b[0m\n\u001b[0;32m   3802\u001b[0m     \u001b[38;5;28;01mreturn\u001b[39;00m \u001b[38;5;28mself\u001b[39m\u001b[38;5;241m.\u001b[39m_engine\u001b[38;5;241m.\u001b[39mget_loc(casted_key)\n\u001b[0;32m   3803\u001b[0m \u001b[38;5;28;01mexcept\u001b[39;00m \u001b[38;5;167;01mKeyError\u001b[39;00m \u001b[38;5;28;01mas\u001b[39;00m err:\n\u001b[1;32m-> 3804\u001b[0m     \u001b[38;5;28;01mraise\u001b[39;00m \u001b[38;5;167;01mKeyError\u001b[39;00m(key) \u001b[38;5;28;01mfrom\u001b[39;00m \u001b[38;5;21;01merr\u001b[39;00m\n\u001b[0;32m   3805\u001b[0m \u001b[38;5;28;01mexcept\u001b[39;00m \u001b[38;5;167;01mTypeError\u001b[39;00m:\n\u001b[0;32m   3806\u001b[0m     \u001b[38;5;66;03m# If we have a listlike key, _check_indexing_error will raise\u001b[39;00m\n\u001b[0;32m   3807\u001b[0m     \u001b[38;5;66;03m#  InvalidIndexError. Otherwise we fall through and re-raise\u001b[39;00m\n\u001b[0;32m   3808\u001b[0m     \u001b[38;5;66;03m#  the TypeError.\u001b[39;00m\n\u001b[0;32m   3809\u001b[0m     \u001b[38;5;28mself\u001b[39m\u001b[38;5;241m.\u001b[39m_check_indexing_error(key)\n",
      "\u001b[1;31mKeyError\u001b[0m: 'tag_3_pred_labelled'"
     ]
    }
   ],
   "source": [
    "# get a final tag prediction column\n",
    "for current_disagg in range(max_disagg, 0, -1):\n",
    "    print(current_disagg)\n",
    "    \n",
    "    #train\n",
    "    df_train_og.loc[df_train_og[\"disagg_level\"] == current_disagg, \"tag_all_predicted\"] = \\\n",
    "    df_train_og.loc[df_train_og[\"disagg_level\"] == current_disagg, \"tag_\"+str(current_disagg)+\"_pred_labelled\"]\n",
    "    \n",
    "    #test\n",
    "    df_test_og.loc[df_test_og[\"disagg_level\"] == current_disagg, \"tag_all_predicted\"] = \\\n",
    "    df_test_og.loc[df_test_og[\"disagg_level\"] == current_disagg, \"tag_\"+str(current_disagg)+\"_pred_labelled\"]"
   ]
  },
  {
   "cell_type": "markdown",
   "id": "0dbc5955",
   "metadata": {},
   "source": [
    "## Training accuracy"
   ]
  },
  {
   "cell_type": "code",
   "execution_count": 352,
   "id": "9599f0f3",
   "metadata": {
    "ExecuteTime": {
     "end_time": "2023-06-08T01:59:01.573694Z",
     "start_time": "2023-06-08T01:59:01.545242Z"
    }
   },
   "outputs": [
    {
     "data": {
      "text/plain": [
       "({'ResearchAndDevelopmentInProcess': 0,\n",
       "  'RecapitalizationCosts': 1,\n",
       "  'RealizedInvestmentGainsLosses': 2,\n",
       "  'PublicUtilitiesAllowanceForFundsUsedDuringConstructionAdditions': 3,\n",
       "  'ProvisionForLoanLeaseAndOtherLosses': 4,\n",
       "  'ProvisionForDoubtfulAccounts': 5,\n",
       "  'ProfitLoss': 6,\n",
       "  'ProductWarrantyExpense': 7,\n",
       "  'OtherDepreciationAndAmortization': 8,\n",
       "  'LossContingencyLossInPeriod': 9,\n",
       "  'LeveragedLeasesIncomeStatementNetIncomeFromLeveragedLeases': 10,\n",
       "  'InventoryWriteDown': 11,\n",
       "  'IncomeLossFromEquityMethodInvestments': 12,\n",
       "  'GainsLossesOnExtinguishmentOfDebt': 13,\n",
       "  'GainLossOnSaleOfPropertyPlantEquipment': 14,\n",
       "  'GainLossOnSaleOfPreviouslyUnissuedStockBySubsidiaryOrEquityInvesteeNonoperatingIncome': 15,\n",
       "  'GainLossOnSaleOfDerivatives': 16,\n",
       "  'GainLossOnInvestments': 17,\n",
       "  'GainLossOnDispositionOfIntangibleAssets': 18,\n",
       "  'GainLossOnContractTermination': 19,\n",
       "  'GainLossOnCondemnation': 20,\n",
       "  'ForeignCurrencyTransactionGainLossUnrealized': 21,\n",
       "  'EnvironmentalRemediationExpense': 22,\n",
       "  'DisposalGroupNotDiscontinuedOperationGainLossOnDisposal': 23,\n",
       "  'DeferredIncomeTaxExpenseBenefit': 24,\n",
       "  'DebtInstrumentConvertibleBeneficialConversionFeature': 25,\n",
       "  'CarryingCostsPropertyAndExplorationRights': 26,\n",
       "  'BusinessCombinationBargainPurchaseGainRecognizedAmount': 27,\n",
       "  'AssetImpairmentCharges': 28,\n",
       "  'AccretionExpenseIncludingAssetRetirementObligations': 29,\n",
       "  'GainLossOnSalesOfLoansNet': 30},\n",
       " {0: 'ResearchAndDevelopmentInProcess',\n",
       "  1: 'RecapitalizationCosts',\n",
       "  2: 'RealizedInvestmentGainsLosses',\n",
       "  3: 'PublicUtilitiesAllowanceForFundsUsedDuringConstructionAdditions',\n",
       "  4: 'ProvisionForLoanLeaseAndOtherLosses',\n",
       "  5: 'ProvisionForDoubtfulAccounts',\n",
       "  6: 'ProfitLoss',\n",
       "  7: 'ProductWarrantyExpense',\n",
       "  8: 'OtherDepreciationAndAmortization',\n",
       "  9: 'LossContingencyLossInPeriod',\n",
       "  10: 'LeveragedLeasesIncomeStatementNetIncomeFromLeveragedLeases',\n",
       "  11: 'InventoryWriteDown',\n",
       "  12: 'IncomeLossFromEquityMethodInvestments',\n",
       "  13: 'GainsLossesOnExtinguishmentOfDebt',\n",
       "  14: 'GainLossOnSaleOfPropertyPlantEquipment',\n",
       "  15: 'GainLossOnSaleOfPreviouslyUnissuedStockBySubsidiaryOrEquityInvesteeNonoperatingIncome',\n",
       "  16: 'GainLossOnSaleOfDerivatives',\n",
       "  17: 'GainLossOnInvestments',\n",
       "  18: 'GainLossOnDispositionOfIntangibleAssets',\n",
       "  19: 'GainLossOnContractTermination',\n",
       "  20: 'GainLossOnCondemnation',\n",
       "  21: 'ForeignCurrencyTransactionGainLossUnrealized',\n",
       "  22: 'EnvironmentalRemediationExpense',\n",
       "  23: 'DisposalGroupNotDiscontinuedOperationGainLossOnDisposal',\n",
       "  24: 'DeferredIncomeTaxExpenseBenefit',\n",
       "  25: 'DebtInstrumentConvertibleBeneficialConversionFeature',\n",
       "  26: 'CarryingCostsPropertyAndExplorationRights',\n",
       "  27: 'BusinessCombinationBargainPurchaseGainRecognizedAmount',\n",
       "  28: 'AssetImpairmentCharges',\n",
       "  29: 'AccretionExpenseIncludingAssetRetirementObligations',\n",
       "  30: 'GainLossOnSalesOfLoansNet'})"
      ]
     },
     "execution_count": 352,
     "metadata": {},
     "output_type": "execute_result"
    }
   ],
   "source": [
    "# Get label dictionary for future mapping\n",
    "labels_to_ids = {}\n",
    "ids_to_labels = {}\n",
    "for i, label in enumerate(df_train_og['tag'].unique()):\n",
    "    labels_to_ids[label] = i\n",
    "    ids_to_labels[i] = label\n",
    "\n",
    "labels_to_ids, ids_to_labels"
   ]
  },
  {
   "cell_type": "code",
   "execution_count": 353,
   "id": "24b948c3",
   "metadata": {
    "ExecuteTime": {
     "end_time": "2023-06-08T01:59:01.588366Z",
     "start_time": "2023-06-08T01:59:01.574729Z"
    }
   },
   "outputs": [],
   "source": [
    "# get label names\n",
    "labelnames = [str(x) for x in list(labels_to_ids.keys())]\n",
    "\n",
    "# add label for nan\n",
    "\n",
    "labelnames = labelnames + [\"nan_representative\"]"
   ]
  },
  {
   "cell_type": "code",
   "execution_count": 354,
   "id": "8bd862a4",
   "metadata": {
    "ExecuteTime": {
     "end_time": "2023-06-08T01:59:01.604323Z",
     "start_time": "2023-06-08T01:59:01.589363Z"
    }
   },
   "outputs": [
    {
     "data": {
      "text/plain": [
       "array([ 0,  0,  0, ..., 29, 29, 29], dtype=int64)"
      ]
     },
     "execution_count": 354,
     "metadata": {},
     "output_type": "execute_result"
    }
   ],
   "source": [
    "# map actual y\n",
    "y_train_actual = df_train_og['tag'].map(labels_to_ids).values\n",
    "y_train_actual"
   ]
  },
  {
   "cell_type": "code",
   "execution_count": 355,
   "id": "a9216474",
   "metadata": {
    "ExecuteTime": {
     "end_time": "2023-06-08T01:59:01.620280Z",
     "start_time": "2023-06-08T01:59:01.605321Z"
    }
   },
   "outputs": [
    {
     "data": {
      "text/plain": [
       "array([ 0.,  0.,  0., ..., 29., 29., 29.])"
      ]
     },
     "execution_count": 355,
     "metadata": {},
     "output_type": "execute_result"
    }
   ],
   "source": [
    "# map pred y\n",
    "y_train_pred = df_train_og['tag_all_predicted'].map(labels_to_ids).values\n",
    "\n",
    "# replace nan values in predicted y\n",
    "y_train_pred = np.nan_to_num(y_train_pred, nan = 999)\n",
    "y_train_pred"
   ]
  },
  {
   "cell_type": "code",
   "execution_count": 356,
   "id": "90778643",
   "metadata": {
    "ExecuteTime": {
     "end_time": "2023-06-08T01:59:01.636241Z",
     "start_time": "2023-06-08T01:59:01.621277Z"
    }
   },
   "outputs": [
    {
     "name": "stdout",
     "output_type": "stream",
     "text": [
      "accuracy 0.9506346967559943\n"
     ]
    }
   ],
   "source": [
    "# Accuracy metrics\n",
    "\n",
    "print('accuracy %s' % metrics.accuracy_score(y_train_actual, y_train_pred))\n"
   ]
  },
  {
   "cell_type": "code",
   "execution_count": 357,
   "id": "20215e0a",
   "metadata": {
    "ExecuteTime": {
     "end_time": "2023-06-08T01:59:01.674551Z",
     "start_time": "2023-06-08T01:59:01.637747Z"
    }
   },
   "outputs": [
    {
     "name": "stdout",
     "output_type": "stream",
     "text": [
      "                                                                                       precision    recall  f1-score   support\n",
      "\n",
      "                                                      ResearchAndDevelopmentInProcess       1.00      1.00      1.00        58\n",
      "                                                                RecapitalizationCosts       1.00      1.00      1.00         6\n",
      "                                                        RealizedInvestmentGainsLosses       1.00      0.96      0.98        56\n",
      "                      PublicUtilitiesAllowanceForFundsUsedDuringConstructionAdditions       1.00      0.67      0.80         3\n",
      "                                                  ProvisionForLoanLeaseAndOtherLosses       0.93      0.65      0.77        43\n",
      "                                                         ProvisionForDoubtfulAccounts       0.97      0.99      0.98       560\n",
      "                                                                           ProfitLoss       0.00      0.00      0.00       136\n",
      "                                                               ProductWarrantyExpense       1.00      1.00      1.00        18\n",
      "                                                     OtherDepreciationAndAmortization       0.96      1.00      0.98        44\n",
      "                                                          LossContingencyLossInPeriod       1.00      1.00      1.00        14\n",
      "                           LeveragedLeasesIncomeStatementNetIncomeFromLeveragedLeases       1.00      1.00      1.00         2\n",
      "                                                                   InventoryWriteDown       1.00      0.98      0.99       293\n",
      "                                                IncomeLossFromEquityMethodInvestments       1.00      1.00      1.00       619\n",
      "                                                    GainsLossesOnExtinguishmentOfDebt       1.00      0.99      0.99       678\n",
      "                                               GainLossOnSaleOfPropertyPlantEquipment       0.96      0.98      0.97       674\n",
      "GainLossOnSaleOfPreviouslyUnissuedStockBySubsidiaryOrEquityInvesteeNonoperatingIncome       1.00      1.00      1.00         9\n",
      "                                                          GainLossOnSaleOfDerivatives       0.98      1.00      0.99        87\n",
      "                                                                GainLossOnInvestments       1.00      0.95      0.97       264\n",
      "                                              GainLossOnDispositionOfIntangibleAssets       0.96      0.88      0.92        83\n",
      "                                                        GainLossOnContractTermination       0.98      0.93      0.96        46\n",
      "                                                               GainLossOnCondemnation       0.67      0.86      0.75         7\n",
      "                                         ForeignCurrencyTransactionGainLossUnrealized       1.00      0.99      1.00       286\n",
      "                                                      EnvironmentalRemediationExpense       1.00      1.00      1.00        11\n",
      "                              DisposalGroupNotDiscontinuedOperationGainLossOnDisposal       0.94      0.90      0.92       156\n",
      "                                                      DeferredIncomeTaxExpenseBenefit       1.00      0.98      0.99       216\n",
      "                                 DebtInstrumentConvertibleBeneficialConversionFeature       1.00      1.00      1.00        96\n",
      "                                            CarryingCostsPropertyAndExplorationRights       1.00      1.00      1.00         1\n",
      "                               BusinessCombinationBargainPurchaseGainRecognizedAmount       0.95      0.95      0.95        40\n",
      "                                                               AssetImpairmentCharges       1.00      0.98      0.99       432\n",
      "                                  AccretionExpenseIncludingAssetRetirementObligations       1.00      1.00      1.00        17\n",
      "                                                            GainLossOnSalesOfLoansNet       1.00      0.88      0.93         8\n",
      "                                                                   nan_representative       0.00      0.00      0.00         0\n",
      "\n",
      "                                                                             accuracy                           0.95      4963\n",
      "                                                                            macro avg       0.91      0.89      0.90      4963\n",
      "                                                                         weighted avg       0.96      0.95      0.95      4963\n",
      "\n"
     ]
    }
   ],
   "source": [
    "# Classification report\n",
    "print(metrics.classification_report(y_train_actual, y_train_pred, zero_division=0, target_names=labelnames))"
   ]
  },
  {
   "cell_type": "code",
   "execution_count": null,
   "id": "2646365c",
   "metadata": {},
   "outputs": [],
   "source": []
  },
  {
   "cell_type": "markdown",
   "id": "de84f71f",
   "metadata": {},
   "source": [
    "## Testing accuracy"
   ]
  },
  {
   "cell_type": "code",
   "execution_count": 358,
   "id": "030aeb24",
   "metadata": {
    "ExecuteTime": {
     "end_time": "2023-06-08T01:59:01.704461Z",
     "start_time": "2023-06-08T01:59:01.675538Z"
    }
   },
   "outputs": [
    {
     "data": {
      "text/plain": [
       "({'ResearchAndDevelopmentInProcess': 0,\n",
       "  'RecapitalizationCosts': 1,\n",
       "  'RealizedInvestmentGainsLosses': 2,\n",
       "  'PublicUtilitiesAllowanceForFundsUsedDuringConstructionAdditions': 3,\n",
       "  'ProvisionForLoanLeaseAndOtherLosses': 4,\n",
       "  'ProvisionForDoubtfulAccounts': 5,\n",
       "  'ProfitLoss': 6,\n",
       "  'ProductWarrantyExpense': 7,\n",
       "  'OtherDepreciationAndAmortization': 8,\n",
       "  'LossContingencyLossInPeriod': 9,\n",
       "  'InventoryWriteDown': 10,\n",
       "  'IncomeLossFromEquityMethodInvestments': 11,\n",
       "  'GainsLossesOnExtinguishmentOfDebt': 12,\n",
       "  'GainLossOnSaleOfPropertyPlantEquipment': 13,\n",
       "  'GainLossOnSaleOfPreviouslyUnissuedStockBySubsidiaryOrEquityInvesteeNonoperatingIncome': 14,\n",
       "  'GainLossOnSaleOfDerivatives': 15,\n",
       "  'GainLossOnInvestments': 16,\n",
       "  'GainLossOnDispositionOfIntangibleAssets': 17,\n",
       "  'GainLossOnContractTermination': 18,\n",
       "  'ForeignCurrencyTransactionGainLossUnrealized': 19,\n",
       "  'EnvironmentalRemediationExpense': 20,\n",
       "  'DisposalGroupNotDiscontinuedOperationGainLossOnDisposal': 21,\n",
       "  'DeferredIncomeTaxExpenseBenefit': 22,\n",
       "  'DebtInstrumentConvertibleBeneficialConversionFeature': 23,\n",
       "  'BusinessCombinationBargainPurchaseGainRecognizedAmount': 24,\n",
       "  'AssetImpairmentCharges': 25,\n",
       "  'AccretionExpenseIncludingAssetRetirementObligations': 26,\n",
       "  'LeveragedLeasesIncomeStatementNetIncomeFromLeveragedLeases': 27,\n",
       "  'GainLossOnSalesOfLoansNet': 28,\n",
       "  'GainLossOnCondemnation': 29,\n",
       "  'CarryingCostsPropertyAndExplorationRights': 30},\n",
       " {0: 'ResearchAndDevelopmentInProcess',\n",
       "  1: 'RecapitalizationCosts',\n",
       "  2: 'RealizedInvestmentGainsLosses',\n",
       "  3: 'PublicUtilitiesAllowanceForFundsUsedDuringConstructionAdditions',\n",
       "  4: 'ProvisionForLoanLeaseAndOtherLosses',\n",
       "  5: 'ProvisionForDoubtfulAccounts',\n",
       "  6: 'ProfitLoss',\n",
       "  7: 'ProductWarrantyExpense',\n",
       "  8: 'OtherDepreciationAndAmortization',\n",
       "  9: 'LossContingencyLossInPeriod',\n",
       "  10: 'InventoryWriteDown',\n",
       "  11: 'IncomeLossFromEquityMethodInvestments',\n",
       "  12: 'GainsLossesOnExtinguishmentOfDebt',\n",
       "  13: 'GainLossOnSaleOfPropertyPlantEquipment',\n",
       "  14: 'GainLossOnSaleOfPreviouslyUnissuedStockBySubsidiaryOrEquityInvesteeNonoperatingIncome',\n",
       "  15: 'GainLossOnSaleOfDerivatives',\n",
       "  16: 'GainLossOnInvestments',\n",
       "  17: 'GainLossOnDispositionOfIntangibleAssets',\n",
       "  18: 'GainLossOnContractTermination',\n",
       "  19: 'ForeignCurrencyTransactionGainLossUnrealized',\n",
       "  20: 'EnvironmentalRemediationExpense',\n",
       "  21: 'DisposalGroupNotDiscontinuedOperationGainLossOnDisposal',\n",
       "  22: 'DeferredIncomeTaxExpenseBenefit',\n",
       "  23: 'DebtInstrumentConvertibleBeneficialConversionFeature',\n",
       "  24: 'BusinessCombinationBargainPurchaseGainRecognizedAmount',\n",
       "  25: 'AssetImpairmentCharges',\n",
       "  26: 'AccretionExpenseIncludingAssetRetirementObligations',\n",
       "  27: 'LeveragedLeasesIncomeStatementNetIncomeFromLeveragedLeases',\n",
       "  28: 'GainLossOnSalesOfLoansNet',\n",
       "  29: 'GainLossOnCondemnation',\n",
       "  30: 'CarryingCostsPropertyAndExplorationRights'})"
      ]
     },
     "execution_count": 358,
     "metadata": {},
     "output_type": "execute_result"
    }
   ],
   "source": [
    "# Get label dictionary for future mapping\n",
    "labels_to_ids = {}\n",
    "ids_to_labels = {}\n",
    "for i, label in enumerate(df_test_og['tag'].unique()):\n",
    "    labels_to_ids[label] = i\n",
    "    ids_to_labels[i] = label\n",
    "\n",
    "labels_to_ids, ids_to_labels"
   ]
  },
  {
   "cell_type": "code",
   "execution_count": 359,
   "id": "47f816fd",
   "metadata": {
    "ExecuteTime": {
     "end_time": "2023-06-08T01:59:01.719421Z",
     "start_time": "2023-06-08T01:59:01.705458Z"
    }
   },
   "outputs": [],
   "source": [
    "# get label names\n",
    "labelnames = [str(x) for x in list(labels_to_ids.keys())]\n",
    "\n",
    "# add label for nan\n",
    "\n",
    "labelnames = labelnames + [\"nan_representative\"]"
   ]
  },
  {
   "cell_type": "code",
   "execution_count": 360,
   "id": "5971d424",
   "metadata": {
    "ExecuteTime": {
     "end_time": "2023-06-08T01:59:01.734384Z",
     "start_time": "2023-06-08T01:59:01.720419Z"
    }
   },
   "outputs": [
    {
     "data": {
      "text/plain": [
       "array([ 0,  0,  0, ..., 25, 25, 26], dtype=int64)"
      ]
     },
     "execution_count": 360,
     "metadata": {},
     "output_type": "execute_result"
    }
   ],
   "source": [
    "# map actual y\n",
    "y_test_actual = df_test_og['tag'].map(labels_to_ids).values\n",
    "y_test_actual"
   ]
  },
  {
   "cell_type": "code",
   "execution_count": 361,
   "id": "81999b0a",
   "metadata": {
    "ExecuteTime": {
     "end_time": "2023-06-08T01:59:01.750365Z",
     "start_time": "2023-06-08T01:59:01.735381Z"
    }
   },
   "outputs": [
    {
     "data": {
      "text/plain": [
       "array([ 5.,  0.,  0., ..., 25., 25., 26.])"
      ]
     },
     "execution_count": 361,
     "metadata": {},
     "output_type": "execute_result"
    }
   ],
   "source": [
    "# map pred y\n",
    "y_test_pred = df_test_og['tag_all_predicted'].map(labels_to_ids).values\n",
    "\n",
    "# replace nan values in predicted y\n",
    "y_test_pred = np.nan_to_num(y_test_pred, nan = 999)\n",
    "y_test_pred"
   ]
  },
  {
   "cell_type": "code",
   "execution_count": 362,
   "id": "18d0b3fd",
   "metadata": {
    "ExecuteTime": {
     "end_time": "2023-06-08T01:59:01.765324Z",
     "start_time": "2023-06-08T01:59:01.751362Z"
    }
   },
   "outputs": [
    {
     "name": "stdout",
     "output_type": "stream",
     "text": [
      "accuracy 0.8214285714285714\n"
     ]
    }
   ],
   "source": [
    "# Accuracy metrics\n",
    "\n",
    "print('accuracy %s' % metrics.accuracy_score(y_test_actual, y_test_pred))\n"
   ]
  },
  {
   "cell_type": "code",
   "execution_count": 363,
   "id": "21a6b12b",
   "metadata": {
    "ExecuteTime": {
     "end_time": "2023-06-08T01:59:01.802683Z",
     "start_time": "2023-06-08T01:59:01.766321Z"
    }
   },
   "outputs": [
    {
     "name": "stdout",
     "output_type": "stream",
     "text": [
      "                                                                                       precision    recall  f1-score   support\n",
      "\n",
      "                                                      ResearchAndDevelopmentInProcess       1.00      0.88      0.94        25\n",
      "                                                                RecapitalizationCosts       0.00      0.00      0.00         2\n",
      "                                                        RealizedInvestmentGainsLosses       0.50      0.71      0.59        24\n",
      "                      PublicUtilitiesAllowanceForFundsUsedDuringConstructionAdditions       0.00      0.00      0.00         1\n",
      "                                                  ProvisionForLoanLeaseAndOtherLosses       0.25      0.05      0.09        19\n",
      "                                                         ProvisionForDoubtfulAccounts       0.90      0.94      0.92       240\n",
      "                                                                           ProfitLoss       0.00      0.00      0.00        59\n",
      "                                                               ProductWarrantyExpense       0.80      0.50      0.62         8\n",
      "                                                     OtherDepreciationAndAmortization       0.93      0.68      0.79        19\n",
      "                                                          LossContingencyLossInPeriod       0.67      0.33      0.44         6\n",
      "                                                                   InventoryWriteDown       0.96      0.91      0.93       125\n",
      "                                                IncomeLossFromEquityMethodInvestments       0.97      0.93      0.95       266\n",
      "                                                    GainsLossesOnExtinguishmentOfDebt       0.89      0.90      0.90       291\n",
      "                                               GainLossOnSaleOfPropertyPlantEquipment       0.82      0.86      0.84       289\n",
      "GainLossOnSaleOfPreviouslyUnissuedStockBySubsidiaryOrEquityInvesteeNonoperatingIncome       1.00      0.25      0.40         4\n",
      "                                                          GainLossOnSaleOfDerivatives       0.86      0.68      0.76        37\n",
      "                                                                GainLossOnInvestments       0.83      0.81      0.82       113\n",
      "                                              GainLossOnDispositionOfIntangibleAssets       0.47      0.19      0.27        36\n",
      "                                                        GainLossOnContractTermination       0.75      0.63      0.69        19\n",
      "                                         ForeignCurrencyTransactionGainLossUnrealized       0.97      0.99      0.98       122\n",
      "                                                      EnvironmentalRemediationExpense       1.00      0.25      0.40         4\n",
      "                              DisposalGroupNotDiscontinuedOperationGainLossOnDisposal       0.48      0.45      0.47        67\n",
      "                                                      DeferredIncomeTaxExpenseBenefit       0.98      0.92      0.95        93\n",
      "                                 DebtInstrumentConvertibleBeneficialConversionFeature       0.95      0.90      0.93        41\n",
      "                               BusinessCombinationBargainPurchaseGainRecognizedAmount       0.90      0.53      0.67        17\n",
      "                                                               AssetImpairmentCharges       0.99      0.88      0.93       185\n",
      "                                  AccretionExpenseIncludingAssetRetirementObligations       1.00      1.00      1.00         7\n",
      "                           LeveragedLeasesIncomeStatementNetIncomeFromLeveragedLeases       1.00      1.00      1.00         1\n",
      "                                                            GainLossOnSalesOfLoansNet       0.00      0.00      0.00         4\n",
      "                                                               GainLossOnCondemnation       0.00      0.00      0.00         3\n",
      "                                            CarryingCostsPropertyAndExplorationRights       0.00      0.00      0.00         1\n",
      "                                                                   nan_representative       0.00      0.00      0.00         0\n",
      "\n",
      "                                                                             accuracy                           0.82      2128\n",
      "                                                                            macro avg       0.65      0.54      0.57      2128\n",
      "                                                                         weighted avg       0.85      0.82      0.83      2128\n",
      "\n"
     ]
    }
   ],
   "source": [
    "# Classification report\n",
    "print(metrics.classification_report(y_test_actual, y_test_pred, zero_division=0, target_names=labelnames))"
   ]
  },
  {
   "cell_type": "markdown",
   "id": "7f65bf25",
   "metadata": {},
   "source": [
    "\n"
   ]
  },
  {
   "cell_type": "code",
   "execution_count": null,
   "id": "b6cf4660",
   "metadata": {},
   "outputs": [],
   "source": []
  },
  {
   "cell_type": "code",
   "execution_count": null,
   "id": "cbe3e2df",
   "metadata": {},
   "outputs": [],
   "source": []
  }
 ],
 "metadata": {
  "kernelspec": {
   "display_name": "Python 3",
   "language": "python",
   "name": "python3"
  },
  "language_info": {
   "codemirror_mode": {
    "name": "ipython",
    "version": 3
   },
   "file_extension": ".py",
   "mimetype": "text/x-python",
   "name": "python",
   "nbconvert_exporter": "python",
   "pygments_lexer": "ipython3",
   "version": "3.9.12"
  },
  "toc": {
   "base_numbering": 1,
   "nav_menu": {},
   "number_sections": true,
   "sideBar": true,
   "skip_h1_title": false,
   "title_cell": "Table of Contents",
   "title_sidebar": "Contents",
   "toc_cell": true,
   "toc_position": {},
   "toc_section_display": true,
   "toc_window_display": false
  }
 },
 "nbformat": 4,
 "nbformat_minor": 5
}
