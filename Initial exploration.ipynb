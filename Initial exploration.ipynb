{
 "cells": [
  {
   "cell_type": "markdown",
   "id": "8eaa7a47",
   "metadata": {
    "toc": true
   },
   "source": [
    "<h1>Table of Contents<span class=\"tocSkip\"></span></h1>\n",
    "<div class=\"toc\"><ul class=\"toc-item\"><li><span><a href=\"#Library\" data-toc-modified-id=\"Library-1\"><span class=\"toc-item-num\">1&nbsp;&nbsp;</span>Library</a></span></li><li><span><a href=\"#Read-data\" data-toc-modified-id=\"Read-data-2\"><span class=\"toc-item-num\">2&nbsp;&nbsp;</span>Read data</a></span></li><li><span><a href=\"#Explore\" data-toc-modified-id=\"Explore-3\"><span class=\"toc-item-num\">3&nbsp;&nbsp;</span>Explore</a></span><ul class=\"toc-item\"><li><span><a href=\"#report\" data-toc-modified-id=\"report-3.1\"><span class=\"toc-item-num\">3.1&nbsp;&nbsp;</span>report</a></span></li><li><span><a href=\"#line\" data-toc-modified-id=\"line-3.2\"><span class=\"toc-item-num\">3.2&nbsp;&nbsp;</span>line</a></span></li><li><span><a href=\"#stmt\" data-toc-modified-id=\"stmt-3.3\"><span class=\"toc-item-num\">3.3&nbsp;&nbsp;</span>stmt</a></span></li><li><span><a href=\"#inpth\" data-toc-modified-id=\"inpth-3.4\"><span class=\"toc-item-num\">3.4&nbsp;&nbsp;</span>inpth</a></span></li><li><span><a href=\"#tag\" data-toc-modified-id=\"tag-3.5\"><span class=\"toc-item-num\">3.5&nbsp;&nbsp;</span>tag</a></span></li><li><span><a href=\"#prole\" data-toc-modified-id=\"prole-3.6\"><span class=\"toc-item-num\">3.6&nbsp;&nbsp;</span>prole</a></span></li><li><span><a href=\"#plabel\" data-toc-modified-id=\"plabel-3.7\"><span class=\"toc-item-num\">3.7&nbsp;&nbsp;</span>plabel</a></span></li><li><span><a href=\"#negating\" data-toc-modified-id=\"negating-3.8\"><span class=\"toc-item-num\">3.8&nbsp;&nbsp;</span>negating</a></span></li><li><span><a href=\"#name\" data-toc-modified-id=\"name-3.9\"><span class=\"toc-item-num\">3.9&nbsp;&nbsp;</span>name</a></span></li><li><span><a href=\"#form\" data-toc-modified-id=\"form-3.10\"><span class=\"toc-item-num\">3.10&nbsp;&nbsp;</span>form</a></span></li><li><span><a href=\"#broad_cat\" data-toc-modified-id=\"broad_cat-3.11\"><span class=\"toc-item-num\">3.11&nbsp;&nbsp;</span>broad_cat</a></span></li></ul></li><li><span><a href=\"#Correlations\" data-toc-modified-id=\"Correlations-4\"><span class=\"toc-item-num\">4&nbsp;&nbsp;</span>Correlations</a></span></li><li><span><a href=\"#Observations-and-Inferences:-\" data-toc-modified-id=\"Observations-and-Inferences:--5\"><span class=\"toc-item-num\">5&nbsp;&nbsp;</span>Observations and Inferences:-</a></span></li></ul></div>"
   ]
  },
  {
   "cell_type": "markdown",
   "id": "80b1b59c",
   "metadata": {},
   "source": [
    "# Library"
   ]
  },
  {
   "cell_type": "code",
   "execution_count": 25,
   "id": "9831a55e",
   "metadata": {},
   "outputs": [
    {
     "name": "stdout",
     "output_type": "stream",
     "text": [
      "Requirement already satisfied: matplotlib in c:\\users\\gbatt\\miniconda3\\lib\\site-packages (3.9.1)\n",
      "Requirement already satisfied: contourpy>=1.0.1 in c:\\users\\gbatt\\miniconda3\\lib\\site-packages (from matplotlib) (1.2.1)\n",
      "Requirement already satisfied: cycler>=0.10 in c:\\users\\gbatt\\miniconda3\\lib\\site-packages (from matplotlib) (0.12.1)\n",
      "Requirement already satisfied: fonttools>=4.22.0 in c:\\users\\gbatt\\miniconda3\\lib\\site-packages (from matplotlib) (4.53.1)\n",
      "Requirement already satisfied: kiwisolver>=1.3.1 in c:\\users\\gbatt\\miniconda3\\lib\\site-packages (from matplotlib) (1.4.5)\n",
      "Requirement already satisfied: numpy>=1.23 in c:\\users\\gbatt\\miniconda3\\lib\\site-packages (from matplotlib) (1.26.4)\n",
      "Requirement already satisfied: packaging>=20.0 in c:\\users\\gbatt\\miniconda3\\lib\\site-packages (from matplotlib) (21.3)\n",
      "Requirement already satisfied: pillow>=8 in c:\\users\\gbatt\\miniconda3\\lib\\site-packages (from matplotlib) (10.4.0)\n",
      "Requirement already satisfied: pyparsing>=2.3.1 in c:\\users\\gbatt\\miniconda3\\lib\\site-packages (from matplotlib) (3.0.9)\n",
      "Requirement already satisfied: python-dateutil>=2.7 in c:\\users\\gbatt\\miniconda3\\lib\\site-packages (from matplotlib) (2.8.2)\n",
      "Requirement already satisfied: importlib-resources>=3.2.0 in c:\\users\\gbatt\\miniconda3\\lib\\site-packages (from matplotlib) (5.10.0)\n",
      "Requirement already satisfied: zipp>=3.1.0 in c:\\users\\gbatt\\miniconda3\\lib\\site-packages (from importlib-resources>=3.2.0->matplotlib) (3.11.0)\n",
      "Requirement already satisfied: six>=1.5 in c:\\users\\gbatt\\miniconda3\\lib\\site-packages (from python-dateutil>=2.7->matplotlib) (1.16.0)\n"
     ]
    }
   ],
   "source": [
    "!pip install matplotlib"
   ]
  },
  {
   "cell_type": "code",
   "execution_count": 26,
   "id": "0fbbd589",
   "metadata": {},
   "outputs": [
    {
     "name": "stdout",
     "output_type": "stream",
     "text": [
      "Requirement already satisfied: seaborn in c:\\users\\gbatt\\miniconda3\\lib\\site-packages (0.13.2)\n",
      "Requirement already satisfied: numpy!=1.24.0,>=1.20 in c:\\users\\gbatt\\miniconda3\\lib\\site-packages (from seaborn) (1.26.4)\n",
      "Requirement already satisfied: pandas>=1.2 in c:\\users\\gbatt\\miniconda3\\lib\\site-packages (from seaborn) (1.5.3)\n",
      "Requirement already satisfied: matplotlib!=3.6.1,>=3.4 in c:\\users\\gbatt\\miniconda3\\lib\\site-packages (from seaborn) (3.9.1)\n",
      "Requirement already satisfied: contourpy>=1.0.1 in c:\\users\\gbatt\\miniconda3\\lib\\site-packages (from matplotlib!=3.6.1,>=3.4->seaborn) (1.2.1)\n",
      "Requirement already satisfied: cycler>=0.10 in c:\\users\\gbatt\\miniconda3\\lib\\site-packages (from matplotlib!=3.6.1,>=3.4->seaborn) (0.12.1)\n",
      "Requirement already satisfied: fonttools>=4.22.0 in c:\\users\\gbatt\\miniconda3\\lib\\site-packages (from matplotlib!=3.6.1,>=3.4->seaborn) (4.53.1)\n",
      "Requirement already satisfied: kiwisolver>=1.3.1 in c:\\users\\gbatt\\miniconda3\\lib\\site-packages (from matplotlib!=3.6.1,>=3.4->seaborn) (1.4.5)\n",
      "Requirement already satisfied: packaging>=20.0 in c:\\users\\gbatt\\miniconda3\\lib\\site-packages (from matplotlib!=3.6.1,>=3.4->seaborn) (21.3)\n",
      "Requirement already satisfied: pillow>=8 in c:\\users\\gbatt\\miniconda3\\lib\\site-packages (from matplotlib!=3.6.1,>=3.4->seaborn) (10.4.0)\n",
      "Requirement already satisfied: pyparsing>=2.3.1 in c:\\users\\gbatt\\miniconda3\\lib\\site-packages (from matplotlib!=3.6.1,>=3.4->seaborn) (3.0.9)\n",
      "Requirement already satisfied: python-dateutil>=2.7 in c:\\users\\gbatt\\miniconda3\\lib\\site-packages (from matplotlib!=3.6.1,>=3.4->seaborn) (2.8.2)\n",
      "Requirement already satisfied: importlib-resources>=3.2.0 in c:\\users\\gbatt\\miniconda3\\lib\\site-packages (from matplotlib!=3.6.1,>=3.4->seaborn) (5.10.0)\n",
      "Requirement already satisfied: pytz>=2020.1 in c:\\users\\gbatt\\miniconda3\\lib\\site-packages (from pandas>=1.2->seaborn) (2022.6)\n",
      "Requirement already satisfied: zipp>=3.1.0 in c:\\users\\gbatt\\miniconda3\\lib\\site-packages (from importlib-resources>=3.2.0->matplotlib!=3.6.1,>=3.4->seaborn) (3.11.0)\n",
      "Requirement already satisfied: six>=1.5 in c:\\users\\gbatt\\miniconda3\\lib\\site-packages (from python-dateutil>=2.7->matplotlib!=3.6.1,>=3.4->seaborn) (1.16.0)\n"
     ]
    }
   ],
   "source": [
    "!pip install seaborn"
   ]
  },
  {
   "cell_type": "code",
   "execution_count": 27,
   "id": "57d82b17",
   "metadata": {},
   "outputs": [
    {
     "name": "stdout",
     "output_type": "stream",
     "text": [
      "Requirement already satisfied: scipy in c:\\users\\gbatt\\miniconda3\\lib\\site-packages (1.12.0)\n",
      "Requirement already satisfied: numpy<1.29.0,>=1.22.4 in c:\\users\\gbatt\\miniconda3\\lib\\site-packages (from scipy) (1.26.4)\n"
     ]
    }
   ],
   "source": [
    "!pip install scipy"
   ]
  },
  {
   "cell_type": "code",
   "execution_count": 28,
   "id": "8abc442d",
   "metadata": {
    "ExecuteTime": {
     "end_time": "2022-11-22T09:17:36.096826Z",
     "start_time": "2022-11-22T09:17:36.088847Z"
    }
   },
   "outputs": [],
   "source": [
    "import pandas as pd\n",
    "import numpy as np\n",
    "import matplotlib.pyplot as plt\n",
    "import seaborn as sns\n",
    "\n",
    "pd.set_option('float_format', '{:f}'.format)\n",
    "\n",
    "#correlation\n",
    "from scipy.stats import chi2_contingency # for cramersV\n",
    "\n",
    "\n",
    "# pickle\n",
    "import pickle"
   ]
  },
  {
   "cell_type": "markdown",
   "id": "45b521ac",
   "metadata": {
    "ExecuteTime": {
     "end_time": "2022-09-29T19:25:50.398124Z",
     "start_time": "2022-09-29T19:25:50.388152Z"
    }
   },
   "source": [
    "# Read data"
   ]
  },
  {
   "cell_type": "code",
   "execution_count": 29,
   "id": "35445e6f",
   "metadata": {
    "ExecuteTime": {
     "end_time": "2022-11-22T09:21:17.007986Z",
     "start_time": "2022-11-22T09:21:07.604242Z"
    }
   },
   "outputs": [],
   "source": [
    "# Read data\n",
    "\n",
    "df = pd.read_csv(\"C:/Users/gbatt/Downloads/data_master.csv\", index_col=0)"
   ]
  },
  {
   "cell_type": "code",
   "execution_count": 30,
   "id": "cdf74a8a",
   "metadata": {
    "ExecuteTime": {
     "end_time": "2022-11-22T09:21:17.443821Z",
     "start_time": "2022-11-22T09:21:17.009982Z"
    }
   },
   "outputs": [
    {
     "data": {
      "text/html": [
       "<div>\n",
       "<style scoped>\n",
       "    .dataframe tbody tr th:only-of-type {\n",
       "        vertical-align: middle;\n",
       "    }\n",
       "\n",
       "    .dataframe tbody tr th {\n",
       "        vertical-align: top;\n",
       "    }\n",
       "\n",
       "    .dataframe thead th {\n",
       "        text-align: right;\n",
       "    }\n",
       "</style>\n",
       "<table border=\"1\" class=\"dataframe\">\n",
       "  <thead>\n",
       "    <tr style=\"text-align: right;\">\n",
       "      <th></th>\n",
       "      <th>Unnamed: 0</th>\n",
       "      <th>adsh</th>\n",
       "      <th>report</th>\n",
       "      <th>line</th>\n",
       "      <th>stmt</th>\n",
       "      <th>inpth</th>\n",
       "      <th>tag</th>\n",
       "      <th>version_x</th>\n",
       "      <th>prole</th>\n",
       "      <th>plabel</th>\n",
       "      <th>negating</th>\n",
       "      <th>cik</th>\n",
       "      <th>name</th>\n",
       "      <th>sic</th>\n",
       "      <th>form</th>\n",
       "      <th>aggregation_level</th>\n",
       "      <th>broad_cat</th>\n",
       "      <th>version_y</th>\n",
       "    </tr>\n",
       "  </thead>\n",
       "  <tbody>\n",
       "    <tr>\n",
       "      <th>0</th>\n",
       "      <td>1884297</td>\n",
       "      <td>0001434728-19-000051</td>\n",
       "      <td>7</td>\n",
       "      <td>6</td>\n",
       "      <td>CF</td>\n",
       "      <td>0</td>\n",
       "      <td>WriteOffOfDeferredDebtIssuanceCost</td>\n",
       "      <td>us-gaap/2018</td>\n",
       "      <td>terseLabel</td>\n",
       "      <td>Write-off of debt issuance costs</td>\n",
       "      <td>0</td>\n",
       "      <td>1434728</td>\n",
       "      <td>GLOBAL WATER RESOURCES, INC.</td>\n",
       "      <td>4941.000000</td>\n",
       "      <td>10-K</td>\n",
       "      <td>1</td>\n",
       "      <td>IntExp</td>\n",
       "      <td>us-gaap/2018</td>\n",
       "    </tr>\n",
       "    <tr>\n",
       "      <th>1</th>\n",
       "      <td>1884297</td>\n",
       "      <td>0001434728-19-000051</td>\n",
       "      <td>7</td>\n",
       "      <td>6</td>\n",
       "      <td>CF</td>\n",
       "      <td>0</td>\n",
       "      <td>WriteOffOfDeferredDebtIssuanceCost</td>\n",
       "      <td>us-gaap/2018</td>\n",
       "      <td>terseLabel</td>\n",
       "      <td>Write-off of debt issuance costs</td>\n",
       "      <td>0</td>\n",
       "      <td>1434728</td>\n",
       "      <td>GLOBAL WATER RESOURCES, INC.</td>\n",
       "      <td>4941.000000</td>\n",
       "      <td>10-K</td>\n",
       "      <td>1</td>\n",
       "      <td>IntExp</td>\n",
       "      <td>us-gaap/2019</td>\n",
       "    </tr>\n",
       "    <tr>\n",
       "      <th>2</th>\n",
       "      <td>1884297</td>\n",
       "      <td>0001434728-19-000051</td>\n",
       "      <td>7</td>\n",
       "      <td>6</td>\n",
       "      <td>CF</td>\n",
       "      <td>0</td>\n",
       "      <td>WriteOffOfDeferredDebtIssuanceCost</td>\n",
       "      <td>us-gaap/2018</td>\n",
       "      <td>terseLabel</td>\n",
       "      <td>Write-off of debt issuance costs</td>\n",
       "      <td>0</td>\n",
       "      <td>1434728</td>\n",
       "      <td>GLOBAL WATER RESOURCES, INC.</td>\n",
       "      <td>4941.000000</td>\n",
       "      <td>10-K</td>\n",
       "      <td>1</td>\n",
       "      <td>IntExp</td>\n",
       "      <td>us-gaap/2020</td>\n",
       "    </tr>\n",
       "    <tr>\n",
       "      <th>3</th>\n",
       "      <td>1884297</td>\n",
       "      <td>0001434728-19-000051</td>\n",
       "      <td>7</td>\n",
       "      <td>6</td>\n",
       "      <td>CF</td>\n",
       "      <td>0</td>\n",
       "      <td>WriteOffOfDeferredDebtIssuanceCost</td>\n",
       "      <td>us-gaap/2018</td>\n",
       "      <td>terseLabel</td>\n",
       "      <td>Write-off of debt issuance costs</td>\n",
       "      <td>0</td>\n",
       "      <td>1434728</td>\n",
       "      <td>GLOBAL WATER RESOURCES, INC.</td>\n",
       "      <td>4941.000000</td>\n",
       "      <td>10-K</td>\n",
       "      <td>1</td>\n",
       "      <td>IntExp</td>\n",
       "      <td>us-gaap/2021</td>\n",
       "    </tr>\n",
       "    <tr>\n",
       "      <th>4</th>\n",
       "      <td>1884297</td>\n",
       "      <td>0001434728-19-000051</td>\n",
       "      <td>7</td>\n",
       "      <td>6</td>\n",
       "      <td>CF</td>\n",
       "      <td>0</td>\n",
       "      <td>WriteOffOfDeferredDebtIssuanceCost</td>\n",
       "      <td>us-gaap/2018</td>\n",
       "      <td>terseLabel</td>\n",
       "      <td>Write-off of debt issuance costs</td>\n",
       "      <td>0</td>\n",
       "      <td>1434728</td>\n",
       "      <td>GLOBAL WATER RESOURCES, INC.</td>\n",
       "      <td>4941.000000</td>\n",
       "      <td>10-K</td>\n",
       "      <td>1</td>\n",
       "      <td>IntExp</td>\n",
       "      <td>us-gaap/2022</td>\n",
       "    </tr>\n",
       "  </tbody>\n",
       "</table>\n",
       "</div>"
      ],
      "text/plain": [
       "   Unnamed: 0                  adsh  report  line stmt  inpth  \\\n",
       "0     1884297  0001434728-19-000051       7     6   CF      0   \n",
       "1     1884297  0001434728-19-000051       7     6   CF      0   \n",
       "2     1884297  0001434728-19-000051       7     6   CF      0   \n",
       "3     1884297  0001434728-19-000051       7     6   CF      0   \n",
       "4     1884297  0001434728-19-000051       7     6   CF      0   \n",
       "\n",
       "                                  tag     version_x       prole  \\\n",
       "0  WriteOffOfDeferredDebtIssuanceCost  us-gaap/2018  terseLabel   \n",
       "1  WriteOffOfDeferredDebtIssuanceCost  us-gaap/2018  terseLabel   \n",
       "2  WriteOffOfDeferredDebtIssuanceCost  us-gaap/2018  terseLabel   \n",
       "3  WriteOffOfDeferredDebtIssuanceCost  us-gaap/2018  terseLabel   \n",
       "4  WriteOffOfDeferredDebtIssuanceCost  us-gaap/2018  terseLabel   \n",
       "\n",
       "                             plabel  negating      cik  \\\n",
       "0  Write-off of debt issuance costs         0  1434728   \n",
       "1  Write-off of debt issuance costs         0  1434728   \n",
       "2  Write-off of debt issuance costs         0  1434728   \n",
       "3  Write-off of debt issuance costs         0  1434728   \n",
       "4  Write-off of debt issuance costs         0  1434728   \n",
       "\n",
       "                           name         sic  form  aggregation_level  \\\n",
       "0  GLOBAL WATER RESOURCES, INC. 4941.000000  10-K                  1   \n",
       "1  GLOBAL WATER RESOURCES, INC. 4941.000000  10-K                  1   \n",
       "2  GLOBAL WATER RESOURCES, INC. 4941.000000  10-K                  1   \n",
       "3  GLOBAL WATER RESOURCES, INC. 4941.000000  10-K                  1   \n",
       "4  GLOBAL WATER RESOURCES, INC. 4941.000000  10-K                  1   \n",
       "\n",
       "  broad_cat     version_y  \n",
       "0    IntExp  us-gaap/2018  \n",
       "1    IntExp  us-gaap/2019  \n",
       "2    IntExp  us-gaap/2020  \n",
       "3    IntExp  us-gaap/2021  \n",
       "4    IntExp  us-gaap/2022  "
      ]
     },
     "metadata": {},
     "output_type": "display_data"
    },
    {
     "data": {
      "text/html": [
       "<div>\n",
       "<style scoped>\n",
       "    .dataframe tbody tr th:only-of-type {\n",
       "        vertical-align: middle;\n",
       "    }\n",
       "\n",
       "    .dataframe tbody tr th {\n",
       "        vertical-align: top;\n",
       "    }\n",
       "\n",
       "    .dataframe thead th {\n",
       "        text-align: right;\n",
       "    }\n",
       "</style>\n",
       "<table border=\"1\" class=\"dataframe\">\n",
       "  <thead>\n",
       "    <tr style=\"text-align: right;\">\n",
       "      <th></th>\n",
       "      <th>Unnamed: 0</th>\n",
       "      <th>report</th>\n",
       "      <th>line</th>\n",
       "      <th>inpth</th>\n",
       "      <th>negating</th>\n",
       "      <th>cik</th>\n",
       "      <th>sic</th>\n",
       "      <th>aggregation_level</th>\n",
       "    </tr>\n",
       "  </thead>\n",
       "  <tbody>\n",
       "    <tr>\n",
       "      <th>count</th>\n",
       "      <td>1117146.000000</td>\n",
       "      <td>1117146.000000</td>\n",
       "      <td>1117146.000000</td>\n",
       "      <td>1117146.000000</td>\n",
       "      <td>1117146.000000</td>\n",
       "      <td>1117146.000000</td>\n",
       "      <td>1117146.000000</td>\n",
       "      <td>1117146.000000</td>\n",
       "    </tr>\n",
       "    <tr>\n",
       "      <th>mean</th>\n",
       "      <td>9801357.984700</td>\n",
       "      <td>6.534911</td>\n",
       "      <td>7.196157</td>\n",
       "      <td>0.000795</td>\n",
       "      <td>0.253201</td>\n",
       "      <td>1164213.917748</td>\n",
       "      <td>4444.624510</td>\n",
       "      <td>4.806712</td>\n",
       "    </tr>\n",
       "    <tr>\n",
       "      <th>std</th>\n",
       "      <td>5834445.573647</td>\n",
       "      <td>1.082882</td>\n",
       "      <td>5.507235</td>\n",
       "      <td>0.028182</td>\n",
       "      <td>0.434845</td>\n",
       "      <td>510772.420585</td>\n",
       "      <td>2093.821253</td>\n",
       "      <td>4.849207</td>\n",
       "    </tr>\n",
       "    <tr>\n",
       "      <th>min</th>\n",
       "      <td>141.000000</td>\n",
       "      <td>2.000000</td>\n",
       "      <td>1.000000</td>\n",
       "      <td>0.000000</td>\n",
       "      <td>0.000000</td>\n",
       "      <td>1750.000000</td>\n",
       "      <td>100.000000</td>\n",
       "      <td>1.000000</td>\n",
       "    </tr>\n",
       "    <tr>\n",
       "      <th>25%</th>\n",
       "      <td>5056928.000000</td>\n",
       "      <td>6.000000</td>\n",
       "      <td>2.000000</td>\n",
       "      <td>0.000000</td>\n",
       "      <td>0.000000</td>\n",
       "      <td>887921.000000</td>\n",
       "      <td>2834.000000</td>\n",
       "      <td>1.000000</td>\n",
       "    </tr>\n",
       "    <tr>\n",
       "      <th>50%</th>\n",
       "      <td>9840552.000000</td>\n",
       "      <td>6.000000</td>\n",
       "      <td>6.000000</td>\n",
       "      <td>0.000000</td>\n",
       "      <td>0.000000</td>\n",
       "      <td>1297989.000000</td>\n",
       "      <td>3826.000000</td>\n",
       "      <td>2.000000</td>\n",
       "    </tr>\n",
       "    <tr>\n",
       "      <th>75%</th>\n",
       "      <td>14333547.000000</td>\n",
       "      <td>7.000000</td>\n",
       "      <td>10.000000</td>\n",
       "      <td>0.000000</td>\n",
       "      <td>1.000000</td>\n",
       "      <td>1576940.000000</td>\n",
       "      <td>5912.000000</td>\n",
       "      <td>11.000000</td>\n",
       "    </tr>\n",
       "    <tr>\n",
       "      <th>max</th>\n",
       "      <td>21754110.000000</td>\n",
       "      <td>38.000000</td>\n",
       "      <td>106.000000</td>\n",
       "      <td>1.000000</td>\n",
       "      <td>1.000000</td>\n",
       "      <td>1937653.000000</td>\n",
       "      <td>9995.000000</td>\n",
       "      <td>15.000000</td>\n",
       "    </tr>\n",
       "  </tbody>\n",
       "</table>\n",
       "</div>"
      ],
      "text/plain": [
       "           Unnamed: 0         report           line          inpth  \\\n",
       "count  1117146.000000 1117146.000000 1117146.000000 1117146.000000   \n",
       "mean   9801357.984700       6.534911       7.196157       0.000795   \n",
       "std    5834445.573647       1.082882       5.507235       0.028182   \n",
       "min        141.000000       2.000000       1.000000       0.000000   \n",
       "25%    5056928.000000       6.000000       2.000000       0.000000   \n",
       "50%    9840552.000000       6.000000       6.000000       0.000000   \n",
       "75%   14333547.000000       7.000000      10.000000       0.000000   \n",
       "max   21754110.000000      38.000000     106.000000       1.000000   \n",
       "\n",
       "            negating            cik            sic  aggregation_level  \n",
       "count 1117146.000000 1117146.000000 1117146.000000     1117146.000000  \n",
       "mean        0.253201 1164213.917748    4444.624510           4.806712  \n",
       "std         0.434845  510772.420585    2093.821253           4.849207  \n",
       "min         0.000000    1750.000000     100.000000           1.000000  \n",
       "25%         0.000000  887921.000000    2834.000000           1.000000  \n",
       "50%         0.000000 1297989.000000    3826.000000           2.000000  \n",
       "75%         1.000000 1576940.000000    5912.000000          11.000000  \n",
       "max         1.000000 1937653.000000    9995.000000          15.000000  "
      ]
     },
     "metadata": {},
     "output_type": "display_data"
    },
    {
     "name": "stdout",
     "output_type": "stream",
     "text": [
      "<class 'pandas.core.frame.DataFrame'>\n",
      "Int64Index: 1117146 entries, 0 to 301770\n",
      "Data columns (total 18 columns):\n",
      " #   Column             Non-Null Count    Dtype  \n",
      "---  ------             --------------    -----  \n",
      " 0   Unnamed: 0         1117146 non-null  int64  \n",
      " 1   adsh               1117146 non-null  object \n",
      " 2   report             1117146 non-null  int64  \n",
      " 3   line               1117146 non-null  int64  \n",
      " 4   stmt               1117146 non-null  object \n",
      " 5   inpth              1117146 non-null  int64  \n",
      " 6   tag                1117146 non-null  object \n",
      " 7   version_x          1117146 non-null  object \n",
      " 8   prole              1117146 non-null  object \n",
      " 9   plabel             1117130 non-null  object \n",
      " 10  negating           1117146 non-null  int64  \n",
      " 11  cik                1117146 non-null  int64  \n",
      " 12  name               1117146 non-null  object \n",
      " 13  sic                1117146 non-null  float64\n",
      " 14  form               1117146 non-null  object \n",
      " 15  aggregation_level  1117146 non-null  int64  \n",
      " 16  broad_cat          1117056 non-null  object \n",
      " 17  version_y          1117146 non-null  object \n",
      "dtypes: float64(1), int64(7), object(10)\n",
      "memory usage: 161.9+ MB\n"
     ]
    },
    {
     "data": {
      "text/plain": [
       "None"
      ]
     },
     "metadata": {},
     "output_type": "display_data"
    }
   ],
   "source": [
    "# Descriptive stats and info\n",
    "\n",
    "display(df.head())\n",
    "display(df.describe())\n",
    "display(df.info())"
   ]
  },
  {
   "cell_type": "markdown",
   "id": "561a953f",
   "metadata": {},
   "source": [
    "# Explore"
   ]
  },
  {
   "cell_type": "markdown",
   "id": "dd015691",
   "metadata": {
    "ExecuteTime": {
     "end_time": "2022-09-29T19:17:06.033139Z",
     "start_time": "2022-09-29T19:17:06.004216Z"
    }
   },
   "source": [
    "## report"
   ]
  },
  {
   "cell_type": "code",
   "execution_count": 31,
   "id": "9d6bb961",
   "metadata": {
    "ExecuteTime": {
     "end_time": "2022-11-22T09:21:21.853049Z",
     "start_time": "2022-11-22T09:21:21.817140Z"
    }
   },
   "outputs": [
    {
     "data": {
      "text/plain": [
       "6     479731\n",
       "7     323295\n",
       "8     139608\n",
       "5     118227\n",
       "9      37789\n",
       "4       8985\n",
       "10      4527\n",
       "3       2811\n",
       "2        834\n",
       "11       564\n",
       "16       305\n",
       "12       149\n",
       "13        74\n",
       "27        70\n",
       "14        61\n",
       "15        38\n",
       "31        30\n",
       "35        15\n",
       "25        13\n",
       "28        10\n",
       "38        10\n",
       "Name: report, dtype: int64"
      ]
     },
     "execution_count": 31,
     "metadata": {},
     "output_type": "execute_result"
    }
   ],
   "source": [
    "df[\"report\"].value_counts()"
   ]
  },
  {
   "cell_type": "markdown",
   "id": "26fb3fa6",
   "metadata": {},
   "source": [
    "## line"
   ]
  },
  {
   "cell_type": "code",
   "execution_count": 32,
   "id": "23406668",
   "metadata": {
    "ExecuteTime": {
     "end_time": "2022-11-22T09:21:22.148783Z",
     "start_time": "2022-11-22T09:21:22.114874Z"
    }
   },
   "outputs": [
    {
     "data": {
      "text/plain": [
       "102"
      ]
     },
     "execution_count": 32,
     "metadata": {},
     "output_type": "execute_result"
    }
   ],
   "source": [
    "df[\"line\"].nunique()"
   ]
  },
  {
   "cell_type": "markdown",
   "id": "9fe83fa4",
   "metadata": {
    "ExecuteTime": {
     "end_time": "2022-09-29T19:19:24.035580Z",
     "start_time": "2022-09-29T19:19:24.016630Z"
    }
   },
   "source": [
    "\n",
    "## stmt"
   ]
  },
  {
   "cell_type": "code",
   "execution_count": 33,
   "id": "c3fe9561",
   "metadata": {
    "ExecuteTime": {
     "end_time": "2022-11-22T09:21:22.571704Z",
     "start_time": "2022-11-22T09:21:22.416141Z"
    }
   },
   "outputs": [
    {
     "data": {
      "text/plain": [
       "CF    1117146\n",
       "Name: stmt, dtype: int64"
      ]
     },
     "execution_count": 33,
     "metadata": {},
     "output_type": "execute_result"
    }
   ],
   "source": [
    "df[\"stmt\"].value_counts()"
   ]
  },
  {
   "cell_type": "markdown",
   "id": "b2e38e08",
   "metadata": {},
   "source": [
    "- redundant column"
   ]
  },
  {
   "cell_type": "markdown",
   "id": "6a86c507",
   "metadata": {
    "ExecuteTime": {
     "end_time": "2022-09-29T19:19:55.053776Z",
     "start_time": "2022-09-29T19:19:55.016873Z"
    }
   },
   "source": [
    "## inpth"
   ]
  },
  {
   "cell_type": "code",
   "execution_count": 34,
   "id": "35435e17",
   "metadata": {
    "ExecuteTime": {
     "end_time": "2022-11-22T09:21:22.918429Z",
     "start_time": "2022-11-22T09:21:22.893495Z"
    }
   },
   "outputs": [
    {
     "data": {
      "text/plain": [
       "0    1116258\n",
       "1        888\n",
       "Name: inpth, dtype: int64"
      ]
     },
     "execution_count": 34,
     "metadata": {},
     "output_type": "execute_result"
    }
   ],
   "source": [
    "df[\"inpth\"].value_counts()"
   ]
  },
  {
   "cell_type": "markdown",
   "id": "c44fbb08",
   "metadata": {
    "ExecuteTime": {
     "end_time": "2022-09-29T19:20:19.355914Z",
     "start_time": "2022-09-29T19:20:19.334969Z"
    }
   },
   "source": [
    "## tag"
   ]
  },
  {
   "cell_type": "code",
   "execution_count": 35,
   "id": "9cd42c4b",
   "metadata": {
    "ExecuteTime": {
     "end_time": "2022-11-22T09:21:23.620029Z",
     "start_time": "2022-11-22T09:21:23.202147Z"
    }
   },
   "outputs": [
    {
     "data": {
      "text/plain": [
       "344"
      ]
     },
     "metadata": {},
     "output_type": "display_data"
    },
    {
     "data": {
      "text/plain": [
       "NetIncomeLoss                                                                                                  186610\n",
       "ProfitLoss                                                                                                     147490\n",
       "DeferredIncomeTaxExpenseBenefit                                                                                105250\n",
       "ProvisionForDoubtfulAccounts                                                                                    67820\n",
       "GainsLossesOnExtinguishmentOfDebt                                                                               56505\n",
       "DepreciationAndAmortization                                                                                     54460\n",
       "GainLossOnSaleOfPropertyPlantEquipment                                                                          49280\n",
       "AmortizationOfIntangibleAssets                                                                                  35180\n",
       "AssetImpairmentCharges                                                                                          30100\n",
       "AmortizationOfFinancingCosts                                                                                    29148\n",
       "IncomeLossFromEquityMethodInvestments                                                                           28060\n",
       "GainLossOnDispositionOfAssets1                                                                                  26205\n",
       "InventoryWriteDown                                                                                              21950\n",
       "GainLossOnDispositionOfAssets                                                                                   19740\n",
       "ForeignCurrencyTransactionGainLossUnrealized                                                                    14980\n",
       "GainLossOnSaleOfBusiness                                                                                        11970\n",
       "ForeignCurrencyTransactionGainLossBeforeTax                                                                     11705\n",
       "GoodwillImpairmentLoss                                                                                          11100\n",
       "AllocatedShareBasedCompensationExpense                                                                           9440\n",
       "IncomeLossFromDiscontinuedOperationsNetOfTax                                                                     8675\n",
       "IncomeLossFromContinuingOperationsIncludingPortionAttributableToNoncontrollingInterest                           7160\n",
       "GainLossOnInvestments                                                                                            6830\n",
       "AccretionExpense                                                                                                 6775\n",
       "ImpairmentOfLongLivedAssetsHeldForUse                                                                            6720\n",
       "AssetRetirementObligationAccretionExpense                                                                        5810\n",
       "GoodwillAndIntangibleAssetImpairment                                                                             5370\n",
       "OtherDepreciationAndAmortization                                                                                 5120\n",
       "GainLossOnDerivativeInstrumentsNetPretax                                                                         4910\n",
       "FinanceLeaseRightOfUseAssetAmortization                                                                          4400\n",
       "GainLossOnSaleOfOtherAssets                                                                                      4330\n",
       "ImpairmentOfIntangibleAssetsFinitelived                                                                          3770\n",
       "InvestmentIncomeNetAmortizationOfDiscountAndPremium                                                              3755\n",
       "ImpairmentOfLongLivedAssetsToBeDisposedOf                                                                        3570\n",
       "NetIncomeLossAvailableToCommonStockholdersBasic                                                                  3520\n",
       "OperatingLeaseExpense                                                                                            3512\n",
       "DisposalGroupNotDiscontinuedOperationGainLossOnDisposal                                                          3420\n",
       "WriteOffOfDeferredDebtIssuanceCost                                                                               3290\n",
       "ImpairmentOfIntangibleAssetsExcludingGoodwill                                                                    2915\n",
       "ResearchAndDevelopmentInProcess                                                                                  2750\n",
       "OperatingLeaseImpairmentLoss                                                                                     2604\n",
       "EquityMethodInvestmentRealizedGainLossOnDisposal                                                                 2455\n",
       "ImpairmentOfOilAndGasProperties                                                                                  2445\n",
       "DebtInstrumentConvertibleBeneficialConversionFeature                                                             2370\n",
       "GainLossOnSaleOfDerivatives                                                                                      2330\n",
       "DerivativeInstrumentsNotDesignatedAsHedgingInstrumentsGainLossNet                                                2290\n",
       "ImpairmentOfIntangibleAssetsIndefinitelivedExcludingGoodwill                                                     2185\n",
       "ForeignCurrencyTransactionGainLossRealized                                                                       2165\n",
       "RestructuringCharges                                                                                             2120\n",
       "GainLossRelatedToLitigationSettlement                                                                            2060\n",
       "GainLossOnDispositionOfIntangibleAssets                                                                          2040\n",
       "AmortizationOfDeferredCharges                                                                                    2000\n",
       "OtherAmortizationOfDeferredCharges                                                                               1950\n",
       "AmortizationOfDeferredSalesCommissions                                                                           1865\n",
       "NetIncomeLossAttributableToNoncontrollingInterest                                                                1745\n",
       "GainLossOnTerminationOfLease                                                                                     1720\n",
       "PublicUtilitiesAllowanceForFundsUsedDuringConstructionCapitalizedCostOfEquity                                    1720\n",
       "DeconsolidationGainOrLossAmount                                                                                  1665\n",
       "ProvisionForLoanLeaseAndOtherLosses                                                                              1590\n",
       "InterestExpense                                                                                                  1590\n",
       "InterestExpenseDebt                                                                                              1575\n",
       "GainsLossesOnRestructuringOfDebt                                                                                 1555\n",
       "BusinessCombinationBargainPurchaseGainRecognizedAmount                                                           1495\n",
       "TangibleAssetImpairmentCharges                                                                                   1475\n",
       "GainsLossesOnSalesOfAssets                                                                                       1460\n",
       "InvestmentIncomeInterest                                                                                         1435\n",
       "EquityMethodInvestmentOtherThanTemporaryImpairment                                                               1275\n",
       "RealizedInvestmentGainsLosses                                                                                    1235\n",
       "ProvisionForLoanAndLeaseLosses                                                                                   1204\n",
       "GainOrLossOnSaleOfStockInSubsidiary                                                                              1180\n",
       "IncomeTaxExpenseBenefit                                                                                          1175\n",
       "InvestmentIncomeAmortizationOfPremium                                                                            1135\n",
       "AccretionExpenseIncludingAssetRetirementObligations                                                              1130\n",
       "ProvisionForOtherLosses                                                                                          1095\n",
       "GainLossOnContractTermination                                                                                    1070\n",
       "ProductWarrantyExpense                                                                                           1045\n",
       "GainLossOnSaleOfProperty                                                                                         1000\n",
       "DepreciationNonproduction                                                                                         950\n",
       "ExplorationAbandonmentAndImpairmentExpense                                                                        935\n",
       "EquitySecuritiesFvNiRealizedGainLoss                                                                              915\n",
       "DefinedBenefitPlanRecognizedNetGainLossDueToSettlements1                                                          890\n",
       "GainLossOnSaleOfOilAndGasProperty                                                                                 860\n",
       "GainsLossesOnExtinguishmentOfDebtBeforeWriteOffOfDeferredDebtIssuanceCost                                         855\n",
       "AmortizationOfDeferredLoanOriginationFeesNet                                                                      845\n",
       "DebtSecuritiesAvailableForSaleRealizedGainLoss                                                                    830\n",
       "ProvisionForOtherCreditLosses                                                                                     825\n",
       "AmortizationOfAcquisitionCosts                                                                                    785\n",
       "InducedConversionOfConvertibleDebtExpense                                                                         720\n",
       "ResearchAndDevelopmentAssetAcquiredOtherThanThroughBusinessCombinationWrittenOff                                  715\n",
       "CostOfGoodsAndServicesSoldAmortization                                                                            710\n",
       "GainLossOnRepurchaseOfDebtInstrument                                                                              665\n",
       "InterestExpenseOther                                                                                              665\n",
       "ProvisionForLoanLossesExpensed                                                                                    645\n",
       "ProductionRelatedImpairmentsOrCharges                                                                             640\n",
       "LitigationSettlementExpense                                                                                       635\n",
       "AmortizationOfDeferredHedgeGains                                                                                  630\n",
       "RestructuringSettlementAndImpairmentProvisions                                                                    620\n",
       "InterestExpenseRelatedParty                                                                                       600\n",
       "DisposalGroupNotDiscontinuedOperationLossGainOnWriteDown                                                          595\n",
       "LossContingencyLossInPeriod                                                                                       595\n",
       "DeferredOtherTaxExpenseBenefit                                                                                    590\n",
       "DebtRelatedCommitmentFeesAndDebtIssuanceCosts                                                                     590\n",
       "FinanceLeaseInterestExpense                                                                                       560\n",
       "CostOfGoodsAndServicesSoldDepreciation                                                                            525\n",
       "ImpairmentOfLeasehold                                                                                             525\n",
       "DebtAndEquitySecuritiesRealizedGainLoss                                                                           510\n",
       "GainOnBusinessInterruptionInsuranceRecovery                                                                       500\n",
       "PublicUtilitiesAllowanceForFundsUsedDuringConstructionAdditions                                                   495\n",
       "InvestmentIncomeAmortizationOfDiscount                                                                            490\n",
       "SaleAndLeasebackTransactionGainLossNet                                                                            480\n",
       "CostOfGoodsAndServicesSoldDepreciationAndAmortization                                                             470\n",
       "GainLossOnSaleOfLeasedAssetsNetOperatingLeases                                                                    450\n",
       "IncomeLossFromContinuingOperationsBeforeIncomeTaxesExtraordinaryItemsNoncontrollingInterest                       450\n",
       "DiscontinuedOperationIncomeLossFromDiscontinuedOperationBeforeIncomeTax                                           435\n",
       "GainLossOnSaleOfStockInSubsidiaryOrEquityMethodInvestee                                                           425\n",
       "OtherNonoperatingGainsLosses                                                                                      410\n",
       "BusinessCombinationAcquisitionRelatedCosts                                                                        410\n",
       "AmortizationOfLeasedAsset                                                                                         389\n",
       "OtherOperatingIncomeExpenseNet                                                                                    375\n",
       "GainLossOnOilAndGasHedgingActivity                                                                                370\n",
       "AmortizationOfRegulatoryAsset                                                                                     355\n",
       "OtherNonoperatingIncomeExpense                                                                                    340\n",
       "CostDepreciationAmortizationAndDepletion                                                                          320\n",
       "InterestAndDebtExpense                                                                                            310\n",
       "InvestmentIncomeNet                                                                                               290\n",
       "SeveranceCosts1                                                                                                   280\n",
       "InsuranceRecoveries                                                                                               280\n",
       "EnvironmentalRemediationExpense                                                                                   270\n",
       "AmortizationOfLeaseIncentives                                                                                     267\n",
       "LegalFees                                                                                                         255\n",
       "IncomeTaxExpenseBenefitContinuingOperationsAdjustmentOfDeferredTaxAssetLiability                                  245\n",
       "ImpairmentOfRealEstate                                                                                            235\n",
       "GainLossOnSaleOfPreviouslyUnissuedStockBySubsidiaryOrEquityInvesteeNonoperatingIncome                             225\n",
       "GainLossOnInterestRateDerivativeInstrumentsNotDesignatedAsHedgingInstruments                                      220\n",
       "BusinessExitCosts1                                                                                                215\n",
       "NetInvestmentIncome                                                                                               215\n",
       "NetPeriodicDefinedBenefitsExpenseReversalOfExpenseExcludingServiceCostComponent                                   215\n",
       "InterestExpenseLongTermDebt                                                                                       215\n",
       "DepletionOfOilAndGasProperties                                                                                    210\n",
       "GainLossOnSalesOfLoansNet                                                                                         205\n",
       "InterestIncomeRelatedParty                                                                                        200\n",
       "FinancingInterestExpense                                                                                          175\n",
       "InterestExpenseShortTermBorrowings                                                                                175\n",
       "DeferredFederalStateAndLocalTaxExpenseBenefit                                                                     174\n",
       "PreferredStockDividendsAndOtherAdjustments                                                                        170\n",
       "TaxAdjustmentsSettlementsAndUnusualProvisions                                                                     170\n",
       "ImpairmentOfOngoingProject                                                                                        165\n",
       "AmortizationOfAdvanceRoyalty                                                                                      160\n",
       "DiscontinuedOperationGainLossFromDisposalOfDiscontinuedOperationBeforeIncomeTax                                   159\n",
       "VentureCapitalGainsLossesNet                                                                                      150\n",
       "TemporaryEquityAccretionToRedemptionValueAdjustment                                                               146\n",
       "GainLossOnCondemnation                                                                                            145\n",
       "OperatingIncomeLoss                                                                                               145\n",
       "OtherIncome                                                                                                       140\n",
       "NonoperatingGainsLosses                                                                                           135\n",
       "OtherRestructuringCosts                                                                                           135\n",
       "IncomeLossFromContinuingOperationsBeforeIncomeTaxesMinorityInterestAndIncomeLossFromEquityMethodInvestments       130\n",
       "DebtSecuritiesRealizedGainLoss                                                                                    125\n",
       "OtherNonoperatingExpense                                                                                          115\n",
       "NetIncomeLossAttributableToRedeemableNoncontrollingInterest                                                       115\n",
       "SalesTypeLeaseSellingProfitLoss                                                                                   112\n",
       "AmortizationOfPowerContractsEmissionCredits                                                                       110\n",
       "AmortizationOfNuclearFuelLease                                                                                    110\n",
       "OtherTaxExpenseBenefit                                                                                            110\n",
       "RecapitalizationCosts                                                                                             110\n",
       "DeferredSalesInducementsAmortizationExpense                                                                       105\n",
       "OtherNonoperatingIncome                                                                                           100\n",
       "DeferredFederalIncomeTaxExpenseBenefit                                                                             96\n",
       "OtherCostAndExpenseOperating                                                                                       95\n",
       "ProfessionalFees                                                                                                   95\n",
       "SaleLeasebackTransactionCurrentPeriodGainRecognized                                                                91\n",
       "LitigationSettlementAmountAwardedToOtherParty                                                                      90\n",
       "AmortizationOfMortgageServicingRightsMSRs                                                                          90\n",
       "LeaseAndRentalExpense                                                                                              90\n",
       "RelatedPartyCosts                                                                                                  90\n",
       "InventoryFirmPurchaseCommitmentLoss                                                                                90\n",
       "InvestmentIncomeNonoperating                                                                                       90\n",
       "FinanceLeaseImpairmentLoss                                                                                         80\n",
       "ResearchAndDevelopmentExpenseSoftwareExcludingAcquiredInProcessCost                                                80\n",
       "AmortizationOfDeferredPropertyTaxes                                                                                80\n",
       "SalariesWagesAndOfficersCompensation                                                                               80\n",
       "DeferredPolicyAcquisitionCostAmortizationExpense                                                                   80\n",
       "UnusualOrInfrequentItemInsuranceProceeds                                                                           76\n",
       "InterestIncomeOperating                                                                                            75\n",
       "GainLossOnSaleOfMortgageLoans                                                                                      75\n",
       "GainLossOnSecuritizationOfFinancialAssets                                                                          75\n",
       "InterestIncomePurchasedReceivables                                                                                 75\n",
       "GainLossFromPriceRiskManagementActivity                                                                            75\n",
       "DiscontinuedOperationTaxEffectOfDiscontinuedOperation                                                              75\n",
       "GainLossOnSalesOfConsumerLoans                                                                                     75\n",
       "NonoperatingIncomeExpense                                                                                          75\n",
       "OperatingLeaseLeaseIncome                                                                                          72\n",
       "LitigationSettlementAmountAwardedFromOtherParty                                                                    70\n",
       "InterestExpenseCapitalSecurities                                                                                   70\n",
       "ImpairmentOfRetainedInterest                                                                                       68\n",
       "AmortizationAndDepreciationOfDecontaminatingAndDecommissioningAssets                                               65\n",
       "ResearchAndDevelopmentExpense                                                                                      65\n",
       "OfficersCompensation                                                                                               65\n",
       "NetIncomeLossAvailableToCommonStockholdersDiluted                                                                  65\n",
       "LossFromCatastrophes                                                                                               65\n",
       "AmortizationOfDeferredLeasingFees                                                                                  62\n",
       "AmortizationOfValueOfBusinessAcquiredVOBA                                                                          60\n",
       "RevenueFromRelatedParties                                                                                          55\n",
       "GainLossOnSaleOfInsuranceBlock                                                                                     55\n",
       "AdvertisingExpense                                                                                                 55\n",
       "InterestExpenseTradingLiabilities                                                                                  55\n",
       "UnusualOrInfrequentItemNetGainLoss                                                                                 55\n",
       "InterestIncomeDepositsWithFinancialInstitutions                                                                    55\n",
       "CurrentIncomeTaxExpenseBenefit                                                                                     55\n",
       "InvestmentIncomeInterestAndDividend                                                                                50\n",
       "DeferredForeignIncomeTaxExpenseBenefit                                                                             50\n",
       "LossOnContracts                                                                                                    50\n",
       "RoyaltyExpense                                                                                                     50\n",
       "CostOfGoodsSoldSalesTypeLease                                                                                      48\n",
       "ConvertiblePreferredStockConvertedToOtherSecurities                                                                48\n",
       "InterestExpenseSubordinatedNotesAndDebentures                                                                      45\n",
       "InventoryRecallExpense                                                                                             45\n",
       "DividendIncomeOperating                                                                                            45\n",
       "RestatementDomain                                                                                                  45\n",
       "ProductsAndServicesDomain                                                                                          45\n",
       "OperatingLeasesIncomeStatementDepreciationExpenseOnPropertySubjectToOrHeldForLease                                 43\n",
       "RestatementAdjustmentMember                                                                                        40\n",
       "UnusualOrInfrequentItemNetOfInsuranceProceeds                                                                      40\n",
       "ExplorationExpense                                                                                                 40\n",
       "LeveragedLeasesIncomeStatementNetIncomeFromLeveragedLeases                                                         40\n",
       "GainOrLossOnSaleOfPreviouslyUnissuedStockBySubsidiary                                                              40\n",
       "GainsLossesOnRecourseDebt                                                                                          36\n",
       "GainLossOnSaleOfInterestInProjects                                                                                 35\n",
       "InterestAndFeeIncomeLoansLeaseFinancing                                                                            35\n",
       "InterestExpenseTrustPreferredSecurities                                                                            35\n",
       "EmployeeServiceShareBasedCompensationTaxBenefitFromCompensationExpense                                             35\n",
       "DistributionsOnMandatorilyRedeemableSecurities                                                                     35\n",
       "OtherNonrecurringIncomeExpense                                                                                     35\n",
       "InterestExpenseOtherLongTermDebt                                                                                   35\n",
       "GainLossOnSaleOfCapitalLeasesNet                                                                                   33\n",
       "OtherUnderwritingExpense                                                                                           30\n",
       "FranchisorCosts                                                                                                    30\n",
       "CostOfGoodsAndServicesSold                                                                                         30\n",
       "GainLossOnSaleOfTimberProperty                                                                                     30\n",
       "GainLossOnDispositionOfOtherFinancialAssets                                                                        30\n",
       "GainsLossesOnSalesOfOtherRealEstate                                                                                30\n",
       "DebtSecuritiesTradingRealizedGainLoss                                                                              30\n",
       "InvestmentIncomeDividend                                                                                           30\n",
       "DirectFinancingLeaseImpairmentLoss                                                                                 28\n",
       "OtherGeneralAndAdministrativeExpense                                                                               25\n",
       "ConversionGainsAndLossesOnForeignInvestments                                                                       25\n",
       "AffiliateCosts                                                                                                     25\n",
       "InterestIncomeDomesticDeposits                                                                                     25\n",
       "ProvisionForLeaseLosses                                                                                            25\n",
       "GainLossOnDerivativeInstrumentsHeldForTradingPurposesNet                                                           25\n",
       "OtherSellingGeneralAndAdministrativeExpense                                                                        25\n",
       "WarrantDownRoundFeatureIncreaseDecreaseInEquityAmount                                                              25\n",
       "BusinessCombinationIntegrationRelatedCosts                                                                         25\n",
       "OperatingLeasesRentExpenseNet                                                                                      24\n",
       "OtherExpenses                                                                                                      23\n",
       "PreferredStockDividendsIncomeStatementImpact                                                                       23\n",
       "RedeemablePreferredStockDividends                                                                                  22\n",
       "InterestExpenseLesseeAssetsUnderCapitalLease                                                                       22\n",
       "TaxesOther                                                                                                         20\n",
       "HeldToMaturitySecuritiesSoldSecurityRealizedGainLoss                                                               20\n",
       "NetIncomeLossAttributableToNonredeemableNoncontrollingInterest                                                     20\n",
       "WeightedAverageNumberOfSharesOutstandingBasic                                                                      20\n",
       "ProfessionalAndContractServicesExpense                                                                             20\n",
       "GainOrLossOnSaleOfPreviouslyUnissuedStockByEquityInvestee                                                          20\n",
       "PreferredStockConversionsInducements                                                                               19\n",
       "DisposalGroupIncludingDiscontinuedOperationForeignCurrencyTranslationGainsLosses                                   19\n",
       "TemporaryEquityDividendsAdjustment                                                                                 17\n",
       "GainLossOnNonRecourseDebt                                                                                          16\n",
       "SellingGeneralAndAdministrativeExpense                                                                             15\n",
       "LicenseMember                                                                                                      15\n",
       "OtherGeneralExpense                                                                                                15\n",
       "ManagementFeeExpense                                                                                               15\n",
       "InterestExpenseBeneficialInterestsIssuedByConsolidatedVariableInterestEntities                                     15\n",
       "DisposalGroupIncludingDiscontinuedOperationGrossProfitLoss                                                         15\n",
       "DiscontinuedOperationIncomeLossFromDiscontinuedOperationDuringPhaseOutPeriodBeforeIncomeTax                        15\n",
       "ResearchAndDevelopmentExpenseExcludingAcquiredInProcessCost                                                        15\n",
       "LicenseAndServiceMember                                                                                            15\n",
       "InterestExpenseBorrowings                                                                                          15\n",
       "ProductMember                                                                                                      15\n",
       "DiscontinuedOperationProvisionForLossGainOnDisposalBeforeIncomeTax                                                 14\n",
       "PreferredStockRedemptionPremium                                                                                    14\n",
       "OperatingLeasesRentExpenseContingentRentals                                                                        14\n",
       "OtherNonrecurringExpense                                                                                           13\n",
       "NoninterestIncome                                                                                                  12\n",
       "SponsorFees                                                                                                        10\n",
       "InterestIncomeMoneyMarketDeposits                                                                                  10\n",
       "SalariesAndWages                                                                                                   10\n",
       "GainLossOnSaleOfPropertiesBeforeApplicableIncomeTaxes                                                              10\n",
       "GainLossOnSaleOfUnprovedProperty                                                                                   10\n",
       "WeightedAverageNumberOfDilutedSharesOutstanding                                                                    10\n",
       "RecoveryOfDirectCosts                                                                                              10\n",
       "CarryingCostsPropertyAndExplorationRights                                                                          10\n",
       "InterestIncomeSecuritiesTaxable                                                                                    10\n",
       "NetIncomeLossPerOutstandingLimitedPartnershipUnitBasicNetOfTax                                                     10\n",
       "InterestExpenseCustomerDeposits                                                                                    10\n",
       "RealEstateTaxExpense                                                                                               10\n",
       "CostOfOtherPropertyOperatingExpense                                                                                10\n",
       "LitigationSettlementInterest                                                                                       10\n",
       "InterestOnConvertibleDebtNetOfTax                                                                                   9\n",
       "ConvertiblePreferredDividendsNetOfTax                                                                               9\n",
       "PreferredStockRedemptionDiscount                                                                                    8\n",
       "OtherPreferredStockDividendsAndAdjustments                                                                          7\n",
       "StockOptionDownRoundFeatureIncreaseDecreaseInEquityAmount                                                           7\n",
       "DirectCostsOfLeasedAndRentedPropertyOrEquipment                                                                     6\n",
       "ImpairmentLessorAssetUnderOperatingLease                                                                            6\n",
       "InvestmentIncomeInvestmentExpense                                                                                   5\n",
       "CostOfRevenue                                                                                                       5\n",
       "EarningsPerShareDiluted                                                                                             5\n",
       "OperatingCostsAndExpenses                                                                                           5\n",
       "ManufacturingCosts                                                                                                  5\n",
       "MarketingExpense                                                                                                    5\n",
       "RecoveryStrandedCosts                                                                                               5\n",
       "SaleOfTrustAssetsToPayExpenses                                                                                      5\n",
       "ImpairmentLossesRelatedToRealEstatePartnerships                                                                     5\n",
       "UndistributedEarningsLossAllocatedToParticipatingSecuritiesBasic                                                    5\n",
       "DisposalGroupIncludingDiscontinuedOperationOperatingIncomeLoss                                                      5\n",
       "UnrecognizedTaxBenefitsIncomeTaxPenaltiesAndInterestExpense                                                         5\n",
       "GrossProfit                                                                                                         5\n",
       "FuelCosts                                                                                                           5\n",
       "InterestAndFeeIncomeLoansAndLeases                                                                                  5\n",
       "IncentiveFeeExpense                                                                                                 5\n",
       "DirectTaxesAndLicensesCosts                                                                                         5\n",
       "UnrecognizedTaxBenefitsInterestOnIncomeTaxesExpense                                                                 5\n",
       "TaxesExcludingIncomeAndExciseTaxes                                                                                  5\n",
       "RoyaltyIncomeNonoperating                                                                                           5\n",
       "OperatingExpenses                                                                                                   5\n",
       "OtherOperatingIncome                                                                                                5\n",
       "Revenues                                                                                                            5\n",
       "AffordableHousingProjectInvestmentWriteDownAmount                                                                   5\n",
       "GainLossOnSaleOfProvedProperty                                                                                      5\n",
       "FloorBrokerage                                                                                                      5\n",
       "IncrementalCommonSharesAttributableToConversionOfPreferredStock                                                     4\n",
       "DirectFinancingLeaseInterestIncome                                                                                  4\n",
       "ImpairmentExcludingLessorAssetUnderOperatingLease                                                                   4\n",
       "UnusualOrInfrequentItemGainGross                                                                                    4\n",
       "DiscontinuedOperationTaxExpenseBenefitFromProvisionForGainLossOnDisposal                                            4\n",
       "SalesTypeLeaseImpairmentLoss                                                                                        4\n",
       "DiscontinuedOperationTaxEffectOfIncomeLossFromDisposalOfDiscontinuedOperation                                       3\n",
       "OperatingLeasesRentExpenseSubleaseRentals1                                                                          3\n",
       "OtherNonrecurringIncome                                                                                             3\n",
       "GainLossOnSaleOfPropertiesNetOfApplicableIncomeTaxes                                                                2\n",
       "DiscontinuedOperationAmountOfAdjustmentToPriorPeriodGainLossOnDisposalBeforeIncomeTax                               2\n",
       "GeneralPartnerDistributions                                                                                         2\n",
       "IncrementalCommonSharesAttributableToCallOptionsAndWarrants                                                         1\n",
       "OperatingLeasesIncomeStatementLeaseRevenue                                                                          1\n",
       "Name: tag, dtype: int64"
      ]
     },
     "metadata": {},
     "output_type": "display_data"
    }
   ],
   "source": [
    "with pd.option_context(\"display.max_rows\",None):\n",
    "    display(df[\"tag\"].nunique())\n",
    "    display(df[\"tag\"].value_counts())"
   ]
  },
  {
   "cell_type": "markdown",
   "id": "d24f9c73",
   "metadata": {},
   "source": [
    "- redundant"
   ]
  },
  {
   "cell_type": "markdown",
   "id": "57e2add0",
   "metadata": {
    "ExecuteTime": {
     "end_time": "2022-09-29T19:22:07.296133Z",
     "start_time": "2022-09-29T19:22:07.281117Z"
    }
   },
   "source": [
    "## prole"
   ]
  },
  {
   "cell_type": "code",
   "execution_count": 36,
   "id": "607779c6",
   "metadata": {
    "ExecuteTime": {
     "end_time": "2022-11-22T09:21:23.837448Z",
     "start_time": "2022-11-22T09:21:23.674882Z"
    }
   },
   "outputs": [
    {
     "data": {
      "text/plain": [
       "terseLabel              506898\n",
       "negatedLabel            197106\n",
       "label                   159816\n",
       "verboseLabel            154201\n",
       "negatedTerseLabel        84971\n",
       "netLabel                  5434\n",
       "totalLabel                5365\n",
       "definitionGuidance         939\n",
       "negatedNetLabel            760\n",
       "positiveLabel              704\n",
       "positiveTerseLabel         400\n",
       "presentationGuidance       284\n",
       "disclosureGuidance         143\n",
       "measurementGuidance         40\n",
       "commentaryGuidance          25\n",
       "negatedTotalLabel           25\n",
       "zeroTerseLabel              20\n",
       "positiveVerboseLabel        15\n",
       "Name: prole, dtype: int64"
      ]
     },
     "execution_count": 36,
     "metadata": {},
     "output_type": "execute_result"
    }
   ],
   "source": [
    "df[\"prole\"].value_counts()"
   ]
  },
  {
   "cell_type": "markdown",
   "id": "309af052",
   "metadata": {
    "ExecuteTime": {
     "end_time": "2022-09-29T19:22:49.553112Z",
     "start_time": "2022-09-29T19:22:49.533167Z"
    }
   },
   "source": [
    "## plabel"
   ]
  },
  {
   "cell_type": "code",
   "execution_count": 37,
   "id": "b7c8e183",
   "metadata": {
    "ExecuteTime": {
     "end_time": "2022-11-22T09:21:24.195148Z",
     "start_time": "2022-11-22T09:21:24.006652Z"
    }
   },
   "outputs": [
    {
     "data": {
      "text/plain": [
       "15911"
      ]
     },
     "metadata": {},
     "output_type": "display_data"
    }
   ],
   "source": [
    "with pd.option_context(\"display.max_rows\",None):\n",
    "    display(df[\"plabel\"].nunique())"
   ]
  },
  {
   "cell_type": "markdown",
   "id": "db1fd0b3",
   "metadata": {
    "ExecuteTime": {
     "end_time": "2022-09-29T19:23:41.019897Z",
     "start_time": "2022-09-29T19:23:41.000888Z"
    }
   },
   "source": [
    "## negating"
   ]
  },
  {
   "cell_type": "code",
   "execution_count": 38,
   "id": "5f9c1146",
   "metadata": {
    "ExecuteTime": {
     "end_time": "2022-11-22T09:21:24.442277Z",
     "start_time": "2022-11-22T09:21:24.404380Z"
    }
   },
   "outputs": [
    {
     "data": {
      "text/plain": [
       "0    834284\n",
       "1    282862\n",
       "Name: negating, dtype: int64"
      ]
     },
     "execution_count": 38,
     "metadata": {},
     "output_type": "execute_result"
    }
   ],
   "source": [
    "df[\"negating\"].value_counts()"
   ]
  },
  {
   "cell_type": "markdown",
   "id": "9093aa71",
   "metadata": {
    "ExecuteTime": {
     "end_time": "2022-09-29T19:23:55.478590Z",
     "start_time": "2022-09-29T19:23:55.459641Z"
    }
   },
   "source": [
    "## name"
   ]
  },
  {
   "cell_type": "code",
   "execution_count": 39,
   "id": "97d2b949",
   "metadata": {
    "ExecuteTime": {
     "end_time": "2022-11-22T09:21:24.972185Z",
     "start_time": "2022-11-22T09:21:24.727808Z"
    }
   },
   "outputs": [
    {
     "data": {
      "text/plain": [
       "6890"
      ]
     },
     "execution_count": 39,
     "metadata": {},
     "output_type": "execute_result"
    }
   ],
   "source": [
    "df[\"name\"].nunique()"
   ]
  },
  {
   "cell_type": "markdown",
   "id": "daa1cad0",
   "metadata": {
    "ExecuteTime": {
     "end_time": "2022-09-29T19:24:17.303533Z",
     "start_time": "2022-09-29T19:24:17.287247Z"
    }
   },
   "source": [
    "## form"
   ]
  },
  {
   "cell_type": "code",
   "execution_count": 40,
   "id": "f0b49b3c",
   "metadata": {
    "ExecuteTime": {
     "end_time": "2022-11-22T09:21:25.251898Z",
     "start_time": "2022-11-22T09:21:25.087338Z"
    }
   },
   "outputs": [
    {
     "data": {
      "text/plain": [
       "10-Q    819459\n",
       "10-K    297687\n",
       "Name: form, dtype: int64"
      ]
     },
     "execution_count": 40,
     "metadata": {},
     "output_type": "execute_result"
    }
   ],
   "source": [
    "df[\"form\"].value_counts()"
   ]
  },
  {
   "cell_type": "markdown",
   "id": "78135174",
   "metadata": {},
   "source": [
    "## broad_cat"
   ]
  },
  {
   "cell_type": "code",
   "execution_count": 41,
   "id": "b147262e",
   "metadata": {
    "ExecuteTime": {
     "end_time": "2022-11-22T09:21:25.699126Z",
     "start_time": "2022-11-22T09:21:25.427156Z"
    }
   },
   "outputs": [
    {
     "data": {
      "text/plain": [
       "7"
      ]
     },
     "metadata": {},
     "output_type": "display_data"
    },
    {
     "data": {
      "text/plain": [
       "OpExp            443726\n",
       "Profitability    352545\n",
       "Tax              107960\n",
       "NonOp             99774\n",
       "IntExp            99407\n",
       "Revenues          10004\n",
       "PerShare           3640\n",
       "Name: broad_cat, dtype: int64"
      ]
     },
     "metadata": {},
     "output_type": "display_data"
    }
   ],
   "source": [
    "with pd.option_context(\"display.max_rows\",None):\n",
    "    display(df[\"broad_cat\"].nunique())\n",
    "    display(df[\"broad_cat\"].value_counts())"
   ]
  },
  {
   "cell_type": "markdown",
   "id": "dea3ce71",
   "metadata": {},
   "source": [
    "# Correlations"
   ]
  },
  {
   "cell_type": "code",
   "execution_count": 42,
   "id": "28e5559c",
   "metadata": {
    "ExecuteTime": {
     "end_time": "2022-11-22T09:21:31.389604Z",
     "start_time": "2022-11-22T09:21:27.697358Z"
    }
   },
   "outputs": [],
   "source": [
    "# Drop nulls\n",
    "df = df.dropna()"
   ]
  },
  {
   "cell_type": "code",
   "execution_count": 44,
   "id": "4b4f29f3",
   "metadata": {},
   "outputs": [
    {
     "data": {
      "text/html": [
       "<div>\n",
       "<style scoped>\n",
       "    .dataframe tbody tr th:only-of-type {\n",
       "        vertical-align: middle;\n",
       "    }\n",
       "\n",
       "    .dataframe tbody tr th {\n",
       "        vertical-align: top;\n",
       "    }\n",
       "\n",
       "    .dataframe thead th {\n",
       "        text-align: right;\n",
       "    }\n",
       "</style>\n",
       "<table border=\"1\" class=\"dataframe\">\n",
       "  <thead>\n",
       "    <tr style=\"text-align: right;\">\n",
       "      <th></th>\n",
       "      <th>Unnamed: 0</th>\n",
       "      <th>adsh</th>\n",
       "      <th>report</th>\n",
       "      <th>line</th>\n",
       "      <th>stmt</th>\n",
       "      <th>inpth</th>\n",
       "      <th>tag</th>\n",
       "      <th>version_x</th>\n",
       "      <th>prole</th>\n",
       "      <th>plabel</th>\n",
       "      <th>negating</th>\n",
       "      <th>cik</th>\n",
       "      <th>name</th>\n",
       "      <th>sic</th>\n",
       "      <th>form</th>\n",
       "      <th>aggregation_level</th>\n",
       "      <th>broad_cat</th>\n",
       "      <th>version_y</th>\n",
       "    </tr>\n",
       "  </thead>\n",
       "  <tbody>\n",
       "    <tr>\n",
       "      <th>0</th>\n",
       "      <td>1884297</td>\n",
       "      <td>0001434728-19-000051</td>\n",
       "      <td>7</td>\n",
       "      <td>6</td>\n",
       "      <td>CF</td>\n",
       "      <td>0</td>\n",
       "      <td>WriteOffOfDeferredDebtIssuanceCost</td>\n",
       "      <td>us-gaap/2018</td>\n",
       "      <td>terseLabel</td>\n",
       "      <td>Write-off of debt issuance costs</td>\n",
       "      <td>0</td>\n",
       "      <td>1434728</td>\n",
       "      <td>GLOBAL WATER RESOURCES, INC.</td>\n",
       "      <td>4941.000000</td>\n",
       "      <td>10-K</td>\n",
       "      <td>1</td>\n",
       "      <td>IntExp</td>\n",
       "      <td>us-gaap/2018</td>\n",
       "    </tr>\n",
       "    <tr>\n",
       "      <th>1</th>\n",
       "      <td>1884297</td>\n",
       "      <td>0001434728-19-000051</td>\n",
       "      <td>7</td>\n",
       "      <td>6</td>\n",
       "      <td>CF</td>\n",
       "      <td>0</td>\n",
       "      <td>WriteOffOfDeferredDebtIssuanceCost</td>\n",
       "      <td>us-gaap/2018</td>\n",
       "      <td>terseLabel</td>\n",
       "      <td>Write-off of debt issuance costs</td>\n",
       "      <td>0</td>\n",
       "      <td>1434728</td>\n",
       "      <td>GLOBAL WATER RESOURCES, INC.</td>\n",
       "      <td>4941.000000</td>\n",
       "      <td>10-K</td>\n",
       "      <td>1</td>\n",
       "      <td>IntExp</td>\n",
       "      <td>us-gaap/2019</td>\n",
       "    </tr>\n",
       "    <tr>\n",
       "      <th>2</th>\n",
       "      <td>1884297</td>\n",
       "      <td>0001434728-19-000051</td>\n",
       "      <td>7</td>\n",
       "      <td>6</td>\n",
       "      <td>CF</td>\n",
       "      <td>0</td>\n",
       "      <td>WriteOffOfDeferredDebtIssuanceCost</td>\n",
       "      <td>us-gaap/2018</td>\n",
       "      <td>terseLabel</td>\n",
       "      <td>Write-off of debt issuance costs</td>\n",
       "      <td>0</td>\n",
       "      <td>1434728</td>\n",
       "      <td>GLOBAL WATER RESOURCES, INC.</td>\n",
       "      <td>4941.000000</td>\n",
       "      <td>10-K</td>\n",
       "      <td>1</td>\n",
       "      <td>IntExp</td>\n",
       "      <td>us-gaap/2020</td>\n",
       "    </tr>\n",
       "    <tr>\n",
       "      <th>3</th>\n",
       "      <td>1884297</td>\n",
       "      <td>0001434728-19-000051</td>\n",
       "      <td>7</td>\n",
       "      <td>6</td>\n",
       "      <td>CF</td>\n",
       "      <td>0</td>\n",
       "      <td>WriteOffOfDeferredDebtIssuanceCost</td>\n",
       "      <td>us-gaap/2018</td>\n",
       "      <td>terseLabel</td>\n",
       "      <td>Write-off of debt issuance costs</td>\n",
       "      <td>0</td>\n",
       "      <td>1434728</td>\n",
       "      <td>GLOBAL WATER RESOURCES, INC.</td>\n",
       "      <td>4941.000000</td>\n",
       "      <td>10-K</td>\n",
       "      <td>1</td>\n",
       "      <td>IntExp</td>\n",
       "      <td>us-gaap/2021</td>\n",
       "    </tr>\n",
       "    <tr>\n",
       "      <th>4</th>\n",
       "      <td>1884297</td>\n",
       "      <td>0001434728-19-000051</td>\n",
       "      <td>7</td>\n",
       "      <td>6</td>\n",
       "      <td>CF</td>\n",
       "      <td>0</td>\n",
       "      <td>WriteOffOfDeferredDebtIssuanceCost</td>\n",
       "      <td>us-gaap/2018</td>\n",
       "      <td>terseLabel</td>\n",
       "      <td>Write-off of debt issuance costs</td>\n",
       "      <td>0</td>\n",
       "      <td>1434728</td>\n",
       "      <td>GLOBAL WATER RESOURCES, INC.</td>\n",
       "      <td>4941.000000</td>\n",
       "      <td>10-K</td>\n",
       "      <td>1</td>\n",
       "      <td>IntExp</td>\n",
       "      <td>us-gaap/2022</td>\n",
       "    </tr>\n",
       "    <tr>\n",
       "      <th>...</th>\n",
       "      <td>...</td>\n",
       "      <td>...</td>\n",
       "      <td>...</td>\n",
       "      <td>...</td>\n",
       "      <td>...</td>\n",
       "      <td>...</td>\n",
       "      <td>...</td>\n",
       "      <td>...</td>\n",
       "      <td>...</td>\n",
       "      <td>...</td>\n",
       "      <td>...</td>\n",
       "      <td>...</td>\n",
       "      <td>...</td>\n",
       "      <td>...</td>\n",
       "      <td>...</td>\n",
       "      <td>...</td>\n",
       "      <td>...</td>\n",
       "      <td>...</td>\n",
       "    </tr>\n",
       "    <tr>\n",
       "      <th>301766</th>\n",
       "      <td>12827821</td>\n",
       "      <td>0001558370-22-013196</td>\n",
       "      <td>6</td>\n",
       "      <td>21</td>\n",
       "      <td>CF</td>\n",
       "      <td>0</td>\n",
       "      <td>AccretionExpense</td>\n",
       "      <td>us-gaap/2021</td>\n",
       "      <td>terseLabel</td>\n",
       "      <td>Accretion</td>\n",
       "      <td>0</td>\n",
       "      <td>1771706</td>\n",
       "      <td>GOODNESS GROWTH HOLDINGS, INC.</td>\n",
       "      <td>2834.000000</td>\n",
       "      <td>10-Q</td>\n",
       "      <td>1</td>\n",
       "      <td>OpExp</td>\n",
       "      <td>us-gaap/2018</td>\n",
       "    </tr>\n",
       "    <tr>\n",
       "      <th>301767</th>\n",
       "      <td>12827821</td>\n",
       "      <td>0001558370-22-013196</td>\n",
       "      <td>6</td>\n",
       "      <td>21</td>\n",
       "      <td>CF</td>\n",
       "      <td>0</td>\n",
       "      <td>AccretionExpense</td>\n",
       "      <td>us-gaap/2021</td>\n",
       "      <td>terseLabel</td>\n",
       "      <td>Accretion</td>\n",
       "      <td>0</td>\n",
       "      <td>1771706</td>\n",
       "      <td>GOODNESS GROWTH HOLDINGS, INC.</td>\n",
       "      <td>2834.000000</td>\n",
       "      <td>10-Q</td>\n",
       "      <td>1</td>\n",
       "      <td>OpExp</td>\n",
       "      <td>us-gaap/2019</td>\n",
       "    </tr>\n",
       "    <tr>\n",
       "      <th>301768</th>\n",
       "      <td>12827821</td>\n",
       "      <td>0001558370-22-013196</td>\n",
       "      <td>6</td>\n",
       "      <td>21</td>\n",
       "      <td>CF</td>\n",
       "      <td>0</td>\n",
       "      <td>AccretionExpense</td>\n",
       "      <td>us-gaap/2021</td>\n",
       "      <td>terseLabel</td>\n",
       "      <td>Accretion</td>\n",
       "      <td>0</td>\n",
       "      <td>1771706</td>\n",
       "      <td>GOODNESS GROWTH HOLDINGS, INC.</td>\n",
       "      <td>2834.000000</td>\n",
       "      <td>10-Q</td>\n",
       "      <td>1</td>\n",
       "      <td>OpExp</td>\n",
       "      <td>us-gaap/2020</td>\n",
       "    </tr>\n",
       "    <tr>\n",
       "      <th>301769</th>\n",
       "      <td>12827821</td>\n",
       "      <td>0001558370-22-013196</td>\n",
       "      <td>6</td>\n",
       "      <td>21</td>\n",
       "      <td>CF</td>\n",
       "      <td>0</td>\n",
       "      <td>AccretionExpense</td>\n",
       "      <td>us-gaap/2021</td>\n",
       "      <td>terseLabel</td>\n",
       "      <td>Accretion</td>\n",
       "      <td>0</td>\n",
       "      <td>1771706</td>\n",
       "      <td>GOODNESS GROWTH HOLDINGS, INC.</td>\n",
       "      <td>2834.000000</td>\n",
       "      <td>10-Q</td>\n",
       "      <td>1</td>\n",
       "      <td>OpExp</td>\n",
       "      <td>us-gaap/2021</td>\n",
       "    </tr>\n",
       "    <tr>\n",
       "      <th>301770</th>\n",
       "      <td>12827821</td>\n",
       "      <td>0001558370-22-013196</td>\n",
       "      <td>6</td>\n",
       "      <td>21</td>\n",
       "      <td>CF</td>\n",
       "      <td>0</td>\n",
       "      <td>AccretionExpense</td>\n",
       "      <td>us-gaap/2021</td>\n",
       "      <td>terseLabel</td>\n",
       "      <td>Accretion</td>\n",
       "      <td>0</td>\n",
       "      <td>1771706</td>\n",
       "      <td>GOODNESS GROWTH HOLDINGS, INC.</td>\n",
       "      <td>2834.000000</td>\n",
       "      <td>10-Q</td>\n",
       "      <td>1</td>\n",
       "      <td>OpExp</td>\n",
       "      <td>us-gaap/2022</td>\n",
       "    </tr>\n",
       "  </tbody>\n",
       "</table>\n",
       "<p>1117040 rows × 18 columns</p>\n",
       "</div>"
      ],
      "text/plain": [
       "        Unnamed: 0                  adsh  report  line stmt  inpth  \\\n",
       "0          1884297  0001434728-19-000051       7     6   CF      0   \n",
       "1          1884297  0001434728-19-000051       7     6   CF      0   \n",
       "2          1884297  0001434728-19-000051       7     6   CF      0   \n",
       "3          1884297  0001434728-19-000051       7     6   CF      0   \n",
       "4          1884297  0001434728-19-000051       7     6   CF      0   \n",
       "...            ...                   ...     ...   ...  ...    ...   \n",
       "301766    12827821  0001558370-22-013196       6    21   CF      0   \n",
       "301767    12827821  0001558370-22-013196       6    21   CF      0   \n",
       "301768    12827821  0001558370-22-013196       6    21   CF      0   \n",
       "301769    12827821  0001558370-22-013196       6    21   CF      0   \n",
       "301770    12827821  0001558370-22-013196       6    21   CF      0   \n",
       "\n",
       "                                       tag     version_x       prole  \\\n",
       "0       WriteOffOfDeferredDebtIssuanceCost  us-gaap/2018  terseLabel   \n",
       "1       WriteOffOfDeferredDebtIssuanceCost  us-gaap/2018  terseLabel   \n",
       "2       WriteOffOfDeferredDebtIssuanceCost  us-gaap/2018  terseLabel   \n",
       "3       WriteOffOfDeferredDebtIssuanceCost  us-gaap/2018  terseLabel   \n",
       "4       WriteOffOfDeferredDebtIssuanceCost  us-gaap/2018  terseLabel   \n",
       "...                                    ...           ...         ...   \n",
       "301766                    AccretionExpense  us-gaap/2021  terseLabel   \n",
       "301767                    AccretionExpense  us-gaap/2021  terseLabel   \n",
       "301768                    AccretionExpense  us-gaap/2021  terseLabel   \n",
       "301769                    AccretionExpense  us-gaap/2021  terseLabel   \n",
       "301770                    AccretionExpense  us-gaap/2021  terseLabel   \n",
       "\n",
       "                                  plabel  negating      cik  \\\n",
       "0       Write-off of debt issuance costs         0  1434728   \n",
       "1       Write-off of debt issuance costs         0  1434728   \n",
       "2       Write-off of debt issuance costs         0  1434728   \n",
       "3       Write-off of debt issuance costs         0  1434728   \n",
       "4       Write-off of debt issuance costs         0  1434728   \n",
       "...                                  ...       ...      ...   \n",
       "301766                         Accretion         0  1771706   \n",
       "301767                         Accretion         0  1771706   \n",
       "301768                         Accretion         0  1771706   \n",
       "301769                         Accretion         0  1771706   \n",
       "301770                         Accretion         0  1771706   \n",
       "\n",
       "                                  name         sic  form  aggregation_level  \\\n",
       "0         GLOBAL WATER RESOURCES, INC. 4941.000000  10-K                  1   \n",
       "1         GLOBAL WATER RESOURCES, INC. 4941.000000  10-K                  1   \n",
       "2         GLOBAL WATER RESOURCES, INC. 4941.000000  10-K                  1   \n",
       "3         GLOBAL WATER RESOURCES, INC. 4941.000000  10-K                  1   \n",
       "4         GLOBAL WATER RESOURCES, INC. 4941.000000  10-K                  1   \n",
       "...                                ...         ...   ...                ...   \n",
       "301766  GOODNESS GROWTH HOLDINGS, INC. 2834.000000  10-Q                  1   \n",
       "301767  GOODNESS GROWTH HOLDINGS, INC. 2834.000000  10-Q                  1   \n",
       "301768  GOODNESS GROWTH HOLDINGS, INC. 2834.000000  10-Q                  1   \n",
       "301769  GOODNESS GROWTH HOLDINGS, INC. 2834.000000  10-Q                  1   \n",
       "301770  GOODNESS GROWTH HOLDINGS, INC. 2834.000000  10-Q                  1   \n",
       "\n",
       "       broad_cat     version_y  \n",
       "0         IntExp  us-gaap/2018  \n",
       "1         IntExp  us-gaap/2019  \n",
       "2         IntExp  us-gaap/2020  \n",
       "3         IntExp  us-gaap/2021  \n",
       "4         IntExp  us-gaap/2022  \n",
       "...          ...           ...  \n",
       "301766     OpExp  us-gaap/2018  \n",
       "301767     OpExp  us-gaap/2019  \n",
       "301768     OpExp  us-gaap/2020  \n",
       "301769     OpExp  us-gaap/2021  \n",
       "301770     OpExp  us-gaap/2022  \n",
       "\n",
       "[1117040 rows x 18 columns]"
      ]
     },
     "execution_count": 44,
     "metadata": {},
     "output_type": "execute_result"
    }
   ],
   "source": [
    "df"
   ]
  },
  {
   "cell_type": "code",
   "execution_count": 46,
   "id": "e2aabb4c",
   "metadata": {
    "ExecuteTime": {
     "end_time": "2022-11-22T09:21:31.593022Z",
     "start_time": "2022-11-22T09:21:31.390569Z"
    }
   },
   "outputs": [],
   "source": [
    "# Select columns we want to find correlations in\n",
    "\n",
    "df.drop([\"adsh\", \"stmt\",\"report\"], axis = 1, inplace = True)"
   ]
  },
  {
   "cell_type": "code",
   "execution_count": 47,
   "id": "748b7dbd",
   "metadata": {
    "ExecuteTime": {
     "end_time": "2022-11-22T09:21:31.622943Z",
     "start_time": "2022-11-22T09:21:31.595016Z"
    }
   },
   "outputs": [
    {
     "data": {
      "text/html": [
       "<div>\n",
       "<style scoped>\n",
       "    .dataframe tbody tr th:only-of-type {\n",
       "        vertical-align: middle;\n",
       "    }\n",
       "\n",
       "    .dataframe tbody tr th {\n",
       "        vertical-align: top;\n",
       "    }\n",
       "\n",
       "    .dataframe thead th {\n",
       "        text-align: right;\n",
       "    }\n",
       "</style>\n",
       "<table border=\"1\" class=\"dataframe\">\n",
       "  <thead>\n",
       "    <tr style=\"text-align: right;\">\n",
       "      <th></th>\n",
       "      <th>Unnamed: 0</th>\n",
       "      <th>line</th>\n",
       "      <th>inpth</th>\n",
       "      <th>tag</th>\n",
       "      <th>version_x</th>\n",
       "      <th>prole</th>\n",
       "      <th>plabel</th>\n",
       "      <th>negating</th>\n",
       "      <th>cik</th>\n",
       "      <th>name</th>\n",
       "      <th>sic</th>\n",
       "      <th>form</th>\n",
       "      <th>aggregation_level</th>\n",
       "      <th>broad_cat</th>\n",
       "      <th>version_y</th>\n",
       "    </tr>\n",
       "  </thead>\n",
       "  <tbody>\n",
       "    <tr>\n",
       "      <th>0</th>\n",
       "      <td>1884297</td>\n",
       "      <td>6</td>\n",
       "      <td>0</td>\n",
       "      <td>WriteOffOfDeferredDebtIssuanceCost</td>\n",
       "      <td>us-gaap/2018</td>\n",
       "      <td>terseLabel</td>\n",
       "      <td>Write-off of debt issuance costs</td>\n",
       "      <td>0</td>\n",
       "      <td>1434728</td>\n",
       "      <td>GLOBAL WATER RESOURCES, INC.</td>\n",
       "      <td>4941.000000</td>\n",
       "      <td>10-K</td>\n",
       "      <td>1</td>\n",
       "      <td>IntExp</td>\n",
       "      <td>us-gaap/2018</td>\n",
       "    </tr>\n",
       "    <tr>\n",
       "      <th>1</th>\n",
       "      <td>1884297</td>\n",
       "      <td>6</td>\n",
       "      <td>0</td>\n",
       "      <td>WriteOffOfDeferredDebtIssuanceCost</td>\n",
       "      <td>us-gaap/2018</td>\n",
       "      <td>terseLabel</td>\n",
       "      <td>Write-off of debt issuance costs</td>\n",
       "      <td>0</td>\n",
       "      <td>1434728</td>\n",
       "      <td>GLOBAL WATER RESOURCES, INC.</td>\n",
       "      <td>4941.000000</td>\n",
       "      <td>10-K</td>\n",
       "      <td>1</td>\n",
       "      <td>IntExp</td>\n",
       "      <td>us-gaap/2019</td>\n",
       "    </tr>\n",
       "    <tr>\n",
       "      <th>2</th>\n",
       "      <td>1884297</td>\n",
       "      <td>6</td>\n",
       "      <td>0</td>\n",
       "      <td>WriteOffOfDeferredDebtIssuanceCost</td>\n",
       "      <td>us-gaap/2018</td>\n",
       "      <td>terseLabel</td>\n",
       "      <td>Write-off of debt issuance costs</td>\n",
       "      <td>0</td>\n",
       "      <td>1434728</td>\n",
       "      <td>GLOBAL WATER RESOURCES, INC.</td>\n",
       "      <td>4941.000000</td>\n",
       "      <td>10-K</td>\n",
       "      <td>1</td>\n",
       "      <td>IntExp</td>\n",
       "      <td>us-gaap/2020</td>\n",
       "    </tr>\n",
       "    <tr>\n",
       "      <th>3</th>\n",
       "      <td>1884297</td>\n",
       "      <td>6</td>\n",
       "      <td>0</td>\n",
       "      <td>WriteOffOfDeferredDebtIssuanceCost</td>\n",
       "      <td>us-gaap/2018</td>\n",
       "      <td>terseLabel</td>\n",
       "      <td>Write-off of debt issuance costs</td>\n",
       "      <td>0</td>\n",
       "      <td>1434728</td>\n",
       "      <td>GLOBAL WATER RESOURCES, INC.</td>\n",
       "      <td>4941.000000</td>\n",
       "      <td>10-K</td>\n",
       "      <td>1</td>\n",
       "      <td>IntExp</td>\n",
       "      <td>us-gaap/2021</td>\n",
       "    </tr>\n",
       "    <tr>\n",
       "      <th>4</th>\n",
       "      <td>1884297</td>\n",
       "      <td>6</td>\n",
       "      <td>0</td>\n",
       "      <td>WriteOffOfDeferredDebtIssuanceCost</td>\n",
       "      <td>us-gaap/2018</td>\n",
       "      <td>terseLabel</td>\n",
       "      <td>Write-off of debt issuance costs</td>\n",
       "      <td>0</td>\n",
       "      <td>1434728</td>\n",
       "      <td>GLOBAL WATER RESOURCES, INC.</td>\n",
       "      <td>4941.000000</td>\n",
       "      <td>10-K</td>\n",
       "      <td>1</td>\n",
       "      <td>IntExp</td>\n",
       "      <td>us-gaap/2022</td>\n",
       "    </tr>\n",
       "    <tr>\n",
       "      <th>...</th>\n",
       "      <td>...</td>\n",
       "      <td>...</td>\n",
       "      <td>...</td>\n",
       "      <td>...</td>\n",
       "      <td>...</td>\n",
       "      <td>...</td>\n",
       "      <td>...</td>\n",
       "      <td>...</td>\n",
       "      <td>...</td>\n",
       "      <td>...</td>\n",
       "      <td>...</td>\n",
       "      <td>...</td>\n",
       "      <td>...</td>\n",
       "      <td>...</td>\n",
       "      <td>...</td>\n",
       "    </tr>\n",
       "    <tr>\n",
       "      <th>301766</th>\n",
       "      <td>12827821</td>\n",
       "      <td>21</td>\n",
       "      <td>0</td>\n",
       "      <td>AccretionExpense</td>\n",
       "      <td>us-gaap/2021</td>\n",
       "      <td>terseLabel</td>\n",
       "      <td>Accretion</td>\n",
       "      <td>0</td>\n",
       "      <td>1771706</td>\n",
       "      <td>GOODNESS GROWTH HOLDINGS, INC.</td>\n",
       "      <td>2834.000000</td>\n",
       "      <td>10-Q</td>\n",
       "      <td>1</td>\n",
       "      <td>OpExp</td>\n",
       "      <td>us-gaap/2018</td>\n",
       "    </tr>\n",
       "    <tr>\n",
       "      <th>301767</th>\n",
       "      <td>12827821</td>\n",
       "      <td>21</td>\n",
       "      <td>0</td>\n",
       "      <td>AccretionExpense</td>\n",
       "      <td>us-gaap/2021</td>\n",
       "      <td>terseLabel</td>\n",
       "      <td>Accretion</td>\n",
       "      <td>0</td>\n",
       "      <td>1771706</td>\n",
       "      <td>GOODNESS GROWTH HOLDINGS, INC.</td>\n",
       "      <td>2834.000000</td>\n",
       "      <td>10-Q</td>\n",
       "      <td>1</td>\n",
       "      <td>OpExp</td>\n",
       "      <td>us-gaap/2019</td>\n",
       "    </tr>\n",
       "    <tr>\n",
       "      <th>301768</th>\n",
       "      <td>12827821</td>\n",
       "      <td>21</td>\n",
       "      <td>0</td>\n",
       "      <td>AccretionExpense</td>\n",
       "      <td>us-gaap/2021</td>\n",
       "      <td>terseLabel</td>\n",
       "      <td>Accretion</td>\n",
       "      <td>0</td>\n",
       "      <td>1771706</td>\n",
       "      <td>GOODNESS GROWTH HOLDINGS, INC.</td>\n",
       "      <td>2834.000000</td>\n",
       "      <td>10-Q</td>\n",
       "      <td>1</td>\n",
       "      <td>OpExp</td>\n",
       "      <td>us-gaap/2020</td>\n",
       "    </tr>\n",
       "    <tr>\n",
       "      <th>301769</th>\n",
       "      <td>12827821</td>\n",
       "      <td>21</td>\n",
       "      <td>0</td>\n",
       "      <td>AccretionExpense</td>\n",
       "      <td>us-gaap/2021</td>\n",
       "      <td>terseLabel</td>\n",
       "      <td>Accretion</td>\n",
       "      <td>0</td>\n",
       "      <td>1771706</td>\n",
       "      <td>GOODNESS GROWTH HOLDINGS, INC.</td>\n",
       "      <td>2834.000000</td>\n",
       "      <td>10-Q</td>\n",
       "      <td>1</td>\n",
       "      <td>OpExp</td>\n",
       "      <td>us-gaap/2021</td>\n",
       "    </tr>\n",
       "    <tr>\n",
       "      <th>301770</th>\n",
       "      <td>12827821</td>\n",
       "      <td>21</td>\n",
       "      <td>0</td>\n",
       "      <td>AccretionExpense</td>\n",
       "      <td>us-gaap/2021</td>\n",
       "      <td>terseLabel</td>\n",
       "      <td>Accretion</td>\n",
       "      <td>0</td>\n",
       "      <td>1771706</td>\n",
       "      <td>GOODNESS GROWTH HOLDINGS, INC.</td>\n",
       "      <td>2834.000000</td>\n",
       "      <td>10-Q</td>\n",
       "      <td>1</td>\n",
       "      <td>OpExp</td>\n",
       "      <td>us-gaap/2022</td>\n",
       "    </tr>\n",
       "  </tbody>\n",
       "</table>\n",
       "<p>1117040 rows × 15 columns</p>\n",
       "</div>"
      ],
      "text/plain": [
       "        Unnamed: 0  line  inpth                                 tag  \\\n",
       "0          1884297     6      0  WriteOffOfDeferredDebtIssuanceCost   \n",
       "1          1884297     6      0  WriteOffOfDeferredDebtIssuanceCost   \n",
       "2          1884297     6      0  WriteOffOfDeferredDebtIssuanceCost   \n",
       "3          1884297     6      0  WriteOffOfDeferredDebtIssuanceCost   \n",
       "4          1884297     6      0  WriteOffOfDeferredDebtIssuanceCost   \n",
       "...            ...   ...    ...                                 ...   \n",
       "301766    12827821    21      0                    AccretionExpense   \n",
       "301767    12827821    21      0                    AccretionExpense   \n",
       "301768    12827821    21      0                    AccretionExpense   \n",
       "301769    12827821    21      0                    AccretionExpense   \n",
       "301770    12827821    21      0                    AccretionExpense   \n",
       "\n",
       "           version_x       prole                            plabel  negating  \\\n",
       "0       us-gaap/2018  terseLabel  Write-off of debt issuance costs         0   \n",
       "1       us-gaap/2018  terseLabel  Write-off of debt issuance costs         0   \n",
       "2       us-gaap/2018  terseLabel  Write-off of debt issuance costs         0   \n",
       "3       us-gaap/2018  terseLabel  Write-off of debt issuance costs         0   \n",
       "4       us-gaap/2018  terseLabel  Write-off of debt issuance costs         0   \n",
       "...              ...         ...                               ...       ...   \n",
       "301766  us-gaap/2021  terseLabel                         Accretion         0   \n",
       "301767  us-gaap/2021  terseLabel                         Accretion         0   \n",
       "301768  us-gaap/2021  terseLabel                         Accretion         0   \n",
       "301769  us-gaap/2021  terseLabel                         Accretion         0   \n",
       "301770  us-gaap/2021  terseLabel                         Accretion         0   \n",
       "\n",
       "            cik                            name         sic  form  \\\n",
       "0       1434728    GLOBAL WATER RESOURCES, INC. 4941.000000  10-K   \n",
       "1       1434728    GLOBAL WATER RESOURCES, INC. 4941.000000  10-K   \n",
       "2       1434728    GLOBAL WATER RESOURCES, INC. 4941.000000  10-K   \n",
       "3       1434728    GLOBAL WATER RESOURCES, INC. 4941.000000  10-K   \n",
       "4       1434728    GLOBAL WATER RESOURCES, INC. 4941.000000  10-K   \n",
       "...         ...                             ...         ...   ...   \n",
       "301766  1771706  GOODNESS GROWTH HOLDINGS, INC. 2834.000000  10-Q   \n",
       "301767  1771706  GOODNESS GROWTH HOLDINGS, INC. 2834.000000  10-Q   \n",
       "301768  1771706  GOODNESS GROWTH HOLDINGS, INC. 2834.000000  10-Q   \n",
       "301769  1771706  GOODNESS GROWTH HOLDINGS, INC. 2834.000000  10-Q   \n",
       "301770  1771706  GOODNESS GROWTH HOLDINGS, INC. 2834.000000  10-Q   \n",
       "\n",
       "        aggregation_level broad_cat     version_y  \n",
       "0                       1    IntExp  us-gaap/2018  \n",
       "1                       1    IntExp  us-gaap/2019  \n",
       "2                       1    IntExp  us-gaap/2020  \n",
       "3                       1    IntExp  us-gaap/2021  \n",
       "4                       1    IntExp  us-gaap/2022  \n",
       "...                   ...       ...           ...  \n",
       "301766                  1     OpExp  us-gaap/2018  \n",
       "301767                  1     OpExp  us-gaap/2019  \n",
       "301768                  1     OpExp  us-gaap/2020  \n",
       "301769                  1     OpExp  us-gaap/2021  \n",
       "301770                  1     OpExp  us-gaap/2022  \n",
       "\n",
       "[1117040 rows x 15 columns]"
      ]
     },
     "execution_count": 47,
     "metadata": {},
     "output_type": "execute_result"
    }
   ],
   "source": [
    "df"
   ]
  },
  {
   "cell_type": "code",
   "execution_count": 48,
   "id": "92329a59",
   "metadata": {},
   "outputs": [],
   "source": [
    "df.drop_duplicates(inplace = True)"
   ]
  },
  {
   "cell_type": "code",
   "execution_count": 49,
   "id": "6e7391f6",
   "metadata": {},
   "outputs": [
    {
     "data": {
      "text/plain": [
       "(1116995, 15)"
      ]
     },
     "execution_count": 49,
     "metadata": {},
     "output_type": "execute_result"
    }
   ],
   "source": [
    "df.shape"
   ]
  },
  {
   "cell_type": "code",
   "execution_count": 19,
   "id": "60dc6c87",
   "metadata": {},
   "outputs": [
    {
     "name": "stderr",
     "output_type": "stream",
     "text": [
      "c:\\Users\\gbatt\\miniconda3\\lib\\site-packages\\pandas\\core\\reshape\\reshape.py:126: RuntimeWarning: overflow encountered in scalar multiply\n",
      "  num_cells = num_rows * num_columns\n"
     ]
    },
    {
     "ename": "IndexError",
     "evalue": "index 528017776 is out of bounds for axis 0 with size 527873937",
     "output_type": "error",
     "traceback": [
      "\u001b[1;31m---------------------------------------------------------------------------\u001b[0m",
      "\u001b[1;31mIndexError\u001b[0m                                Traceback (most recent call last)",
      "File \u001b[1;32m<timed exec>:21\u001b[0m\n",
      "File \u001b[1;32m<timed exec>:7\u001b[0m, in \u001b[0;36mCramersV\u001b[1;34m(var1, var2)\u001b[0m\n",
      "File \u001b[1;32mc:\\Users\\gbatt\\miniconda3\\lib\\site-packages\\pandas\\core\\reshape\\pivot.py:691\u001b[0m, in \u001b[0;36mcrosstab\u001b[1;34m(index, columns, values, rownames, colnames, aggfunc, margins, margins_name, dropna, normalize)\u001b[0m\n\u001b[0;32m    688\u001b[0m     df[\u001b[38;5;124m\"\u001b[39m\u001b[38;5;124m__dummy__\u001b[39m\u001b[38;5;124m\"\u001b[39m] \u001b[38;5;241m=\u001b[39m values\n\u001b[0;32m    689\u001b[0m     kwargs \u001b[38;5;241m=\u001b[39m {\u001b[38;5;124m\"\u001b[39m\u001b[38;5;124maggfunc\u001b[39m\u001b[38;5;124m\"\u001b[39m: aggfunc}\n\u001b[1;32m--> 691\u001b[0m table \u001b[38;5;241m=\u001b[39m df\u001b[38;5;241m.\u001b[39mpivot_table(\n\u001b[0;32m    692\u001b[0m     \u001b[38;5;124m\"\u001b[39m\u001b[38;5;124m__dummy__\u001b[39m\u001b[38;5;124m\"\u001b[39m,\n\u001b[0;32m    693\u001b[0m     index\u001b[38;5;241m=\u001b[39munique_rownames,\n\u001b[0;32m    694\u001b[0m     columns\u001b[38;5;241m=\u001b[39munique_colnames,\n\u001b[0;32m    695\u001b[0m     margins\u001b[38;5;241m=\u001b[39mmargins,\n\u001b[0;32m    696\u001b[0m     margins_name\u001b[38;5;241m=\u001b[39mmargins_name,\n\u001b[0;32m    697\u001b[0m     dropna\u001b[38;5;241m=\u001b[39mdropna,\n\u001b[0;32m    698\u001b[0m     \u001b[38;5;241m*\u001b[39m\u001b[38;5;241m*\u001b[39mkwargs,\n\u001b[0;32m    699\u001b[0m )\n\u001b[0;32m    701\u001b[0m \u001b[38;5;66;03m# Post-process\u001b[39;00m\n\u001b[0;32m    702\u001b[0m \u001b[38;5;28;01mif\u001b[39;00m normalize \u001b[38;5;129;01mis\u001b[39;00m \u001b[38;5;129;01mnot\u001b[39;00m \u001b[38;5;28;01mFalse\u001b[39;00m:\n",
      "File \u001b[1;32mc:\\Users\\gbatt\\miniconda3\\lib\\site-packages\\pandas\\core\\frame.py:8731\u001b[0m, in \u001b[0;36mDataFrame.pivot_table\u001b[1;34m(self, values, index, columns, aggfunc, fill_value, margins, dropna, margins_name, observed, sort)\u001b[0m\n\u001b[0;32m   8714\u001b[0m \u001b[38;5;129m@Substitution\u001b[39m(\u001b[38;5;124m\"\u001b[39m\u001b[38;5;124m\"\u001b[39m)\n\u001b[0;32m   8715\u001b[0m \u001b[38;5;129m@Appender\u001b[39m(_shared_docs[\u001b[38;5;124m\"\u001b[39m\u001b[38;5;124mpivot_table\u001b[39m\u001b[38;5;124m\"\u001b[39m])\n\u001b[0;32m   8716\u001b[0m \u001b[38;5;28;01mdef\u001b[39;00m \u001b[38;5;21mpivot_table\u001b[39m(\n\u001b[1;32m   (...)\u001b[0m\n\u001b[0;32m   8727\u001b[0m     sort\u001b[38;5;241m=\u001b[39m\u001b[38;5;28;01mTrue\u001b[39;00m,\n\u001b[0;32m   8728\u001b[0m ) \u001b[38;5;241m-\u001b[39m\u001b[38;5;241m>\u001b[39m DataFrame:\n\u001b[0;32m   8729\u001b[0m     \u001b[38;5;28;01mfrom\u001b[39;00m \u001b[38;5;21;01mpandas\u001b[39;00m\u001b[38;5;21;01m.\u001b[39;00m\u001b[38;5;21;01mcore\u001b[39;00m\u001b[38;5;21;01m.\u001b[39;00m\u001b[38;5;21;01mreshape\u001b[39;00m\u001b[38;5;21;01m.\u001b[39;00m\u001b[38;5;21;01mpivot\u001b[39;00m \u001b[38;5;28;01mimport\u001b[39;00m pivot_table\n\u001b[1;32m-> 8731\u001b[0m     \u001b[38;5;28;01mreturn\u001b[39;00m \u001b[43mpivot_table\u001b[49m\u001b[43m(\u001b[49m\n\u001b[0;32m   8732\u001b[0m \u001b[43m        \u001b[49m\u001b[38;5;28;43mself\u001b[39;49m\u001b[43m,\u001b[49m\n\u001b[0;32m   8733\u001b[0m \u001b[43m        \u001b[49m\u001b[43mvalues\u001b[49m\u001b[38;5;241;43m=\u001b[39;49m\u001b[43mvalues\u001b[49m\u001b[43m,\u001b[49m\n\u001b[0;32m   8734\u001b[0m \u001b[43m        \u001b[49m\u001b[43mindex\u001b[49m\u001b[38;5;241;43m=\u001b[39;49m\u001b[43mindex\u001b[49m\u001b[43m,\u001b[49m\n\u001b[0;32m   8735\u001b[0m \u001b[43m        \u001b[49m\u001b[43mcolumns\u001b[49m\u001b[38;5;241;43m=\u001b[39;49m\u001b[43mcolumns\u001b[49m\u001b[43m,\u001b[49m\n\u001b[0;32m   8736\u001b[0m \u001b[43m        \u001b[49m\u001b[43maggfunc\u001b[49m\u001b[38;5;241;43m=\u001b[39;49m\u001b[43maggfunc\u001b[49m\u001b[43m,\u001b[49m\n\u001b[0;32m   8737\u001b[0m \u001b[43m        \u001b[49m\u001b[43mfill_value\u001b[49m\u001b[38;5;241;43m=\u001b[39;49m\u001b[43mfill_value\u001b[49m\u001b[43m,\u001b[49m\n\u001b[0;32m   8738\u001b[0m \u001b[43m        \u001b[49m\u001b[43mmargins\u001b[49m\u001b[38;5;241;43m=\u001b[39;49m\u001b[43mmargins\u001b[49m\u001b[43m,\u001b[49m\n\u001b[0;32m   8739\u001b[0m \u001b[43m        \u001b[49m\u001b[43mdropna\u001b[49m\u001b[38;5;241;43m=\u001b[39;49m\u001b[43mdropna\u001b[49m\u001b[43m,\u001b[49m\n\u001b[0;32m   8740\u001b[0m \u001b[43m        \u001b[49m\u001b[43mmargins_name\u001b[49m\u001b[38;5;241;43m=\u001b[39;49m\u001b[43mmargins_name\u001b[49m\u001b[43m,\u001b[49m\n\u001b[0;32m   8741\u001b[0m \u001b[43m        \u001b[49m\u001b[43mobserved\u001b[49m\u001b[38;5;241;43m=\u001b[39;49m\u001b[43mobserved\u001b[49m\u001b[43m,\u001b[49m\n\u001b[0;32m   8742\u001b[0m \u001b[43m        \u001b[49m\u001b[43msort\u001b[49m\u001b[38;5;241;43m=\u001b[39;49m\u001b[43msort\u001b[49m\u001b[43m,\u001b[49m\n\u001b[0;32m   8743\u001b[0m \u001b[43m    \u001b[49m\u001b[43m)\u001b[49m\n",
      "File \u001b[1;32mc:\\Users\\gbatt\\miniconda3\\lib\\site-packages\\pandas\\core\\reshape\\pivot.py:97\u001b[0m, in \u001b[0;36mpivot_table\u001b[1;34m(data, values, index, columns, aggfunc, fill_value, margins, dropna, margins_name, observed, sort)\u001b[0m\n\u001b[0;32m     94\u001b[0m     table \u001b[38;5;241m=\u001b[39m concat(pieces, keys\u001b[38;5;241m=\u001b[39mkeys, axis\u001b[38;5;241m=\u001b[39m\u001b[38;5;241m1\u001b[39m)\n\u001b[0;32m     95\u001b[0m     \u001b[38;5;28;01mreturn\u001b[39;00m table\u001b[38;5;241m.\u001b[39m__finalize__(data, method\u001b[38;5;241m=\u001b[39m\u001b[38;5;124m\"\u001b[39m\u001b[38;5;124mpivot_table\u001b[39m\u001b[38;5;124m\"\u001b[39m)\n\u001b[1;32m---> 97\u001b[0m table \u001b[38;5;241m=\u001b[39m \u001b[43m__internal_pivot_table\u001b[49m\u001b[43m(\u001b[49m\n\u001b[0;32m     98\u001b[0m \u001b[43m    \u001b[49m\u001b[43mdata\u001b[49m\u001b[43m,\u001b[49m\n\u001b[0;32m     99\u001b[0m \u001b[43m    \u001b[49m\u001b[43mvalues\u001b[49m\u001b[43m,\u001b[49m\n\u001b[0;32m    100\u001b[0m \u001b[43m    \u001b[49m\u001b[43mindex\u001b[49m\u001b[43m,\u001b[49m\n\u001b[0;32m    101\u001b[0m \u001b[43m    \u001b[49m\u001b[43mcolumns\u001b[49m\u001b[43m,\u001b[49m\n\u001b[0;32m    102\u001b[0m \u001b[43m    \u001b[49m\u001b[43maggfunc\u001b[49m\u001b[43m,\u001b[49m\n\u001b[0;32m    103\u001b[0m \u001b[43m    \u001b[49m\u001b[43mfill_value\u001b[49m\u001b[43m,\u001b[49m\n\u001b[0;32m    104\u001b[0m \u001b[43m    \u001b[49m\u001b[43mmargins\u001b[49m\u001b[43m,\u001b[49m\n\u001b[0;32m    105\u001b[0m \u001b[43m    \u001b[49m\u001b[43mdropna\u001b[49m\u001b[43m,\u001b[49m\n\u001b[0;32m    106\u001b[0m \u001b[43m    \u001b[49m\u001b[43mmargins_name\u001b[49m\u001b[43m,\u001b[49m\n\u001b[0;32m    107\u001b[0m \u001b[43m    \u001b[49m\u001b[43mobserved\u001b[49m\u001b[43m,\u001b[49m\n\u001b[0;32m    108\u001b[0m \u001b[43m    \u001b[49m\u001b[43msort\u001b[49m\u001b[43m,\u001b[49m\n\u001b[0;32m    109\u001b[0m \u001b[43m\u001b[49m\u001b[43m)\u001b[49m\n\u001b[0;32m    110\u001b[0m \u001b[38;5;28;01mreturn\u001b[39;00m table\u001b[38;5;241m.\u001b[39m__finalize__(data, method\u001b[38;5;241m=\u001b[39m\u001b[38;5;124m\"\u001b[39m\u001b[38;5;124mpivot_table\u001b[39m\u001b[38;5;124m\"\u001b[39m)\n",
      "File \u001b[1;32mc:\\Users\\gbatt\\miniconda3\\lib\\site-packages\\pandas\\core\\reshape\\pivot.py:219\u001b[0m, in \u001b[0;36m__internal_pivot_table\u001b[1;34m(data, values, index, columns, aggfunc, fill_value, margins, dropna, margins_name, observed, sort)\u001b[0m\n\u001b[0;32m    217\u001b[0m         \u001b[38;5;28;01melse\u001b[39;00m:\n\u001b[0;32m    218\u001b[0m             to_unstack\u001b[38;5;241m.\u001b[39mappend(name)\n\u001b[1;32m--> 219\u001b[0m     table \u001b[38;5;241m=\u001b[39m \u001b[43magged\u001b[49m\u001b[38;5;241;43m.\u001b[39;49m\u001b[43munstack\u001b[49m\u001b[43m(\u001b[49m\u001b[43mto_unstack\u001b[49m\u001b[43m)\u001b[49m\n\u001b[0;32m    221\u001b[0m \u001b[38;5;28;01mif\u001b[39;00m \u001b[38;5;129;01mnot\u001b[39;00m dropna:\n\u001b[0;32m    222\u001b[0m     \u001b[38;5;28;01mif\u001b[39;00m \u001b[38;5;28misinstance\u001b[39m(table\u001b[38;5;241m.\u001b[39mindex, MultiIndex):\n",
      "File \u001b[1;32mc:\\Users\\gbatt\\miniconda3\\lib\\site-packages\\pandas\\core\\frame.py:9112\u001b[0m, in \u001b[0;36mDataFrame.unstack\u001b[1;34m(self, level, fill_value)\u001b[0m\n\u001b[0;32m   9050\u001b[0m \u001b[38;5;124;03m\"\"\"\u001b[39;00m\n\u001b[0;32m   9051\u001b[0m \u001b[38;5;124;03mPivot a level of the (necessarily hierarchical) index labels.\u001b[39;00m\n\u001b[0;32m   9052\u001b[0m \n\u001b[1;32m   (...)\u001b[0m\n\u001b[0;32m   9108\u001b[0m \u001b[38;5;124;03mdtype: float64\u001b[39;00m\n\u001b[0;32m   9109\u001b[0m \u001b[38;5;124;03m\"\"\"\u001b[39;00m\n\u001b[0;32m   9110\u001b[0m \u001b[38;5;28;01mfrom\u001b[39;00m \u001b[38;5;21;01mpandas\u001b[39;00m\u001b[38;5;21;01m.\u001b[39;00m\u001b[38;5;21;01mcore\u001b[39;00m\u001b[38;5;21;01m.\u001b[39;00m\u001b[38;5;21;01mreshape\u001b[39;00m\u001b[38;5;21;01m.\u001b[39;00m\u001b[38;5;21;01mreshape\u001b[39;00m \u001b[38;5;28;01mimport\u001b[39;00m unstack\n\u001b[1;32m-> 9112\u001b[0m result \u001b[38;5;241m=\u001b[39m \u001b[43munstack\u001b[49m\u001b[43m(\u001b[49m\u001b[38;5;28;43mself\u001b[39;49m\u001b[43m,\u001b[49m\u001b[43m \u001b[49m\u001b[43mlevel\u001b[49m\u001b[43m,\u001b[49m\u001b[43m \u001b[49m\u001b[43mfill_value\u001b[49m\u001b[43m)\u001b[49m\n\u001b[0;32m   9114\u001b[0m \u001b[38;5;28;01mreturn\u001b[39;00m result\u001b[38;5;241m.\u001b[39m__finalize__(\u001b[38;5;28mself\u001b[39m, method\u001b[38;5;241m=\u001b[39m\u001b[38;5;124m\"\u001b[39m\u001b[38;5;124munstack\u001b[39m\u001b[38;5;124m\"\u001b[39m)\n",
      "File \u001b[1;32mc:\\Users\\gbatt\\miniconda3\\lib\\site-packages\\pandas\\core\\reshape\\reshape.py:476\u001b[0m, in \u001b[0;36munstack\u001b[1;34m(obj, level, fill_value)\u001b[0m\n\u001b[0;32m    474\u001b[0m \u001b[38;5;28;01mif\u001b[39;00m \u001b[38;5;28misinstance\u001b[39m(obj, DataFrame):\n\u001b[0;32m    475\u001b[0m     \u001b[38;5;28;01mif\u001b[39;00m \u001b[38;5;28misinstance\u001b[39m(obj\u001b[38;5;241m.\u001b[39mindex, MultiIndex):\n\u001b[1;32m--> 476\u001b[0m         \u001b[38;5;28;01mreturn\u001b[39;00m \u001b[43m_unstack_frame\u001b[49m\u001b[43m(\u001b[49m\u001b[43mobj\u001b[49m\u001b[43m,\u001b[49m\u001b[43m \u001b[49m\u001b[43mlevel\u001b[49m\u001b[43m,\u001b[49m\u001b[43m \u001b[49m\u001b[43mfill_value\u001b[49m\u001b[38;5;241;43m=\u001b[39;49m\u001b[43mfill_value\u001b[49m\u001b[43m)\u001b[49m\n\u001b[0;32m    477\u001b[0m     \u001b[38;5;28;01melse\u001b[39;00m:\n\u001b[0;32m    478\u001b[0m         \u001b[38;5;28;01mreturn\u001b[39;00m obj\u001b[38;5;241m.\u001b[39mT\u001b[38;5;241m.\u001b[39mstack(dropna\u001b[38;5;241m=\u001b[39m\u001b[38;5;28;01mFalse\u001b[39;00m)\n",
      "File \u001b[1;32mc:\\Users\\gbatt\\miniconda3\\lib\\site-packages\\pandas\\core\\reshape\\reshape.py:499\u001b[0m, in \u001b[0;36m_unstack_frame\u001b[1;34m(obj, level, fill_value)\u001b[0m\n\u001b[0;32m    497\u001b[0m \u001b[38;5;28;01mdef\u001b[39;00m \u001b[38;5;21m_unstack_frame\u001b[39m(obj: DataFrame, level, fill_value\u001b[38;5;241m=\u001b[39m\u001b[38;5;28;01mNone\u001b[39;00m):\n\u001b[0;32m    498\u001b[0m     \u001b[38;5;28;01massert\u001b[39;00m \u001b[38;5;28misinstance\u001b[39m(obj\u001b[38;5;241m.\u001b[39mindex, MultiIndex)  \u001b[38;5;66;03m# checked by caller\u001b[39;00m\n\u001b[1;32m--> 499\u001b[0m     unstacker \u001b[38;5;241m=\u001b[39m \u001b[43m_Unstacker\u001b[49m\u001b[43m(\u001b[49m\u001b[43mobj\u001b[49m\u001b[38;5;241;43m.\u001b[39;49m\u001b[43mindex\u001b[49m\u001b[43m,\u001b[49m\u001b[43m \u001b[49m\u001b[43mlevel\u001b[49m\u001b[38;5;241;43m=\u001b[39;49m\u001b[43mlevel\u001b[49m\u001b[43m,\u001b[49m\u001b[43m \u001b[49m\u001b[43mconstructor\u001b[49m\u001b[38;5;241;43m=\u001b[39;49m\u001b[43mobj\u001b[49m\u001b[38;5;241;43m.\u001b[39;49m\u001b[43m_constructor\u001b[49m\u001b[43m)\u001b[49m\n\u001b[0;32m    501\u001b[0m     \u001b[38;5;28;01mif\u001b[39;00m \u001b[38;5;129;01mnot\u001b[39;00m obj\u001b[38;5;241m.\u001b[39m_can_fast_transpose:\n\u001b[0;32m    502\u001b[0m         mgr \u001b[38;5;241m=\u001b[39m obj\u001b[38;5;241m.\u001b[39m_mgr\u001b[38;5;241m.\u001b[39munstack(unstacker, fill_value\u001b[38;5;241m=\u001b[39mfill_value)\n",
      "File \u001b[1;32mc:\\Users\\gbatt\\miniconda3\\lib\\site-packages\\pandas\\core\\reshape\\reshape.py:137\u001b[0m, in \u001b[0;36m_Unstacker.__init__\u001b[1;34m(self, index, level, constructor)\u001b[0m\n\u001b[0;32m    129\u001b[0m \u001b[38;5;28;01mif\u001b[39;00m num_cells \u001b[38;5;241m>\u001b[39m np\u001b[38;5;241m.\u001b[39miinfo(np\u001b[38;5;241m.\u001b[39mint32)\u001b[38;5;241m.\u001b[39mmax:\n\u001b[0;32m    130\u001b[0m     warnings\u001b[38;5;241m.\u001b[39mwarn(\n\u001b[0;32m    131\u001b[0m         \u001b[38;5;124mf\u001b[39m\u001b[38;5;124m\"\u001b[39m\u001b[38;5;124mThe following operation may generate \u001b[39m\u001b[38;5;132;01m{\u001b[39;00mnum_cells\u001b[38;5;132;01m}\u001b[39;00m\u001b[38;5;124m cells \u001b[39m\u001b[38;5;124m\"\u001b[39m\n\u001b[0;32m    132\u001b[0m         \u001b[38;5;124mf\u001b[39m\u001b[38;5;124m\"\u001b[39m\u001b[38;5;124min the resulting pandas object.\u001b[39m\u001b[38;5;124m\"\u001b[39m,\n\u001b[0;32m    133\u001b[0m         PerformanceWarning,\n\u001b[0;32m    134\u001b[0m         stacklevel\u001b[38;5;241m=\u001b[39mfind_stack_level(),\n\u001b[0;32m    135\u001b[0m     )\n\u001b[1;32m--> 137\u001b[0m \u001b[38;5;28;43mself\u001b[39;49m\u001b[38;5;241;43m.\u001b[39;49m\u001b[43m_make_selectors\u001b[49m\u001b[43m(\u001b[49m\u001b[43m)\u001b[49m\n",
      "File \u001b[1;32mc:\\Users\\gbatt\\miniconda3\\lib\\site-packages\\pandas\\core\\reshape\\reshape.py:186\u001b[0m, in \u001b[0;36m_Unstacker._make_selectors\u001b[1;34m(self)\u001b[0m\n\u001b[0;32m    184\u001b[0m selector \u001b[38;5;241m=\u001b[39m \u001b[38;5;28mself\u001b[39m\u001b[38;5;241m.\u001b[39msorted_labels[\u001b[38;5;241m-\u001b[39m\u001b[38;5;241m1\u001b[39m] \u001b[38;5;241m+\u001b[39m stride \u001b[38;5;241m*\u001b[39m comp_index \u001b[38;5;241m+\u001b[39m \u001b[38;5;28mself\u001b[39m\u001b[38;5;241m.\u001b[39mlift\n\u001b[0;32m    185\u001b[0m mask \u001b[38;5;241m=\u001b[39m np\u001b[38;5;241m.\u001b[39mzeros(np\u001b[38;5;241m.\u001b[39mprod(\u001b[38;5;28mself\u001b[39m\u001b[38;5;241m.\u001b[39mfull_shape), dtype\u001b[38;5;241m=\u001b[39m\u001b[38;5;28mbool\u001b[39m)\n\u001b[1;32m--> 186\u001b[0m \u001b[43mmask\u001b[49m\u001b[38;5;241;43m.\u001b[39;49m\u001b[43mput\u001b[49m\u001b[43m(\u001b[49m\u001b[43mselector\u001b[49m\u001b[43m,\u001b[49m\u001b[43m \u001b[49m\u001b[38;5;28;43;01mTrue\u001b[39;49;00m\u001b[43m)\u001b[49m\n\u001b[0;32m    188\u001b[0m \u001b[38;5;28;01mif\u001b[39;00m mask\u001b[38;5;241m.\u001b[39msum() \u001b[38;5;241m<\u001b[39m \u001b[38;5;28mlen\u001b[39m(\u001b[38;5;28mself\u001b[39m\u001b[38;5;241m.\u001b[39mindex):\n\u001b[0;32m    189\u001b[0m     \u001b[38;5;28;01mraise\u001b[39;00m \u001b[38;5;167;01mValueError\u001b[39;00m(\u001b[38;5;124m\"\u001b[39m\u001b[38;5;124mIndex contains duplicate entries, cannot reshape\u001b[39m\u001b[38;5;124m\"\u001b[39m)\n",
      "\u001b[1;31mIndexError\u001b[0m: index 528017776 is out of bounds for axis 0 with size 527873937"
     ]
    }
   ],
   "source": [
    "%%time\n",
    "# Nominal-Nominal correlation\n",
    "\n",
    "\n",
    "## we use cramers V\n",
    "## CramersV value function\n",
    "def CramersV(var1, var2):\n",
    "    crosstab = np.array(pd.crosstab(var1, var2, rownames = None, colnames = None))\n",
    "    stat = chi2_contingency(crosstab)[0]\n",
    "    obs = np.sum(crosstab)\n",
    "    mini = min(crosstab.shape) -1 \n",
    "    return (stat/(obs*mini))\n",
    "\n",
    "## building matrix\n",
    "rows = []\n",
    "i = 0\n",
    "\n",
    "for var1 in df:\n",
    "    i += 1\n",
    "    col = []\n",
    "    for var2 in df:\n",
    "        cramers = CramersV(df[var1], df[var2])\n",
    "        col.append(round(cramers, 2))\n",
    "    rows.append(col)\n",
    "    print(f\"loop {i}\")\n",
    "\n",
    "\n",
    "x = list(df.columns)\n",
    "        \n",
    "nomcat_corr = pd.DataFrame(np.array(rows), columns = df.columns, index = x)\n",
    "\n",
    "display(nomcat_corr)"
   ]
  },
  {
   "cell_type": "code",
   "execution_count": 23,
   "id": "ae5f562d",
   "metadata": {},
   "outputs": [
    {
     "name": "stderr",
     "output_type": "stream",
     "text": [
      "c:\\Users\\gbatt\\miniconda3\\lib\\site-packages\\pandas\\core\\reshape\\reshape.py:126: RuntimeWarning: overflow encountered in scalar multiply\n",
      "  num_cells = num_rows * num_columns\n"
     ]
    },
    {
     "ename": "IndexError",
     "evalue": "index 528017776 is out of bounds for axis 0 with size 527873937",
     "output_type": "error",
     "traceback": [
      "\u001b[1;31m---------------------------------------------------------------------------\u001b[0m",
      "\u001b[1;31mIndexError\u001b[0m                                Traceback (most recent call last)",
      "File \u001b[1;32m<timed exec>:21\u001b[0m\n",
      "File \u001b[1;32m<timed exec>:7\u001b[0m, in \u001b[0;36mCramersV\u001b[1;34m(var1, var2)\u001b[0m\n",
      "File \u001b[1;32mc:\\Users\\gbatt\\miniconda3\\lib\\site-packages\\pandas\\core\\reshape\\pivot.py:691\u001b[0m, in \u001b[0;36mcrosstab\u001b[1;34m(index, columns, values, rownames, colnames, aggfunc, margins, margins_name, dropna, normalize)\u001b[0m\n\u001b[0;32m    688\u001b[0m     df[\u001b[38;5;124m\"\u001b[39m\u001b[38;5;124m__dummy__\u001b[39m\u001b[38;5;124m\"\u001b[39m] \u001b[38;5;241m=\u001b[39m values\n\u001b[0;32m    689\u001b[0m     kwargs \u001b[38;5;241m=\u001b[39m {\u001b[38;5;124m\"\u001b[39m\u001b[38;5;124maggfunc\u001b[39m\u001b[38;5;124m\"\u001b[39m: aggfunc}\n\u001b[1;32m--> 691\u001b[0m table \u001b[38;5;241m=\u001b[39m df\u001b[38;5;241m.\u001b[39mpivot_table(\n\u001b[0;32m    692\u001b[0m     \u001b[38;5;124m\"\u001b[39m\u001b[38;5;124m__dummy__\u001b[39m\u001b[38;5;124m\"\u001b[39m,\n\u001b[0;32m    693\u001b[0m     index\u001b[38;5;241m=\u001b[39munique_rownames,\n\u001b[0;32m    694\u001b[0m     columns\u001b[38;5;241m=\u001b[39munique_colnames,\n\u001b[0;32m    695\u001b[0m     margins\u001b[38;5;241m=\u001b[39mmargins,\n\u001b[0;32m    696\u001b[0m     margins_name\u001b[38;5;241m=\u001b[39mmargins_name,\n\u001b[0;32m    697\u001b[0m     dropna\u001b[38;5;241m=\u001b[39mdropna,\n\u001b[0;32m    698\u001b[0m     \u001b[38;5;241m*\u001b[39m\u001b[38;5;241m*\u001b[39mkwargs,\n\u001b[0;32m    699\u001b[0m )\n\u001b[0;32m    701\u001b[0m \u001b[38;5;66;03m# Post-process\u001b[39;00m\n\u001b[0;32m    702\u001b[0m \u001b[38;5;28;01mif\u001b[39;00m normalize \u001b[38;5;129;01mis\u001b[39;00m \u001b[38;5;129;01mnot\u001b[39;00m \u001b[38;5;28;01mFalse\u001b[39;00m:\n",
      "File \u001b[1;32mc:\\Users\\gbatt\\miniconda3\\lib\\site-packages\\pandas\\core\\frame.py:8731\u001b[0m, in \u001b[0;36mDataFrame.pivot_table\u001b[1;34m(self, values, index, columns, aggfunc, fill_value, margins, dropna, margins_name, observed, sort)\u001b[0m\n\u001b[0;32m   8714\u001b[0m \u001b[38;5;129m@Substitution\u001b[39m(\u001b[38;5;124m\"\u001b[39m\u001b[38;5;124m\"\u001b[39m)\n\u001b[0;32m   8715\u001b[0m \u001b[38;5;129m@Appender\u001b[39m(_shared_docs[\u001b[38;5;124m\"\u001b[39m\u001b[38;5;124mpivot_table\u001b[39m\u001b[38;5;124m\"\u001b[39m])\n\u001b[0;32m   8716\u001b[0m \u001b[38;5;28;01mdef\u001b[39;00m \u001b[38;5;21mpivot_table\u001b[39m(\n\u001b[1;32m   (...)\u001b[0m\n\u001b[0;32m   8727\u001b[0m     sort\u001b[38;5;241m=\u001b[39m\u001b[38;5;28;01mTrue\u001b[39;00m,\n\u001b[0;32m   8728\u001b[0m ) \u001b[38;5;241m-\u001b[39m\u001b[38;5;241m>\u001b[39m DataFrame:\n\u001b[0;32m   8729\u001b[0m     \u001b[38;5;28;01mfrom\u001b[39;00m \u001b[38;5;21;01mpandas\u001b[39;00m\u001b[38;5;21;01m.\u001b[39;00m\u001b[38;5;21;01mcore\u001b[39;00m\u001b[38;5;21;01m.\u001b[39;00m\u001b[38;5;21;01mreshape\u001b[39;00m\u001b[38;5;21;01m.\u001b[39;00m\u001b[38;5;21;01mpivot\u001b[39;00m \u001b[38;5;28;01mimport\u001b[39;00m pivot_table\n\u001b[1;32m-> 8731\u001b[0m     \u001b[38;5;28;01mreturn\u001b[39;00m \u001b[43mpivot_table\u001b[49m\u001b[43m(\u001b[49m\n\u001b[0;32m   8732\u001b[0m \u001b[43m        \u001b[49m\u001b[38;5;28;43mself\u001b[39;49m\u001b[43m,\u001b[49m\n\u001b[0;32m   8733\u001b[0m \u001b[43m        \u001b[49m\u001b[43mvalues\u001b[49m\u001b[38;5;241;43m=\u001b[39;49m\u001b[43mvalues\u001b[49m\u001b[43m,\u001b[49m\n\u001b[0;32m   8734\u001b[0m \u001b[43m        \u001b[49m\u001b[43mindex\u001b[49m\u001b[38;5;241;43m=\u001b[39;49m\u001b[43mindex\u001b[49m\u001b[43m,\u001b[49m\n\u001b[0;32m   8735\u001b[0m \u001b[43m        \u001b[49m\u001b[43mcolumns\u001b[49m\u001b[38;5;241;43m=\u001b[39;49m\u001b[43mcolumns\u001b[49m\u001b[43m,\u001b[49m\n\u001b[0;32m   8736\u001b[0m \u001b[43m        \u001b[49m\u001b[43maggfunc\u001b[49m\u001b[38;5;241;43m=\u001b[39;49m\u001b[43maggfunc\u001b[49m\u001b[43m,\u001b[49m\n\u001b[0;32m   8737\u001b[0m \u001b[43m        \u001b[49m\u001b[43mfill_value\u001b[49m\u001b[38;5;241;43m=\u001b[39;49m\u001b[43mfill_value\u001b[49m\u001b[43m,\u001b[49m\n\u001b[0;32m   8738\u001b[0m \u001b[43m        \u001b[49m\u001b[43mmargins\u001b[49m\u001b[38;5;241;43m=\u001b[39;49m\u001b[43mmargins\u001b[49m\u001b[43m,\u001b[49m\n\u001b[0;32m   8739\u001b[0m \u001b[43m        \u001b[49m\u001b[43mdropna\u001b[49m\u001b[38;5;241;43m=\u001b[39;49m\u001b[43mdropna\u001b[49m\u001b[43m,\u001b[49m\n\u001b[0;32m   8740\u001b[0m \u001b[43m        \u001b[49m\u001b[43mmargins_name\u001b[49m\u001b[38;5;241;43m=\u001b[39;49m\u001b[43mmargins_name\u001b[49m\u001b[43m,\u001b[49m\n\u001b[0;32m   8741\u001b[0m \u001b[43m        \u001b[49m\u001b[43mobserved\u001b[49m\u001b[38;5;241;43m=\u001b[39;49m\u001b[43mobserved\u001b[49m\u001b[43m,\u001b[49m\n\u001b[0;32m   8742\u001b[0m \u001b[43m        \u001b[49m\u001b[43msort\u001b[49m\u001b[38;5;241;43m=\u001b[39;49m\u001b[43msort\u001b[49m\u001b[43m,\u001b[49m\n\u001b[0;32m   8743\u001b[0m \u001b[43m    \u001b[49m\u001b[43m)\u001b[49m\n",
      "File \u001b[1;32mc:\\Users\\gbatt\\miniconda3\\lib\\site-packages\\pandas\\core\\reshape\\pivot.py:97\u001b[0m, in \u001b[0;36mpivot_table\u001b[1;34m(data, values, index, columns, aggfunc, fill_value, margins, dropna, margins_name, observed, sort)\u001b[0m\n\u001b[0;32m     94\u001b[0m     table \u001b[38;5;241m=\u001b[39m concat(pieces, keys\u001b[38;5;241m=\u001b[39mkeys, axis\u001b[38;5;241m=\u001b[39m\u001b[38;5;241m1\u001b[39m)\n\u001b[0;32m     95\u001b[0m     \u001b[38;5;28;01mreturn\u001b[39;00m table\u001b[38;5;241m.\u001b[39m__finalize__(data, method\u001b[38;5;241m=\u001b[39m\u001b[38;5;124m\"\u001b[39m\u001b[38;5;124mpivot_table\u001b[39m\u001b[38;5;124m\"\u001b[39m)\n\u001b[1;32m---> 97\u001b[0m table \u001b[38;5;241m=\u001b[39m \u001b[43m__internal_pivot_table\u001b[49m\u001b[43m(\u001b[49m\n\u001b[0;32m     98\u001b[0m \u001b[43m    \u001b[49m\u001b[43mdata\u001b[49m\u001b[43m,\u001b[49m\n\u001b[0;32m     99\u001b[0m \u001b[43m    \u001b[49m\u001b[43mvalues\u001b[49m\u001b[43m,\u001b[49m\n\u001b[0;32m    100\u001b[0m \u001b[43m    \u001b[49m\u001b[43mindex\u001b[49m\u001b[43m,\u001b[49m\n\u001b[0;32m    101\u001b[0m \u001b[43m    \u001b[49m\u001b[43mcolumns\u001b[49m\u001b[43m,\u001b[49m\n\u001b[0;32m    102\u001b[0m \u001b[43m    \u001b[49m\u001b[43maggfunc\u001b[49m\u001b[43m,\u001b[49m\n\u001b[0;32m    103\u001b[0m \u001b[43m    \u001b[49m\u001b[43mfill_value\u001b[49m\u001b[43m,\u001b[49m\n\u001b[0;32m    104\u001b[0m \u001b[43m    \u001b[49m\u001b[43mmargins\u001b[49m\u001b[43m,\u001b[49m\n\u001b[0;32m    105\u001b[0m \u001b[43m    \u001b[49m\u001b[43mdropna\u001b[49m\u001b[43m,\u001b[49m\n\u001b[0;32m    106\u001b[0m \u001b[43m    \u001b[49m\u001b[43mmargins_name\u001b[49m\u001b[43m,\u001b[49m\n\u001b[0;32m    107\u001b[0m \u001b[43m    \u001b[49m\u001b[43mobserved\u001b[49m\u001b[43m,\u001b[49m\n\u001b[0;32m    108\u001b[0m \u001b[43m    \u001b[49m\u001b[43msort\u001b[49m\u001b[43m,\u001b[49m\n\u001b[0;32m    109\u001b[0m \u001b[43m\u001b[49m\u001b[43m)\u001b[49m\n\u001b[0;32m    110\u001b[0m \u001b[38;5;28;01mreturn\u001b[39;00m table\u001b[38;5;241m.\u001b[39m__finalize__(data, method\u001b[38;5;241m=\u001b[39m\u001b[38;5;124m\"\u001b[39m\u001b[38;5;124mpivot_table\u001b[39m\u001b[38;5;124m\"\u001b[39m)\n",
      "File \u001b[1;32mc:\\Users\\gbatt\\miniconda3\\lib\\site-packages\\pandas\\core\\reshape\\pivot.py:219\u001b[0m, in \u001b[0;36m__internal_pivot_table\u001b[1;34m(data, values, index, columns, aggfunc, fill_value, margins, dropna, margins_name, observed, sort)\u001b[0m\n\u001b[0;32m    217\u001b[0m         \u001b[38;5;28;01melse\u001b[39;00m:\n\u001b[0;32m    218\u001b[0m             to_unstack\u001b[38;5;241m.\u001b[39mappend(name)\n\u001b[1;32m--> 219\u001b[0m     table \u001b[38;5;241m=\u001b[39m \u001b[43magged\u001b[49m\u001b[38;5;241;43m.\u001b[39;49m\u001b[43munstack\u001b[49m\u001b[43m(\u001b[49m\u001b[43mto_unstack\u001b[49m\u001b[43m)\u001b[49m\n\u001b[0;32m    221\u001b[0m \u001b[38;5;28;01mif\u001b[39;00m \u001b[38;5;129;01mnot\u001b[39;00m dropna:\n\u001b[0;32m    222\u001b[0m     \u001b[38;5;28;01mif\u001b[39;00m \u001b[38;5;28misinstance\u001b[39m(table\u001b[38;5;241m.\u001b[39mindex, MultiIndex):\n",
      "File \u001b[1;32mc:\\Users\\gbatt\\miniconda3\\lib\\site-packages\\pandas\\core\\frame.py:9112\u001b[0m, in \u001b[0;36mDataFrame.unstack\u001b[1;34m(self, level, fill_value)\u001b[0m\n\u001b[0;32m   9050\u001b[0m \u001b[38;5;124;03m\"\"\"\u001b[39;00m\n\u001b[0;32m   9051\u001b[0m \u001b[38;5;124;03mPivot a level of the (necessarily hierarchical) index labels.\u001b[39;00m\n\u001b[0;32m   9052\u001b[0m \n\u001b[1;32m   (...)\u001b[0m\n\u001b[0;32m   9108\u001b[0m \u001b[38;5;124;03mdtype: float64\u001b[39;00m\n\u001b[0;32m   9109\u001b[0m \u001b[38;5;124;03m\"\"\"\u001b[39;00m\n\u001b[0;32m   9110\u001b[0m \u001b[38;5;28;01mfrom\u001b[39;00m \u001b[38;5;21;01mpandas\u001b[39;00m\u001b[38;5;21;01m.\u001b[39;00m\u001b[38;5;21;01mcore\u001b[39;00m\u001b[38;5;21;01m.\u001b[39;00m\u001b[38;5;21;01mreshape\u001b[39;00m\u001b[38;5;21;01m.\u001b[39;00m\u001b[38;5;21;01mreshape\u001b[39;00m \u001b[38;5;28;01mimport\u001b[39;00m unstack\n\u001b[1;32m-> 9112\u001b[0m result \u001b[38;5;241m=\u001b[39m \u001b[43munstack\u001b[49m\u001b[43m(\u001b[49m\u001b[38;5;28;43mself\u001b[39;49m\u001b[43m,\u001b[49m\u001b[43m \u001b[49m\u001b[43mlevel\u001b[49m\u001b[43m,\u001b[49m\u001b[43m \u001b[49m\u001b[43mfill_value\u001b[49m\u001b[43m)\u001b[49m\n\u001b[0;32m   9114\u001b[0m \u001b[38;5;28;01mreturn\u001b[39;00m result\u001b[38;5;241m.\u001b[39m__finalize__(\u001b[38;5;28mself\u001b[39m, method\u001b[38;5;241m=\u001b[39m\u001b[38;5;124m\"\u001b[39m\u001b[38;5;124munstack\u001b[39m\u001b[38;5;124m\"\u001b[39m)\n",
      "File \u001b[1;32mc:\\Users\\gbatt\\miniconda3\\lib\\site-packages\\pandas\\core\\reshape\\reshape.py:476\u001b[0m, in \u001b[0;36munstack\u001b[1;34m(obj, level, fill_value)\u001b[0m\n\u001b[0;32m    474\u001b[0m \u001b[38;5;28;01mif\u001b[39;00m \u001b[38;5;28misinstance\u001b[39m(obj, DataFrame):\n\u001b[0;32m    475\u001b[0m     \u001b[38;5;28;01mif\u001b[39;00m \u001b[38;5;28misinstance\u001b[39m(obj\u001b[38;5;241m.\u001b[39mindex, MultiIndex):\n\u001b[1;32m--> 476\u001b[0m         \u001b[38;5;28;01mreturn\u001b[39;00m \u001b[43m_unstack_frame\u001b[49m\u001b[43m(\u001b[49m\u001b[43mobj\u001b[49m\u001b[43m,\u001b[49m\u001b[43m \u001b[49m\u001b[43mlevel\u001b[49m\u001b[43m,\u001b[49m\u001b[43m \u001b[49m\u001b[43mfill_value\u001b[49m\u001b[38;5;241;43m=\u001b[39;49m\u001b[43mfill_value\u001b[49m\u001b[43m)\u001b[49m\n\u001b[0;32m    477\u001b[0m     \u001b[38;5;28;01melse\u001b[39;00m:\n\u001b[0;32m    478\u001b[0m         \u001b[38;5;28;01mreturn\u001b[39;00m obj\u001b[38;5;241m.\u001b[39mT\u001b[38;5;241m.\u001b[39mstack(dropna\u001b[38;5;241m=\u001b[39m\u001b[38;5;28;01mFalse\u001b[39;00m)\n",
      "File \u001b[1;32mc:\\Users\\gbatt\\miniconda3\\lib\\site-packages\\pandas\\core\\reshape\\reshape.py:499\u001b[0m, in \u001b[0;36m_unstack_frame\u001b[1;34m(obj, level, fill_value)\u001b[0m\n\u001b[0;32m    497\u001b[0m \u001b[38;5;28;01mdef\u001b[39;00m \u001b[38;5;21m_unstack_frame\u001b[39m(obj: DataFrame, level, fill_value\u001b[38;5;241m=\u001b[39m\u001b[38;5;28;01mNone\u001b[39;00m):\n\u001b[0;32m    498\u001b[0m     \u001b[38;5;28;01massert\u001b[39;00m \u001b[38;5;28misinstance\u001b[39m(obj\u001b[38;5;241m.\u001b[39mindex, MultiIndex)  \u001b[38;5;66;03m# checked by caller\u001b[39;00m\n\u001b[1;32m--> 499\u001b[0m     unstacker \u001b[38;5;241m=\u001b[39m \u001b[43m_Unstacker\u001b[49m\u001b[43m(\u001b[49m\u001b[43mobj\u001b[49m\u001b[38;5;241;43m.\u001b[39;49m\u001b[43mindex\u001b[49m\u001b[43m,\u001b[49m\u001b[43m \u001b[49m\u001b[43mlevel\u001b[49m\u001b[38;5;241;43m=\u001b[39;49m\u001b[43mlevel\u001b[49m\u001b[43m,\u001b[49m\u001b[43m \u001b[49m\u001b[43mconstructor\u001b[49m\u001b[38;5;241;43m=\u001b[39;49m\u001b[43mobj\u001b[49m\u001b[38;5;241;43m.\u001b[39;49m\u001b[43m_constructor\u001b[49m\u001b[43m)\u001b[49m\n\u001b[0;32m    501\u001b[0m     \u001b[38;5;28;01mif\u001b[39;00m \u001b[38;5;129;01mnot\u001b[39;00m obj\u001b[38;5;241m.\u001b[39m_can_fast_transpose:\n\u001b[0;32m    502\u001b[0m         mgr \u001b[38;5;241m=\u001b[39m obj\u001b[38;5;241m.\u001b[39m_mgr\u001b[38;5;241m.\u001b[39munstack(unstacker, fill_value\u001b[38;5;241m=\u001b[39mfill_value)\n",
      "File \u001b[1;32mc:\\Users\\gbatt\\miniconda3\\lib\\site-packages\\pandas\\core\\reshape\\reshape.py:137\u001b[0m, in \u001b[0;36m_Unstacker.__init__\u001b[1;34m(self, index, level, constructor)\u001b[0m\n\u001b[0;32m    129\u001b[0m \u001b[38;5;28;01mif\u001b[39;00m num_cells \u001b[38;5;241m>\u001b[39m np\u001b[38;5;241m.\u001b[39miinfo(np\u001b[38;5;241m.\u001b[39mint32)\u001b[38;5;241m.\u001b[39mmax:\n\u001b[0;32m    130\u001b[0m     warnings\u001b[38;5;241m.\u001b[39mwarn(\n\u001b[0;32m    131\u001b[0m         \u001b[38;5;124mf\u001b[39m\u001b[38;5;124m\"\u001b[39m\u001b[38;5;124mThe following operation may generate \u001b[39m\u001b[38;5;132;01m{\u001b[39;00mnum_cells\u001b[38;5;132;01m}\u001b[39;00m\u001b[38;5;124m cells \u001b[39m\u001b[38;5;124m\"\u001b[39m\n\u001b[0;32m    132\u001b[0m         \u001b[38;5;124mf\u001b[39m\u001b[38;5;124m\"\u001b[39m\u001b[38;5;124min the resulting pandas object.\u001b[39m\u001b[38;5;124m\"\u001b[39m,\n\u001b[0;32m    133\u001b[0m         PerformanceWarning,\n\u001b[0;32m    134\u001b[0m         stacklevel\u001b[38;5;241m=\u001b[39mfind_stack_level(),\n\u001b[0;32m    135\u001b[0m     )\n\u001b[1;32m--> 137\u001b[0m \u001b[38;5;28;43mself\u001b[39;49m\u001b[38;5;241;43m.\u001b[39;49m\u001b[43m_make_selectors\u001b[49m\u001b[43m(\u001b[49m\u001b[43m)\u001b[49m\n",
      "File \u001b[1;32mc:\\Users\\gbatt\\miniconda3\\lib\\site-packages\\pandas\\core\\reshape\\reshape.py:186\u001b[0m, in \u001b[0;36m_Unstacker._make_selectors\u001b[1;34m(self)\u001b[0m\n\u001b[0;32m    184\u001b[0m selector \u001b[38;5;241m=\u001b[39m \u001b[38;5;28mself\u001b[39m\u001b[38;5;241m.\u001b[39msorted_labels[\u001b[38;5;241m-\u001b[39m\u001b[38;5;241m1\u001b[39m] \u001b[38;5;241m+\u001b[39m stride \u001b[38;5;241m*\u001b[39m comp_index \u001b[38;5;241m+\u001b[39m \u001b[38;5;28mself\u001b[39m\u001b[38;5;241m.\u001b[39mlift\n\u001b[0;32m    185\u001b[0m mask \u001b[38;5;241m=\u001b[39m np\u001b[38;5;241m.\u001b[39mzeros(np\u001b[38;5;241m.\u001b[39mprod(\u001b[38;5;28mself\u001b[39m\u001b[38;5;241m.\u001b[39mfull_shape), dtype\u001b[38;5;241m=\u001b[39m\u001b[38;5;28mbool\u001b[39m)\n\u001b[1;32m--> 186\u001b[0m \u001b[43mmask\u001b[49m\u001b[38;5;241;43m.\u001b[39;49m\u001b[43mput\u001b[49m\u001b[43m(\u001b[49m\u001b[43mselector\u001b[49m\u001b[43m,\u001b[49m\u001b[43m \u001b[49m\u001b[38;5;28;43;01mTrue\u001b[39;49;00m\u001b[43m)\u001b[49m\n\u001b[0;32m    188\u001b[0m \u001b[38;5;28;01mif\u001b[39;00m mask\u001b[38;5;241m.\u001b[39msum() \u001b[38;5;241m<\u001b[39m \u001b[38;5;28mlen\u001b[39m(\u001b[38;5;28mself\u001b[39m\u001b[38;5;241m.\u001b[39mindex):\n\u001b[0;32m    189\u001b[0m     \u001b[38;5;28;01mraise\u001b[39;00m \u001b[38;5;167;01mValueError\u001b[39;00m(\u001b[38;5;124m\"\u001b[39m\u001b[38;5;124mIndex contains duplicate entries, cannot reshape\u001b[39m\u001b[38;5;124m\"\u001b[39m)\n",
      "\u001b[1;31mIndexError\u001b[0m: index 528017776 is out of bounds for axis 0 with size 527873937"
     ]
    }
   ],
   "source": [
    "%%time\n",
    "# Nominal-Nominal correlation\n",
    "\n",
    "\n",
    "## we use cramers V\n",
    "## CramersV value function\n",
    "def CramersV(var1, var2):\n",
    "    crosstab = np.array(pd.crosstab(var1, var2, rownames = None, colnames = None))\n",
    "    stat = chi2_contingency(crosstab)[0]\n",
    "    obs = np.sum(crosstab)\n",
    "    mini = min(crosstab.shape) -1 \n",
    "    return (stat/(obs*mini))\n",
    "\n",
    "## building matrix\n",
    "rows = []\n",
    "i = 0\n",
    "\n",
    "for var1 in df:\n",
    "    i += 1\n",
    "    col = []\n",
    "    for var2 in df:\n",
    "        cramers = CramersV(df[var1], df[var2])\n",
    "        col.append(round(cramers, 2))\n",
    "    rows.append(col)\n",
    "    print(f\"loop {i}\")\n",
    "\n",
    "\n",
    "x = list(df.columns)\n",
    "        \n",
    "nomcat_corr = pd.DataFrame(np.array(rows), columns = df.columns, index = x)\n",
    "\n",
    "display(nomcat_corr)"
   ]
  },
  {
   "cell_type": "code",
   "execution_count": 21,
   "id": "f41e8518",
   "metadata": {},
   "outputs": [
    {
     "ename": "NameError",
     "evalue": "name 'nomcat_corr' is not defined",
     "output_type": "error",
     "traceback": [
      "\u001b[1;31m---------------------------------------------------------------------------\u001b[0m",
      "\u001b[1;31mNameError\u001b[0m                                 Traceback (most recent call last)",
      "Cell \u001b[1;32mIn [21], line 6\u001b[0m\n\u001b[0;32m      1\u001b[0m \u001b[38;5;66;03m# For storing and retreiving\u001b[39;00m\n\u001b[0;32m      2\u001b[0m \n\u001b[0;32m      3\u001b[0m \u001b[38;5;66;03m# use pickle to store nomcat_corr\u001b[39;00m\n\u001b[0;32m      4\u001b[0m object_filename \u001b[38;5;241m=\u001b[39m \u001b[38;5;124m\"\u001b[39m\u001b[38;5;124mnomcat_corr_cramersV.sav\u001b[39m\u001b[38;5;124m\"\u001b[39m\n\u001b[1;32m----> 6\u001b[0m saved_model \u001b[38;5;241m=\u001b[39m pickle\u001b[38;5;241m.\u001b[39mdump(\u001b[43mnomcat_corr\u001b[49m, \u001b[38;5;28mopen\u001b[39m(object_filename,\u001b[38;5;124m'\u001b[39m\u001b[38;5;124mwb\u001b[39m\u001b[38;5;124m'\u001b[39m))\n\u001b[0;32m      8\u001b[0m \u001b[38;5;28mprint\u001b[39m(\u001b[38;5;124m'\u001b[39m\u001b[38;5;124mObject is saved into to disk successfully Using Pickle\u001b[39m\u001b[38;5;124m'\u001b[39m)\n",
      "\u001b[1;31mNameError\u001b[0m: name 'nomcat_corr' is not defined"
     ]
    }
   ],
   "source": [
    "# For storing and retreiving\n",
    "\n",
    "# use pickle to store nomcat_corr\n",
    "object_filename = \"nomcat_corr_cramersV.sav\"\n",
    "\n",
    "saved_model = pickle.dump(nomcat_corr, open(object_filename,'wb'))\n",
    "\n",
    "print('Object is saved into to disk successfully Using Pickle')\n"
   ]
  },
  {
   "cell_type": "code",
   "execution_count": 22,
   "id": "ec99cfe7",
   "metadata": {},
   "outputs": [
    {
     "ename": "NameError",
     "evalue": "name 'nomcat_corr' is not defined",
     "output_type": "error",
     "traceback": [
      "\u001b[1;31m---------------------------------------------------------------------------\u001b[0m",
      "\u001b[1;31mNameError\u001b[0m                                 Traceback (most recent call last)",
      "Cell \u001b[1;32mIn [22], line 5\u001b[0m\n\u001b[0;32m      2\u001b[0m f, ax \u001b[38;5;241m=\u001b[39m plt\u001b[38;5;241m.\u001b[39msubplots(figsize \u001b[38;5;241m=\u001b[39m (\u001b[38;5;241m15\u001b[39m,\u001b[38;5;241m15\u001b[39m))\n\u001b[0;32m      4\u001b[0m \u001b[38;5;66;03m## get lower triangular matrix\u001b[39;00m\n\u001b[1;32m----> 5\u001b[0m nomcat_corr_lt \u001b[38;5;241m=\u001b[39m \u001b[43mnomcat_corr\u001b[49m\u001b[38;5;241m.\u001b[39mwhere(np\u001b[38;5;241m.\u001b[39mtril(np\u001b[38;5;241m.\u001b[39mones(nomcat_corr\u001b[38;5;241m.\u001b[39mshape))\u001b[38;5;241m.\u001b[39mastype(\u001b[38;5;28mbool\u001b[39m))\n\u001b[0;32m      7\u001b[0m \u001b[38;5;66;03m## plot\u001b[39;00m\n\u001b[0;32m      8\u001b[0m sns\u001b[38;5;241m.\u001b[39mheatmap(nomcat_corr_lt, \n\u001b[0;32m      9\u001b[0m             annot\u001b[38;5;241m=\u001b[39m \u001b[38;5;28;01mTrue\u001b[39;00m, \n\u001b[0;32m     10\u001b[0m             fmt \u001b[38;5;241m=\u001b[39m \u001b[38;5;124m\"\u001b[39m\u001b[38;5;124m.2g\u001b[39m\u001b[38;5;124m\"\u001b[39m, \n\u001b[1;32m   (...)\u001b[0m\n\u001b[0;32m     15\u001b[0m             annot_kws \u001b[38;5;241m=\u001b[39m {\u001b[38;5;124m\"\u001b[39m\u001b[38;5;124mfontsize\u001b[39m\u001b[38;5;124m\"\u001b[39m:\u001b[38;5;241m15\u001b[39m},\n\u001b[0;32m     16\u001b[0m             ax\u001b[38;5;241m=\u001b[39max )\n",
      "\u001b[1;31mNameError\u001b[0m: name 'nomcat_corr' is not defined"
     ]
    },
    {
     "data": {
      "image/png": "[encoded data removed]",
      "text/plain": [
       "<Figure size 1500x1500 with 1 Axes>"
      ]
     },
     "metadata": {},
     "output_type": "display_data"
    }
   ],
   "source": [
    "## set figsize\n",
    "f, ax = plt.subplots(figsize = (15,15))\n",
    "\n",
    "## get lower triangular matrix\n",
    "nomcat_corr_lt = nomcat_corr.where(np.tril(np.ones(nomcat_corr.shape)).astype(bool))\n",
    "\n",
    "## plot\n",
    "sns.heatmap(nomcat_corr_lt, \n",
    "            annot= True, \n",
    "            fmt = \".2g\", \n",
    "            vmin = 0,\n",
    "            vmax = 1, \n",
    "            center = 0.3, \n",
    "            cmap = \"Blues\",\n",
    "            annot_kws = {\"fontsize\":15},\n",
    "            ax=ax )"
   ]
  },
  {
   "cell_type": "code",
   "execution_count": 30,
   "id": "27d9448c",
   "metadata": {},
   "outputs": [
    {
     "name": "stdout",
     "output_type": "stream",
     "text": [
      "Processed chunk 1/61\n",
      "Processed chunk 2/61\n",
      "Processed chunk 3/61\n",
      "Processed chunk 4/61\n",
      "Processed chunk 5/61\n",
      "Processed chunk 6/61\n",
      "Processed chunk 7/61\n",
      "Processed chunk 8/61\n",
      "Processed chunk 9/61\n",
      "Processed chunk 10/61\n",
      "Processed chunk 11/61\n",
      "Processed chunk 12/61\n",
      "Processed chunk 13/61\n",
      "Processed chunk 14/61\n",
      "Processed chunk 15/61\n",
      "Processed chunk 16/61\n",
      "Processed chunk 17/61\n",
      "Processed chunk 18/61\n",
      "Processed chunk 19/61\n",
      "Processed chunk 20/61\n",
      "Processed chunk 21/61\n",
      "Processed chunk 22/61\n",
      "Processed chunk 23/61\n",
      "Processed chunk 24/61\n",
      "Processed chunk 25/61\n",
      "Processed chunk 26/61\n",
      "Processed chunk 27/61\n",
      "Processed chunk 28/61\n",
      "Processed chunk 29/61\n",
      "Processed chunk 30/61\n",
      "Processed chunk 31/61\n",
      "Processed chunk 32/61\n",
      "Processed chunk 33/61\n",
      "Processed chunk 34/61\n",
      "Processed chunk 35/61\n",
      "Processed chunk 36/61\n",
      "Processed chunk 37/61\n",
      "Processed chunk 38/61\n",
      "Processed chunk 39/61\n",
      "Processed chunk 40/61\n",
      "Processed chunk 41/61\n",
      "Processed chunk 42/61\n",
      "Processed chunk 43/61\n",
      "Processed chunk 44/61\n",
      "Processed chunk 45/61\n",
      "Processed chunk 46/61\n",
      "Processed chunk 47/61\n",
      "Processed chunk 48/61\n",
      "Processed chunk 49/61\n",
      "Processed chunk 50/61\n",
      "Processed chunk 51/61\n",
      "Processed chunk 52/61\n",
      "Processed chunk 53/61\n",
      "Processed chunk 54/61\n",
      "Processed chunk 55/61\n",
      "Processed chunk 56/61\n",
      "Processed chunk 57/61\n",
      "Processed chunk 58/61\n",
      "Processed chunk 59/61\n",
      "Processed chunk 60/61\n",
      "Processed chunk 61/61\n"
     ]
    },
    {
     "data": {
      "image/png": "[encoded data removed]",
      "text/plain": [
       "<Figure size 1000x800 with 2 Axes>"
      ]
     },
     "metadata": {},
     "output_type": "display_data"
    }
   ],
   "source": [
    "def CramersV(var1, var2):\n",
    "    crosstab = np.array(pd.crosstab(var1, var2, rownames = None, colnames = None))\n",
    "    stat = chi2_contingency(crosstab)[0]\n",
    "    obs = np.sum(crosstab)\n",
    "    mini = min(crosstab.shape) -1 \n",
    "    return (stat/(obs*mini))\n",
    "\n",
    "df = pd.DataFrame({ \n",
    "   'A': np.random.randint(0, 100, 301770), \n",
    "   'B': np.random.randint(0, 100, 301770), \n",
    "   'C': np.random.choice(['X', 'Y', 'Z'], 301770) })\n",
    "\n",
    "chunk_size = 5000  \n",
    "\n",
    "num_chunks = (len(df) + chunk_size - 1) // chunk_size \n",
    "all_chunks = [] \n",
    "\n",
    "for i in range(num_chunks): \n",
    "   start_idx = i * chunk_size \n",
    "   end_idx = min((i + 1) * chunk_size, len(df))\n",
    "   chunk = df.iloc[start_idx:end_idx] \n",
    "   \n",
    "   chunk_rows = [] \n",
    "   for var1 in chunk.columns: \n",
    "     col = [] \n",
    "     for var2 in chunk.columns: \n",
    "       cramers = CramersV(chunk[var1], chunk[var2]) \n",
    "       col.append(cramers) \n",
    "     chunk_rows.append(col) \n",
    "   all_chunks.append(chunk_rows) \n",
    "   print(f\"Processed chunk {i + 1}/{num_chunks}\") \n",
    "\n",
    "combined_matrix = np.mean(all_chunks, axis=0)  \n",
    "\n",
    "columns = df.columns \n",
    "nomcat_corr = pd.DataFrame(combined_matrix, columns=columns, index=columns) \n",
    " \n",
    "plt.figure(figsize=(10, 8))\n",
    "sns.heatmap(nomcat_corr, annot=True, cmap='coolwarm') \n",
    "plt.show()"
   ]
  },
  {
   "cell_type": "code",
   "execution_count": 24,
   "id": "627171bc",
   "metadata": {
    "ExecuteTime": {
     "end_time": "2022-11-22T09:19:00.510335Z",
     "start_time": "2022-11-22T09:18:43.943523Z"
    }
   },
   "outputs": [
    {
     "name": "stderr",
     "output_type": "stream",
     "text": [
      "<timed exec>:7: PerformanceWarning: The following operation may generate 52067481489 cells in the resulting pandas object.\n"
     ]
    },
    {
     "ename": "MemoryError",
     "evalue": "Unable to allocate 388. GiB for an array with shape (228183, 228183) and data type int64",
     "output_type": "error",
     "traceback": [
      "\u001b[1;31m---------------------------------------------------------------------------\u001b[0m",
      "\u001b[1;31mMemoryError\u001b[0m                               Traceback (most recent call last)",
      "File \u001b[1;32m<timed exec>:21\u001b[0m\n",
      "File \u001b[1;32m<timed exec>:7\u001b[0m, in \u001b[0;36mCramersV\u001b[1;34m(var1, var2)\u001b[0m\n",
      "File \u001b[1;32mc:\\Users\\gbatt\\AppData\\Local\\Programs\\Python\\Python312\\Lib\\site-packages\\pandas\\core\\reshape\\pivot.py:728\u001b[0m, in \u001b[0;36mcrosstab\u001b[1;34m(index, columns, values, rownames, colnames, aggfunc, margins, margins_name, dropna, normalize)\u001b[0m\n\u001b[0;32m    724\u001b[0m     kwargs \u001b[38;5;241m=\u001b[39m {\u001b[38;5;124m\"\u001b[39m\u001b[38;5;124maggfunc\u001b[39m\u001b[38;5;124m\"\u001b[39m: aggfunc}\n\u001b[0;32m    726\u001b[0m \u001b[38;5;66;03m# error: Argument 7 to \"pivot_table\" of \"DataFrame\" has incompatible type\u001b[39;00m\n\u001b[0;32m    727\u001b[0m \u001b[38;5;66;03m# \"**Dict[str, object]\"; expected \"Union[...]\"\u001b[39;00m\n\u001b[1;32m--> 728\u001b[0m table \u001b[38;5;241m=\u001b[39m \u001b[43mdf\u001b[49m\u001b[38;5;241;43m.\u001b[39;49m\u001b[43mpivot_table\u001b[49m\u001b[43m(\u001b[49m\n\u001b[0;32m    729\u001b[0m \u001b[43m    \u001b[49m\u001b[38;5;124;43m\"\u001b[39;49m\u001b[38;5;124;43m__dummy__\u001b[39;49m\u001b[38;5;124;43m\"\u001b[39;49m\u001b[43m,\u001b[49m\n\u001b[0;32m    730\u001b[0m \u001b[43m    \u001b[49m\u001b[43mindex\u001b[49m\u001b[38;5;241;43m=\u001b[39;49m\u001b[43munique_rownames\u001b[49m\u001b[43m,\u001b[49m\n\u001b[0;32m    731\u001b[0m \u001b[43m    \u001b[49m\u001b[43mcolumns\u001b[49m\u001b[38;5;241;43m=\u001b[39;49m\u001b[43munique_colnames\u001b[49m\u001b[43m,\u001b[49m\n\u001b[0;32m    732\u001b[0m \u001b[43m    \u001b[49m\u001b[43mmargins\u001b[49m\u001b[38;5;241;43m=\u001b[39;49m\u001b[43mmargins\u001b[49m\u001b[43m,\u001b[49m\n\u001b[0;32m    733\u001b[0m \u001b[43m    \u001b[49m\u001b[43mmargins_name\u001b[49m\u001b[38;5;241;43m=\u001b[39;49m\u001b[43mmargins_name\u001b[49m\u001b[43m,\u001b[49m\n\u001b[0;32m    734\u001b[0m \u001b[43m    \u001b[49m\u001b[43mdropna\u001b[49m\u001b[38;5;241;43m=\u001b[39;49m\u001b[43mdropna\u001b[49m\u001b[43m,\u001b[49m\n\u001b[0;32m    735\u001b[0m \u001b[43m    \u001b[49m\u001b[43mobserved\u001b[49m\u001b[38;5;241;43m=\u001b[39;49m\u001b[38;5;28;43;01mFalse\u001b[39;49;00m\u001b[43m,\u001b[49m\n\u001b[0;32m    736\u001b[0m \u001b[43m    \u001b[49m\u001b[38;5;241;43m*\u001b[39;49m\u001b[38;5;241;43m*\u001b[39;49m\u001b[43mkwargs\u001b[49m\u001b[43m,\u001b[49m\u001b[43m  \u001b[49m\u001b[38;5;66;43;03m# type: ignore[arg-type]\u001b[39;49;00m\n\u001b[0;32m    737\u001b[0m \u001b[43m\u001b[49m\u001b[43m)\u001b[49m\n\u001b[0;32m    739\u001b[0m \u001b[38;5;66;03m# Post-process\u001b[39;00m\n\u001b[0;32m    740\u001b[0m \u001b[38;5;28;01mif\u001b[39;00m normalize \u001b[38;5;129;01mis\u001b[39;00m \u001b[38;5;129;01mnot\u001b[39;00m \u001b[38;5;28;01mFalse\u001b[39;00m:\n",
      "File \u001b[1;32mc:\\Users\\gbatt\\AppData\\Local\\Programs\\Python\\Python312\\Lib\\site-packages\\pandas\\core\\frame.py:9509\u001b[0m, in \u001b[0;36mDataFrame.pivot_table\u001b[1;34m(self, values, index, columns, aggfunc, fill_value, margins, dropna, margins_name, observed, sort)\u001b[0m\n\u001b[0;32m   9492\u001b[0m \u001b[38;5;129m@Substitution\u001b[39m(\u001b[38;5;124m\"\u001b[39m\u001b[38;5;124m\"\u001b[39m)\n\u001b[0;32m   9493\u001b[0m \u001b[38;5;129m@Appender\u001b[39m(_shared_docs[\u001b[38;5;124m\"\u001b[39m\u001b[38;5;124mpivot_table\u001b[39m\u001b[38;5;124m\"\u001b[39m])\n\u001b[0;32m   9494\u001b[0m \u001b[38;5;28;01mdef\u001b[39;00m \u001b[38;5;21mpivot_table\u001b[39m(\n\u001b[1;32m   (...)\u001b[0m\n\u001b[0;32m   9505\u001b[0m     sort: \u001b[38;5;28mbool\u001b[39m \u001b[38;5;241m=\u001b[39m \u001b[38;5;28;01mTrue\u001b[39;00m,\n\u001b[0;32m   9506\u001b[0m ) \u001b[38;5;241m-\u001b[39m\u001b[38;5;241m>\u001b[39m DataFrame:\n\u001b[0;32m   9507\u001b[0m     \u001b[38;5;28;01mfrom\u001b[39;00m \u001b[38;5;21;01mpandas\u001b[39;00m\u001b[38;5;21;01m.\u001b[39;00m\u001b[38;5;21;01mcore\u001b[39;00m\u001b[38;5;21;01m.\u001b[39;00m\u001b[38;5;21;01mreshape\u001b[39;00m\u001b[38;5;21;01m.\u001b[39;00m\u001b[38;5;21;01mpivot\u001b[39;00m \u001b[38;5;28;01mimport\u001b[39;00m pivot_table\n\u001b[1;32m-> 9509\u001b[0m     \u001b[38;5;28;01mreturn\u001b[39;00m \u001b[43mpivot_table\u001b[49m\u001b[43m(\u001b[49m\n\u001b[0;32m   9510\u001b[0m \u001b[43m        \u001b[49m\u001b[38;5;28;43mself\u001b[39;49m\u001b[43m,\u001b[49m\n\u001b[0;32m   9511\u001b[0m \u001b[43m        \u001b[49m\u001b[43mvalues\u001b[49m\u001b[38;5;241;43m=\u001b[39;49m\u001b[43mvalues\u001b[49m\u001b[43m,\u001b[49m\n\u001b[0;32m   9512\u001b[0m \u001b[43m        \u001b[49m\u001b[43mindex\u001b[49m\u001b[38;5;241;43m=\u001b[39;49m\u001b[43mindex\u001b[49m\u001b[43m,\u001b[49m\n\u001b[0;32m   9513\u001b[0m \u001b[43m        \u001b[49m\u001b[43mcolumns\u001b[49m\u001b[38;5;241;43m=\u001b[39;49m\u001b[43mcolumns\u001b[49m\u001b[43m,\u001b[49m\n\u001b[0;32m   9514\u001b[0m \u001b[43m        \u001b[49m\u001b[43maggfunc\u001b[49m\u001b[38;5;241;43m=\u001b[39;49m\u001b[43maggfunc\u001b[49m\u001b[43m,\u001b[49m\n\u001b[0;32m   9515\u001b[0m \u001b[43m        \u001b[49m\u001b[43mfill_value\u001b[49m\u001b[38;5;241;43m=\u001b[39;49m\u001b[43mfill_value\u001b[49m\u001b[43m,\u001b[49m\n\u001b[0;32m   9516\u001b[0m \u001b[43m        \u001b[49m\u001b[43mmargins\u001b[49m\u001b[38;5;241;43m=\u001b[39;49m\u001b[43mmargins\u001b[49m\u001b[43m,\u001b[49m\n\u001b[0;32m   9517\u001b[0m \u001b[43m        \u001b[49m\u001b[43mdropna\u001b[49m\u001b[38;5;241;43m=\u001b[39;49m\u001b[43mdropna\u001b[49m\u001b[43m,\u001b[49m\n\u001b[0;32m   9518\u001b[0m \u001b[43m        \u001b[49m\u001b[43mmargins_name\u001b[49m\u001b[38;5;241;43m=\u001b[39;49m\u001b[43mmargins_name\u001b[49m\u001b[43m,\u001b[49m\n\u001b[0;32m   9519\u001b[0m \u001b[43m        \u001b[49m\u001b[43mobserved\u001b[49m\u001b[38;5;241;43m=\u001b[39;49m\u001b[43mobserved\u001b[49m\u001b[43m,\u001b[49m\n\u001b[0;32m   9520\u001b[0m \u001b[43m        \u001b[49m\u001b[43msort\u001b[49m\u001b[38;5;241;43m=\u001b[39;49m\u001b[43msort\u001b[49m\u001b[43m,\u001b[49m\n\u001b[0;32m   9521\u001b[0m \u001b[43m    \u001b[49m\u001b[43m)\u001b[49m\n",
      "File \u001b[1;32mc:\\Users\\gbatt\\AppData\\Local\\Programs\\Python\\Python312\\Lib\\site-packages\\pandas\\core\\reshape\\pivot.py:102\u001b[0m, in \u001b[0;36mpivot_table\u001b[1;34m(data, values, index, columns, aggfunc, fill_value, margins, dropna, margins_name, observed, sort)\u001b[0m\n\u001b[0;32m     99\u001b[0m     table \u001b[38;5;241m=\u001b[39m concat(pieces, keys\u001b[38;5;241m=\u001b[39mkeys, axis\u001b[38;5;241m=\u001b[39m\u001b[38;5;241m1\u001b[39m)\n\u001b[0;32m    100\u001b[0m     \u001b[38;5;28;01mreturn\u001b[39;00m table\u001b[38;5;241m.\u001b[39m__finalize__(data, method\u001b[38;5;241m=\u001b[39m\u001b[38;5;124m\"\u001b[39m\u001b[38;5;124mpivot_table\u001b[39m\u001b[38;5;124m\"\u001b[39m)\n\u001b[1;32m--> 102\u001b[0m table \u001b[38;5;241m=\u001b[39m \u001b[43m__internal_pivot_table\u001b[49m\u001b[43m(\u001b[49m\n\u001b[0;32m    103\u001b[0m \u001b[43m    \u001b[49m\u001b[43mdata\u001b[49m\u001b[43m,\u001b[49m\n\u001b[0;32m    104\u001b[0m \u001b[43m    \u001b[49m\u001b[43mvalues\u001b[49m\u001b[43m,\u001b[49m\n\u001b[0;32m    105\u001b[0m \u001b[43m    \u001b[49m\u001b[43mindex\u001b[49m\u001b[43m,\u001b[49m\n\u001b[0;32m    106\u001b[0m \u001b[43m    \u001b[49m\u001b[43mcolumns\u001b[49m\u001b[43m,\u001b[49m\n\u001b[0;32m    107\u001b[0m \u001b[43m    \u001b[49m\u001b[43maggfunc\u001b[49m\u001b[43m,\u001b[49m\n\u001b[0;32m    108\u001b[0m \u001b[43m    \u001b[49m\u001b[43mfill_value\u001b[49m\u001b[43m,\u001b[49m\n\u001b[0;32m    109\u001b[0m \u001b[43m    \u001b[49m\u001b[43mmargins\u001b[49m\u001b[43m,\u001b[49m\n\u001b[0;32m    110\u001b[0m \u001b[43m    \u001b[49m\u001b[43mdropna\u001b[49m\u001b[43m,\u001b[49m\n\u001b[0;32m    111\u001b[0m \u001b[43m    \u001b[49m\u001b[43mmargins_name\u001b[49m\u001b[43m,\u001b[49m\n\u001b[0;32m    112\u001b[0m \u001b[43m    \u001b[49m\u001b[43mobserved\u001b[49m\u001b[43m,\u001b[49m\n\u001b[0;32m    113\u001b[0m \u001b[43m    \u001b[49m\u001b[43msort\u001b[49m\u001b[43m,\u001b[49m\n\u001b[0;32m    114\u001b[0m \u001b[43m\u001b[49m\u001b[43m)\u001b[49m\n\u001b[0;32m    115\u001b[0m \u001b[38;5;28;01mreturn\u001b[39;00m table\u001b[38;5;241m.\u001b[39m__finalize__(data, method\u001b[38;5;241m=\u001b[39m\u001b[38;5;124m\"\u001b[39m\u001b[38;5;124mpivot_table\u001b[39m\u001b[38;5;124m\"\u001b[39m)\n",
      "File \u001b[1;32mc:\\Users\\gbatt\\AppData\\Local\\Programs\\Python\\Python312\\Lib\\site-packages\\pandas\\core\\reshape\\pivot.py:203\u001b[0m, in \u001b[0;36m__internal_pivot_table\u001b[1;34m(data, values, index, columns, aggfunc, fill_value, margins, dropna, margins_name, observed, sort)\u001b[0m\n\u001b[0;32m    201\u001b[0m         \u001b[38;5;28;01melse\u001b[39;00m:\n\u001b[0;32m    202\u001b[0m             to_unstack\u001b[38;5;241m.\u001b[39mappend(name)\n\u001b[1;32m--> 203\u001b[0m     table \u001b[38;5;241m=\u001b[39m \u001b[43magged\u001b[49m\u001b[38;5;241;43m.\u001b[39;49m\u001b[43munstack\u001b[49m\u001b[43m(\u001b[49m\u001b[43mto_unstack\u001b[49m\u001b[43m,\u001b[49m\u001b[43m \u001b[49m\u001b[43mfill_value\u001b[49m\u001b[38;5;241;43m=\u001b[39;49m\u001b[43mfill_value\u001b[49m\u001b[43m)\u001b[49m\n\u001b[0;32m    205\u001b[0m \u001b[38;5;28;01mif\u001b[39;00m \u001b[38;5;129;01mnot\u001b[39;00m dropna:\n\u001b[0;32m    206\u001b[0m     \u001b[38;5;28;01mif\u001b[39;00m \u001b[38;5;28misinstance\u001b[39m(table\u001b[38;5;241m.\u001b[39mindex, MultiIndex):\n",
      "File \u001b[1;32mc:\\Users\\gbatt\\AppData\\Local\\Programs\\Python\\Python312\\Lib\\site-packages\\pandas\\core\\frame.py:9928\u001b[0m, in \u001b[0;36mDataFrame.unstack\u001b[1;34m(self, level, fill_value, sort)\u001b[0m\n\u001b[0;32m   9864\u001b[0m \u001b[38;5;250m\u001b[39m\u001b[38;5;124;03m\"\"\"\u001b[39;00m\n\u001b[0;32m   9865\u001b[0m \u001b[38;5;124;03mPivot a level of the (necessarily hierarchical) index labels.\u001b[39;00m\n\u001b[0;32m   9866\u001b[0m \n\u001b[1;32m   (...)\u001b[0m\n\u001b[0;32m   9924\u001b[0m \u001b[38;5;124;03mdtype: float64\u001b[39;00m\n\u001b[0;32m   9925\u001b[0m \u001b[38;5;124;03m\"\"\"\u001b[39;00m\n\u001b[0;32m   9926\u001b[0m \u001b[38;5;28;01mfrom\u001b[39;00m \u001b[38;5;21;01mpandas\u001b[39;00m\u001b[38;5;21;01m.\u001b[39;00m\u001b[38;5;21;01mcore\u001b[39;00m\u001b[38;5;21;01m.\u001b[39;00m\u001b[38;5;21;01mreshape\u001b[39;00m\u001b[38;5;21;01m.\u001b[39;00m\u001b[38;5;21;01mreshape\u001b[39;00m \u001b[38;5;28;01mimport\u001b[39;00m unstack\n\u001b[1;32m-> 9928\u001b[0m result \u001b[38;5;241m=\u001b[39m \u001b[43munstack\u001b[49m\u001b[43m(\u001b[49m\u001b[38;5;28;43mself\u001b[39;49m\u001b[43m,\u001b[49m\u001b[43m \u001b[49m\u001b[43mlevel\u001b[49m\u001b[43m,\u001b[49m\u001b[43m \u001b[49m\u001b[43mfill_value\u001b[49m\u001b[43m,\u001b[49m\u001b[43m \u001b[49m\u001b[43msort\u001b[49m\u001b[43m)\u001b[49m\n\u001b[0;32m   9930\u001b[0m \u001b[38;5;28;01mreturn\u001b[39;00m result\u001b[38;5;241m.\u001b[39m__finalize__(\u001b[38;5;28mself\u001b[39m, method\u001b[38;5;241m=\u001b[39m\u001b[38;5;124m\"\u001b[39m\u001b[38;5;124munstack\u001b[39m\u001b[38;5;124m\"\u001b[39m)\n",
      "File \u001b[1;32mc:\\Users\\gbatt\\AppData\\Local\\Programs\\Python\\Python312\\Lib\\site-packages\\pandas\\core\\reshape\\reshape.py:504\u001b[0m, in \u001b[0;36munstack\u001b[1;34m(obj, level, fill_value, sort)\u001b[0m\n\u001b[0;32m    502\u001b[0m \u001b[38;5;28;01mif\u001b[39;00m \u001b[38;5;28misinstance\u001b[39m(obj, DataFrame):\n\u001b[0;32m    503\u001b[0m     \u001b[38;5;28;01mif\u001b[39;00m \u001b[38;5;28misinstance\u001b[39m(obj\u001b[38;5;241m.\u001b[39mindex, MultiIndex):\n\u001b[1;32m--> 504\u001b[0m         \u001b[38;5;28;01mreturn\u001b[39;00m \u001b[43m_unstack_frame\u001b[49m\u001b[43m(\u001b[49m\u001b[43mobj\u001b[49m\u001b[43m,\u001b[49m\u001b[43m \u001b[49m\u001b[43mlevel\u001b[49m\u001b[43m,\u001b[49m\u001b[43m \u001b[49m\u001b[43mfill_value\u001b[49m\u001b[38;5;241;43m=\u001b[39;49m\u001b[43mfill_value\u001b[49m\u001b[43m,\u001b[49m\u001b[43m \u001b[49m\u001b[43msort\u001b[49m\u001b[38;5;241;43m=\u001b[39;49m\u001b[43msort\u001b[49m\u001b[43m)\u001b[49m\n\u001b[0;32m    505\u001b[0m     \u001b[38;5;28;01melse\u001b[39;00m:\n\u001b[0;32m    506\u001b[0m         \u001b[38;5;28;01mreturn\u001b[39;00m obj\u001b[38;5;241m.\u001b[39mT\u001b[38;5;241m.\u001b[39mstack(future_stack\u001b[38;5;241m=\u001b[39m\u001b[38;5;28;01mTrue\u001b[39;00m)\n",
      "File \u001b[1;32mc:\\Users\\gbatt\\AppData\\Local\\Programs\\Python\\Python312\\Lib\\site-packages\\pandas\\core\\reshape\\reshape.py:537\u001b[0m, in \u001b[0;36m_unstack_frame\u001b[1;34m(obj, level, fill_value, sort)\u001b[0m\n\u001b[0;32m    535\u001b[0m     \u001b[38;5;28;01mreturn\u001b[39;00m obj\u001b[38;5;241m.\u001b[39m_constructor_from_mgr(mgr, axes\u001b[38;5;241m=\u001b[39mmgr\u001b[38;5;241m.\u001b[39maxes)\n\u001b[0;32m    536\u001b[0m \u001b[38;5;28;01melse\u001b[39;00m:\n\u001b[1;32m--> 537\u001b[0m     \u001b[38;5;28;01mreturn\u001b[39;00m \u001b[43munstacker\u001b[49m\u001b[38;5;241;43m.\u001b[39;49m\u001b[43mget_result\u001b[49m\u001b[43m(\u001b[49m\n\u001b[0;32m    538\u001b[0m \u001b[43m        \u001b[49m\u001b[43mobj\u001b[49m\u001b[38;5;241;43m.\u001b[39;49m\u001b[43m_values\u001b[49m\u001b[43m,\u001b[49m\u001b[43m \u001b[49m\u001b[43mvalue_columns\u001b[49m\u001b[38;5;241;43m=\u001b[39;49m\u001b[43mobj\u001b[49m\u001b[38;5;241;43m.\u001b[39;49m\u001b[43mcolumns\u001b[49m\u001b[43m,\u001b[49m\u001b[43m \u001b[49m\u001b[43mfill_value\u001b[49m\u001b[38;5;241;43m=\u001b[39;49m\u001b[43mfill_value\u001b[49m\n\u001b[0;32m    539\u001b[0m \u001b[43m    \u001b[49m\u001b[43m)\u001b[49m\n",
      "File \u001b[1;32mc:\\Users\\gbatt\\AppData\\Local\\Programs\\Python\\Python312\\Lib\\site-packages\\pandas\\core\\reshape\\reshape.py:238\u001b[0m, in \u001b[0;36m_Unstacker.get_result\u001b[1;34m(self, values, value_columns, fill_value)\u001b[0m\n\u001b[0;32m    235\u001b[0m \u001b[38;5;28;01mif\u001b[39;00m value_columns \u001b[38;5;129;01mis\u001b[39;00m \u001b[38;5;28;01mNone\u001b[39;00m \u001b[38;5;129;01mand\u001b[39;00m values\u001b[38;5;241m.\u001b[39mshape[\u001b[38;5;241m1\u001b[39m] \u001b[38;5;241m!=\u001b[39m \u001b[38;5;241m1\u001b[39m:  \u001b[38;5;66;03m# pragma: no cover\u001b[39;00m\n\u001b[0;32m    236\u001b[0m     \u001b[38;5;28;01mraise\u001b[39;00m \u001b[38;5;167;01mValueError\u001b[39;00m(\u001b[38;5;124m\"\u001b[39m\u001b[38;5;124mmust pass column labels for multi-column data\u001b[39m\u001b[38;5;124m\"\u001b[39m)\n\u001b[1;32m--> 238\u001b[0m values, _ \u001b[38;5;241m=\u001b[39m \u001b[38;5;28;43mself\u001b[39;49m\u001b[38;5;241;43m.\u001b[39;49m\u001b[43mget_new_values\u001b[49m\u001b[43m(\u001b[49m\u001b[43mvalues\u001b[49m\u001b[43m,\u001b[49m\u001b[43m \u001b[49m\u001b[43mfill_value\u001b[49m\u001b[43m)\u001b[49m\n\u001b[0;32m    239\u001b[0m columns \u001b[38;5;241m=\u001b[39m \u001b[38;5;28mself\u001b[39m\u001b[38;5;241m.\u001b[39mget_new_columns(value_columns)\n\u001b[0;32m    240\u001b[0m index \u001b[38;5;241m=\u001b[39m \u001b[38;5;28mself\u001b[39m\u001b[38;5;241m.\u001b[39mnew_index\n",
      "File \u001b[1;32mc:\\Users\\gbatt\\AppData\\Local\\Programs\\Python\\Python312\\Lib\\site-packages\\pandas\\core\\reshape\\reshape.py:289\u001b[0m, in \u001b[0;36m_Unstacker.get_new_values\u001b[1;34m(self, values, fill_value)\u001b[0m\n\u001b[0;32m    287\u001b[0m     \u001b[38;5;28;01melse\u001b[39;00m:\n\u001b[0;32m    288\u001b[0m         dtype, fill_value \u001b[38;5;241m=\u001b[39m maybe_promote(dtype, fill_value)\n\u001b[1;32m--> 289\u001b[0m         new_values \u001b[38;5;241m=\u001b[39m \u001b[43mnp\u001b[49m\u001b[38;5;241;43m.\u001b[39;49m\u001b[43mempty\u001b[49m\u001b[43m(\u001b[49m\u001b[43mresult_shape\u001b[49m\u001b[43m,\u001b[49m\u001b[43m \u001b[49m\u001b[43mdtype\u001b[49m\u001b[38;5;241;43m=\u001b[39;49m\u001b[43mdtype\u001b[49m\u001b[43m)\u001b[49m\n\u001b[0;32m    290\u001b[0m         new_values\u001b[38;5;241m.\u001b[39mfill(fill_value)\n\u001b[0;32m    292\u001b[0m name \u001b[38;5;241m=\u001b[39m dtype\u001b[38;5;241m.\u001b[39mname\n",
      "\u001b[1;31mMemoryError\u001b[0m: Unable to allocate 388. GiB for an array with shape (228183, 228183) and data type int64"
     ]
    }
   ],
   "source": [
    "%%time\n",
    "# Nominal-Nominal correlation\n",
    "\n",
    "\n",
    "## we use cramers V\n",
    "## CramersV value function\n",
    "def CramersV(var1, var2):\n",
    "    crosstab = np.array(pd.crosstab(var1, var2, rownames = None, colnames = None))\n",
    "    stat = chi2_contingency(crosstab)[0]\n",
    "    obs = np.sum(crosstab)\n",
    "    mini = min(crosstab.shape) -1 \n",
    "    return (stat/(obs*mini))\n",
    "\n",
    "chunk_size = 10000\n",
    "num_chunks = (len(df) + chunk_size - 1)//chunk_size\n",
    "## building matrix\n",
    "rows = []\n",
    "\n",
    "for var1 in df:\n",
    "    i += 1\n",
    "    col = []\n",
    "    for var2 in df:\n",
    "        cramers = CramersV(df[var1], df[var2])\n",
    "        col.append(round(cramers, 2))\n",
    "    rows.append(col)\n",
    "    print(f\"loop {i}\")\n",
    "\n",
    "\n",
    "x = list(df.columns)\n",
    "        \n",
    "nomcat_corr = pd.DataFrame(np.array(rows), columns = df.columns, index = x)\n",
    "\n",
    "display(nomcat_corr)\n",
    "\n",
    " "
   ]
  },
  {
   "cell_type": "code",
   "execution_count": 28,
   "id": "b202dbbf",
   "metadata": {
    "ExecuteTime": {
     "end_time": "2022-11-22T09:19:00.542230Z",
     "start_time": "2022-11-22T09:19:00.512296Z"
    }
   },
   "outputs": [
    {
     "name": "stdout",
     "output_type": "stream",
     "text": [
      "Object is saved into to disk successfully Using Pickle\n"
     ]
    }
   ],
   "source": [
    "# For storing and retreiving\n",
    "\n",
    "# use pickle to store nomcat_corr\n",
    "object_filename = \"nomcat_corr_cramersV.sav\"\n",
    "\n",
    "saved_model = pickle.dump(nomcat_corr, open(object_filename,'wb'))\n",
    "\n",
    "print('Object is saved into to disk successfully Using Pickle')\n",
    "\n",
    "# # use pickle to retrieve\n",
    "\n",
    "# file = open(\"nomcat_corr_cramersV.sav\",'rb')\n",
    "# nomcat_corr = pickle.load(file)\n",
    "# file.close()"
   ]
  },
  {
   "cell_type": "code",
   "execution_count": 29,
   "id": "d9fc0353",
   "metadata": {
    "ExecuteTime": {
     "end_time": "2022-11-22T09:19:00.543213Z",
     "start_time": "2022-11-22T09:18:47.830Z"
    },
    "scrolled": false
   },
   "outputs": [
    {
     "data": {
      "text/plain": [
       "<Axes: >"
      ]
     },
     "execution_count": 29,
     "metadata": {},
     "output_type": "execute_result"
    },
    {
     "data": {
      "image/png": "[encoded data removed]",
      "text/plain": [
       "<Figure size 1500x1500 with 2 Axes>"
      ]
     },
     "metadata": {},
     "output_type": "display_data"
    }
   ],
   "source": [
    "## set figsize\n",
    "f, ax = plt.subplots(figsize = (15,15))\n",
    "\n",
    "## get lower triangular matrix\n",
    "nomcat_corr_lt = nomcat_corr.where(np.tril(np.ones(nomcat_corr.shape)).astype(np.bool))\n",
    "\n",
    "## plot\n",
    "sns.heatmap(nomcat_corr_lt, \n",
    "            annot= True, \n",
    "            fmt = \".2g\", \n",
    "            vmin = 0,\n",
    "            vmax = 1, \n",
    "            center = 0.3, \n",
    "            cmap = \"Blues\",\n",
    "            annot_kws = {\"fontsize\":15},\n",
    "            ax=ax )"
   ]
  },
  {
   "cell_type": "markdown",
   "id": "4d5ee539",
   "metadata": {},
   "source": [
    "**Interpretation:-**\n",
    "- greater than .5                   high association\n",
    "\n",
    "- .3 to .5             moderate association\n",
    "\n",
    "- .1 to .3             low association\n",
    "\n",
    "- 0 to .1              little if any association"
   ]
  },
  {
   "cell_type": "markdown",
   "id": "09f2ab43",
   "metadata": {},
   "source": [
    "# Observations and Inferences:-\n",
    "\n",
    "\n",
    "- stmt is redundant, won't add much to model so far and are dropped\n",
    "- broad_cat has strong association with tag and plabel, a weak one with negating and line"
   ]
  },
  {
   "cell_type": "code",
   "execution_count": null,
   "id": "9b3797c4",
   "metadata": {},
   "outputs": [],
   "source": []
  }
 ],
 "metadata": {
  "kernelspec": {
   "display_name": "Python 3",
   "language": "python",
   "name": "python3"
  },
  "language_info": {
   "codemirror_mode": {
    "name": "ipython",
    "version": 3
   },
   "file_extension": ".py",
   "mimetype": "text/x-python",
   "name": "python",
   "nbconvert_exporter": "python",
   "pygments_lexer": "ipython3",
   "version": "3.9.12"
  },
  "toc": {
   "base_numbering": 1,
   "nav_menu": {},
   "number_sections": true,
   "sideBar": true,
   "skip_h1_title": false,
   "title_cell": "Table of Contents",
   "title_sidebar": "Contents",
   "toc_cell": true,
   "toc_position": {},
   "toc_section_display": true,
   "toc_window_display": false
  }
 },
 "nbformat": 4,
 "nbformat_minor": 5
}
