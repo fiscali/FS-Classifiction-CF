{
 "cells": [
  {
   "cell_type": "markdown",
   "id": "8633c8ec",
   "metadata": {
    "toc": true
   },
   "source": [
    "<h1>Table of Contents<span class=\"tocSkip\"></span></h1>\n",
    "<div class=\"toc\"><ul class=\"toc-item\"><li><span><a href=\"#Libraries\" data-toc-modified-id=\"Libraries-1\"><span class=\"toc-item-num\">1&nbsp;&nbsp;</span>Libraries</a></span></li><li><span><a href=\"#Level-Steps\" data-toc-modified-id=\"Level-Steps-2\"><span class=\"toc-item-num\">2&nbsp;&nbsp;</span>Level Steps</a></span></li><li><span><a href=\"#Create-DataFrame\" data-toc-modified-id=\"Create-DataFrame-3\"><span class=\"toc-item-num\">3&nbsp;&nbsp;</span>Create DataFrame</a></span><ul class=\"toc-item\"><li><span><a href=\"#Focus-group\" data-toc-modified-id=\"Focus-group-3.1\"><span class=\"toc-item-num\">3.1&nbsp;&nbsp;</span>Focus group</a></span></li><li><span><a href=\"#Clean-columns\" data-toc-modified-id=\"Clean-columns-3.2\"><span class=\"toc-item-num\">3.2&nbsp;&nbsp;</span>Clean columns</a></span></li><li><span><a href=\"#Remove-duplicates\" data-toc-modified-id=\"Remove-duplicates-3.3\"><span class=\"toc-item-num\">3.3&nbsp;&nbsp;</span>Remove duplicates</a></span></li><li><span><a href=\"#Reindex\" data-toc-modified-id=\"Reindex-3.4\"><span class=\"toc-item-num\">3.4&nbsp;&nbsp;</span>Reindex</a></span></li><li><span><a href=\"#Hierarchy-file-reading:-upto-disagg-5\" data-toc-modified-id=\"Hierarchy-file-reading:-upto-disagg-5-3.5\"><span class=\"toc-item-num\">3.5&nbsp;&nbsp;</span>Hierarchy file reading: upto disagg 5</a></span><ul class=\"toc-item\"><li><span><a href=\"#Reading-files\" data-toc-modified-id=\"Reading-files-3.5.1\"><span class=\"toc-item-num\">3.5.1&nbsp;&nbsp;</span>Reading files</a></span></li><li><span><a href=\"#Cleaning\" data-toc-modified-id=\"Cleaning-3.5.2\"><span class=\"toc-item-num\">3.5.2&nbsp;&nbsp;</span>Cleaning</a></span></li><li><span><a href=\"#Max-disagg-levels\" data-toc-modified-id=\"Max-disagg-levels-3.5.3\"><span class=\"toc-item-num\">3.5.3&nbsp;&nbsp;</span>Max disagg levels</a></span></li></ul></li><li><span><a href=\"#Get-the-highest-disaggregation-level-for-every-record\" data-toc-modified-id=\"Get-the-highest-disaggregation-level-for-every-record-3.6\"><span class=\"toc-item-num\">3.6&nbsp;&nbsp;</span>Get the highest disaggregation level for every record</a></span></li><li><span><a href=\"#Get-separate-tag-columns-for-each-disagg-level\" data-toc-modified-id=\"Get-separate-tag-columns-for-each-disagg-level-3.7\"><span class=\"toc-item-num\">3.7&nbsp;&nbsp;</span>Get separate tag columns for each disagg level</a></span></li><li><span><a href=\"#Sanity-Check-1:-Nulls\" data-toc-modified-id=\"Sanity-Check-1:-Nulls-3.8\"><span class=\"toc-item-num\">3.8&nbsp;&nbsp;</span>Sanity Check 1: Nulls</a></span></li><li><span><a href=\"#Sanity-Check-2:-Tags-inconsistent-between-hierarchy-and-current-data\" data-toc-modified-id=\"Sanity-Check-2:-Tags-inconsistent-between-hierarchy-and-current-data-3.9\"><span class=\"toc-item-num\">3.9&nbsp;&nbsp;</span>Sanity Check 2: Tags inconsistent between hierarchy and current data</a></span></li><li><span><a href=\"#Sanity-Check-3:-broad-cats-that-are-present\" data-toc-modified-id=\"Sanity-Check-3:-broad-cats-that-are-present-3.10\"><span class=\"toc-item-num\">3.10&nbsp;&nbsp;</span>Sanity Check 3: broad cats that are present</a></span></li></ul></li><li><span><a href=\"#Reindex\" data-toc-modified-id=\"Reindex-4\"><span class=\"toc-item-num\">4&nbsp;&nbsp;</span>Reindex</a></span></li><li><span><a href=\"#Export-dataframe\" data-toc-modified-id=\"Export-dataframe-5\"><span class=\"toc-item-num\">5&nbsp;&nbsp;</span>Export dataframe</a></span></li></ul></div>"
   ]
  },
  {
   "cell_type": "markdown",
   "id": "faf6ab19",
   "metadata": {},
   "source": [
    "Note, this version has broadcat joined using tags"
   ]
  },
  {
   "cell_type": "markdown",
   "id": "1887c66c",
   "metadata": {},
   "source": [
    "# Libraries"
   ]
  },
  {
   "cell_type": "code",
   "execution_count": 1,
   "id": "c0f3fc73",
   "metadata": {
    "ExecuteTime": {
     "end_time": "2023-08-01T06:58:31.722982Z",
     "start_time": "2023-08-01T06:58:27.967212Z"
    }
   },
   "outputs": [
    {
     "name": "stderr",
     "output_type": "stream",
     "text": [
      "[nltk_data] Downloading package stopwords to\n",
      "[nltk_data]     /Users/yaoyuxin/nltk_data...\n",
      "[nltk_data]   Package stopwords is already up-to-date!\n"
     ]
    }
   ],
   "source": [
    "import pandas as pd  #dataframe\n",
    "import numpy as np  #stats\n",
    "import pickle  #loading data\n",
    "# !pip install -U spacy\n",
    "# !python -m spacy download en_core_web_sm\n",
    "import re  #regex\n",
    "\n",
    "from sklearn.model_selection import cross_val_score  # cross validation\n",
    "from sklearn.model_selection import StratifiedKFold # cross validation\n",
    "\n",
    "from sklearn.model_selection import train_test_split  #train_test_split\n",
    "from sklearn.feature_extraction.text import CountVectorizer  #vectorizer\n",
    "from sklearn.feature_extraction.text import TfidfTransformer  #tfidf\n",
    "from sklearn.feature_extraction.text import TfidfVectorizer\n",
    "from sklearn.naive_bayes import MultinomialNB  #model\n",
    "\n",
    "from sklearn.pipeline import Pipeline  # Pipeline\n",
    "\n",
    "import string  # for punctuations\n",
    "\n",
    "import matplotlib.pyplot as plt  # visualization\n",
    "import seaborn as sns  #  visualization\n",
    "\n",
    "from scipy.sparse import csr_matrix  # dealing with sparse matrix\n",
    "from scipy.sparse import hstack  # joining sparse matrix\n",
    "from scipy.sparse import vstack  # joining sparse matrix\n",
    "\n",
    "from sklearn.metrics import confusion_matrix #metrics\n",
    "from sklearn import metrics #metrics\n",
    "\n",
    "\n",
    "import re #regex\n",
    "from wordcloud import WordCloud #wordcloud\n",
    "import nltk # for stopwords\n",
    "nltk.download('stopwords') #stopwords\n",
    "from nltk.corpus import stopwords #stopwords\n",
    "from pprint import pprint #lda\n",
    "from nltk.stem.snowball import SnowballStemmer # for stemming\n",
    "\n",
    "import spacy # for lemmatization\n",
    "import os"
   ]
  },
  {
   "cell_type": "markdown",
   "id": "fa100b54",
   "metadata": {},
   "source": [
    "# Level Steps"
   ]
  },
  {
   "cell_type": "markdown",
   "id": "1597c8da",
   "metadata": {},
   "source": [
    "Data Preprocessing performed in notebook Modeling_with_loc_lvl2_v2. We use the dataframe generated as df_with_predicted_broad_cat_v2.sav for proceeding to next levels of disaggregations"
   ]
  },
  {
   "cell_type": "markdown",
   "id": "2c120e94",
   "metadata": {},
   "source": [
    "# Create DataFrame"
   ]
  },
  {
   "cell_type": "markdown",
   "id": "99be2bf9",
   "metadata": {},
   "source": [
    "## Focus group"
   ]
  },
  {
   "cell_type": "code",
   "execution_count": 4,
   "id": "21aa00ef",
   "metadata": {
    "ExecuteTime": {
     "end_time": "2023-08-01T06:58:37.988907Z",
     "start_time": "2023-08-01T06:58:31.723997Z"
    }
   },
   "outputs": [],
   "source": [
    "# Code to retrieve pickle\n",
    "# use pickle to retrieve\n",
    "\n",
    "file = open(\"/Volumes/Elements/CF_dataset 2/df_with_predicted_broad_cat_v2.sav\",'rb')\n",
    "df = pickle.load(file)\n",
    "file.close()"
   ]
  },
  {
   "cell_type": "code",
   "execution_count": 5,
   "id": "60158f4f",
   "metadata": {
    "ExecuteTime": {
     "end_time": "2023-08-01T06:58:38.029679Z",
     "start_time": "2023-08-01T06:58:38.001864Z"
    }
   },
   "outputs": [],
   "source": [
    "# Rename y_actual and y_pred\n",
    "\n",
    "df.rename(columns = {\"y_actual\": \"y_actual_broad_cat\",\n",
    "                    \"y_pred\": \"y_pred_broad_cat\"}, inplace = True)\n",
    "\n"
   ]
  },
  {
   "cell_type": "code",
   "execution_count": 6,
   "id": "c765201e",
   "metadata": {
    "ExecuteTime": {
     "end_time": "2023-08-01T06:58:41.839653Z",
     "start_time": "2023-08-01T06:58:38.032881Z"
    }
   },
   "outputs": [],
   "source": [
    "# Filter for OpExp\n",
    "df_focus = df.copy()"
   ]
  },
  {
   "cell_type": "code",
   "execution_count": 7,
   "id": "9d98ad2d",
   "metadata": {
    "ExecuteTime": {
     "end_time": "2023-08-01T06:58:41.901148Z",
     "start_time": "2023-08-01T06:58:41.839653Z"
    }
   },
   "outputs": [
    {
     "data": {
      "text/plain": [
       "(1116995, 22)"
      ]
     },
     "execution_count": 7,
     "metadata": {},
     "output_type": "execute_result"
    }
   ],
   "source": [
    "# check shape\n",
    "df_focus.shape"
   ]
  },
  {
   "cell_type": "code",
   "execution_count": 8,
   "id": "9c796f4a",
   "metadata": {
    "ExecuteTime": {
     "end_time": "2023-08-01T06:58:41.932732Z",
     "start_time": "2023-08-01T06:58:41.902783Z"
    }
   },
   "outputs": [
    {
     "data": {
      "text/plain": [
       "Index(['Unnamed: 0', 'adsh', 'report', 'line', 'stmt', 'inpth', 'tag',\n",
       "       'version_x', 'prole', 'plabel', 'negating', 'cik', 'name', 'sic',\n",
       "       'form', 'aggregation_level', 'broad_cat', 'version_y', 'plabel_proc',\n",
       "       'y_actual_broad_cat', 'y_pred_broad_cat', 'broad_cat_pred'],\n",
       "      dtype='object')"
      ]
     },
     "execution_count": 8,
     "metadata": {},
     "output_type": "execute_result"
    }
   ],
   "source": [
    "df_focus.columns"
   ]
  },
  {
   "cell_type": "markdown",
   "id": "af294198",
   "metadata": {},
   "source": [
    "## Clean columns"
   ]
  },
  {
   "cell_type": "markdown",
   "id": "f944d12e",
   "metadata": {},
   "source": [
    "Keeping all columns so each record is a line item"
   ]
  },
  {
   "cell_type": "code",
   "execution_count": 7,
   "id": "36d88c50",
   "metadata": {
    "ExecuteTime": {
     "end_time": "2023-08-01T06:58:41.947694Z",
     "start_time": "2023-08-01T06:58:41.933730Z"
    }
   },
   "outputs": [],
   "source": [
    "# # Remove unneeded columns\n",
    "# df_focus.drop([\"adsh\", \"report\", \"line\", \"stmt\", \"inpth\", \"version_x\", \"prole\", \"plabel\", \"version_y\" ,\"negating\", \"cik\",\"sic\", \"name\", \"form\",\n",
    "#               \"Revenue_max_locdum\", \"COGS_max_locdum\", \"OpInc_max_locdum\"], axis = 1, inplace = True)"
   ]
  },
  {
   "cell_type": "code",
   "execution_count": 9,
   "id": "aa66f09e",
   "metadata": {
    "ExecuteTime": {
     "end_time": "2023-08-01T06:58:41.962654Z",
     "start_time": "2023-08-01T06:58:41.951685Z"
    }
   },
   "outputs": [
    {
     "data": {
      "text/plain": [
       "Index(['Unnamed: 0', 'adsh', 'report', 'line', 'stmt', 'inpth', 'tag',\n",
       "       'version_x', 'prole', 'plabel', 'negating', 'cik', 'name', 'sic',\n",
       "       'form', 'aggregation_level', 'broad_cat', 'version_y', 'plabel_proc',\n",
       "       'y_actual_broad_cat', 'y_pred_broad_cat', 'broad_cat_pred'],\n",
       "      dtype='object')"
      ]
     },
     "execution_count": 9,
     "metadata": {},
     "output_type": "execute_result"
    }
   ],
   "source": [
    "# columns we are working with\n",
    "df_focus.columns"
   ]
  },
  {
   "cell_type": "markdown",
   "id": "ac4c3ef2",
   "metadata": {},
   "source": [
    "## Remove duplicates"
   ]
  },
  {
   "cell_type": "code",
   "execution_count": 10,
   "id": "e15508a2",
   "metadata": {
    "ExecuteTime": {
     "end_time": "2023-08-01T06:58:46.915489Z",
     "start_time": "2023-08-01T06:58:41.965647Z"
    }
   },
   "outputs": [
    {
     "data": {
      "text/plain": [
       "0"
      ]
     },
     "execution_count": 10,
     "metadata": {},
     "output_type": "execute_result"
    }
   ],
   "source": [
    "# check duplicates\n",
    "df_focus.duplicated().sum()"
   ]
  },
  {
   "cell_type": "code",
   "execution_count": 11,
   "id": "ac4070b2",
   "metadata": {
    "ExecuteTime": {
     "end_time": "2023-08-01T06:58:52.176136Z",
     "start_time": "2023-08-01T06:58:46.915489Z"
    }
   },
   "outputs": [],
   "source": [
    "# remove duplicates\n",
    "df_focus.drop_duplicates(inplace = True)"
   ]
  },
  {
   "cell_type": "markdown",
   "id": "6a9c7ee3",
   "metadata": {},
   "source": [
    "## Reindex"
   ]
  },
  {
   "cell_type": "code",
   "execution_count": 12,
   "id": "af4aecb9",
   "metadata": {
    "ExecuteTime": {
     "end_time": "2023-08-01T06:58:52.335788Z",
     "start_time": "2023-08-01T06:58:52.176136Z"
    }
   },
   "outputs": [
    {
     "data": {
      "text/plain": [
       "815224"
      ]
     },
     "execution_count": 12,
     "metadata": {},
     "output_type": "execute_result"
    }
   ],
   "source": [
    "# check duplicated indices\n",
    "df_focus.index.duplicated().sum()"
   ]
  },
  {
   "cell_type": "code",
   "execution_count": 13,
   "id": "55d840c8",
   "metadata": {
    "ExecuteTime": {
     "end_time": "2023-08-01T06:58:52.367516Z",
     "start_time": "2023-08-01T06:58:52.336885Z"
    }
   },
   "outputs": [],
   "source": [
    "# reindex\n",
    "\n",
    "df_focus.reset_index(drop = True, inplace = True)"
   ]
  },
  {
   "cell_type": "markdown",
   "id": "42c9db37",
   "metadata": {},
   "source": [
    "## Hierarchy file reading: upto disagg 5"
   ]
  },
  {
   "cell_type": "markdown",
   "id": "5e1624e0",
   "metadata": {},
   "source": [
    "### Reading files"
   ]
  },
  {
   "cell_type": "code",
   "execution_count": 14,
   "id": "79206bac",
   "metadata": {
    "ExecuteTime": {
     "end_time": "2023-08-01T06:58:52.382926Z",
     "start_time": "2023-08-01T06:58:52.368527Z"
    }
   },
   "outputs": [],
   "source": [
    "# set path\n",
    "\n",
    "path = os.getcwd()\n",
    "path = path.replace(\"\\\\\\\\\", \"\\\\\")\n",
    "path = path + r'\\disagg'"
   ]
  },
  {
   "cell_type": "code",
   "execution_count": 17,
   "id": "471f7bd3",
   "metadata": {
    "ExecuteTime": {
     "end_time": "2023-08-01T06:58:52.398436Z",
     "start_time": "2023-08-01T06:58:52.383937Z"
    }
   },
   "outputs": [
    {
     "ename": "FileNotFoundError",
     "evalue": "[Errno 2] No such file or directory: '/Volumes/Elements/FS spreading - Archive/files_for_RAs/Pratik Latest/disagg'",
     "output_type": "error",
     "traceback": [
      "\u001b[0;31m---------------------------------------------------------------------------\u001b[0m",
      "\u001b[0;31mFileNotFoundError\u001b[0m                         Traceback (most recent call last)",
      "Cell \u001b[0;32mIn[17], line 1\u001b[0m\n\u001b[0;32m----> 1\u001b[0m os\u001b[38;5;241m.\u001b[39mlistdir(path)\n",
      "\u001b[0;31mFileNotFoundError\u001b[0m: [Errno 2] No such file or directory: '/Volumes/Elements/FS spreading - Archive/files_for_RAs/Pratik Latest/disagg'"
     ]
    }
   ],
   "source": [
    "os.listdir(path)"
   ]
  },
  {
   "cell_type": "code",
   "execution_count": 15,
   "id": "49287666",
   "metadata": {
    "ExecuteTime": {
     "end_time": "2023-08-01T06:58:52.538767Z",
     "start_time": "2023-08-01T06:58:52.399434Z"
    }
   },
   "outputs": [
    {
     "name": "stdout",
     "output_type": "stream",
     "text": [
      "number of duplicates in CostOfRevenue_XBRL_disagg.csv : 0\n",
      "number of duplicates in NonoperatingIncomeExpense_XBRL_disagg.csv : 0\n",
      "number of duplicates in OperatingExpenses_XBRL_disagg.csv : 0\n",
      "number of duplicates in Revenues_XBRL_disagg.csv : 0\n",
      "Wall time: 125 ms\n"
     ]
    }
   ],
   "source": [
    "%%time\n",
    "\n",
    "# Read hierarchy files and create dataframe\n",
    "\n",
    "df_hier = pd.DataFrame() # create dataframe to update\n",
    "\n",
    "for filename in os.listdir(path): # loop through files\n",
    "    \n",
    "    if filename.endswith('.csv'):\n",
    "        df_temp = pd.read_csv(path + \"\\\\\" + filename)\n",
    "        \n",
    "        # sanity check: duplicated\n",
    "        print(\"number of duplicates in\", filename, \":\", df_temp.duplicated().sum())\n",
    "        \n",
    "        df_hier = pd.concat([df_hier, df_temp], axis = 0)\n",
    "        \n",
    "        \n"
   ]
  },
  {
   "cell_type": "code",
   "execution_count": 16,
   "id": "67c52ecb",
   "metadata": {
    "ExecuteTime": {
     "end_time": "2023-08-01T06:58:52.554685Z",
     "start_time": "2023-08-01T06:58:52.540723Z"
    }
   },
   "outputs": [
    {
     "data": {
      "text/plain": [
       "0"
      ]
     },
     "execution_count": 16,
     "metadata": {},
     "output_type": "execute_result"
    }
   ],
   "source": [
    "# sanity check: duplicates\n",
    "\n",
    "df_hier.duplicated().sum()"
   ]
  },
  {
   "cell_type": "code",
   "execution_count": 17,
   "id": "5ec1cc96",
   "metadata": {
    "ExecuteTime": {
     "end_time": "2023-08-01T06:58:52.616693Z",
     "start_time": "2023-08-01T06:58:52.555682Z"
    }
   },
   "outputs": [
    {
     "data": {
      "text/html": [
       "<div>\n",
       "<style scoped>\n",
       "    .dataframe tbody tr th:only-of-type {\n",
       "        vertical-align: middle;\n",
       "    }\n",
       "\n",
       "    .dataframe tbody tr th {\n",
       "        vertical-align: top;\n",
       "    }\n",
       "\n",
       "    .dataframe thead th {\n",
       "        text-align: right;\n",
       "    }\n",
       "</style>\n",
       "<table border=\"1\" class=\"dataframe\">\n",
       "  <thead>\n",
       "    <tr style=\"text-align: right;\">\n",
       "      <th></th>\n",
       "      <th>disagg_1</th>\n",
       "      <th>disagg_2</th>\n",
       "      <th>disagg_3</th>\n",
       "      <th>disagg_4</th>\n",
       "      <th>disagg_5</th>\n",
       "      <th>disagg_6</th>\n",
       "      <th>disagg_7</th>\n",
       "    </tr>\n",
       "  </thead>\n",
       "  <tbody>\n",
       "    <tr>\n",
       "      <th>0</th>\n",
       "      <td>CostOfRevenue</td>\n",
       "      <td>AmortizationOfMortgageServicingRightsMSRs</td>\n",
       "      <td>NaN</td>\n",
       "      <td>NaN</td>\n",
       "      <td>NaN</td>\n",
       "      <td>NaN</td>\n",
       "      <td>NaN</td>\n",
       "    </tr>\n",
       "    <tr>\n",
       "      <th>1</th>\n",
       "      <td>CostOfRevenue</td>\n",
       "      <td>AmortizationOfValueOfBusinessAcquiredVOBA</td>\n",
       "      <td>NaN</td>\n",
       "      <td>NaN</td>\n",
       "      <td>NaN</td>\n",
       "      <td>NaN</td>\n",
       "      <td>NaN</td>\n",
       "    </tr>\n",
       "    <tr>\n",
       "      <th>2</th>\n",
       "      <td>CostOfRevenue</td>\n",
       "      <td>CostOfGoodsAndServicesSold</td>\n",
       "      <td>CostDepreciationAmortizationAndDepletion</td>\n",
       "      <td>CostDepletion</td>\n",
       "      <td>NaN</td>\n",
       "      <td>NaN</td>\n",
       "      <td>NaN</td>\n",
       "    </tr>\n",
       "    <tr>\n",
       "      <th>3</th>\n",
       "      <td>CostOfRevenue</td>\n",
       "      <td>CostOfGoodsAndServicesSold</td>\n",
       "      <td>CostDepreciationAmortizationAndDepletion</td>\n",
       "      <td>CostOfGoodsAndServicesSoldDepreciationAndAmort...</td>\n",
       "      <td>CostOfGoodsAndServicesSoldAmortization</td>\n",
       "      <td>NaN</td>\n",
       "      <td>NaN</td>\n",
       "    </tr>\n",
       "    <tr>\n",
       "      <th>4</th>\n",
       "      <td>CostOfRevenue</td>\n",
       "      <td>CostOfGoodsAndServicesSold</td>\n",
       "      <td>CostDepreciationAmortizationAndDepletion</td>\n",
       "      <td>CostOfGoodsAndServicesSoldDepreciationAndAmort...</td>\n",
       "      <td>CostOfGoodsAndServicesSoldDepreciation</td>\n",
       "      <td>NaN</td>\n",
       "      <td>NaN</td>\n",
       "    </tr>\n",
       "  </tbody>\n",
       "</table>\n",
       "</div>"
      ],
      "text/plain": [
       "        disagg_1                                   disagg_2  \\\n",
       "0  CostOfRevenue  AmortizationOfMortgageServicingRightsMSRs   \n",
       "1  CostOfRevenue  AmortizationOfValueOfBusinessAcquiredVOBA   \n",
       "2  CostOfRevenue                 CostOfGoodsAndServicesSold   \n",
       "3  CostOfRevenue                 CostOfGoodsAndServicesSold   \n",
       "4  CostOfRevenue                 CostOfGoodsAndServicesSold   \n",
       "\n",
       "                                   disagg_3  \\\n",
       "0                                       NaN   \n",
       "1                                       NaN   \n",
       "2  CostDepreciationAmortizationAndDepletion   \n",
       "3  CostDepreciationAmortizationAndDepletion   \n",
       "4  CostDepreciationAmortizationAndDepletion   \n",
       "\n",
       "                                            disagg_4  \\\n",
       "0                                                NaN   \n",
       "1                                                NaN   \n",
       "2                                      CostDepletion   \n",
       "3  CostOfGoodsAndServicesSoldDepreciationAndAmort...   \n",
       "4  CostOfGoodsAndServicesSoldDepreciationAndAmort...   \n",
       "\n",
       "                                 disagg_5 disagg_6 disagg_7  \n",
       "0                                     NaN      NaN      NaN  \n",
       "1                                     NaN      NaN      NaN  \n",
       "2                                     NaN      NaN      NaN  \n",
       "3  CostOfGoodsAndServicesSoldAmortization      NaN      NaN  \n",
       "4  CostOfGoodsAndServicesSoldDepreciation      NaN      NaN  "
      ]
     },
     "metadata": {},
     "output_type": "display_data"
    },
    {
     "name": "stdout",
     "output_type": "stream",
     "text": [
      "<class 'pandas.core.frame.DataFrame'>\n",
      "Int64Index: 294 entries, 0 to 69\n",
      "Data columns (total 7 columns):\n",
      " #   Column    Non-Null Count  Dtype \n",
      "---  ------    --------------  ----- \n",
      " 0   disagg_1  294 non-null    object\n",
      " 1   disagg_2  294 non-null    object\n",
      " 2   disagg_3  240 non-null    object\n",
      " 3   disagg_4  185 non-null    object\n",
      " 4   disagg_5  103 non-null    object\n",
      " 5   disagg_6  34 non-null     object\n",
      " 6   disagg_7  4 non-null      object\n",
      "dtypes: object(7)\n",
      "memory usage: 18.4+ KB\n"
     ]
    },
    {
     "data": {
      "text/plain": [
       "None"
      ]
     },
     "metadata": {},
     "output_type": "display_data"
    }
   ],
   "source": [
    "# view dataframe\n",
    "\n",
    "display(df_hier.head())\n",
    "display(df_hier.info())"
   ]
  },
  {
   "cell_type": "markdown",
   "id": "86728b09",
   "metadata": {},
   "source": [
    "### Cleaning"
   ]
  },
  {
   "cell_type": "code",
   "execution_count": 18,
   "id": "4dc8d2f5",
   "metadata": {
    "ExecuteTime": {
     "end_time": "2023-08-01T06:58:52.632619Z",
     "start_time": "2023-08-01T06:58:52.617659Z"
    }
   },
   "outputs": [],
   "source": [
    "# basic cleaning\n",
    "\n",
    "for col in df_hier.columns:\n",
    "    df_hier[col] = df_hier[col].str.strip()\n",
    "    "
   ]
  },
  {
   "cell_type": "markdown",
   "id": "d5c0020e",
   "metadata": {},
   "source": [
    "### Max disagg levels"
   ]
  },
  {
   "cell_type": "code",
   "execution_count": 19,
   "id": "efc3e5b3",
   "metadata": {
    "ExecuteTime": {
     "end_time": "2023-08-01T06:58:52.647579Z",
     "start_time": "2023-08-01T06:58:52.633617Z"
    }
   },
   "outputs": [],
   "source": [
    "# set max disagg level\n",
    "max_disagg = 5"
   ]
  },
  {
   "cell_type": "code",
   "execution_count": 20,
   "id": "985b856c",
   "metadata": {
    "ExecuteTime": {
     "end_time": "2023-08-01T06:58:52.663536Z",
     "start_time": "2023-08-01T06:58:52.648577Z"
    }
   },
   "outputs": [],
   "source": [
    "# keep records upto disagg 5\n",
    "\n",
    "df_hier = df_hier.iloc[:,:max_disagg].copy()"
   ]
  },
  {
   "cell_type": "markdown",
   "id": "fea84a76",
   "metadata": {},
   "source": [
    "Note, after selecting a particular disagg level, there are going to be duplicates in the file. Reason being, for duplicated rows, subsequent columns will have different disaggregated values. But since we cut off the later columns, we now are left with duplicates. We need to remove the same"
   ]
  },
  {
   "cell_type": "code",
   "execution_count": 21,
   "id": "ae85ed7c",
   "metadata": {
    "ExecuteTime": {
     "end_time": "2023-08-01T06:58:52.679496Z",
     "start_time": "2023-08-01T06:58:52.664535Z"
    }
   },
   "outputs": [
    {
     "name": "stdout",
     "output_type": "stream",
     "text": [
      "number of duplicates we drop 24\n"
     ]
    }
   ],
   "source": [
    "# Remove duplicates\n",
    "\n",
    "print(\"number of duplicates we drop\", df_hier.duplicated().sum())\n",
    "\n",
    "## drop the duplicates\n",
    "df_hier.drop_duplicates(inplace = True)"
   ]
  },
  {
   "cell_type": "code",
   "execution_count": 22,
   "id": "3def725a",
   "metadata": {
    "ExecuteTime": {
     "end_time": "2023-08-01T06:58:52.694973Z",
     "start_time": "2023-08-01T06:58:52.680493Z"
    }
   },
   "outputs": [
    {
     "name": "stdout",
     "output_type": "stream",
     "text": [
      "1\n",
      "2\n",
      "3\n",
      "4\n",
      "5\n"
     ]
    }
   ],
   "source": [
    "# get a list of all unique values across aggregation levels\n",
    "\n",
    "\n",
    "unique_list = []\n",
    "\n",
    "for i in range(1, max_disagg+1):\n",
    "    print(i)\n",
    "    unique_list = unique_list + list(df_hier[\"disagg_\" + str(i)].dropna().unique())\n",
    "    \n",
    "\n",
    "    "
   ]
  },
  {
   "cell_type": "code",
   "execution_count": 23,
   "id": "99562c85",
   "metadata": {
    "ExecuteTime": {
     "end_time": "2023-08-01T06:58:52.710926Z",
     "start_time": "2023-08-01T06:58:52.698959Z"
    }
   },
   "outputs": [
    {
     "name": "stdout",
     "output_type": "stream",
     "text": [
      "Dataframe is saved into to disk successfully Using Pickle\n"
     ]
    }
   ],
   "source": [
    "### Export dataframe\n",
    "\n",
    "object_filename = \"df_hierarchy.sav\"\n",
    "saved_df = pickle.dump(df_hier, open(object_filename,'wb'))\n",
    "print('Dataframe is saved into to disk successfully Using Pickle')"
   ]
  },
  {
   "cell_type": "markdown",
   "id": "238d25f6",
   "metadata": {},
   "source": [
    "**Stepwise Explaination:-**\n",
    "\n",
    "- first of all get an aggregation level column, that is needed for simplicity and interpretability\n",
    "- then create column for every disagg level. So for lvl 5, see if the aggregation level is 5, and only keep the value for those records. For lvl 4, keep aggregation level 4 and 5, then convert 5 to 4....and so on\n",
    "- then we need to check for aggregation level and then decide if we select those records or not\n"
   ]
  },
  {
   "cell_type": "markdown",
   "id": "48d2ae20",
   "metadata": {},
   "source": [
    "## Get the highest disaggregation level for every record"
   ]
  },
  {
   "cell_type": "code",
   "execution_count": 24,
   "id": "7dd0be9f",
   "metadata": {
    "ExecuteTime": {
     "end_time": "2023-08-01T06:58:53.200684Z",
     "start_time": "2023-08-01T06:58:52.712923Z"
    }
   },
   "outputs": [
    {
     "name": "stdout",
     "output_type": "stream",
     "text": [
      "1\n",
      "2\n",
      "3\n",
      "4\n",
      "5\n"
     ]
    }
   ],
   "source": [
    "# loop through disaggregation levels\n",
    "\n",
    "max_disagg = 5\n",
    "\n",
    "for i in range(1, max_disagg+1):\n",
    "    print(i)\n",
    "    disagg_vals = list(df_hier[\"disagg_\" + str(i)].dropna().unique())\n",
    "    df_focus.loc[df_focus[\"tag\"].isin(disagg_vals), \"disagg_level\"] = i\n",
    "\n",
    "\n"
   ]
  },
  {
   "cell_type": "code",
   "execution_count": null,
   "id": "e392c278",
   "metadata": {},
   "outputs": [],
   "source": []
  },
  {
   "cell_type": "code",
   "execution_count": 25,
   "id": "18c568da",
   "metadata": {
    "ExecuteTime": {
     "end_time": "2023-08-01T06:58:53.840502Z",
     "start_time": "2023-08-01T06:58:53.202650Z"
    }
   },
   "outputs": [
    {
     "name": "stdout",
     "output_type": "stream",
     "text": [
      "sanity check sum (should be 0): 0\n"
     ]
    }
   ],
   "source": [
    "# sanity check: see if any values are missed by checking NAs in disagg_level\n",
    "\n",
    "print(\"sanity check sum (should be 0):\", df_focus[df_focus[\"disagg_level\"].isna()][\"tag\"].isin(unique_list).sum())"
   ]
  },
  {
   "cell_type": "code",
   "execution_count": 26,
   "id": "fc89f104",
   "metadata": {
    "ExecuteTime": {
     "end_time": "2023-08-01T06:58:54.300927Z",
     "start_time": "2023-08-01T06:58:53.841519Z"
    }
   },
   "outputs": [
    {
     "name": "stdout",
     "output_type": "stream",
     "text": [
      "data percent we dropping 60.431281108697526\n",
      "number of rows we are working with 1562909\n"
     ]
    }
   ],
   "source": [
    "# Drop records where there is no disagg level\n",
    "\n",
    "# check percent of data we are working with currently\n",
    "print(\"data percent we dropping\", 100*df_focus[\"disagg_level\"].isna().sum()/len(df_focus))\n",
    "print(\"number of rows we are working with\", df_focus[\"disagg_level\"].notnull().sum())\n",
    "\n",
    "df_focus.dropna(subset = [\"disagg_level\"], inplace = True)"
   ]
  },
  {
   "cell_type": "markdown",
   "id": "9f21edda",
   "metadata": {},
   "source": [
    "## Get separate tag columns for each disagg level"
   ]
  },
  {
   "cell_type": "code",
   "execution_count": 27,
   "id": "30a9f4df",
   "metadata": {
    "ExecuteTime": {
     "end_time": "2023-08-01T06:58:54.474225Z",
     "start_time": "2023-08-01T06:58:54.302428Z"
    }
   },
   "outputs": [],
   "source": [
    "# intermediate step copy\n",
    "\n",
    "df_new = df_focus.copy()\n",
    "\n",
    "# set max disaggregation level\n",
    "max_disagg = 5"
   ]
  },
  {
   "cell_type": "code",
   "execution_count": 28,
   "id": "ac0c5855",
   "metadata": {
    "ExecuteTime": {
     "end_time": "2023-08-01T06:59:27.793956Z",
     "start_time": "2023-08-01T06:58:54.479214Z"
    }
   },
   "outputs": [
    {
     "name": "stdout",
     "output_type": "stream",
     "text": [
      "5\n",
      "4\n",
      "* 5\n",
      "3\n",
      "* 5\n",
      "* 4\n",
      "2\n",
      "* 5\n",
      "* 4\n",
      "* 3\n",
      "1\n",
      "* 5\n",
      "* 4\n",
      "* 3\n",
      "* 2\n"
     ]
    }
   ],
   "source": [
    "for current_disagg in range(max_disagg, 0, -1):\n",
    "    print(current_disagg)\n",
    "    \n",
    "    # make copy of relevant tags\n",
    "    df_new.loc[df_new[\"disagg_level\"] >= current_disagg, \"tag_\" + str(current_disagg)] = \\\n",
    "    df_new.loc[df_new[\"disagg_level\"] >= current_disagg, \"tag\"].copy()\n",
    "    \n",
    "    # condition if max\n",
    "    if current_disagg != max_disagg:\n",
    "        \n",
    "        # convert tags to the relevant disagg level\n",
    "        for j in range(max_disagg, current_disagg, -1 ):\n",
    "            print(\"*\", j)\n",
    "            df_mapping = df_hier[df_hier[\"disagg_\" + str(j)].notnull()]\n",
    "            df_new[\"tag_\" + str(current_disagg)].\\\n",
    "            replace(df_mapping.set_index(\"disagg_\" + str(j))[\"disagg_\" + str(j-1)], inplace = True)\n"
   ]
  },
  {
   "cell_type": "markdown",
   "id": "7cb70800",
   "metadata": {},
   "source": [
    "## Sanity Check 1: Nulls"
   ]
  },
  {
   "cell_type": "code",
   "execution_count": 29,
   "id": "ea0ce02f",
   "metadata": {
    "ExecuteTime": {
     "end_time": "2023-08-01T06:59:28.142974Z",
     "start_time": "2023-08-01T06:59:27.793956Z"
    }
   },
   "outputs": [
    {
     "data": {
      "text/plain": [
       "0"
      ]
     },
     "execution_count": 29,
     "metadata": {},
     "output_type": "execute_result"
    }
   ],
   "source": [
    "# tag 1\n",
    "df_new[df_new[\"tag_1\"].isna()][\"tag\"].isin(df_hier[\"disagg_1\"].unique()).sum()"
   ]
  },
  {
   "cell_type": "code",
   "execution_count": 30,
   "id": "c085b927",
   "metadata": {
    "ExecuteTime": {
     "end_time": "2023-08-01T06:59:28.283523Z",
     "start_time": "2023-08-01T06:59:28.143923Z"
    }
   },
   "outputs": [
    {
     "data": {
      "text/plain": [
       "0"
      ]
     },
     "execution_count": 30,
     "metadata": {},
     "output_type": "execute_result"
    }
   ],
   "source": [
    "# tag 2\n",
    "df_new[df_new[\"tag_2\"].isna()][\"tag\"].isin(df_hier[\"disagg_2\"].unique()).sum()"
   ]
  },
  {
   "cell_type": "code",
   "execution_count": 31,
   "id": "2305f81e",
   "metadata": {
    "ExecuteTime": {
     "end_time": "2023-08-01T06:59:28.549609Z",
     "start_time": "2023-08-01T06:59:28.284485Z"
    }
   },
   "outputs": [
    {
     "data": {
      "text/plain": [
       "0"
      ]
     },
     "execution_count": 31,
     "metadata": {},
     "output_type": "execute_result"
    }
   ],
   "source": [
    "# tag 3\n",
    "df_new[df_new[\"tag_3\"].isna()][\"tag\"].isin(df_hier[\"disagg_3\"].unique()).sum()"
   ]
  },
  {
   "cell_type": "code",
   "execution_count": 32,
   "id": "483fbbec",
   "metadata": {
    "ExecuteTime": {
     "end_time": "2023-08-01T06:59:28.883268Z",
     "start_time": "2023-08-01T06:59:28.550606Z"
    }
   },
   "outputs": [
    {
     "data": {
      "text/plain": [
       "0"
      ]
     },
     "execution_count": 32,
     "metadata": {},
     "output_type": "execute_result"
    }
   ],
   "source": [
    "# tag 4\n",
    "df_new[df_new[\"tag_4\"].isna()][\"tag\"].isin(df_hier[\"disagg_4\"].unique()).sum()"
   ]
  },
  {
   "cell_type": "code",
   "execution_count": 33,
   "id": "f4c4b8ea",
   "metadata": {
    "ExecuteTime": {
     "end_time": "2023-08-01T06:59:29.277960Z",
     "start_time": "2023-08-01T06:59:28.884716Z"
    }
   },
   "outputs": [
    {
     "data": {
      "text/plain": [
       "0"
      ]
     },
     "execution_count": 33,
     "metadata": {},
     "output_type": "execute_result"
    }
   ],
   "source": [
    "# tag 5\n",
    "df_new[df_new[\"tag_5\"].isna()][\"tag\"].isin(df_hier[\"disagg_5\"].unique()).sum()"
   ]
  },
  {
   "cell_type": "markdown",
   "id": "61f47e5f",
   "metadata": {},
   "source": [
    "## Sanity Check 2: Tags inconsistent between hierarchy and current data\n",
    "\n",
    "Result should return empty set or nan"
   ]
  },
  {
   "cell_type": "code",
   "execution_count": 1,
   "id": "a5d01814",
   "metadata": {
    "ExecuteTime": {
     "end_time": "2023-08-01T06:59:29.453516Z",
     "start_time": "2023-08-01T06:59:29.278857Z"
    }
   },
   "outputs": [
    {
     "ename": "NameError",
     "evalue": "name 'df_new' is not defined",
     "output_type": "error",
     "traceback": [
      "\u001b[0;31m---------------------------------------------------------------------------\u001b[0m",
      "\u001b[0;31mNameError\u001b[0m                                 Traceback (most recent call last)",
      "Cell \u001b[0;32mIn[1], line 2\u001b[0m\n\u001b[1;32m      1\u001b[0m \u001b[38;5;66;03m# tag 1\u001b[39;00m\n\u001b[0;32m----> 2\u001b[0m \u001b[38;5;28mset\u001b[39m(df_new[\u001b[38;5;124m\"\u001b[39m\u001b[38;5;124mtag_1\u001b[39m\u001b[38;5;124m\"\u001b[39m]\u001b[38;5;241m.\u001b[39munique())  \u001b[38;5;241m-\u001b[39m \u001b[38;5;28mset\u001b[39m(df_new[\u001b[38;5;124m\"\u001b[39m\u001b[38;5;124mtag\u001b[39m\u001b[38;5;124m\"\u001b[39m]\u001b[38;5;241m.\u001b[39munique())\n",
      "\u001b[0;31mNameError\u001b[0m: name 'df_new' is not defined"
     ]
    }
   ],
   "source": [
    "# tag 1\n",
    "set(df_new[\"tag_1\"].unique())  - set(df_new[\"tag\"].unique())"
   ]
  },
  {
   "cell_type": "code",
   "execution_count": 35,
   "id": "f77e47b9",
   "metadata": {
    "ExecuteTime": {
     "end_time": "2023-08-01T06:59:29.608406Z",
     "start_time": "2023-08-01T06:59:29.455807Z"
    }
   },
   "outputs": [
    {
     "data": {
      "text/plain": [
       "{nan}"
      ]
     },
     "execution_count": 35,
     "metadata": {},
     "output_type": "execute_result"
    }
   ],
   "source": [
    "# tag 2\n",
    "set(df_new[\"tag_2\"].unique())  - set(df_new[\"tag\"].unique())"
   ]
  },
  {
   "cell_type": "code",
   "execution_count": 36,
   "id": "31af5d1a",
   "metadata": {
    "ExecuteTime": {
     "end_time": "2023-08-01T06:59:29.765775Z",
     "start_time": "2023-08-01T06:59:29.610693Z"
    }
   },
   "outputs": [
    {
     "data": {
      "text/plain": [
       "{'PrincipalTransactionsRevenue', nan}"
      ]
     },
     "execution_count": 36,
     "metadata": {},
     "output_type": "execute_result"
    }
   ],
   "source": [
    "# tag 3\n",
    "set(df_new[\"tag_3\"].unique())  - set(df_new[\"tag\"].unique())"
   ]
  },
  {
   "cell_type": "code",
   "execution_count": 37,
   "id": "b1900d39",
   "metadata": {
    "ExecuteTime": {
     "end_time": "2023-08-01T06:59:29.923703Z",
     "start_time": "2023-08-01T06:59:29.767733Z"
    }
   },
   "outputs": [
    {
     "data": {
      "text/plain": [
       "{'InterestAndFeeIncomeLoansAndLeasesHeldForSale',\n",
       " 'SuppliesAndPostageExpense',\n",
       " nan}"
      ]
     },
     "execution_count": 37,
     "metadata": {},
     "output_type": "execute_result"
    }
   ],
   "source": [
    "# tag 4\n",
    "set(df_new[\"tag_4\"].unique())  - set(df_new[\"tag\"].unique())"
   ]
  },
  {
   "cell_type": "code",
   "execution_count": 2,
   "id": "ab52f7e1",
   "metadata": {
    "ExecuteTime": {
     "end_time": "2023-08-01T06:59:30.064982Z",
     "start_time": "2023-08-01T06:59:29.925704Z"
    }
   },
   "outputs": [
    {
     "ename": "NameError",
     "evalue": "name 'df_new' is not defined",
     "output_type": "error",
     "traceback": [
      "\u001b[0;31m---------------------------------------------------------------------------\u001b[0m",
      "\u001b[0;31mNameError\u001b[0m                                 Traceback (most recent call last)",
      "Cell \u001b[0;32mIn[2], line 2\u001b[0m\n\u001b[1;32m      1\u001b[0m \u001b[38;5;66;03m# tag 5\u001b[39;00m\n\u001b[0;32m----> 2\u001b[0m \u001b[38;5;28mset\u001b[39m(df_new[\u001b[38;5;124m\"\u001b[39m\u001b[38;5;124mtag_5\u001b[39m\u001b[38;5;124m\"\u001b[39m]\u001b[38;5;241m.\u001b[39munique())  \u001b[38;5;241m-\u001b[39m \u001b[38;5;28mset\u001b[39m(df_new[\u001b[38;5;124m\"\u001b[39m\u001b[38;5;124mtag\u001b[39m\u001b[38;5;124m\"\u001b[39m]\u001b[38;5;241m.\u001b[39munique())\n",
      "\u001b[0;31mNameError\u001b[0m: name 'df_new' is not defined"
     ]
    }
   ],
   "source": [
    "# tag 5\n",
    "set(df_new[\"tag_5\"].unique())  - set(df_new[\"tag\"].unique())"
   ]
  },
  {
   "cell_type": "markdown",
   "id": "6bf28209",
   "metadata": {},
   "source": [
    "**NOTE: If inconsistency exists, modeling won't take an impact. Although, possible to have values in final prediction that don't match original tags. Make sure to adjust for same**"
   ]
  },
  {
   "cell_type": "markdown",
   "id": "8083e1b1",
   "metadata": {},
   "source": [
    "## Sanity Check 3: broad cats that are present"
   ]
  },
  {
   "cell_type": "code",
   "execution_count": 39,
   "id": "a8001ec6",
   "metadata": {
    "ExecuteTime": {
     "end_time": "2023-08-01T06:59:30.112836Z",
     "start_time": "2023-08-01T06:59:30.065925Z"
    }
   },
   "outputs": [
    {
     "data": {
      "text/plain": [
       "OpExp       1046315\n",
       "NonOp        384051\n",
       "Revenues     132543\n",
       "Name: broad_cat, dtype: int64"
      ]
     },
     "execution_count": 39,
     "metadata": {},
     "output_type": "execute_result"
    }
   ],
   "source": [
    "df_new[\"broad_cat\"].value_counts()"
   ]
  },
  {
   "cell_type": "code",
   "execution_count": 40,
   "id": "5d236bd3",
   "metadata": {
    "ExecuteTime": {
     "end_time": "2023-08-01T06:59:30.177264Z",
     "start_time": "2023-08-01T06:59:30.113834Z"
    }
   },
   "outputs": [
    {
     "data": {
      "text/plain": [
       "OperatingExpenses            828582\n",
       "NonoperatingIncomeExpense    384051\n",
       "CostOfRevenue                217733\n",
       "Revenues                     132543\n",
       "Name: tag_1, dtype: int64"
      ]
     },
     "execution_count": 40,
     "metadata": {},
     "output_type": "execute_result"
    }
   ],
   "source": [
    "df_new[\"tag_1\"].value_counts()"
   ]
  },
  {
   "cell_type": "markdown",
   "id": "4ffc77f4",
   "metadata": {},
   "source": [
    "# Reindex"
   ]
  },
  {
   "cell_type": "markdown",
   "id": "059eea5b",
   "metadata": {},
   "source": [
    "we reindex since we dropped data again (where disagg_level is null again)"
   ]
  },
  {
   "cell_type": "code",
   "execution_count": 41,
   "id": "ed1c3b9e",
   "metadata": {
    "ExecuteTime": {
     "end_time": "2023-08-01T06:59:32.206046Z",
     "start_time": "2023-08-01T06:59:30.178264Z"
    }
   },
   "outputs": [
    {
     "data": {
      "text/plain": [
       "0"
      ]
     },
     "metadata": {},
     "output_type": "display_data"
    },
    {
     "data": {
      "text/plain": [
       "0"
      ]
     },
     "metadata": {},
     "output_type": "display_data"
    }
   ],
   "source": [
    "# check for duplicates and duplicated indices\n",
    "\n",
    "display(df_new.duplicated().sum())\n",
    "display(df_new.index.duplicated().sum())\n"
   ]
  },
  {
   "cell_type": "code",
   "execution_count": 42,
   "id": "2298598c",
   "metadata": {
    "ExecuteTime": {
     "end_time": "2023-08-01T06:59:32.759212Z",
     "start_time": "2023-08-01T06:59:32.207047Z"
    }
   },
   "outputs": [],
   "source": [
    "# sort and then reset index: in c\n",
    "df_new = df_new.sort_index().reset_index(drop = True)"
   ]
  },
  {
   "cell_type": "code",
   "execution_count": 43,
   "id": "4c29c2fa",
   "metadata": {
    "ExecuteTime": {
     "end_time": "2023-08-01T06:59:32.790754Z",
     "start_time": "2023-08-01T06:59:32.759212Z"
    }
   },
   "outputs": [
    {
     "data": {
      "text/html": [
       "<div>\n",
       "<style scoped>\n",
       "    .dataframe tbody tr th:only-of-type {\n",
       "        vertical-align: middle;\n",
       "    }\n",
       "\n",
       "    .dataframe tbody tr th {\n",
       "        vertical-align: top;\n",
       "    }\n",
       "\n",
       "    .dataframe thead th {\n",
       "        text-align: right;\n",
       "    }\n",
       "</style>\n",
       "<table border=\"1\" class=\"dataframe\">\n",
       "  <thead>\n",
       "    <tr style=\"text-align: right;\">\n",
       "      <th></th>\n",
       "      <th>adsh</th>\n",
       "      <th>report</th>\n",
       "      <th>line</th>\n",
       "      <th>stmt</th>\n",
       "      <th>inpth</th>\n",
       "      <th>tag</th>\n",
       "      <th>version_x</th>\n",
       "      <th>prole</th>\n",
       "      <th>plabel</th>\n",
       "      <th>negating</th>\n",
       "      <th>...</th>\n",
       "      <th>plabel_proc</th>\n",
       "      <th>y_actual_broad_cat</th>\n",
       "      <th>y_pred_broad_cat</th>\n",
       "      <th>broad_cat_pred</th>\n",
       "      <th>disagg_level</th>\n",
       "      <th>tag_5</th>\n",
       "      <th>tag_4</th>\n",
       "      <th>tag_3</th>\n",
       "      <th>tag_2</th>\n",
       "      <th>tag_1</th>\n",
       "    </tr>\n",
       "  </thead>\n",
       "  <tbody>\n",
       "    <tr>\n",
       "      <th>0</th>\n",
       "      <td>0000002178-19-000011</td>\n",
       "      <td>4</td>\n",
       "      <td>9</td>\n",
       "      <td>IS</td>\n",
       "      <td>0</td>\n",
       "      <td>Revenues</td>\n",
       "      <td>us-gaap/2018</td>\n",
       "      <td>terseLabel</td>\n",
       "      <td>total revenues</td>\n",
       "      <td>0</td>\n",
       "      <td>...</td>\n",
       "      <td>total revenues</td>\n",
       "      <td>0</td>\n",
       "      <td>0</td>\n",
       "      <td>Revenues</td>\n",
       "      <td>1.0</td>\n",
       "      <td>NaN</td>\n",
       "      <td>NaN</td>\n",
       "      <td>NaN</td>\n",
       "      <td>NaN</td>\n",
       "      <td>Revenues</td>\n",
       "    </tr>\n",
       "    <tr>\n",
       "      <th>1</th>\n",
       "      <td>0000002178-19-000011</td>\n",
       "      <td>4</td>\n",
       "      <td>9</td>\n",
       "      <td>IS</td>\n",
       "      <td>0</td>\n",
       "      <td>Revenues</td>\n",
       "      <td>us-gaap/2018</td>\n",
       "      <td>terseLabel</td>\n",
       "      <td>total revenues</td>\n",
       "      <td>0</td>\n",
       "      <td>...</td>\n",
       "      <td>total revenues</td>\n",
       "      <td>0</td>\n",
       "      <td>0</td>\n",
       "      <td>Revenues</td>\n",
       "      <td>1.0</td>\n",
       "      <td>NaN</td>\n",
       "      <td>NaN</td>\n",
       "      <td>NaN</td>\n",
       "      <td>NaN</td>\n",
       "      <td>Revenues</td>\n",
       "    </tr>\n",
       "    <tr>\n",
       "      <th>2</th>\n",
       "      <td>0000002178-19-000011</td>\n",
       "      <td>4</td>\n",
       "      <td>9</td>\n",
       "      <td>IS</td>\n",
       "      <td>0</td>\n",
       "      <td>Revenues</td>\n",
       "      <td>us-gaap/2018</td>\n",
       "      <td>terseLabel</td>\n",
       "      <td>total revenues</td>\n",
       "      <td>0</td>\n",
       "      <td>...</td>\n",
       "      <td>total revenues</td>\n",
       "      <td>0</td>\n",
       "      <td>0</td>\n",
       "      <td>Revenues</td>\n",
       "      <td>1.0</td>\n",
       "      <td>NaN</td>\n",
       "      <td>NaN</td>\n",
       "      <td>NaN</td>\n",
       "      <td>NaN</td>\n",
       "      <td>Revenues</td>\n",
       "    </tr>\n",
       "    <tr>\n",
       "      <th>3</th>\n",
       "      <td>0000002178-19-000011</td>\n",
       "      <td>4</td>\n",
       "      <td>9</td>\n",
       "      <td>IS</td>\n",
       "      <td>0</td>\n",
       "      <td>Revenues</td>\n",
       "      <td>us-gaap/2018</td>\n",
       "      <td>terseLabel</td>\n",
       "      <td>total revenues</td>\n",
       "      <td>0</td>\n",
       "      <td>...</td>\n",
       "      <td>total revenues</td>\n",
       "      <td>0</td>\n",
       "      <td>0</td>\n",
       "      <td>Revenues</td>\n",
       "      <td>1.0</td>\n",
       "      <td>NaN</td>\n",
       "      <td>NaN</td>\n",
       "      <td>NaN</td>\n",
       "      <td>NaN</td>\n",
       "      <td>Revenues</td>\n",
       "    </tr>\n",
       "    <tr>\n",
       "      <th>4</th>\n",
       "      <td>0000002178-19-000011</td>\n",
       "      <td>4</td>\n",
       "      <td>9</td>\n",
       "      <td>IS</td>\n",
       "      <td>0</td>\n",
       "      <td>Revenues</td>\n",
       "      <td>us-gaap/2018</td>\n",
       "      <td>terseLabel</td>\n",
       "      <td>total revenues</td>\n",
       "      <td>0</td>\n",
       "      <td>...</td>\n",
       "      <td>total revenues</td>\n",
       "      <td>0</td>\n",
       "      <td>0</td>\n",
       "      <td>Revenues</td>\n",
       "      <td>1.0</td>\n",
       "      <td>NaN</td>\n",
       "      <td>NaN</td>\n",
       "      <td>NaN</td>\n",
       "      <td>NaN</td>\n",
       "      <td>Revenues</td>\n",
       "    </tr>\n",
       "  </tbody>\n",
       "</table>\n",
       "<p>5 rows × 36 columns</p>\n",
       "</div>"
      ],
      "text/plain": [
       "                   adsh  report  line stmt  inpth       tag     version_x  \\\n",
       "0  0000002178-19-000011       4     9   IS      0  Revenues  us-gaap/2018   \n",
       "1  0000002178-19-000011       4     9   IS      0  Revenues  us-gaap/2018   \n",
       "2  0000002178-19-000011       4     9   IS      0  Revenues  us-gaap/2018   \n",
       "3  0000002178-19-000011       4     9   IS      0  Revenues  us-gaap/2018   \n",
       "4  0000002178-19-000011       4     9   IS      0  Revenues  us-gaap/2018   \n",
       "\n",
       "        prole          plabel  negating  ...     plabel_proc  \\\n",
       "0  terseLabel  total revenues         0  ...  total revenues   \n",
       "1  terseLabel  total revenues         0  ...  total revenues   \n",
       "2  terseLabel  total revenues         0  ...  total revenues   \n",
       "3  terseLabel  total revenues         0  ...  total revenues   \n",
       "4  terseLabel  total revenues         0  ...  total revenues   \n",
       "\n",
       "  y_actual_broad_cat  y_pred_broad_cat broad_cat_pred  disagg_level  tag_5  \\\n",
       "0                  0                 0       Revenues           1.0    NaN   \n",
       "1                  0                 0       Revenues           1.0    NaN   \n",
       "2                  0                 0       Revenues           1.0    NaN   \n",
       "3                  0                 0       Revenues           1.0    NaN   \n",
       "4                  0                 0       Revenues           1.0    NaN   \n",
       "\n",
       "   tag_4  tag_3  tag_2     tag_1  \n",
       "0    NaN    NaN    NaN  Revenues  \n",
       "1    NaN    NaN    NaN  Revenues  \n",
       "2    NaN    NaN    NaN  Revenues  \n",
       "3    NaN    NaN    NaN  Revenues  \n",
       "4    NaN    NaN    NaN  Revenues  \n",
       "\n",
       "[5 rows x 36 columns]"
      ]
     },
     "execution_count": 43,
     "metadata": {},
     "output_type": "execute_result"
    }
   ],
   "source": [
    "df_new.head()"
   ]
  },
  {
   "cell_type": "markdown",
   "id": "006beab7",
   "metadata": {},
   "source": [
    "# Export dataframe"
   ]
  },
  {
   "cell_type": "code",
   "execution_count": 44,
   "id": "ea2eed91",
   "metadata": {
    "ExecuteTime": {
     "end_time": "2023-08-01T06:59:34.920799Z",
     "start_time": "2023-08-01T06:59:32.792723Z"
    }
   },
   "outputs": [
    {
     "name": "stdout",
     "output_type": "stream",
     "text": [
      "Dataframe is saved into to disk successfully Using Pickle\n"
     ]
    }
   ],
   "source": [
    "# export df\n",
    "\n",
    "object_filename = \"df_with_loc_lvl_step_v3.sav\"\n",
    "saved_df = pickle.dump(df_new, open(object_filename,'wb'))\n",
    "print('Dataframe is saved into to disk successfully Using Pickle')"
   ]
  },
  {
   "cell_type": "code",
   "execution_count": null,
   "id": "441dc8cf",
   "metadata": {},
   "outputs": [],
   "source": []
  },
  {
   "cell_type": "code",
   "execution_count": null,
   "id": "68e6d5bb",
   "metadata": {},
   "outputs": [],
   "source": []
  }
 ],
 "metadata": {
  "kernelspec": {
   "display_name": "Python 3",
   "language": "python",
   "name": "python3"
  },
  "language_info": {
   "codemirror_mode": {
    "name": "ipython",
    "version": 3
   },
   "file_extension": ".py",
   "mimetype": "text/x-python",
   "name": "python",
   "nbconvert_exporter": "python",
   "pygments_lexer": "ipython3",
   "version": "3.11.5"
  },
  "toc": {
   "base_numbering": 1,
   "nav_menu": {},
   "number_sections": true,
   "sideBar": true,
   "skip_h1_title": false,
   "title_cell": "Table of Contents",
   "title_sidebar": "Contents",
   "toc_cell": true,
   "toc_position": {},
   "toc_section_display": true,
   "toc_window_display": false
  }
 },
 "nbformat": 4,
 "nbformat_minor": 5
}
