{
 "cells": [
  {
   "cell_type": "markdown",
   "id": "8633c8ec",
   "metadata": {
    "toc": true
   },
   "source": [
    "<h1>Table of Contents<span class=\"tocSkip\"></span></h1>\n",
    "<div class=\"toc\"><ul class=\"toc-item\"><li><span><a href=\"#Libraries\" data-toc-modified-id=\"Libraries-1\"><span class=\"toc-item-num\">1&nbsp;&nbsp;</span>Libraries</a></span></li><li><span><a href=\"#Level-Steps\" data-toc-modified-id=\"Level-Steps-2\"><span class=\"toc-item-num\">2&nbsp;&nbsp;</span>Level Steps</a></span></li><li><span><a href=\"#Create-DataFrame\" data-toc-modified-id=\"Create-DataFrame-3\"><span class=\"toc-item-num\">3&nbsp;&nbsp;</span>Create DataFrame</a></span><ul class=\"toc-item\"><li><span><a href=\"#Focus-group\" data-toc-modified-id=\"Focus-group-3.1\"><span class=\"toc-item-num\">3.1&nbsp;&nbsp;</span>Focus group</a></span></li><li><span><a href=\"#Clean-columns\" data-toc-modified-id=\"Clean-columns-3.2\"><span class=\"toc-item-num\">3.2&nbsp;&nbsp;</span>Clean columns</a></span></li><li><span><a href=\"#Remove-duplicates\" data-toc-modified-id=\"Remove-duplicates-3.3\"><span class=\"toc-item-num\">3.3&nbsp;&nbsp;</span>Remove duplicates</a></span></li><li><span><a href=\"#Reindex\" data-toc-modified-id=\"Reindex-3.4\"><span class=\"toc-item-num\">3.4&nbsp;&nbsp;</span>Reindex</a></span></li><li><span><a href=\"#Hierarchy-file-reading:-upto-disagg-5\" data-toc-modified-id=\"Hierarchy-file-reading:-upto-disagg-5-3.5\"><span class=\"toc-item-num\">3.5&nbsp;&nbsp;</span>Hierarchy file reading: upto disagg 5</a></span><ul class=\"toc-item\"><li><span><a href=\"#Reading-files\" data-toc-modified-id=\"Reading-files-3.5.1\"><span class=\"toc-item-num\">3.5.1&nbsp;&nbsp;</span>Reading files</a></span></li><li><span><a href=\"#Cleaning\" data-toc-modified-id=\"Cleaning-3.5.2\"><span class=\"toc-item-num\">3.5.2&nbsp;&nbsp;</span>Cleaning</a></span></li><li><span><a href=\"#Max-disagg-levels\" data-toc-modified-id=\"Max-disagg-levels-3.5.3\"><span class=\"toc-item-num\">3.5.3&nbsp;&nbsp;</span>Max disagg levels</a></span></li></ul></li><li><span><a href=\"#Get-the-highest-disaggregation-level-for-every-record\" data-toc-modified-id=\"Get-the-highest-disaggregation-level-for-every-record-3.6\"><span class=\"toc-item-num\">3.6&nbsp;&nbsp;</span>Get the highest disaggregation level for every record</a></span></li><li><span><a href=\"#Get-separate-tag-columns-for-each-disagg-level\" data-toc-modified-id=\"Get-separate-tag-columns-for-each-disagg-level-3.7\"><span class=\"toc-item-num\">3.7&nbsp;&nbsp;</span>Get separate tag columns for each disagg level</a></span></li><li><span><a href=\"#Sanity-Check-1:-Nulls\" data-toc-modified-id=\"Sanity-Check-1:-Nulls-3.8\"><span class=\"toc-item-num\">3.8&nbsp;&nbsp;</span>Sanity Check 1: Nulls</a></span></li><li><span><a href=\"#Sanity-Check-2:-Tags-inconsistent-between-hierarchy-and-current-data\" data-toc-modified-id=\"Sanity-Check-2:-Tags-inconsistent-between-hierarchy-and-current-data-3.9\"><span class=\"toc-item-num\">3.9&nbsp;&nbsp;</span>Sanity Check 2: Tags inconsistent between hierarchy and current data</a></span></li><li><span><a href=\"#Sanity-Check-3:-broad-cats-that-are-present\" data-toc-modified-id=\"Sanity-Check-3:-broad-cats-that-are-present-3.10\"><span class=\"toc-item-num\">3.10&nbsp;&nbsp;</span>Sanity Check 3: broad cats that are present</a></span></li></ul></li><li><span><a href=\"#Reindex\" data-toc-modified-id=\"Reindex-4\"><span class=\"toc-item-num\">4&nbsp;&nbsp;</span>Reindex</a></span></li><li><span><a href=\"#Export-dataframe\" data-toc-modified-id=\"Export-dataframe-5\"><span class=\"toc-item-num\">5&nbsp;&nbsp;</span>Export dataframe</a></span></li></ul></div>"
   ]
  },
  {
   "cell_type": "markdown",
   "id": "4096ffd6",
   "metadata": {},
   "source": [
    "To do: add higher disaggregations"
   ]
  },
  {
   "cell_type": "markdown",
   "id": "faf6ab19",
   "metadata": {},
   "source": [
    "Note, this version has broadcat joined using tags"
   ]
  },
  {
   "cell_type": "markdown",
   "id": "1887c66c",
   "metadata": {},
   "source": [
    "# Libraries"
   ]
  },
  {
   "cell_type": "code",
   "execution_count": 1,
   "id": "c0f3fc73",
   "metadata": {
    "ExecuteTime": {
     "end_time": "2023-07-29T18:56:50.028892Z",
     "start_time": "2023-07-29T18:56:50.005954Z"
    }
   },
   "outputs": [
    {
     "name": "stderr",
     "output_type": "stream",
     "text": [
      "[nltk_data] Downloading package stopwords to\n",
      "[nltk_data]     C:\\Users\\gbatt\\AppData\\Roaming\\nltk_data...\n",
      "[nltk_data]   Package stopwords is already up-to-date!\n"
     ]
    }
   ],
   "source": [
    "import pandas as pd  #dataframe\n",
    "import numpy as np  #stats\n",
    "import pickle  #loading data\n",
    "# !pip install -U spacy\n",
    "# !python -m spacy download en_core_web_sm\n",
    "import re  #regex\n",
    "\n",
    "from sklearn.model_selection import cross_val_score  # cross validation\n",
    "from sklearn.model_selection import StratifiedKFold # cross validation\n",
    "\n",
    "from sklearn.model_selection import train_test_split  #train_test_split\n",
    "from sklearn.feature_extraction.text import CountVectorizer  #vectorizer\n",
    "from sklearn.feature_extraction.text import TfidfTransformer  #tfidf\n",
    "from sklearn.feature_extraction.text import TfidfVectorizer\n",
    "from sklearn.naive_bayes import MultinomialNB  #model\n",
    "\n",
    "from sklearn.pipeline import Pipeline  # Pipeline\n",
    "\n",
    "import string  # for punctuations\n",
    "\n",
    "import matplotlib.pyplot as plt  # visualization\n",
    "import seaborn as sns  #  visualization\n",
    "\n",
    "from scipy.sparse import csr_matrix  # dealing with sparse matrix\n",
    "from scipy.sparse import hstack  # joining sparse matrix\n",
    "from scipy.sparse import vstack  # joining sparse matrix\n",
    "\n",
    "from sklearn.metrics import confusion_matrix #metrics\n",
    "from sklearn import metrics #metrics\n",
    "\n",
    "\n",
    "import re #regex\n",
    "from wordcloud import WordCloud #wordcloud\n",
    "import nltk # for stopwords\n",
    "nltk.download('stopwords') #stopwords\n",
    "from nltk.corpus import stopwords #stopwords\n",
    "from pprint import pprint #lda\n",
    "from nltk.stem.snowball import SnowballStemmer # for stemming\n",
    "\n",
    "import spacy # for lemmatization\n",
    "import os"
   ]
  },
  {
   "cell_type": "markdown",
   "id": "fa100b54",
   "metadata": {},
   "source": [
    "# Level Steps"
   ]
  },
  {
   "cell_type": "markdown",
   "id": "1597c8da",
   "metadata": {},
   "source": [
    "Data Preprocessing performed in notebook Modeling_with_loc_lvl2_v2. We use the dataframe generated as df_with_predicted_broad_cat_v2.sav for proceeding to next levels of disaggregations"
   ]
  },
  {
   "cell_type": "markdown",
   "id": "2c120e94",
   "metadata": {},
   "source": [
    "# Create DataFrame"
   ]
  },
  {
   "cell_type": "markdown",
   "id": "99be2bf9",
   "metadata": {},
   "source": [
    "## Focus group"
   ]
  },
  {
   "cell_type": "code",
   "execution_count": 53,
   "id": "21aa00ef",
   "metadata": {
    "ExecuteTime": {
     "end_time": "2023-07-29T18:56:54.299867Z",
     "start_time": "2023-07-29T18:56:50.029888Z"
    }
   },
   "outputs": [],
   "source": [
    "# Code to retrieve pickle\n",
    "# use pickle to retrieve\n",
    "\n",
    "file = open(\"df_with_predicted_broad_cat_v3.sav\",'rb')\n",
    "df = pickle.load(file)\n",
    "file.close()"
   ]
  },
  {
   "cell_type": "code",
   "execution_count": 54,
   "id": "60158f4f",
   "metadata": {
    "ExecuteTime": {
     "end_time": "2023-07-29T18:56:54.331524Z",
     "start_time": "2023-07-29T18:56:54.305561Z"
    }
   },
   "outputs": [],
   "source": [
    "# Rename y_actual and y_pred\n",
    "\n",
    "df.rename(columns = {\"y_actual\": \"y_actual_broad_cat\",\n",
    "                    \"y_pred\": \"y_pred_broad_cat\"}, inplace = True)\n",
    "\n"
   ]
  },
  {
   "cell_type": "code",
   "execution_count": 55,
   "id": "c765201e",
   "metadata": {
    "ExecuteTime": {
     "end_time": "2023-07-29T18:56:57.050869Z",
     "start_time": "2023-07-29T18:56:54.333519Z"
    }
   },
   "outputs": [],
   "source": [
    "# Filter for OpExp\n",
    "df_focus = df.copy()"
   ]
  },
  {
   "cell_type": "code",
   "execution_count": 56,
   "id": "9d98ad2d",
   "metadata": {
    "ExecuteTime": {
     "end_time": "2023-07-29T18:56:57.097946Z",
     "start_time": "2023-07-29T18:56:57.050869Z"
    }
   },
   "outputs": [
    {
     "data": {
      "text/plain": [
       "(1117040, 22)"
      ]
     },
     "execution_count": 56,
     "metadata": {},
     "output_type": "execute_result"
    }
   ],
   "source": [
    "# check shape\n",
    "df_focus.shape"
   ]
  },
  {
   "cell_type": "code",
   "execution_count": 57,
   "id": "9c796f4a",
   "metadata": {
    "ExecuteTime": {
     "end_time": "2023-07-29T18:56:57.114259Z",
     "start_time": "2023-07-29T18:56:57.099213Z"
    }
   },
   "outputs": [
    {
     "data": {
      "text/plain": [
       "Index(['Unnamed: 0', 'adsh', 'report', 'line', 'stmt', 'inpth', 'tag',\n",
       "       'version_x', 'prole', 'plabel', 'negating', 'cik', 'name', 'sic',\n",
       "       'form', 'aggregation_level', 'broad_cat', 'version_y', 'plabel_proc',\n",
       "       'y_actual_broad_cat', 'y_pred_broad_cat', 'broad_cat_pred'],\n",
       "      dtype='object')"
      ]
     },
     "execution_count": 57,
     "metadata": {},
     "output_type": "execute_result"
    }
   ],
   "source": [
    "df_focus.columns"
   ]
  },
  {
   "cell_type": "markdown",
   "id": "af294198",
   "metadata": {},
   "source": [
    "## Clean columns"
   ]
  },
  {
   "cell_type": "code",
   "execution_count": null,
   "id": "102d4983-866b-43f5-88ce-a1f006250e7a",
   "metadata": {},
   "outputs": [],
   "source": []
  },
  {
   "cell_type": "code",
   "execution_count": null,
   "id": "057aef7d-e5a9-4711-ab06-651bd7f00c54",
   "metadata": {},
   "outputs": [],
   "source": []
  },
  {
   "cell_type": "code",
   "execution_count": null,
   "id": "f282e4af-a630-435c-96dd-15a6420a4f16",
   "metadata": {},
   "outputs": [],
   "source": []
  },
  {
   "cell_type": "code",
   "execution_count": 58,
   "id": "10458675-4d87-48db-a5ff-1b92e1f857f2",
   "metadata": {},
   "outputs": [
    {
     "data": {
      "text/html": [
       "<div>\n",
       "<style scoped>\n",
       "    .dataframe tbody tr th:only-of-type {\n",
       "        vertical-align: middle;\n",
       "    }\n",
       "\n",
       "    .dataframe tbody tr th {\n",
       "        vertical-align: top;\n",
       "    }\n",
       "\n",
       "    .dataframe thead th {\n",
       "        text-align: right;\n",
       "    }\n",
       "</style>\n",
       "<table border=\"1\" class=\"dataframe\">\n",
       "  <thead>\n",
       "    <tr style=\"text-align: right;\">\n",
       "      <th></th>\n",
       "      <th>Unnamed: 0</th>\n",
       "      <th>adsh</th>\n",
       "      <th>report</th>\n",
       "      <th>line</th>\n",
       "      <th>stmt</th>\n",
       "      <th>inpth</th>\n",
       "      <th>tag</th>\n",
       "      <th>version_x</th>\n",
       "      <th>prole</th>\n",
       "      <th>plabel</th>\n",
       "      <th>...</th>\n",
       "      <th>name</th>\n",
       "      <th>sic</th>\n",
       "      <th>form</th>\n",
       "      <th>aggregation_level</th>\n",
       "      <th>broad_cat</th>\n",
       "      <th>version_y</th>\n",
       "      <th>plabel_proc</th>\n",
       "      <th>y_actual_broad_cat</th>\n",
       "      <th>y_pred_broad_cat</th>\n",
       "      <th>broad_cat_pred</th>\n",
       "    </tr>\n",
       "  </thead>\n",
       "  <tbody>\n",
       "    <tr>\n",
       "      <th>0</th>\n",
       "      <td>1884297</td>\n",
       "      <td>0001434728-19-000051</td>\n",
       "      <td>7</td>\n",
       "      <td>6</td>\n",
       "      <td>CF</td>\n",
       "      <td>0</td>\n",
       "      <td>WriteOffOfDeferredDebtIssuanceCost</td>\n",
       "      <td>us-gaap/2018</td>\n",
       "      <td>terseLabel</td>\n",
       "      <td>write off of debt issuance costs</td>\n",
       "      <td>...</td>\n",
       "      <td>GLOBAL WATER RESOURCES, INC.</td>\n",
       "      <td>4941.0</td>\n",
       "      <td>10-K</td>\n",
       "      <td>1</td>\n",
       "      <td>IntExp</td>\n",
       "      <td>us-gaap/2018</td>\n",
       "      <td>write off of debt issuance costs</td>\n",
       "      <td>0</td>\n",
       "      <td>0</td>\n",
       "      <td>IntExp</td>\n",
       "    </tr>\n",
       "    <tr>\n",
       "      <th>1</th>\n",
       "      <td>1884297</td>\n",
       "      <td>0001434728-19-000051</td>\n",
       "      <td>7</td>\n",
       "      <td>6</td>\n",
       "      <td>CF</td>\n",
       "      <td>0</td>\n",
       "      <td>WriteOffOfDeferredDebtIssuanceCost</td>\n",
       "      <td>us-gaap/2018</td>\n",
       "      <td>terseLabel</td>\n",
       "      <td>write off of debt issuance costs</td>\n",
       "      <td>...</td>\n",
       "      <td>GLOBAL WATER RESOURCES, INC.</td>\n",
       "      <td>4941.0</td>\n",
       "      <td>10-K</td>\n",
       "      <td>1</td>\n",
       "      <td>IntExp</td>\n",
       "      <td>us-gaap/2019</td>\n",
       "      <td>write off of debt issuance costs</td>\n",
       "      <td>0</td>\n",
       "      <td>0</td>\n",
       "      <td>IntExp</td>\n",
       "    </tr>\n",
       "    <tr>\n",
       "      <th>2</th>\n",
       "      <td>1884297</td>\n",
       "      <td>0001434728-19-000051</td>\n",
       "      <td>7</td>\n",
       "      <td>6</td>\n",
       "      <td>CF</td>\n",
       "      <td>0</td>\n",
       "      <td>WriteOffOfDeferredDebtIssuanceCost</td>\n",
       "      <td>us-gaap/2018</td>\n",
       "      <td>terseLabel</td>\n",
       "      <td>write off of debt issuance costs</td>\n",
       "      <td>...</td>\n",
       "      <td>GLOBAL WATER RESOURCES, INC.</td>\n",
       "      <td>4941.0</td>\n",
       "      <td>10-K</td>\n",
       "      <td>1</td>\n",
       "      <td>IntExp</td>\n",
       "      <td>us-gaap/2020</td>\n",
       "      <td>write off of debt issuance costs</td>\n",
       "      <td>0</td>\n",
       "      <td>0</td>\n",
       "      <td>IntExp</td>\n",
       "    </tr>\n",
       "    <tr>\n",
       "      <th>3</th>\n",
       "      <td>1884297</td>\n",
       "      <td>0001434728-19-000051</td>\n",
       "      <td>7</td>\n",
       "      <td>6</td>\n",
       "      <td>CF</td>\n",
       "      <td>0</td>\n",
       "      <td>WriteOffOfDeferredDebtIssuanceCost</td>\n",
       "      <td>us-gaap/2018</td>\n",
       "      <td>terseLabel</td>\n",
       "      <td>write off of debt issuance costs</td>\n",
       "      <td>...</td>\n",
       "      <td>GLOBAL WATER RESOURCES, INC.</td>\n",
       "      <td>4941.0</td>\n",
       "      <td>10-K</td>\n",
       "      <td>1</td>\n",
       "      <td>IntExp</td>\n",
       "      <td>us-gaap/2021</td>\n",
       "      <td>write off of debt issuance costs</td>\n",
       "      <td>0</td>\n",
       "      <td>0</td>\n",
       "      <td>IntExp</td>\n",
       "    </tr>\n",
       "    <tr>\n",
       "      <th>4</th>\n",
       "      <td>1884297</td>\n",
       "      <td>0001434728-19-000051</td>\n",
       "      <td>7</td>\n",
       "      <td>6</td>\n",
       "      <td>CF</td>\n",
       "      <td>0</td>\n",
       "      <td>WriteOffOfDeferredDebtIssuanceCost</td>\n",
       "      <td>us-gaap/2018</td>\n",
       "      <td>terseLabel</td>\n",
       "      <td>write off of debt issuance costs</td>\n",
       "      <td>...</td>\n",
       "      <td>GLOBAL WATER RESOURCES, INC.</td>\n",
       "      <td>4941.0</td>\n",
       "      <td>10-K</td>\n",
       "      <td>1</td>\n",
       "      <td>IntExp</td>\n",
       "      <td>us-gaap/2022</td>\n",
       "      <td>write off of debt issuance costs</td>\n",
       "      <td>0</td>\n",
       "      <td>0</td>\n",
       "      <td>IntExp</td>\n",
       "    </tr>\n",
       "    <tr>\n",
       "      <th>...</th>\n",
       "      <td>...</td>\n",
       "      <td>...</td>\n",
       "      <td>...</td>\n",
       "      <td>...</td>\n",
       "      <td>...</td>\n",
       "      <td>...</td>\n",
       "      <td>...</td>\n",
       "      <td>...</td>\n",
       "      <td>...</td>\n",
       "      <td>...</td>\n",
       "      <td>...</td>\n",
       "      <td>...</td>\n",
       "      <td>...</td>\n",
       "      <td>...</td>\n",
       "      <td>...</td>\n",
       "      <td>...</td>\n",
       "      <td>...</td>\n",
       "      <td>...</td>\n",
       "      <td>...</td>\n",
       "      <td>...</td>\n",
       "      <td>...</td>\n",
       "    </tr>\n",
       "    <tr>\n",
       "      <th>1117035</th>\n",
       "      <td>12827821</td>\n",
       "      <td>0001558370-22-013196</td>\n",
       "      <td>6</td>\n",
       "      <td>21</td>\n",
       "      <td>CF</td>\n",
       "      <td>0</td>\n",
       "      <td>AccretionExpense</td>\n",
       "      <td>us-gaap/2021</td>\n",
       "      <td>terseLabel</td>\n",
       "      <td>accretion</td>\n",
       "      <td>...</td>\n",
       "      <td>GOODNESS GROWTH HOLDINGS, INC.</td>\n",
       "      <td>2834.0</td>\n",
       "      <td>10-Q</td>\n",
       "      <td>1</td>\n",
       "      <td>OpExp</td>\n",
       "      <td>us-gaap/2018</td>\n",
       "      <td>accretion</td>\n",
       "      <td>3</td>\n",
       "      <td>3</td>\n",
       "      <td>OpExp</td>\n",
       "    </tr>\n",
       "    <tr>\n",
       "      <th>1117036</th>\n",
       "      <td>12827821</td>\n",
       "      <td>0001558370-22-013196</td>\n",
       "      <td>6</td>\n",
       "      <td>21</td>\n",
       "      <td>CF</td>\n",
       "      <td>0</td>\n",
       "      <td>AccretionExpense</td>\n",
       "      <td>us-gaap/2021</td>\n",
       "      <td>terseLabel</td>\n",
       "      <td>accretion</td>\n",
       "      <td>...</td>\n",
       "      <td>GOODNESS GROWTH HOLDINGS, INC.</td>\n",
       "      <td>2834.0</td>\n",
       "      <td>10-Q</td>\n",
       "      <td>1</td>\n",
       "      <td>OpExp</td>\n",
       "      <td>us-gaap/2019</td>\n",
       "      <td>accretion</td>\n",
       "      <td>3</td>\n",
       "      <td>3</td>\n",
       "      <td>OpExp</td>\n",
       "    </tr>\n",
       "    <tr>\n",
       "      <th>1117037</th>\n",
       "      <td>12827821</td>\n",
       "      <td>0001558370-22-013196</td>\n",
       "      <td>6</td>\n",
       "      <td>21</td>\n",
       "      <td>CF</td>\n",
       "      <td>0</td>\n",
       "      <td>AccretionExpense</td>\n",
       "      <td>us-gaap/2021</td>\n",
       "      <td>terseLabel</td>\n",
       "      <td>accretion</td>\n",
       "      <td>...</td>\n",
       "      <td>GOODNESS GROWTH HOLDINGS, INC.</td>\n",
       "      <td>2834.0</td>\n",
       "      <td>10-Q</td>\n",
       "      <td>1</td>\n",
       "      <td>OpExp</td>\n",
       "      <td>us-gaap/2020</td>\n",
       "      <td>accretion</td>\n",
       "      <td>3</td>\n",
       "      <td>3</td>\n",
       "      <td>OpExp</td>\n",
       "    </tr>\n",
       "    <tr>\n",
       "      <th>1117038</th>\n",
       "      <td>12827821</td>\n",
       "      <td>0001558370-22-013196</td>\n",
       "      <td>6</td>\n",
       "      <td>21</td>\n",
       "      <td>CF</td>\n",
       "      <td>0</td>\n",
       "      <td>AccretionExpense</td>\n",
       "      <td>us-gaap/2021</td>\n",
       "      <td>terseLabel</td>\n",
       "      <td>accretion</td>\n",
       "      <td>...</td>\n",
       "      <td>GOODNESS GROWTH HOLDINGS, INC.</td>\n",
       "      <td>2834.0</td>\n",
       "      <td>10-Q</td>\n",
       "      <td>1</td>\n",
       "      <td>OpExp</td>\n",
       "      <td>us-gaap/2021</td>\n",
       "      <td>accretion</td>\n",
       "      <td>3</td>\n",
       "      <td>3</td>\n",
       "      <td>OpExp</td>\n",
       "    </tr>\n",
       "    <tr>\n",
       "      <th>1117039</th>\n",
       "      <td>12827821</td>\n",
       "      <td>0001558370-22-013196</td>\n",
       "      <td>6</td>\n",
       "      <td>21</td>\n",
       "      <td>CF</td>\n",
       "      <td>0</td>\n",
       "      <td>AccretionExpense</td>\n",
       "      <td>us-gaap/2021</td>\n",
       "      <td>terseLabel</td>\n",
       "      <td>accretion</td>\n",
       "      <td>...</td>\n",
       "      <td>GOODNESS GROWTH HOLDINGS, INC.</td>\n",
       "      <td>2834.0</td>\n",
       "      <td>10-Q</td>\n",
       "      <td>1</td>\n",
       "      <td>OpExp</td>\n",
       "      <td>us-gaap/2022</td>\n",
       "      <td>accretion</td>\n",
       "      <td>3</td>\n",
       "      <td>3</td>\n",
       "      <td>OpExp</td>\n",
       "    </tr>\n",
       "  </tbody>\n",
       "</table>\n",
       "<p>1117040 rows × 22 columns</p>\n",
       "</div>"
      ],
      "text/plain": [
       "         Unnamed: 0                  adsh  report  line stmt  inpth  \\\n",
       "0           1884297  0001434728-19-000051       7     6   CF      0   \n",
       "1           1884297  0001434728-19-000051       7     6   CF      0   \n",
       "2           1884297  0001434728-19-000051       7     6   CF      0   \n",
       "3           1884297  0001434728-19-000051       7     6   CF      0   \n",
       "4           1884297  0001434728-19-000051       7     6   CF      0   \n",
       "...             ...                   ...     ...   ...  ...    ...   \n",
       "1117035    12827821  0001558370-22-013196       6    21   CF      0   \n",
       "1117036    12827821  0001558370-22-013196       6    21   CF      0   \n",
       "1117037    12827821  0001558370-22-013196       6    21   CF      0   \n",
       "1117038    12827821  0001558370-22-013196       6    21   CF      0   \n",
       "1117039    12827821  0001558370-22-013196       6    21   CF      0   \n",
       "\n",
       "                                        tag     version_x       prole  \\\n",
       "0        WriteOffOfDeferredDebtIssuanceCost  us-gaap/2018  terseLabel   \n",
       "1        WriteOffOfDeferredDebtIssuanceCost  us-gaap/2018  terseLabel   \n",
       "2        WriteOffOfDeferredDebtIssuanceCost  us-gaap/2018  terseLabel   \n",
       "3        WriteOffOfDeferredDebtIssuanceCost  us-gaap/2018  terseLabel   \n",
       "4        WriteOffOfDeferredDebtIssuanceCost  us-gaap/2018  terseLabel   \n",
       "...                                     ...           ...         ...   \n",
       "1117035                    AccretionExpense  us-gaap/2021  terseLabel   \n",
       "1117036                    AccretionExpense  us-gaap/2021  terseLabel   \n",
       "1117037                    AccretionExpense  us-gaap/2021  terseLabel   \n",
       "1117038                    AccretionExpense  us-gaap/2021  terseLabel   \n",
       "1117039                    AccretionExpense  us-gaap/2021  terseLabel   \n",
       "\n",
       "                                   plabel  ...  \\\n",
       "0        write off of debt issuance costs  ...   \n",
       "1        write off of debt issuance costs  ...   \n",
       "2        write off of debt issuance costs  ...   \n",
       "3        write off of debt issuance costs  ...   \n",
       "4        write off of debt issuance costs  ...   \n",
       "...                                   ...  ...   \n",
       "1117035                         accretion  ...   \n",
       "1117036                         accretion  ...   \n",
       "1117037                         accretion  ...   \n",
       "1117038                         accretion  ...   \n",
       "1117039                         accretion  ...   \n",
       "\n",
       "                                   name     sic  form  aggregation_level  \\\n",
       "0          GLOBAL WATER RESOURCES, INC.  4941.0  10-K                  1   \n",
       "1          GLOBAL WATER RESOURCES, INC.  4941.0  10-K                  1   \n",
       "2          GLOBAL WATER RESOURCES, INC.  4941.0  10-K                  1   \n",
       "3          GLOBAL WATER RESOURCES, INC.  4941.0  10-K                  1   \n",
       "4          GLOBAL WATER RESOURCES, INC.  4941.0  10-K                  1   \n",
       "...                                 ...     ...   ...                ...   \n",
       "1117035  GOODNESS GROWTH HOLDINGS, INC.  2834.0  10-Q                  1   \n",
       "1117036  GOODNESS GROWTH HOLDINGS, INC.  2834.0  10-Q                  1   \n",
       "1117037  GOODNESS GROWTH HOLDINGS, INC.  2834.0  10-Q                  1   \n",
       "1117038  GOODNESS GROWTH HOLDINGS, INC.  2834.0  10-Q                  1   \n",
       "1117039  GOODNESS GROWTH HOLDINGS, INC.  2834.0  10-Q                  1   \n",
       "\n",
       "        broad_cat     version_y                       plabel_proc  \\\n",
       "0          IntExp  us-gaap/2018  write off of debt issuance costs   \n",
       "1          IntExp  us-gaap/2019  write off of debt issuance costs   \n",
       "2          IntExp  us-gaap/2020  write off of debt issuance costs   \n",
       "3          IntExp  us-gaap/2021  write off of debt issuance costs   \n",
       "4          IntExp  us-gaap/2022  write off of debt issuance costs   \n",
       "...           ...           ...                               ...   \n",
       "1117035     OpExp  us-gaap/2018                         accretion   \n",
       "1117036     OpExp  us-gaap/2019                         accretion   \n",
       "1117037     OpExp  us-gaap/2020                         accretion   \n",
       "1117038     OpExp  us-gaap/2021                         accretion   \n",
       "1117039     OpExp  us-gaap/2022                         accretion   \n",
       "\n",
       "        y_actual_broad_cat y_pred_broad_cat  broad_cat_pred  \n",
       "0                        0                0          IntExp  \n",
       "1                        0                0          IntExp  \n",
       "2                        0                0          IntExp  \n",
       "3                        0                0          IntExp  \n",
       "4                        0                0          IntExp  \n",
       "...                    ...              ...             ...  \n",
       "1117035                  3                3           OpExp  \n",
       "1117036                  3                3           OpExp  \n",
       "1117037                  3                3           OpExp  \n",
       "1117038                  3                3           OpExp  \n",
       "1117039                  3                3           OpExp  \n",
       "\n",
       "[1117040 rows x 22 columns]"
      ]
     },
     "execution_count": 58,
     "metadata": {},
     "output_type": "execute_result"
    }
   ],
   "source": [
    "df_focus"
   ]
  },
  {
   "cell_type": "code",
   "execution_count": null,
   "id": "c92b1a8c-417b-4f62-bfe7-ddea808a4dc3",
   "metadata": {},
   "outputs": [],
   "source": []
  },
  {
   "cell_type": "markdown",
   "id": "f944d12e",
   "metadata": {},
   "source": [
    "Keeping all columns so each record is a line item"
   ]
  },
  {
   "cell_type": "code",
   "execution_count": 112,
   "id": "36d88c50",
   "metadata": {
    "ExecuteTime": {
     "end_time": "2023-07-29T18:56:57.130024Z",
     "start_time": "2023-07-29T18:56:57.115280Z"
    }
   },
   "outputs": [],
   "source": [
    "# # Remove unneeded columns\n",
    "# df_focus.drop([\"adsh\", \"report\", \"line\", \"stmt\", \"inpth\", \"version_x\", \"prole\", \"plabel\", \"version_y\" ,\"negating\", \"cik\",\"sic\", \"name\", \"form\",\n",
    "#               \"Revenue_max_locdum\", \"COGS_max_locdum\", \"OpInc_max_locdum\"], axis = 1, inplace = True)"
   ]
  },
  {
   "cell_type": "code",
   "execution_count": 59,
   "id": "aa66f09e",
   "metadata": {
    "ExecuteTime": {
     "end_time": "2023-07-29T18:56:57.145303Z",
     "start_time": "2023-07-29T18:56:57.135422Z"
    }
   },
   "outputs": [
    {
     "data": {
      "text/plain": [
       "Index(['Unnamed: 0', 'adsh', 'report', 'line', 'stmt', 'inpth', 'tag',\n",
       "       'version_x', 'prole', 'plabel', 'negating', 'cik', 'name', 'sic',\n",
       "       'form', 'aggregation_level', 'broad_cat', 'version_y', 'plabel_proc',\n",
       "       'y_actual_broad_cat', 'y_pred_broad_cat', 'broad_cat_pred'],\n",
       "      dtype='object')"
      ]
     },
     "execution_count": 59,
     "metadata": {},
     "output_type": "execute_result"
    }
   ],
   "source": [
    "# columns we are working with\n",
    "df_focus.columns"
   ]
  },
  {
   "cell_type": "markdown",
   "id": "ac4c3ef2",
   "metadata": {},
   "source": [
    "## Remove duplicates"
   ]
  },
  {
   "cell_type": "code",
   "execution_count": 60,
   "id": "e15508a2",
   "metadata": {
    "ExecuteTime": {
     "end_time": "2023-07-29T18:57:02.038056Z",
     "start_time": "2023-07-29T18:56:57.146444Z"
    }
   },
   "outputs": [
    {
     "data": {
      "text/plain": [
       "45"
      ]
     },
     "execution_count": 60,
     "metadata": {},
     "output_type": "execute_result"
    }
   ],
   "source": [
    "# check duplicates\n",
    "df_focus.duplicated().sum()"
   ]
  },
  {
   "cell_type": "code",
   "execution_count": 61,
   "id": "ac4070b2",
   "metadata": {
    "ExecuteTime": {
     "end_time": "2023-07-29T18:57:06.758884Z",
     "start_time": "2023-07-29T18:57:02.039022Z"
    }
   },
   "outputs": [],
   "source": [
    "# remove duplicates\n",
    "df_focus.drop_duplicates(inplace = True)"
   ]
  },
  {
   "cell_type": "markdown",
   "id": "6a9c7ee3",
   "metadata": {},
   "source": [
    "## Reindex"
   ]
  },
  {
   "cell_type": "code",
   "execution_count": 62,
   "id": "af4aecb9",
   "metadata": {
    "ExecuteTime": {
     "end_time": "2023-07-29T18:57:06.916012Z",
     "start_time": "2023-07-29T18:57:06.758884Z"
    }
   },
   "outputs": [
    {
     "data": {
      "text/plain": [
       "0"
      ]
     },
     "execution_count": 62,
     "metadata": {},
     "output_type": "execute_result"
    }
   ],
   "source": [
    "# check duplicated indices\n",
    "df_focus.index.duplicated().sum()"
   ]
  },
  {
   "cell_type": "code",
   "execution_count": 63,
   "id": "55d840c8",
   "metadata": {
    "ExecuteTime": {
     "end_time": "2023-07-29T18:57:06.931412Z",
     "start_time": "2023-07-29T18:57:06.918205Z"
    }
   },
   "outputs": [],
   "source": [
    "# reindex\n",
    "\n",
    "df_focus.reset_index(drop = True, inplace = True)"
   ]
  },
  {
   "cell_type": "markdown",
   "id": "42c9db37",
   "metadata": {},
   "source": [
    "## Hierarchy file reading: upto disagg 5"
   ]
  },
  {
   "cell_type": "markdown",
   "id": "5e1624e0",
   "metadata": {},
   "source": [
    "### Reading files"
   ]
  },
  {
   "cell_type": "code",
   "execution_count": 64,
   "id": "79206bac",
   "metadata": {
    "ExecuteTime": {
     "end_time": "2023-07-29T18:57:06.947021Z",
     "start_time": "2023-07-29T18:57:06.932456Z"
    }
   },
   "outputs": [],
   "source": [
    "# set path\n",
    "\n",
    "path = os.getcwd()\n",
    "path = path.replace(\"\\\\\\\\\", \"\\\\\")\n",
    "path = path + r'/disagg'"
   ]
  },
  {
   "cell_type": "code",
   "execution_count": 65,
   "id": "471f7bd3",
   "metadata": {
    "ExecuteTime": {
     "end_time": "2023-07-29T18:57:06.963142Z",
     "start_time": "2023-07-29T18:57:06.950344Z"
    }
   },
   "outputs": [
    {
     "data": {
      "text/plain": [
       "['NetCashProvidedByUsedInFinancingActivities_XBRL_disagg.csv',\n",
       " 'NetCashProvidedByUsedInInvestingActivities_XBRL_disagg.csv',\n",
       " 'NetCashProvidedByUsedInOperatingActivities_XBRL_disagg.csv']"
      ]
     },
     "execution_count": 65,
     "metadata": {},
     "output_type": "execute_result"
    }
   ],
   "source": [
    "os.listdir(path)"
   ]
  },
  {
   "cell_type": "code",
   "execution_count": 66,
   "id": "49287666",
   "metadata": {
    "ExecuteTime": {
     "end_time": "2023-07-29T18:57:07.105735Z",
     "start_time": "2023-07-29T18:57:06.965177Z"
    }
   },
   "outputs": [
    {
     "name": "stdout",
     "output_type": "stream",
     "text": [
      "number of duplicates in NetCashProvidedByUsedInFinancingActivities_XBRL_disagg.csv : 0\n",
      "number of duplicates in NetCashProvidedByUsedInInvestingActivities_XBRL_disagg.csv : 0\n",
      "number of duplicates in NetCashProvidedByUsedInOperatingActivities_XBRL_disagg.csv : 0\n",
      "CPU times: total: 31.2 ms\n",
      "Wall time: 27 ms\n"
     ]
    }
   ],
   "source": [
    "%%time\n",
    "\n",
    "# Read hierarchy files and create dataframe\n",
    "\n",
    "df_hier = pd.DataFrame() # create dataframe to update\n",
    "\n",
    "for filename in os.listdir(path): # loop through files\n",
    "    \n",
    "    if filename.endswith('.csv'):\n",
    "        df_temp = pd.read_csv(path + \"/\" + filename)\n",
    "        \n",
    "        # sanity check: duplicated\n",
    "        print(\"number of duplicates in\", filename, \":\", df_temp.duplicated().sum())\n",
    "        \n",
    "        df_hier = pd.concat([df_hier, df_temp], axis = 0)\n",
    "        \n",
    "        \n"
   ]
  },
  {
   "cell_type": "code",
   "execution_count": 67,
   "id": "67c52ecb",
   "metadata": {
    "ExecuteTime": {
     "end_time": "2023-07-29T18:57:07.121671Z",
     "start_time": "2023-07-29T18:57:07.108708Z"
    }
   },
   "outputs": [
    {
     "data": {
      "text/plain": [
       "0"
      ]
     },
     "execution_count": 67,
     "metadata": {},
     "output_type": "execute_result"
    }
   ],
   "source": [
    "# sanity check: duplicates\n",
    "\n",
    "df_hier.duplicated().sum()"
   ]
  },
  {
   "cell_type": "code",
   "execution_count": 68,
   "id": "5ec1cc96",
   "metadata": {
    "ExecuteTime": {
     "end_time": "2023-07-29T18:57:07.183903Z",
     "start_time": "2023-07-29T18:57:07.122635Z"
    }
   },
   "outputs": [
    {
     "data": {
      "text/html": [
       "<div>\n",
       "<style scoped>\n",
       "    .dataframe tbody tr th:only-of-type {\n",
       "        vertical-align: middle;\n",
       "    }\n",
       "\n",
       "    .dataframe tbody tr th {\n",
       "        vertical-align: top;\n",
       "    }\n",
       "\n",
       "    .dataframe thead th {\n",
       "        text-align: right;\n",
       "    }\n",
       "</style>\n",
       "<table border=\"1\" class=\"dataframe\">\n",
       "  <thead>\n",
       "    <tr style=\"text-align: right;\">\n",
       "      <th></th>\n",
       "      <th>disagg_1</th>\n",
       "      <th>disagg_2</th>\n",
       "      <th>disagg_3</th>\n",
       "      <th>disagg_4</th>\n",
       "      <th>disagg_5</th>\n",
       "      <th>disagg_6</th>\n",
       "      <th>disagg_7</th>\n",
       "      <th>disagg_8</th>\n",
       "      <th>disagg_9</th>\n",
       "    </tr>\n",
       "  </thead>\n",
       "  <tbody>\n",
       "    <tr>\n",
       "      <th>0</th>\n",
       "      <td>NetCashProvidedByUsedInFinancingActivities</td>\n",
       "      <td>CashProvidedByUsedInFinancingActivitiesDiscont...</td>\n",
       "      <td>NaN</td>\n",
       "      <td>NaN</td>\n",
       "      <td>NaN</td>\n",
       "      <td>NaN</td>\n",
       "      <td>NaN</td>\n",
       "      <td>NaN</td>\n",
       "      <td>NaN</td>\n",
       "    </tr>\n",
       "    <tr>\n",
       "      <th>1</th>\n",
       "      <td>NetCashProvidedByUsedInFinancingActivities</td>\n",
       "      <td>NetCashProvidedByUsedInFinancingActivitiesCont...</td>\n",
       "      <td>DistributionMadeToLimitedLiabilityCompanyLLCMe...</td>\n",
       "      <td>NaN</td>\n",
       "      <td>NaN</td>\n",
       "      <td>NaN</td>\n",
       "      <td>NaN</td>\n",
       "      <td>NaN</td>\n",
       "      <td>NaN</td>\n",
       "    </tr>\n",
       "    <tr>\n",
       "      <th>2</th>\n",
       "      <td>NetCashProvidedByUsedInFinancingActivities</td>\n",
       "      <td>NetCashProvidedByUsedInFinancingActivitiesCont...</td>\n",
       "      <td>DistributionMadeToLimitedPartnerCashDistributi...</td>\n",
       "      <td>NaN</td>\n",
       "      <td>NaN</td>\n",
       "      <td>NaN</td>\n",
       "      <td>NaN</td>\n",
       "      <td>NaN</td>\n",
       "      <td>NaN</td>\n",
       "    </tr>\n",
       "    <tr>\n",
       "      <th>3</th>\n",
       "      <td>NetCashProvidedByUsedInFinancingActivities</td>\n",
       "      <td>NetCashProvidedByUsedInFinancingActivitiesCont...</td>\n",
       "      <td>IncreaseDecreaseInAdvancePaymentsByBorrowersFo...</td>\n",
       "      <td>NaN</td>\n",
       "      <td>NaN</td>\n",
       "      <td>NaN</td>\n",
       "      <td>NaN</td>\n",
       "      <td>NaN</td>\n",
       "      <td>NaN</td>\n",
       "    </tr>\n",
       "    <tr>\n",
       "      <th>4</th>\n",
       "      <td>NetCashProvidedByUsedInFinancingActivities</td>\n",
       "      <td>NetCashProvidedByUsedInFinancingActivitiesCont...</td>\n",
       "      <td>IncreaseDecreaseInDeposits</td>\n",
       "      <td>IncreaseDecreaseInDemandDeposits</td>\n",
       "      <td>NaN</td>\n",
       "      <td>NaN</td>\n",
       "      <td>NaN</td>\n",
       "      <td>NaN</td>\n",
       "      <td>NaN</td>\n",
       "    </tr>\n",
       "  </tbody>\n",
       "</table>\n",
       "</div>"
      ],
      "text/plain": [
       "                                     disagg_1  \\\n",
       "0  NetCashProvidedByUsedInFinancingActivities   \n",
       "1  NetCashProvidedByUsedInFinancingActivities   \n",
       "2  NetCashProvidedByUsedInFinancingActivities   \n",
       "3  NetCashProvidedByUsedInFinancingActivities   \n",
       "4  NetCashProvidedByUsedInFinancingActivities   \n",
       "\n",
       "                                            disagg_2  \\\n",
       "0  CashProvidedByUsedInFinancingActivitiesDiscont...   \n",
       "1  NetCashProvidedByUsedInFinancingActivitiesCont...   \n",
       "2  NetCashProvidedByUsedInFinancingActivitiesCont...   \n",
       "3  NetCashProvidedByUsedInFinancingActivitiesCont...   \n",
       "4  NetCashProvidedByUsedInFinancingActivitiesCont...   \n",
       "\n",
       "                                            disagg_3  \\\n",
       "0                                                NaN   \n",
       "1  DistributionMadeToLimitedLiabilityCompanyLLCMe...   \n",
       "2  DistributionMadeToLimitedPartnerCashDistributi...   \n",
       "3  IncreaseDecreaseInAdvancePaymentsByBorrowersFo...   \n",
       "4                         IncreaseDecreaseInDeposits   \n",
       "\n",
       "                           disagg_4 disagg_5 disagg_6 disagg_7 disagg_8  \\\n",
       "0                               NaN      NaN      NaN      NaN      NaN   \n",
       "1                               NaN      NaN      NaN      NaN      NaN   \n",
       "2                               NaN      NaN      NaN      NaN      NaN   \n",
       "3                               NaN      NaN      NaN      NaN      NaN   \n",
       "4  IncreaseDecreaseInDemandDeposits      NaN      NaN      NaN      NaN   \n",
       "\n",
       "  disagg_9  \n",
       "0      NaN  \n",
       "1      NaN  \n",
       "2      NaN  \n",
       "3      NaN  \n",
       "4      NaN  "
      ]
     },
     "metadata": {},
     "output_type": "display_data"
    },
    {
     "name": "stdout",
     "output_type": "stream",
     "text": [
      "<class 'pandas.core.frame.DataFrame'>\n",
      "Int64Index: 585 entries, 0 to 272\n",
      "Data columns (total 9 columns):\n",
      " #   Column    Non-Null Count  Dtype \n",
      "---  ------    --------------  ----- \n",
      " 0   disagg_1  585 non-null    object\n",
      " 1   disagg_2  585 non-null    object\n",
      " 2   disagg_3  583 non-null    object\n",
      " 3   disagg_4  534 non-null    object\n",
      " 4   disagg_5  436 non-null    object\n",
      " 5   disagg_6  270 non-null    object\n",
      " 6   disagg_7  111 non-null    object\n",
      " 7   disagg_8  39 non-null     object\n",
      " 8   disagg_9  2 non-null      object\n",
      "dtypes: object(9)\n",
      "memory usage: 45.7+ KB\n"
     ]
    },
    {
     "data": {
      "text/plain": [
       "None"
      ]
     },
     "metadata": {},
     "output_type": "display_data"
    }
   ],
   "source": [
    "# view dataframe\n",
    "\n",
    "display(df_hier.head())\n",
    "display(df_hier.info())"
   ]
  },
  {
   "cell_type": "markdown",
   "id": "86728b09",
   "metadata": {},
   "source": [
    "### Cleaning"
   ]
  },
  {
   "cell_type": "code",
   "execution_count": 69,
   "id": "4dc8d2f5",
   "metadata": {
    "ExecuteTime": {
     "end_time": "2023-07-29T18:57:07.199412Z",
     "start_time": "2023-07-29T18:57:07.184935Z"
    }
   },
   "outputs": [],
   "source": [
    "# basic cleaning\n",
    "\n",
    "for col in df_hier.columns:\n",
    "    df_hier[col] = df_hier[col].str.strip()\n",
    "    "
   ]
  },
  {
   "cell_type": "code",
   "execution_count": 70,
   "id": "44c6a113-63e8-49fa-8ba6-e7c292b71b47",
   "metadata": {},
   "outputs": [
    {
     "data": {
      "text/html": [
       "<div>\n",
       "<style scoped>\n",
       "    .dataframe tbody tr th:only-of-type {\n",
       "        vertical-align: middle;\n",
       "    }\n",
       "\n",
       "    .dataframe tbody tr th {\n",
       "        vertical-align: top;\n",
       "    }\n",
       "\n",
       "    .dataframe thead th {\n",
       "        text-align: right;\n",
       "    }\n",
       "</style>\n",
       "<table border=\"1\" class=\"dataframe\">\n",
       "  <thead>\n",
       "    <tr style=\"text-align: right;\">\n",
       "      <th></th>\n",
       "      <th>disagg_1</th>\n",
       "      <th>disagg_2</th>\n",
       "      <th>disagg_3</th>\n",
       "      <th>disagg_4</th>\n",
       "      <th>disagg_5</th>\n",
       "      <th>disagg_6</th>\n",
       "      <th>disagg_7</th>\n",
       "      <th>disagg_8</th>\n",
       "      <th>disagg_9</th>\n",
       "    </tr>\n",
       "  </thead>\n",
       "  <tbody>\n",
       "    <tr>\n",
       "      <th>0</th>\n",
       "      <td>NetCashProvidedByUsedInFinancingActivities</td>\n",
       "      <td>CashProvidedByUsedInFinancingActivitiesDiscont...</td>\n",
       "      <td>NaN</td>\n",
       "      <td>NaN</td>\n",
       "      <td>NaN</td>\n",
       "      <td>NaN</td>\n",
       "      <td>NaN</td>\n",
       "      <td>NaN</td>\n",
       "      <td>NaN</td>\n",
       "    </tr>\n",
       "    <tr>\n",
       "      <th>1</th>\n",
       "      <td>NetCashProvidedByUsedInFinancingActivities</td>\n",
       "      <td>NetCashProvidedByUsedInFinancingActivitiesCont...</td>\n",
       "      <td>DistributionMadeToLimitedLiabilityCompanyLLCMe...</td>\n",
       "      <td>NaN</td>\n",
       "      <td>NaN</td>\n",
       "      <td>NaN</td>\n",
       "      <td>NaN</td>\n",
       "      <td>NaN</td>\n",
       "      <td>NaN</td>\n",
       "    </tr>\n",
       "    <tr>\n",
       "      <th>2</th>\n",
       "      <td>NetCashProvidedByUsedInFinancingActivities</td>\n",
       "      <td>NetCashProvidedByUsedInFinancingActivitiesCont...</td>\n",
       "      <td>DistributionMadeToLimitedPartnerCashDistributi...</td>\n",
       "      <td>NaN</td>\n",
       "      <td>NaN</td>\n",
       "      <td>NaN</td>\n",
       "      <td>NaN</td>\n",
       "      <td>NaN</td>\n",
       "      <td>NaN</td>\n",
       "    </tr>\n",
       "    <tr>\n",
       "      <th>3</th>\n",
       "      <td>NetCashProvidedByUsedInFinancingActivities</td>\n",
       "      <td>NetCashProvidedByUsedInFinancingActivitiesCont...</td>\n",
       "      <td>IncreaseDecreaseInAdvancePaymentsByBorrowersFo...</td>\n",
       "      <td>NaN</td>\n",
       "      <td>NaN</td>\n",
       "      <td>NaN</td>\n",
       "      <td>NaN</td>\n",
       "      <td>NaN</td>\n",
       "      <td>NaN</td>\n",
       "    </tr>\n",
       "    <tr>\n",
       "      <th>4</th>\n",
       "      <td>NetCashProvidedByUsedInFinancingActivities</td>\n",
       "      <td>NetCashProvidedByUsedInFinancingActivitiesCont...</td>\n",
       "      <td>IncreaseDecreaseInDeposits</td>\n",
       "      <td>IncreaseDecreaseInDemandDeposits</td>\n",
       "      <td>NaN</td>\n",
       "      <td>NaN</td>\n",
       "      <td>NaN</td>\n",
       "      <td>NaN</td>\n",
       "      <td>NaN</td>\n",
       "    </tr>\n",
       "    <tr>\n",
       "      <th>...</th>\n",
       "      <td>...</td>\n",
       "      <td>...</td>\n",
       "      <td>...</td>\n",
       "      <td>...</td>\n",
       "      <td>...</td>\n",
       "      <td>...</td>\n",
       "      <td>...</td>\n",
       "      <td>...</td>\n",
       "      <td>...</td>\n",
       "    </tr>\n",
       "    <tr>\n",
       "      <th>268</th>\n",
       "      <td>NetCashProvidedByUsedInOperatingActivities</td>\n",
       "      <td>AdjustmentsToReconcileNetIncomeLossToCashProvi...</td>\n",
       "      <td>PaymentsForProceedsFromOtherDeposits</td>\n",
       "      <td>PaymentsForOtherDeposits</td>\n",
       "      <td>NaN</td>\n",
       "      <td>NaN</td>\n",
       "      <td>NaN</td>\n",
       "      <td>NaN</td>\n",
       "      <td>NaN</td>\n",
       "    </tr>\n",
       "    <tr>\n",
       "      <th>269</th>\n",
       "      <td>NetCashProvidedByUsedInOperatingActivities</td>\n",
       "      <td>AdjustmentsToReconcileNetIncomeLossToCashProvi...</td>\n",
       "      <td>PaymentsForProceedsFromOtherDeposits</td>\n",
       "      <td>ProceedsFromOtherDeposits</td>\n",
       "      <td>NaN</td>\n",
       "      <td>NaN</td>\n",
       "      <td>NaN</td>\n",
       "      <td>NaN</td>\n",
       "      <td>NaN</td>\n",
       "    </tr>\n",
       "    <tr>\n",
       "      <th>270</th>\n",
       "      <td>NetCashProvidedByUsedInOperatingActivities</td>\n",
       "      <td>AdjustmentsToReconcileNetIncomeLossToCashProvi...</td>\n",
       "      <td>PaymentsForProceedsFromTenantAllowance</td>\n",
       "      <td>NaN</td>\n",
       "      <td>NaN</td>\n",
       "      <td>NaN</td>\n",
       "      <td>NaN</td>\n",
       "      <td>NaN</td>\n",
       "      <td>NaN</td>\n",
       "    </tr>\n",
       "    <tr>\n",
       "      <th>271</th>\n",
       "      <td>NetCashProvidedByUsedInOperatingActivities</td>\n",
       "      <td>ProfitLoss</td>\n",
       "      <td>IncomeLossIncludingPortionAttributableToNoncon...</td>\n",
       "      <td>NaN</td>\n",
       "      <td>NaN</td>\n",
       "      <td>NaN</td>\n",
       "      <td>NaN</td>\n",
       "      <td>NaN</td>\n",
       "      <td>NaN</td>\n",
       "    </tr>\n",
       "    <tr>\n",
       "      <th>272</th>\n",
       "      <td>NetCashProvidedByUsedInOperatingActivities</td>\n",
       "      <td>ProfitLoss</td>\n",
       "      <td>IncomeTaxExpenseBenefitContinuingOperationsDis...</td>\n",
       "      <td>NaN</td>\n",
       "      <td>NaN</td>\n",
       "      <td>NaN</td>\n",
       "      <td>NaN</td>\n",
       "      <td>NaN</td>\n",
       "      <td>NaN</td>\n",
       "    </tr>\n",
       "  </tbody>\n",
       "</table>\n",
       "<p>585 rows × 9 columns</p>\n",
       "</div>"
      ],
      "text/plain": [
       "                                       disagg_1  \\\n",
       "0    NetCashProvidedByUsedInFinancingActivities   \n",
       "1    NetCashProvidedByUsedInFinancingActivities   \n",
       "2    NetCashProvidedByUsedInFinancingActivities   \n",
       "3    NetCashProvidedByUsedInFinancingActivities   \n",
       "4    NetCashProvidedByUsedInFinancingActivities   \n",
       "..                                          ...   \n",
       "268  NetCashProvidedByUsedInOperatingActivities   \n",
       "269  NetCashProvidedByUsedInOperatingActivities   \n",
       "270  NetCashProvidedByUsedInOperatingActivities   \n",
       "271  NetCashProvidedByUsedInOperatingActivities   \n",
       "272  NetCashProvidedByUsedInOperatingActivities   \n",
       "\n",
       "                                              disagg_2  \\\n",
       "0    CashProvidedByUsedInFinancingActivitiesDiscont...   \n",
       "1    NetCashProvidedByUsedInFinancingActivitiesCont...   \n",
       "2    NetCashProvidedByUsedInFinancingActivitiesCont...   \n",
       "3    NetCashProvidedByUsedInFinancingActivitiesCont...   \n",
       "4    NetCashProvidedByUsedInFinancingActivitiesCont...   \n",
       "..                                                 ...   \n",
       "268  AdjustmentsToReconcileNetIncomeLossToCashProvi...   \n",
       "269  AdjustmentsToReconcileNetIncomeLossToCashProvi...   \n",
       "270  AdjustmentsToReconcileNetIncomeLossToCashProvi...   \n",
       "271                                         ProfitLoss   \n",
       "272                                         ProfitLoss   \n",
       "\n",
       "                                              disagg_3  \\\n",
       "0                                                  NaN   \n",
       "1    DistributionMadeToLimitedLiabilityCompanyLLCMe...   \n",
       "2    DistributionMadeToLimitedPartnerCashDistributi...   \n",
       "3    IncreaseDecreaseInAdvancePaymentsByBorrowersFo...   \n",
       "4                           IncreaseDecreaseInDeposits   \n",
       "..                                                 ...   \n",
       "268               PaymentsForProceedsFromOtherDeposits   \n",
       "269               PaymentsForProceedsFromOtherDeposits   \n",
       "270             PaymentsForProceedsFromTenantAllowance   \n",
       "271  IncomeLossIncludingPortionAttributableToNoncon...   \n",
       "272  IncomeTaxExpenseBenefitContinuingOperationsDis...   \n",
       "\n",
       "                             disagg_4 disagg_5 disagg_6 disagg_7 disagg_8  \\\n",
       "0                                 NaN      NaN      NaN      NaN      NaN   \n",
       "1                                 NaN      NaN      NaN      NaN      NaN   \n",
       "2                                 NaN      NaN      NaN      NaN      NaN   \n",
       "3                                 NaN      NaN      NaN      NaN      NaN   \n",
       "4    IncreaseDecreaseInDemandDeposits      NaN      NaN      NaN      NaN   \n",
       "..                                ...      ...      ...      ...      ...   \n",
       "268          PaymentsForOtherDeposits      NaN      NaN      NaN      NaN   \n",
       "269         ProceedsFromOtherDeposits      NaN      NaN      NaN      NaN   \n",
       "270                               NaN      NaN      NaN      NaN      NaN   \n",
       "271                               NaN      NaN      NaN      NaN      NaN   \n",
       "272                               NaN      NaN      NaN      NaN      NaN   \n",
       "\n",
       "    disagg_9  \n",
       "0        NaN  \n",
       "1        NaN  \n",
       "2        NaN  \n",
       "3        NaN  \n",
       "4        NaN  \n",
       "..       ...  \n",
       "268      NaN  \n",
       "269      NaN  \n",
       "270      NaN  \n",
       "271      NaN  \n",
       "272      NaN  \n",
       "\n",
       "[585 rows x 9 columns]"
      ]
     },
     "execution_count": 70,
     "metadata": {},
     "output_type": "execute_result"
    }
   ],
   "source": [
    "df_hier"
   ]
  },
  {
   "cell_type": "markdown",
   "id": "d5c0020e",
   "metadata": {},
   "source": [
    "### Max disagg levels"
   ]
  },
  {
   "cell_type": "code",
   "execution_count": 71,
   "id": "efc3e5b3",
   "metadata": {
    "ExecuteTime": {
     "end_time": "2023-07-29T18:57:07.215372Z",
     "start_time": "2023-07-29T18:57:07.200414Z"
    }
   },
   "outputs": [],
   "source": [
    "# set max disagg level\n",
    "\n",
    "max_disagg = 5\n",
    "#max_disagg = df_hier.shape[1]\n",
    "\n"
   ]
  },
  {
   "cell_type": "code",
   "execution_count": 72,
   "id": "985b856c",
   "metadata": {
    "ExecuteTime": {
     "end_time": "2023-07-29T18:57:07.231332Z",
     "start_time": "2023-07-29T18:57:07.216369Z"
    }
   },
   "outputs": [],
   "source": [
    "# keep records upto disagg max_disagg\n",
    "\n",
    "df_hier = df_hier.iloc[:,:max_disagg].copy()"
   ]
  },
  {
   "cell_type": "markdown",
   "id": "fea84a76",
   "metadata": {},
   "source": [
    "Note, after selecting a particular disagg level, there are going to be duplicates in the file. Reason being, for duplicated rows, subsequent columns will have different disaggregated values. But since we cut off the later columns, we now are left with duplicates. We need to remove the same"
   ]
  },
  {
   "cell_type": "code",
   "execution_count": 73,
   "id": "ae85ed7c",
   "metadata": {
    "ExecuteTime": {
     "end_time": "2023-07-29T18:57:07.247289Z",
     "start_time": "2023-07-29T18:57:07.232329Z"
    }
   },
   "outputs": [
    {
     "name": "stdout",
     "output_type": "stream",
     "text": [
      "number of duplicates we drop 220\n"
     ]
    }
   ],
   "source": [
    "# Remove duplicates\n",
    "\n",
    "print(\"number of duplicates we drop\", df_hier.duplicated().sum())\n",
    "\n",
    "## drop the duplicates\n",
    "df_hier.drop_duplicates(inplace = True)"
   ]
  },
  {
   "cell_type": "code",
   "execution_count": 74,
   "id": "3def725a",
   "metadata": {
    "ExecuteTime": {
     "end_time": "2023-07-29T18:57:07.263246Z",
     "start_time": "2023-07-29T18:57:07.248287Z"
    }
   },
   "outputs": [
    {
     "name": "stdout",
     "output_type": "stream",
     "text": [
      "1\n",
      "2\n",
      "3\n",
      "4\n",
      "5\n"
     ]
    }
   ],
   "source": [
    "# get a list of all unique values across aggregation levels\n",
    "\n",
    "\n",
    "unique_list = []\n",
    "\n",
    "for i in range(1, max_disagg+1):\n",
    "    print(i)\n",
    "    unique_list = unique_list + list(df_hier[\"disagg_\" + str(i)].dropna().unique())\n",
    "    \n",
    "\n",
    "    "
   ]
  },
  {
   "cell_type": "code",
   "execution_count": 75,
   "id": "99562c85",
   "metadata": {
    "ExecuteTime": {
     "end_time": "2023-07-29T18:57:07.279204Z",
     "start_time": "2023-07-29T18:57:07.266240Z"
    }
   },
   "outputs": [
    {
     "name": "stdout",
     "output_type": "stream",
     "text": [
      "Dataframe is saved into to disk successfully Using Pickle\n"
     ]
    }
   ],
   "source": [
    "### Export dataframe\n",
    "\n",
    "object_filename = \"df_hierarchy.sav\"\n",
    "saved_df = pickle.dump(df_hier, open(object_filename,'wb'))\n",
    "print('Dataframe is saved into to disk successfully Using Pickle')"
   ]
  },
  {
   "cell_type": "markdown",
   "id": "238d25f6",
   "metadata": {},
   "source": [
    "**Stepwise Explaination:-**\n",
    "\n",
    "- first of all get an aggregation level column, that is needed for simplicity and interpretability\n",
    "- then create column for every disagg level. So for lvl 5, see if the aggregation level is 5, and only keep the value for those records. For lvl 4, keep aggregation level 4 and 5, then convert 5 to 4....and so on\n",
    "- then we need to check for aggregation level and then decide if we select those records or not\n"
   ]
  },
  {
   "cell_type": "code",
   "execution_count": null,
   "id": "4f1c04dd-739c-48d2-a251-cb4551f7bf5b",
   "metadata": {},
   "outputs": [],
   "source": []
  },
  {
   "cell_type": "markdown",
   "id": "48d2ae20",
   "metadata": {},
   "source": [
    "## Get the highest disaggregation level for every record"
   ]
  },
  {
   "cell_type": "code",
   "execution_count": 76,
   "id": "7dd0be9f",
   "metadata": {
    "ExecuteTime": {
     "end_time": "2023-07-29T18:57:07.892804Z",
     "start_time": "2023-07-29T18:57:07.281200Z"
    }
   },
   "outputs": [
    {
     "name": "stdout",
     "output_type": "stream",
     "text": [
      "1\n",
      "2\n",
      "3\n",
      "4\n",
      "5\n"
     ]
    }
   ],
   "source": [
    "\n",
    "# loop through disaggregation levels\n",
    "\n",
    "max_disagg = 5\n",
    "\n",
    "for i in range(1, max_disagg+1):\n",
    "    print(i)\n",
    "    disagg_vals = list(df_hier[\"disagg_\" + str(i)].unique())\n",
    "    df_focus.loc[df_focus[\"tag\"].isin(disagg_vals), \"disagg_level\"] = i\n",
    "\n",
    "\n"
   ]
  },
  {
   "cell_type": "code",
   "execution_count": 77,
   "id": "e392c278",
   "metadata": {},
   "outputs": [
    {
     "data": {
      "text/html": [
       "<div>\n",
       "<style scoped>\n",
       "    .dataframe tbody tr th:only-of-type {\n",
       "        vertical-align: middle;\n",
       "    }\n",
       "\n",
       "    .dataframe tbody tr th {\n",
       "        vertical-align: top;\n",
       "    }\n",
       "\n",
       "    .dataframe thead th {\n",
       "        text-align: right;\n",
       "    }\n",
       "</style>\n",
       "<table border=\"1\" class=\"dataframe\">\n",
       "  <thead>\n",
       "    <tr style=\"text-align: right;\">\n",
       "      <th></th>\n",
       "      <th>Unnamed: 0</th>\n",
       "      <th>adsh</th>\n",
       "      <th>report</th>\n",
       "      <th>line</th>\n",
       "      <th>stmt</th>\n",
       "      <th>inpth</th>\n",
       "      <th>tag</th>\n",
       "      <th>version_x</th>\n",
       "      <th>prole</th>\n",
       "      <th>plabel</th>\n",
       "      <th>...</th>\n",
       "      <th>sic</th>\n",
       "      <th>form</th>\n",
       "      <th>aggregation_level</th>\n",
       "      <th>broad_cat</th>\n",
       "      <th>version_y</th>\n",
       "      <th>plabel_proc</th>\n",
       "      <th>y_actual_broad_cat</th>\n",
       "      <th>y_pred_broad_cat</th>\n",
       "      <th>broad_cat_pred</th>\n",
       "      <th>disagg_level</th>\n",
       "    </tr>\n",
       "  </thead>\n",
       "  <tbody>\n",
       "    <tr>\n",
       "      <th>0</th>\n",
       "      <td>1884297</td>\n",
       "      <td>0001434728-19-000051</td>\n",
       "      <td>7</td>\n",
       "      <td>6</td>\n",
       "      <td>CF</td>\n",
       "      <td>0</td>\n",
       "      <td>WriteOffOfDeferredDebtIssuanceCost</td>\n",
       "      <td>us-gaap/2018</td>\n",
       "      <td>terseLabel</td>\n",
       "      <td>write off of debt issuance costs</td>\n",
       "      <td>...</td>\n",
       "      <td>4941.0</td>\n",
       "      <td>10-K</td>\n",
       "      <td>1</td>\n",
       "      <td>IntExp</td>\n",
       "      <td>us-gaap/2018</td>\n",
       "      <td>write off of debt issuance costs</td>\n",
       "      <td>0</td>\n",
       "      <td>0</td>\n",
       "      <td>IntExp</td>\n",
       "      <td>NaN</td>\n",
       "    </tr>\n",
       "    <tr>\n",
       "      <th>1</th>\n",
       "      <td>1884297</td>\n",
       "      <td>0001434728-19-000051</td>\n",
       "      <td>7</td>\n",
       "      <td>6</td>\n",
       "      <td>CF</td>\n",
       "      <td>0</td>\n",
       "      <td>WriteOffOfDeferredDebtIssuanceCost</td>\n",
       "      <td>us-gaap/2018</td>\n",
       "      <td>terseLabel</td>\n",
       "      <td>write off of debt issuance costs</td>\n",
       "      <td>...</td>\n",
       "      <td>4941.0</td>\n",
       "      <td>10-K</td>\n",
       "      <td>1</td>\n",
       "      <td>IntExp</td>\n",
       "      <td>us-gaap/2019</td>\n",
       "      <td>write off of debt issuance costs</td>\n",
       "      <td>0</td>\n",
       "      <td>0</td>\n",
       "      <td>IntExp</td>\n",
       "      <td>NaN</td>\n",
       "    </tr>\n",
       "    <tr>\n",
       "      <th>2</th>\n",
       "      <td>1884297</td>\n",
       "      <td>0001434728-19-000051</td>\n",
       "      <td>7</td>\n",
       "      <td>6</td>\n",
       "      <td>CF</td>\n",
       "      <td>0</td>\n",
       "      <td>WriteOffOfDeferredDebtIssuanceCost</td>\n",
       "      <td>us-gaap/2018</td>\n",
       "      <td>terseLabel</td>\n",
       "      <td>write off of debt issuance costs</td>\n",
       "      <td>...</td>\n",
       "      <td>4941.0</td>\n",
       "      <td>10-K</td>\n",
       "      <td>1</td>\n",
       "      <td>IntExp</td>\n",
       "      <td>us-gaap/2020</td>\n",
       "      <td>write off of debt issuance costs</td>\n",
       "      <td>0</td>\n",
       "      <td>0</td>\n",
       "      <td>IntExp</td>\n",
       "      <td>NaN</td>\n",
       "    </tr>\n",
       "    <tr>\n",
       "      <th>3</th>\n",
       "      <td>1884297</td>\n",
       "      <td>0001434728-19-000051</td>\n",
       "      <td>7</td>\n",
       "      <td>6</td>\n",
       "      <td>CF</td>\n",
       "      <td>0</td>\n",
       "      <td>WriteOffOfDeferredDebtIssuanceCost</td>\n",
       "      <td>us-gaap/2018</td>\n",
       "      <td>terseLabel</td>\n",
       "      <td>write off of debt issuance costs</td>\n",
       "      <td>...</td>\n",
       "      <td>4941.0</td>\n",
       "      <td>10-K</td>\n",
       "      <td>1</td>\n",
       "      <td>IntExp</td>\n",
       "      <td>us-gaap/2021</td>\n",
       "      <td>write off of debt issuance costs</td>\n",
       "      <td>0</td>\n",
       "      <td>0</td>\n",
       "      <td>IntExp</td>\n",
       "      <td>NaN</td>\n",
       "    </tr>\n",
       "    <tr>\n",
       "      <th>4</th>\n",
       "      <td>1884297</td>\n",
       "      <td>0001434728-19-000051</td>\n",
       "      <td>7</td>\n",
       "      <td>6</td>\n",
       "      <td>CF</td>\n",
       "      <td>0</td>\n",
       "      <td>WriteOffOfDeferredDebtIssuanceCost</td>\n",
       "      <td>us-gaap/2018</td>\n",
       "      <td>terseLabel</td>\n",
       "      <td>write off of debt issuance costs</td>\n",
       "      <td>...</td>\n",
       "      <td>4941.0</td>\n",
       "      <td>10-K</td>\n",
       "      <td>1</td>\n",
       "      <td>IntExp</td>\n",
       "      <td>us-gaap/2022</td>\n",
       "      <td>write off of debt issuance costs</td>\n",
       "      <td>0</td>\n",
       "      <td>0</td>\n",
       "      <td>IntExp</td>\n",
       "      <td>NaN</td>\n",
       "    </tr>\n",
       "    <tr>\n",
       "      <th>...</th>\n",
       "      <td>...</td>\n",
       "      <td>...</td>\n",
       "      <td>...</td>\n",
       "      <td>...</td>\n",
       "      <td>...</td>\n",
       "      <td>...</td>\n",
       "      <td>...</td>\n",
       "      <td>...</td>\n",
       "      <td>...</td>\n",
       "      <td>...</td>\n",
       "      <td>...</td>\n",
       "      <td>...</td>\n",
       "      <td>...</td>\n",
       "      <td>...</td>\n",
       "      <td>...</td>\n",
       "      <td>...</td>\n",
       "      <td>...</td>\n",
       "      <td>...</td>\n",
       "      <td>...</td>\n",
       "      <td>...</td>\n",
       "      <td>...</td>\n",
       "    </tr>\n",
       "    <tr>\n",
       "      <th>1116990</th>\n",
       "      <td>12827821</td>\n",
       "      <td>0001558370-22-013196</td>\n",
       "      <td>6</td>\n",
       "      <td>21</td>\n",
       "      <td>CF</td>\n",
       "      <td>0</td>\n",
       "      <td>AccretionExpense</td>\n",
       "      <td>us-gaap/2021</td>\n",
       "      <td>terseLabel</td>\n",
       "      <td>accretion</td>\n",
       "      <td>...</td>\n",
       "      <td>2834.0</td>\n",
       "      <td>10-Q</td>\n",
       "      <td>1</td>\n",
       "      <td>OpExp</td>\n",
       "      <td>us-gaap/2018</td>\n",
       "      <td>accretion</td>\n",
       "      <td>3</td>\n",
       "      <td>3</td>\n",
       "      <td>OpExp</td>\n",
       "      <td>NaN</td>\n",
       "    </tr>\n",
       "    <tr>\n",
       "      <th>1116991</th>\n",
       "      <td>12827821</td>\n",
       "      <td>0001558370-22-013196</td>\n",
       "      <td>6</td>\n",
       "      <td>21</td>\n",
       "      <td>CF</td>\n",
       "      <td>0</td>\n",
       "      <td>AccretionExpense</td>\n",
       "      <td>us-gaap/2021</td>\n",
       "      <td>terseLabel</td>\n",
       "      <td>accretion</td>\n",
       "      <td>...</td>\n",
       "      <td>2834.0</td>\n",
       "      <td>10-Q</td>\n",
       "      <td>1</td>\n",
       "      <td>OpExp</td>\n",
       "      <td>us-gaap/2019</td>\n",
       "      <td>accretion</td>\n",
       "      <td>3</td>\n",
       "      <td>3</td>\n",
       "      <td>OpExp</td>\n",
       "      <td>NaN</td>\n",
       "    </tr>\n",
       "    <tr>\n",
       "      <th>1116992</th>\n",
       "      <td>12827821</td>\n",
       "      <td>0001558370-22-013196</td>\n",
       "      <td>6</td>\n",
       "      <td>21</td>\n",
       "      <td>CF</td>\n",
       "      <td>0</td>\n",
       "      <td>AccretionExpense</td>\n",
       "      <td>us-gaap/2021</td>\n",
       "      <td>terseLabel</td>\n",
       "      <td>accretion</td>\n",
       "      <td>...</td>\n",
       "      <td>2834.0</td>\n",
       "      <td>10-Q</td>\n",
       "      <td>1</td>\n",
       "      <td>OpExp</td>\n",
       "      <td>us-gaap/2020</td>\n",
       "      <td>accretion</td>\n",
       "      <td>3</td>\n",
       "      <td>3</td>\n",
       "      <td>OpExp</td>\n",
       "      <td>NaN</td>\n",
       "    </tr>\n",
       "    <tr>\n",
       "      <th>1116993</th>\n",
       "      <td>12827821</td>\n",
       "      <td>0001558370-22-013196</td>\n",
       "      <td>6</td>\n",
       "      <td>21</td>\n",
       "      <td>CF</td>\n",
       "      <td>0</td>\n",
       "      <td>AccretionExpense</td>\n",
       "      <td>us-gaap/2021</td>\n",
       "      <td>terseLabel</td>\n",
       "      <td>accretion</td>\n",
       "      <td>...</td>\n",
       "      <td>2834.0</td>\n",
       "      <td>10-Q</td>\n",
       "      <td>1</td>\n",
       "      <td>OpExp</td>\n",
       "      <td>us-gaap/2021</td>\n",
       "      <td>accretion</td>\n",
       "      <td>3</td>\n",
       "      <td>3</td>\n",
       "      <td>OpExp</td>\n",
       "      <td>NaN</td>\n",
       "    </tr>\n",
       "    <tr>\n",
       "      <th>1116994</th>\n",
       "      <td>12827821</td>\n",
       "      <td>0001558370-22-013196</td>\n",
       "      <td>6</td>\n",
       "      <td>21</td>\n",
       "      <td>CF</td>\n",
       "      <td>0</td>\n",
       "      <td>AccretionExpense</td>\n",
       "      <td>us-gaap/2021</td>\n",
       "      <td>terseLabel</td>\n",
       "      <td>accretion</td>\n",
       "      <td>...</td>\n",
       "      <td>2834.0</td>\n",
       "      <td>10-Q</td>\n",
       "      <td>1</td>\n",
       "      <td>OpExp</td>\n",
       "      <td>us-gaap/2022</td>\n",
       "      <td>accretion</td>\n",
       "      <td>3</td>\n",
       "      <td>3</td>\n",
       "      <td>OpExp</td>\n",
       "      <td>NaN</td>\n",
       "    </tr>\n",
       "  </tbody>\n",
       "</table>\n",
       "<p>1116995 rows × 23 columns</p>\n",
       "</div>"
      ],
      "text/plain": [
       "         Unnamed: 0                  adsh  report  line stmt  inpth  \\\n",
       "0           1884297  0001434728-19-000051       7     6   CF      0   \n",
       "1           1884297  0001434728-19-000051       7     6   CF      0   \n",
       "2           1884297  0001434728-19-000051       7     6   CF      0   \n",
       "3           1884297  0001434728-19-000051       7     6   CF      0   \n",
       "4           1884297  0001434728-19-000051       7     6   CF      0   \n",
       "...             ...                   ...     ...   ...  ...    ...   \n",
       "1116990    12827821  0001558370-22-013196       6    21   CF      0   \n",
       "1116991    12827821  0001558370-22-013196       6    21   CF      0   \n",
       "1116992    12827821  0001558370-22-013196       6    21   CF      0   \n",
       "1116993    12827821  0001558370-22-013196       6    21   CF      0   \n",
       "1116994    12827821  0001558370-22-013196       6    21   CF      0   \n",
       "\n",
       "                                        tag     version_x       prole  \\\n",
       "0        WriteOffOfDeferredDebtIssuanceCost  us-gaap/2018  terseLabel   \n",
       "1        WriteOffOfDeferredDebtIssuanceCost  us-gaap/2018  terseLabel   \n",
       "2        WriteOffOfDeferredDebtIssuanceCost  us-gaap/2018  terseLabel   \n",
       "3        WriteOffOfDeferredDebtIssuanceCost  us-gaap/2018  terseLabel   \n",
       "4        WriteOffOfDeferredDebtIssuanceCost  us-gaap/2018  terseLabel   \n",
       "...                                     ...           ...         ...   \n",
       "1116990                    AccretionExpense  us-gaap/2021  terseLabel   \n",
       "1116991                    AccretionExpense  us-gaap/2021  terseLabel   \n",
       "1116992                    AccretionExpense  us-gaap/2021  terseLabel   \n",
       "1116993                    AccretionExpense  us-gaap/2021  terseLabel   \n",
       "1116994                    AccretionExpense  us-gaap/2021  terseLabel   \n",
       "\n",
       "                                   plabel  ...     sic  form  \\\n",
       "0        write off of debt issuance costs  ...  4941.0  10-K   \n",
       "1        write off of debt issuance costs  ...  4941.0  10-K   \n",
       "2        write off of debt issuance costs  ...  4941.0  10-K   \n",
       "3        write off of debt issuance costs  ...  4941.0  10-K   \n",
       "4        write off of debt issuance costs  ...  4941.0  10-K   \n",
       "...                                   ...  ...     ...   ...   \n",
       "1116990                         accretion  ...  2834.0  10-Q   \n",
       "1116991                         accretion  ...  2834.0  10-Q   \n",
       "1116992                         accretion  ...  2834.0  10-Q   \n",
       "1116993                         accretion  ...  2834.0  10-Q   \n",
       "1116994                         accretion  ...  2834.0  10-Q   \n",
       "\n",
       "        aggregation_level  broad_cat     version_y  \\\n",
       "0                       1     IntExp  us-gaap/2018   \n",
       "1                       1     IntExp  us-gaap/2019   \n",
       "2                       1     IntExp  us-gaap/2020   \n",
       "3                       1     IntExp  us-gaap/2021   \n",
       "4                       1     IntExp  us-gaap/2022   \n",
       "...                   ...        ...           ...   \n",
       "1116990                 1      OpExp  us-gaap/2018   \n",
       "1116991                 1      OpExp  us-gaap/2019   \n",
       "1116992                 1      OpExp  us-gaap/2020   \n",
       "1116993                 1      OpExp  us-gaap/2021   \n",
       "1116994                 1      OpExp  us-gaap/2022   \n",
       "\n",
       "                              plabel_proc y_actual_broad_cat y_pred_broad_cat  \\\n",
       "0        write off of debt issuance costs                  0                0   \n",
       "1        write off of debt issuance costs                  0                0   \n",
       "2        write off of debt issuance costs                  0                0   \n",
       "3        write off of debt issuance costs                  0                0   \n",
       "4        write off of debt issuance costs                  0                0   \n",
       "...                                   ...                ...              ...   \n",
       "1116990                         accretion                  3                3   \n",
       "1116991                         accretion                  3                3   \n",
       "1116992                         accretion                  3                3   \n",
       "1116993                         accretion                  3                3   \n",
       "1116994                         accretion                  3                3   \n",
       "\n",
       "        broad_cat_pred  disagg_level  \n",
       "0               IntExp           NaN  \n",
       "1               IntExp           NaN  \n",
       "2               IntExp           NaN  \n",
       "3               IntExp           NaN  \n",
       "4               IntExp           NaN  \n",
       "...                ...           ...  \n",
       "1116990          OpExp           NaN  \n",
       "1116991          OpExp           NaN  \n",
       "1116992          OpExp           NaN  \n",
       "1116993          OpExp           NaN  \n",
       "1116994          OpExp           NaN  \n",
       "\n",
       "[1116995 rows x 23 columns]"
      ]
     },
     "execution_count": 77,
     "metadata": {},
     "output_type": "execute_result"
    }
   ],
   "source": [
    "df_focus"
   ]
  },
  {
   "cell_type": "code",
   "execution_count": 78,
   "id": "18c568da",
   "metadata": {
    "ExecuteTime": {
     "end_time": "2023-07-29T18:57:08.501373Z",
     "start_time": "2023-07-29T18:57:07.894772Z"
    }
   },
   "outputs": [
    {
     "name": "stdout",
     "output_type": "stream",
     "text": [
      "sanity check sum (should be 0): 0\n"
     ]
    }
   ],
   "source": [
    "# sanity check: see if any values are missed by checking NAs in disagg_level\n",
    "\n",
    "print(\"sanity check sum (should be 0):\", df_focus[df_focus[\"disagg_level\"].isna()][\"tag\"].isin(unique_list).sum())"
   ]
  },
  {
   "cell_type": "code",
   "execution_count": 79,
   "id": "243ef397-3ae4-4116-8873-6738b1073a19",
   "metadata": {},
   "outputs": [
    {
     "data": {
      "text/html": [
       "<div>\n",
       "<style scoped>\n",
       "    .dataframe tbody tr th:only-of-type {\n",
       "        vertical-align: middle;\n",
       "    }\n",
       "\n",
       "    .dataframe tbody tr th {\n",
       "        vertical-align: top;\n",
       "    }\n",
       "\n",
       "    .dataframe thead th {\n",
       "        text-align: right;\n",
       "    }\n",
       "</style>\n",
       "<table border=\"1\" class=\"dataframe\">\n",
       "  <thead>\n",
       "    <tr style=\"text-align: right;\">\n",
       "      <th></th>\n",
       "      <th>Unnamed: 0</th>\n",
       "      <th>adsh</th>\n",
       "      <th>report</th>\n",
       "      <th>line</th>\n",
       "      <th>stmt</th>\n",
       "      <th>inpth</th>\n",
       "      <th>tag</th>\n",
       "      <th>version_x</th>\n",
       "      <th>prole</th>\n",
       "      <th>plabel</th>\n",
       "      <th>...</th>\n",
       "      <th>sic</th>\n",
       "      <th>form</th>\n",
       "      <th>aggregation_level</th>\n",
       "      <th>broad_cat</th>\n",
       "      <th>version_y</th>\n",
       "      <th>plabel_proc</th>\n",
       "      <th>y_actual_broad_cat</th>\n",
       "      <th>y_pred_broad_cat</th>\n",
       "      <th>broad_cat_pred</th>\n",
       "      <th>disagg_level</th>\n",
       "    </tr>\n",
       "  </thead>\n",
       "  <tbody>\n",
       "    <tr>\n",
       "      <th>0</th>\n",
       "      <td>1884297</td>\n",
       "      <td>0001434728-19-000051</td>\n",
       "      <td>7</td>\n",
       "      <td>6</td>\n",
       "      <td>CF</td>\n",
       "      <td>0</td>\n",
       "      <td>WriteOffOfDeferredDebtIssuanceCost</td>\n",
       "      <td>us-gaap/2018</td>\n",
       "      <td>terseLabel</td>\n",
       "      <td>write off of debt issuance costs</td>\n",
       "      <td>...</td>\n",
       "      <td>4941.0</td>\n",
       "      <td>10-K</td>\n",
       "      <td>1</td>\n",
       "      <td>IntExp</td>\n",
       "      <td>us-gaap/2018</td>\n",
       "      <td>write off of debt issuance costs</td>\n",
       "      <td>0</td>\n",
       "      <td>0</td>\n",
       "      <td>IntExp</td>\n",
       "      <td>NaN</td>\n",
       "    </tr>\n",
       "    <tr>\n",
       "      <th>1</th>\n",
       "      <td>1884297</td>\n",
       "      <td>0001434728-19-000051</td>\n",
       "      <td>7</td>\n",
       "      <td>6</td>\n",
       "      <td>CF</td>\n",
       "      <td>0</td>\n",
       "      <td>WriteOffOfDeferredDebtIssuanceCost</td>\n",
       "      <td>us-gaap/2018</td>\n",
       "      <td>terseLabel</td>\n",
       "      <td>write off of debt issuance costs</td>\n",
       "      <td>...</td>\n",
       "      <td>4941.0</td>\n",
       "      <td>10-K</td>\n",
       "      <td>1</td>\n",
       "      <td>IntExp</td>\n",
       "      <td>us-gaap/2019</td>\n",
       "      <td>write off of debt issuance costs</td>\n",
       "      <td>0</td>\n",
       "      <td>0</td>\n",
       "      <td>IntExp</td>\n",
       "      <td>NaN</td>\n",
       "    </tr>\n",
       "    <tr>\n",
       "      <th>2</th>\n",
       "      <td>1884297</td>\n",
       "      <td>0001434728-19-000051</td>\n",
       "      <td>7</td>\n",
       "      <td>6</td>\n",
       "      <td>CF</td>\n",
       "      <td>0</td>\n",
       "      <td>WriteOffOfDeferredDebtIssuanceCost</td>\n",
       "      <td>us-gaap/2018</td>\n",
       "      <td>terseLabel</td>\n",
       "      <td>write off of debt issuance costs</td>\n",
       "      <td>...</td>\n",
       "      <td>4941.0</td>\n",
       "      <td>10-K</td>\n",
       "      <td>1</td>\n",
       "      <td>IntExp</td>\n",
       "      <td>us-gaap/2020</td>\n",
       "      <td>write off of debt issuance costs</td>\n",
       "      <td>0</td>\n",
       "      <td>0</td>\n",
       "      <td>IntExp</td>\n",
       "      <td>NaN</td>\n",
       "    </tr>\n",
       "    <tr>\n",
       "      <th>3</th>\n",
       "      <td>1884297</td>\n",
       "      <td>0001434728-19-000051</td>\n",
       "      <td>7</td>\n",
       "      <td>6</td>\n",
       "      <td>CF</td>\n",
       "      <td>0</td>\n",
       "      <td>WriteOffOfDeferredDebtIssuanceCost</td>\n",
       "      <td>us-gaap/2018</td>\n",
       "      <td>terseLabel</td>\n",
       "      <td>write off of debt issuance costs</td>\n",
       "      <td>...</td>\n",
       "      <td>4941.0</td>\n",
       "      <td>10-K</td>\n",
       "      <td>1</td>\n",
       "      <td>IntExp</td>\n",
       "      <td>us-gaap/2021</td>\n",
       "      <td>write off of debt issuance costs</td>\n",
       "      <td>0</td>\n",
       "      <td>0</td>\n",
       "      <td>IntExp</td>\n",
       "      <td>NaN</td>\n",
       "    </tr>\n",
       "    <tr>\n",
       "      <th>4</th>\n",
       "      <td>1884297</td>\n",
       "      <td>0001434728-19-000051</td>\n",
       "      <td>7</td>\n",
       "      <td>6</td>\n",
       "      <td>CF</td>\n",
       "      <td>0</td>\n",
       "      <td>WriteOffOfDeferredDebtIssuanceCost</td>\n",
       "      <td>us-gaap/2018</td>\n",
       "      <td>terseLabel</td>\n",
       "      <td>write off of debt issuance costs</td>\n",
       "      <td>...</td>\n",
       "      <td>4941.0</td>\n",
       "      <td>10-K</td>\n",
       "      <td>1</td>\n",
       "      <td>IntExp</td>\n",
       "      <td>us-gaap/2022</td>\n",
       "      <td>write off of debt issuance costs</td>\n",
       "      <td>0</td>\n",
       "      <td>0</td>\n",
       "      <td>IntExp</td>\n",
       "      <td>NaN</td>\n",
       "    </tr>\n",
       "    <tr>\n",
       "      <th>...</th>\n",
       "      <td>...</td>\n",
       "      <td>...</td>\n",
       "      <td>...</td>\n",
       "      <td>...</td>\n",
       "      <td>...</td>\n",
       "      <td>...</td>\n",
       "      <td>...</td>\n",
       "      <td>...</td>\n",
       "      <td>...</td>\n",
       "      <td>...</td>\n",
       "      <td>...</td>\n",
       "      <td>...</td>\n",
       "      <td>...</td>\n",
       "      <td>...</td>\n",
       "      <td>...</td>\n",
       "      <td>...</td>\n",
       "      <td>...</td>\n",
       "      <td>...</td>\n",
       "      <td>...</td>\n",
       "      <td>...</td>\n",
       "      <td>...</td>\n",
       "    </tr>\n",
       "    <tr>\n",
       "      <th>1116990</th>\n",
       "      <td>12827821</td>\n",
       "      <td>0001558370-22-013196</td>\n",
       "      <td>6</td>\n",
       "      <td>21</td>\n",
       "      <td>CF</td>\n",
       "      <td>0</td>\n",
       "      <td>AccretionExpense</td>\n",
       "      <td>us-gaap/2021</td>\n",
       "      <td>terseLabel</td>\n",
       "      <td>accretion</td>\n",
       "      <td>...</td>\n",
       "      <td>2834.0</td>\n",
       "      <td>10-Q</td>\n",
       "      <td>1</td>\n",
       "      <td>OpExp</td>\n",
       "      <td>us-gaap/2018</td>\n",
       "      <td>accretion</td>\n",
       "      <td>3</td>\n",
       "      <td>3</td>\n",
       "      <td>OpExp</td>\n",
       "      <td>NaN</td>\n",
       "    </tr>\n",
       "    <tr>\n",
       "      <th>1116991</th>\n",
       "      <td>12827821</td>\n",
       "      <td>0001558370-22-013196</td>\n",
       "      <td>6</td>\n",
       "      <td>21</td>\n",
       "      <td>CF</td>\n",
       "      <td>0</td>\n",
       "      <td>AccretionExpense</td>\n",
       "      <td>us-gaap/2021</td>\n",
       "      <td>terseLabel</td>\n",
       "      <td>accretion</td>\n",
       "      <td>...</td>\n",
       "      <td>2834.0</td>\n",
       "      <td>10-Q</td>\n",
       "      <td>1</td>\n",
       "      <td>OpExp</td>\n",
       "      <td>us-gaap/2019</td>\n",
       "      <td>accretion</td>\n",
       "      <td>3</td>\n",
       "      <td>3</td>\n",
       "      <td>OpExp</td>\n",
       "      <td>NaN</td>\n",
       "    </tr>\n",
       "    <tr>\n",
       "      <th>1116992</th>\n",
       "      <td>12827821</td>\n",
       "      <td>0001558370-22-013196</td>\n",
       "      <td>6</td>\n",
       "      <td>21</td>\n",
       "      <td>CF</td>\n",
       "      <td>0</td>\n",
       "      <td>AccretionExpense</td>\n",
       "      <td>us-gaap/2021</td>\n",
       "      <td>terseLabel</td>\n",
       "      <td>accretion</td>\n",
       "      <td>...</td>\n",
       "      <td>2834.0</td>\n",
       "      <td>10-Q</td>\n",
       "      <td>1</td>\n",
       "      <td>OpExp</td>\n",
       "      <td>us-gaap/2020</td>\n",
       "      <td>accretion</td>\n",
       "      <td>3</td>\n",
       "      <td>3</td>\n",
       "      <td>OpExp</td>\n",
       "      <td>NaN</td>\n",
       "    </tr>\n",
       "    <tr>\n",
       "      <th>1116993</th>\n",
       "      <td>12827821</td>\n",
       "      <td>0001558370-22-013196</td>\n",
       "      <td>6</td>\n",
       "      <td>21</td>\n",
       "      <td>CF</td>\n",
       "      <td>0</td>\n",
       "      <td>AccretionExpense</td>\n",
       "      <td>us-gaap/2021</td>\n",
       "      <td>terseLabel</td>\n",
       "      <td>accretion</td>\n",
       "      <td>...</td>\n",
       "      <td>2834.0</td>\n",
       "      <td>10-Q</td>\n",
       "      <td>1</td>\n",
       "      <td>OpExp</td>\n",
       "      <td>us-gaap/2021</td>\n",
       "      <td>accretion</td>\n",
       "      <td>3</td>\n",
       "      <td>3</td>\n",
       "      <td>OpExp</td>\n",
       "      <td>NaN</td>\n",
       "    </tr>\n",
       "    <tr>\n",
       "      <th>1116994</th>\n",
       "      <td>12827821</td>\n",
       "      <td>0001558370-22-013196</td>\n",
       "      <td>6</td>\n",
       "      <td>21</td>\n",
       "      <td>CF</td>\n",
       "      <td>0</td>\n",
       "      <td>AccretionExpense</td>\n",
       "      <td>us-gaap/2021</td>\n",
       "      <td>terseLabel</td>\n",
       "      <td>accretion</td>\n",
       "      <td>...</td>\n",
       "      <td>2834.0</td>\n",
       "      <td>10-Q</td>\n",
       "      <td>1</td>\n",
       "      <td>OpExp</td>\n",
       "      <td>us-gaap/2022</td>\n",
       "      <td>accretion</td>\n",
       "      <td>3</td>\n",
       "      <td>3</td>\n",
       "      <td>OpExp</td>\n",
       "      <td>NaN</td>\n",
       "    </tr>\n",
       "  </tbody>\n",
       "</table>\n",
       "<p>1116995 rows × 23 columns</p>\n",
       "</div>"
      ],
      "text/plain": [
       "         Unnamed: 0                  adsh  report  line stmt  inpth  \\\n",
       "0           1884297  0001434728-19-000051       7     6   CF      0   \n",
       "1           1884297  0001434728-19-000051       7     6   CF      0   \n",
       "2           1884297  0001434728-19-000051       7     6   CF      0   \n",
       "3           1884297  0001434728-19-000051       7     6   CF      0   \n",
       "4           1884297  0001434728-19-000051       7     6   CF      0   \n",
       "...             ...                   ...     ...   ...  ...    ...   \n",
       "1116990    12827821  0001558370-22-013196       6    21   CF      0   \n",
       "1116991    12827821  0001558370-22-013196       6    21   CF      0   \n",
       "1116992    12827821  0001558370-22-013196       6    21   CF      0   \n",
       "1116993    12827821  0001558370-22-013196       6    21   CF      0   \n",
       "1116994    12827821  0001558370-22-013196       6    21   CF      0   \n",
       "\n",
       "                                        tag     version_x       prole  \\\n",
       "0        WriteOffOfDeferredDebtIssuanceCost  us-gaap/2018  terseLabel   \n",
       "1        WriteOffOfDeferredDebtIssuanceCost  us-gaap/2018  terseLabel   \n",
       "2        WriteOffOfDeferredDebtIssuanceCost  us-gaap/2018  terseLabel   \n",
       "3        WriteOffOfDeferredDebtIssuanceCost  us-gaap/2018  terseLabel   \n",
       "4        WriteOffOfDeferredDebtIssuanceCost  us-gaap/2018  terseLabel   \n",
       "...                                     ...           ...         ...   \n",
       "1116990                    AccretionExpense  us-gaap/2021  terseLabel   \n",
       "1116991                    AccretionExpense  us-gaap/2021  terseLabel   \n",
       "1116992                    AccretionExpense  us-gaap/2021  terseLabel   \n",
       "1116993                    AccretionExpense  us-gaap/2021  terseLabel   \n",
       "1116994                    AccretionExpense  us-gaap/2021  terseLabel   \n",
       "\n",
       "                                   plabel  ...     sic  form  \\\n",
       "0        write off of debt issuance costs  ...  4941.0  10-K   \n",
       "1        write off of debt issuance costs  ...  4941.0  10-K   \n",
       "2        write off of debt issuance costs  ...  4941.0  10-K   \n",
       "3        write off of debt issuance costs  ...  4941.0  10-K   \n",
       "4        write off of debt issuance costs  ...  4941.0  10-K   \n",
       "...                                   ...  ...     ...   ...   \n",
       "1116990                         accretion  ...  2834.0  10-Q   \n",
       "1116991                         accretion  ...  2834.0  10-Q   \n",
       "1116992                         accretion  ...  2834.0  10-Q   \n",
       "1116993                         accretion  ...  2834.0  10-Q   \n",
       "1116994                         accretion  ...  2834.0  10-Q   \n",
       "\n",
       "        aggregation_level  broad_cat     version_y  \\\n",
       "0                       1     IntExp  us-gaap/2018   \n",
       "1                       1     IntExp  us-gaap/2019   \n",
       "2                       1     IntExp  us-gaap/2020   \n",
       "3                       1     IntExp  us-gaap/2021   \n",
       "4                       1     IntExp  us-gaap/2022   \n",
       "...                   ...        ...           ...   \n",
       "1116990                 1      OpExp  us-gaap/2018   \n",
       "1116991                 1      OpExp  us-gaap/2019   \n",
       "1116992                 1      OpExp  us-gaap/2020   \n",
       "1116993                 1      OpExp  us-gaap/2021   \n",
       "1116994                 1      OpExp  us-gaap/2022   \n",
       "\n",
       "                              plabel_proc y_actual_broad_cat y_pred_broad_cat  \\\n",
       "0        write off of debt issuance costs                  0                0   \n",
       "1        write off of debt issuance costs                  0                0   \n",
       "2        write off of debt issuance costs                  0                0   \n",
       "3        write off of debt issuance costs                  0                0   \n",
       "4        write off of debt issuance costs                  0                0   \n",
       "...                                   ...                ...              ...   \n",
       "1116990                         accretion                  3                3   \n",
       "1116991                         accretion                  3                3   \n",
       "1116992                         accretion                  3                3   \n",
       "1116993                         accretion                  3                3   \n",
       "1116994                         accretion                  3                3   \n",
       "\n",
       "        broad_cat_pred  disagg_level  \n",
       "0               IntExp           NaN  \n",
       "1               IntExp           NaN  \n",
       "2               IntExp           NaN  \n",
       "3               IntExp           NaN  \n",
       "4               IntExp           NaN  \n",
       "...                ...           ...  \n",
       "1116990          OpExp           NaN  \n",
       "1116991          OpExp           NaN  \n",
       "1116992          OpExp           NaN  \n",
       "1116993          OpExp           NaN  \n",
       "1116994          OpExp           NaN  \n",
       "\n",
       "[1116995 rows x 23 columns]"
      ]
     },
     "execution_count": 79,
     "metadata": {},
     "output_type": "execute_result"
    }
   ],
   "source": [
    "df_focus"
   ]
  },
  {
   "cell_type": "code",
   "execution_count": 80,
   "id": "fc89f104",
   "metadata": {
    "ExecuteTime": {
     "end_time": "2023-07-29T18:57:08.976764Z",
     "start_time": "2023-07-29T18:57:08.502879Z"
    }
   },
   "outputs": [
    {
     "name": "stdout",
     "output_type": "stream",
     "text": [
      "data percent we dropping 50.22761964019534\n",
      "number of rows we are working with 555955\n"
     ]
    }
   ],
   "source": [
    "# Drop records where there is no disagg level\n",
    "\n",
    "# check percent of data we are working with currently\n",
    "print(\"data percent we dropping\", 100*df_focus[\"disagg_level\"].isna().sum()/len(df_focus))\n",
    "print(\"number of rows we are working with\", df_focus[\"disagg_level\"].notnull().sum())\n",
    "\n",
    "df_focus.dropna(subset = [\"disagg_level\"], inplace = True)"
   ]
  },
  {
   "cell_type": "markdown",
   "id": "9f21edda",
   "metadata": {},
   "source": [
    "## Get separate tag columns for each disagg level"
   ]
  },
  {
   "cell_type": "code",
   "execution_count": 81,
   "id": "30a9f4df",
   "metadata": {
    "ExecuteTime": {
     "end_time": "2023-07-29T18:57:09.135927Z",
     "start_time": "2023-07-29T18:57:08.977726Z"
    }
   },
   "outputs": [],
   "source": [
    "# intermediate step copy\n",
    "\n",
    "df_new = df_focus.copy()\n",
    "\n",
    "# set max disaggregation level\n",
    "max_disagg = df_hier.shape[1]\n"
   ]
  },
  {
   "cell_type": "code",
   "execution_count": 82,
   "id": "ac0c5855",
   "metadata": {
    "ExecuteTime": {
     "end_time": "2023-07-29T18:57:51.099838Z",
     "start_time": "2023-07-29T18:57:09.136945Z"
    }
   },
   "outputs": [
    {
     "name": "stdout",
     "output_type": "stream",
     "text": [
      "5\n",
      "4\n",
      "* 5\n",
      "3\n",
      "* 5\n",
      "* 4\n",
      "2\n",
      "* 5\n",
      "* 4\n",
      "* 3\n",
      "1\n",
      "* 5\n",
      "* 4\n",
      "* 3\n",
      "* 2\n"
     ]
    }
   ],
   "source": [
    "for current_disagg in range(max_disagg, 0, -1):\n",
    "    print(current_disagg)\n",
    "    \n",
    "    # make copy of relevant tags\n",
    "    df_new.loc[df_new[\"disagg_level\"] >= current_disagg, \"tag_\" + str(current_disagg)] = \\\n",
    "    df_new.loc[df_new[\"disagg_level\"] >= current_disagg, \"tag\"].copy()\n",
    "    \n",
    "    # condition if max\n",
    "    if current_disagg != max_disagg:\n",
    "        \n",
    "        # convert tags to the relevant disagg level\n",
    "        for j in range(max_disagg, current_disagg, -1 ):\n",
    "            print(\"*\", j)\n",
    "            df_mapping = df_hier[df_hier[\"disagg_\" + str(j)].notnull()]\n",
    "            df_new[\"tag_\" + str(current_disagg)].\\\n",
    "            replace(df_mapping.set_index(\"disagg_\" + str(j))[\"disagg_\" + str(j-1)], inplace = True)\n"
   ]
  },
  {
   "cell_type": "markdown",
   "id": "7cb70800",
   "metadata": {},
   "source": [
    "## Sanity Check 1: Nulls"
   ]
  },
  {
   "cell_type": "code",
   "execution_count": 83,
   "id": "ea0ce02f",
   "metadata": {
    "ExecuteTime": {
     "end_time": "2023-07-29T18:57:51.478948Z",
     "start_time": "2023-07-29T18:57:51.099838Z"
    }
   },
   "outputs": [
    {
     "data": {
      "text/plain": [
       "0"
      ]
     },
     "execution_count": 83,
     "metadata": {},
     "output_type": "execute_result"
    }
   ],
   "source": [
    "# tag 1\n",
    "df_new[df_new[\"tag_1\"].isna()][\"tag\"].isin(df_hier[\"disagg_1\"].unique()).sum()"
   ]
  },
  {
   "cell_type": "code",
   "execution_count": 84,
   "id": "c085b927",
   "metadata": {
    "ExecuteTime": {
     "end_time": "2023-07-29T18:57:51.621796Z",
     "start_time": "2023-07-29T18:57:51.479945Z"
    }
   },
   "outputs": [
    {
     "data": {
      "text/plain": [
       "0"
      ]
     },
     "execution_count": 84,
     "metadata": {},
     "output_type": "execute_result"
    }
   ],
   "source": [
    "# tag 2\n",
    "df_new[df_new[\"tag_2\"].isna()][\"tag\"].isin(df_hier[\"disagg_2\"].unique()).sum()"
   ]
  },
  {
   "cell_type": "code",
   "execution_count": 85,
   "id": "2305f81e",
   "metadata": {
    "ExecuteTime": {
     "end_time": "2023-07-29T18:57:51.876300Z",
     "start_time": "2023-07-29T18:57:51.622785Z"
    }
   },
   "outputs": [
    {
     "data": {
      "text/plain": [
       "0"
      ]
     },
     "execution_count": 85,
     "metadata": {},
     "output_type": "execute_result"
    }
   ],
   "source": [
    "# tag 3\n",
    "df_new[df_new[\"tag_3\"].isna()][\"tag\"].isin(df_hier[\"disagg_3\"].unique()).sum()"
   ]
  },
  {
   "cell_type": "code",
   "execution_count": 86,
   "id": "483fbbec",
   "metadata": {
    "ExecuteTime": {
     "end_time": "2023-07-29T18:57:52.224107Z",
     "start_time": "2023-07-29T18:57:51.879252Z"
    }
   },
   "outputs": [
    {
     "data": {
      "text/plain": [
       "0"
      ]
     },
     "execution_count": 86,
     "metadata": {},
     "output_type": "execute_result"
    }
   ],
   "source": [
    "# tag 4\n",
    "df_new[df_new[\"tag_4\"].isna()][\"tag\"].isin(df_hier[\"disagg_4\"].unique()).sum()"
   ]
  },
  {
   "cell_type": "code",
   "execution_count": 87,
   "id": "f4c4b8ea",
   "metadata": {
    "ExecuteTime": {
     "end_time": "2023-07-29T18:57:52.617153Z",
     "start_time": "2023-07-29T18:57:52.226104Z"
    }
   },
   "outputs": [
    {
     "data": {
      "text/plain": [
       "0"
      ]
     },
     "execution_count": 87,
     "metadata": {},
     "output_type": "execute_result"
    }
   ],
   "source": [
    "# tag 5\n",
    "df_new[df_new[\"tag_5\"].isna()][\"tag\"].isin(df_hier[\"disagg_5\"].unique()).sum()"
   ]
  },
  {
   "cell_type": "markdown",
   "id": "61f47e5f",
   "metadata": {},
   "source": [
    "## Sanity Check 2: Tags inconsistent between hierarchy and current data\n",
    "\n",
    "Result should return empty set or nan"
   ]
  },
  {
   "cell_type": "code",
   "execution_count": 88,
   "id": "a5d01814",
   "metadata": {
    "ExecuteTime": {
     "end_time": "2023-07-29T18:57:52.792348Z",
     "start_time": "2023-07-29T18:57:52.618147Z"
    }
   },
   "outputs": [
    {
     "data": {
      "text/plain": [
       "{'NetCashProvidedByUsedInOperatingActivities'}"
      ]
     },
     "execution_count": 88,
     "metadata": {},
     "output_type": "execute_result"
    }
   ],
   "source": [
    "# tag 1\n",
    "set(df_new[\"tag_1\"].unique())  - set(df_new[\"tag\"].unique())"
   ]
  },
  {
   "cell_type": "code",
   "execution_count": 89,
   "id": "f77e47b9",
   "metadata": {
    "ExecuteTime": {
     "end_time": "2023-07-29T18:57:52.935130Z",
     "start_time": "2023-07-29T18:57:52.793308Z"
    }
   },
   "outputs": [
    {
     "data": {
      "text/plain": [
       "{'AdjustmentsToReconcileNetIncomeLossToCashProvidedByUsedInOperatingActivities'}"
      ]
     },
     "execution_count": 89,
     "metadata": {},
     "output_type": "execute_result"
    }
   ],
   "source": [
    "# tag 2\n",
    "set(df_new[\"tag_2\"].unique())  - set(df_new[\"tag\"].unique())"
   ]
  },
  {
   "cell_type": "code",
   "execution_count": 90,
   "id": "31af5d1a",
   "metadata": {
    "ExecuteTime": {
     "end_time": "2023-07-29T18:57:53.095043Z",
     "start_time": "2023-07-29T18:57:52.936161Z"
    }
   },
   "outputs": [
    {
     "data": {
      "text/plain": [
       "{'AdjustmentsNoncashItemsToReconcileNetIncomeLossToCashProvidedByUsedInOperatingActivities',\n",
       " nan}"
      ]
     },
     "execution_count": 90,
     "metadata": {},
     "output_type": "execute_result"
    }
   ],
   "source": [
    "# tag 3\n",
    "set(df_new[\"tag_3\"].unique())  - set(df_new[\"tag\"].unique())"
   ]
  },
  {
   "cell_type": "code",
   "execution_count": 45,
   "id": "b1900d39",
   "metadata": {
    "ExecuteTime": {
     "end_time": "2023-07-29T18:57:53.250769Z",
     "start_time": "2023-07-29T18:57:53.095978Z"
    }
   },
   "outputs": [
    {
     "data": {
      "text/plain": [
       "{'DeferredIncomeTaxesAndTaxCredits',\n",
       " 'DepreciationDepletionAndAmortization',\n",
       " 'EnvironmentalExpenseAndLiabilities',\n",
       " 'GainLossOnSaleOfLoansAndLeases',\n",
       " 'IncomeLossFromEquityMethodInvestmentsNetOfDividendsOrDistributions',\n",
       " 'RestructuringCostsAndAssetImpairmentCharges',\n",
       " nan}"
      ]
     },
     "execution_count": 45,
     "metadata": {},
     "output_type": "execute_result"
    }
   ],
   "source": [
    "# tag 4\n",
    "set(df_new[\"tag_4\"].unique())  - set(df_new[\"tag\"].unique())"
   ]
  },
  {
   "cell_type": "code",
   "execution_count": 46,
   "id": "ab52f7e1",
   "metadata": {
    "ExecuteTime": {
     "end_time": "2023-07-29T18:57:53.409468Z",
     "start_time": "2023-07-29T18:57:53.251762Z"
    }
   },
   "outputs": [
    {
     "data": {
      "text/plain": [
       "{nan}"
      ]
     },
     "execution_count": 46,
     "metadata": {},
     "output_type": "execute_result"
    }
   ],
   "source": [
    "# tag 5\n",
    "set(df_new[\"tag_5\"].unique())  - set(df_new[\"tag\"].unique())"
   ]
  },
  {
   "cell_type": "markdown",
   "id": "6bf28209",
   "metadata": {},
   "source": [
    "**NOTE: If inconsistency exists, modeling won't take an impact. Although, possible to have values in final prediction that don't match original tags. Make sure to adjust for same**"
   ]
  },
  {
   "cell_type": "markdown",
   "id": "8083e1b1",
   "metadata": {},
   "source": [
    "## Sanity Check 3: broad cats that are present"
   ]
  },
  {
   "cell_type": "code",
   "execution_count": 91,
   "id": "a8001ec6",
   "metadata": {
    "ExecuteTime": {
     "end_time": "2023-07-29T18:57:53.473258Z",
     "start_time": "2023-07-29T18:57:53.410422Z"
    }
   },
   "outputs": [
    {
     "data": {
      "text/plain": [
       "OpExp            183810\n",
       "Profitability    147490\n",
       "Tax              105250\n",
       "NonOp             59130\n",
       "IntExp            56505\n",
       "Revenues           3770\n",
       "Name: broad_cat, dtype: int64"
      ]
     },
     "execution_count": 91,
     "metadata": {},
     "output_type": "execute_result"
    }
   ],
   "source": [
    "df_new[\"broad_cat\"].value_counts()"
   ]
  },
  {
   "cell_type": "code",
   "execution_count": 92,
   "id": "5d236bd3",
   "metadata": {
    "ExecuteTime": {
     "end_time": "2023-07-29T18:57:53.535665Z",
     "start_time": "2023-07-29T18:57:53.475251Z"
    }
   },
   "outputs": [
    {
     "data": {
      "text/plain": [
       "NetCashProvidedByUsedInOperatingActivities    555955\n",
       "Name: tag_1, dtype: int64"
      ]
     },
     "execution_count": 92,
     "metadata": {},
     "output_type": "execute_result"
    }
   ],
   "source": [
    "df_new[\"tag_1\"].value_counts()"
   ]
  },
  {
   "cell_type": "markdown",
   "id": "4ffc77f4",
   "metadata": {},
   "source": [
    "# Reindex"
   ]
  },
  {
   "cell_type": "markdown",
   "id": "059eea5b",
   "metadata": {},
   "source": [
    "we reindex since we dropped data again (where disagg_level is null again)"
   ]
  },
  {
   "cell_type": "code",
   "execution_count": 93,
   "id": "ed1c3b9e",
   "metadata": {
    "ExecuteTime": {
     "end_time": "2023-07-29T18:57:55.679661Z",
     "start_time": "2023-07-29T18:57:53.536661Z"
    }
   },
   "outputs": [
    {
     "data": {
      "text/plain": [
       "0"
      ]
     },
     "metadata": {},
     "output_type": "display_data"
    },
    {
     "data": {
      "text/plain": [
       "0"
      ]
     },
     "metadata": {},
     "output_type": "display_data"
    }
   ],
   "source": [
    "# check for duplicates and duplicated indices\n",
    "\n",
    "display(df_new.duplicated().sum())\n",
    "display(df_new.index.duplicated().sum())\n"
   ]
  },
  {
   "cell_type": "code",
   "execution_count": 94,
   "id": "2298598c",
   "metadata": {
    "ExecuteTime": {
     "end_time": "2023-07-29T18:57:56.257699Z",
     "start_time": "2023-07-29T18:57:55.680660Z"
    }
   },
   "outputs": [],
   "source": [
    "# sort and then reset index: in c\n",
    "df_new = df_new.sort_index().reset_index(drop = True)"
   ]
  },
  {
   "cell_type": "code",
   "execution_count": 95,
   "id": "4c29c2fa",
   "metadata": {
    "ExecuteTime": {
     "end_time": "2023-07-29T18:57:56.288523Z",
     "start_time": "2023-07-29T18:57:56.257699Z"
    }
   },
   "outputs": [
    {
     "data": {
      "text/html": [
       "<div>\n",
       "<style scoped>\n",
       "    .dataframe tbody tr th:only-of-type {\n",
       "        vertical-align: middle;\n",
       "    }\n",
       "\n",
       "    .dataframe tbody tr th {\n",
       "        vertical-align: top;\n",
       "    }\n",
       "\n",
       "    .dataframe thead th {\n",
       "        text-align: right;\n",
       "    }\n",
       "</style>\n",
       "<table border=\"1\" class=\"dataframe\">\n",
       "  <thead>\n",
       "    <tr style=\"text-align: right;\">\n",
       "      <th></th>\n",
       "      <th>Unnamed: 0</th>\n",
       "      <th>adsh</th>\n",
       "      <th>report</th>\n",
       "      <th>line</th>\n",
       "      <th>stmt</th>\n",
       "      <th>inpth</th>\n",
       "      <th>tag</th>\n",
       "      <th>version_x</th>\n",
       "      <th>prole</th>\n",
       "      <th>plabel</th>\n",
       "      <th>...</th>\n",
       "      <th>plabel_proc</th>\n",
       "      <th>y_actual_broad_cat</th>\n",
       "      <th>y_pred_broad_cat</th>\n",
       "      <th>broad_cat_pred</th>\n",
       "      <th>disagg_level</th>\n",
       "      <th>tag_5</th>\n",
       "      <th>tag_4</th>\n",
       "      <th>tag_3</th>\n",
       "      <th>tag_2</th>\n",
       "      <th>tag_1</th>\n",
       "    </tr>\n",
       "  </thead>\n",
       "  <tbody>\n",
       "    <tr>\n",
       "      <th>0</th>\n",
       "      <td>15014272</td>\n",
       "      <td>0001564590-19-041725</td>\n",
       "      <td>6</td>\n",
       "      <td>10</td>\n",
       "      <td>CF</td>\n",
       "      <td>0</td>\n",
       "      <td>ResearchAndDevelopmentInProcess</td>\n",
       "      <td>us-gaap/2019</td>\n",
       "      <td>terseLabel</td>\n",
       "      <td>acquired ipr d</td>\n",
       "      <td>...</td>\n",
       "      <td>acquired ipr</td>\n",
       "      <td>3</td>\n",
       "      <td>3</td>\n",
       "      <td>OpExp</td>\n",
       "      <td>4.0</td>\n",
       "      <td>NaN</td>\n",
       "      <td>ResearchAndDevelopmentInProcess</td>\n",
       "      <td>AdjustmentsNoncashItemsToReconcileNetIncomeLos...</td>\n",
       "      <td>AdjustmentsToReconcileNetIncomeLossToCashProvi...</td>\n",
       "      <td>NetCashProvidedByUsedInOperatingActivities</td>\n",
       "    </tr>\n",
       "    <tr>\n",
       "      <th>1</th>\n",
       "      <td>15014272</td>\n",
       "      <td>0001564590-19-041725</td>\n",
       "      <td>6</td>\n",
       "      <td>10</td>\n",
       "      <td>CF</td>\n",
       "      <td>0</td>\n",
       "      <td>ResearchAndDevelopmentInProcess</td>\n",
       "      <td>us-gaap/2019</td>\n",
       "      <td>terseLabel</td>\n",
       "      <td>acquired ipr d</td>\n",
       "      <td>...</td>\n",
       "      <td>acquired ipr</td>\n",
       "      <td>3</td>\n",
       "      <td>3</td>\n",
       "      <td>OpExp</td>\n",
       "      <td>4.0</td>\n",
       "      <td>NaN</td>\n",
       "      <td>ResearchAndDevelopmentInProcess</td>\n",
       "      <td>AdjustmentsNoncashItemsToReconcileNetIncomeLos...</td>\n",
       "      <td>AdjustmentsToReconcileNetIncomeLossToCashProvi...</td>\n",
       "      <td>NetCashProvidedByUsedInOperatingActivities</td>\n",
       "    </tr>\n",
       "    <tr>\n",
       "      <th>2</th>\n",
       "      <td>15014272</td>\n",
       "      <td>0001564590-19-041725</td>\n",
       "      <td>6</td>\n",
       "      <td>10</td>\n",
       "      <td>CF</td>\n",
       "      <td>0</td>\n",
       "      <td>ResearchAndDevelopmentInProcess</td>\n",
       "      <td>us-gaap/2019</td>\n",
       "      <td>terseLabel</td>\n",
       "      <td>acquired ipr d</td>\n",
       "      <td>...</td>\n",
       "      <td>acquired ipr</td>\n",
       "      <td>3</td>\n",
       "      <td>3</td>\n",
       "      <td>OpExp</td>\n",
       "      <td>4.0</td>\n",
       "      <td>NaN</td>\n",
       "      <td>ResearchAndDevelopmentInProcess</td>\n",
       "      <td>AdjustmentsNoncashItemsToReconcileNetIncomeLos...</td>\n",
       "      <td>AdjustmentsToReconcileNetIncomeLossToCashProvi...</td>\n",
       "      <td>NetCashProvidedByUsedInOperatingActivities</td>\n",
       "    </tr>\n",
       "    <tr>\n",
       "      <th>3</th>\n",
       "      <td>15014272</td>\n",
       "      <td>0001564590-19-041725</td>\n",
       "      <td>6</td>\n",
       "      <td>10</td>\n",
       "      <td>CF</td>\n",
       "      <td>0</td>\n",
       "      <td>ResearchAndDevelopmentInProcess</td>\n",
       "      <td>us-gaap/2019</td>\n",
       "      <td>terseLabel</td>\n",
       "      <td>acquired ipr d</td>\n",
       "      <td>...</td>\n",
       "      <td>acquired ipr</td>\n",
       "      <td>3</td>\n",
       "      <td>3</td>\n",
       "      <td>OpExp</td>\n",
       "      <td>4.0</td>\n",
       "      <td>NaN</td>\n",
       "      <td>ResearchAndDevelopmentInProcess</td>\n",
       "      <td>AdjustmentsNoncashItemsToReconcileNetIncomeLos...</td>\n",
       "      <td>AdjustmentsToReconcileNetIncomeLossToCashProvi...</td>\n",
       "      <td>NetCashProvidedByUsedInOperatingActivities</td>\n",
       "    </tr>\n",
       "    <tr>\n",
       "      <th>4</th>\n",
       "      <td>15014272</td>\n",
       "      <td>0001564590-19-041725</td>\n",
       "      <td>6</td>\n",
       "      <td>10</td>\n",
       "      <td>CF</td>\n",
       "      <td>0</td>\n",
       "      <td>ResearchAndDevelopmentInProcess</td>\n",
       "      <td>us-gaap/2019</td>\n",
       "      <td>terseLabel</td>\n",
       "      <td>acquired ipr d</td>\n",
       "      <td>...</td>\n",
       "      <td>acquired ipr</td>\n",
       "      <td>3</td>\n",
       "      <td>3</td>\n",
       "      <td>OpExp</td>\n",
       "      <td>4.0</td>\n",
       "      <td>NaN</td>\n",
       "      <td>ResearchAndDevelopmentInProcess</td>\n",
       "      <td>AdjustmentsNoncashItemsToReconcileNetIncomeLos...</td>\n",
       "      <td>AdjustmentsToReconcileNetIncomeLossToCashProvi...</td>\n",
       "      <td>NetCashProvidedByUsedInOperatingActivities</td>\n",
       "    </tr>\n",
       "  </tbody>\n",
       "</table>\n",
       "<p>5 rows × 28 columns</p>\n",
       "</div>"
      ],
      "text/plain": [
       "   Unnamed: 0                  adsh  report  line stmt  inpth  \\\n",
       "0    15014272  0001564590-19-041725       6    10   CF      0   \n",
       "1    15014272  0001564590-19-041725       6    10   CF      0   \n",
       "2    15014272  0001564590-19-041725       6    10   CF      0   \n",
       "3    15014272  0001564590-19-041725       6    10   CF      0   \n",
       "4    15014272  0001564590-19-041725       6    10   CF      0   \n",
       "\n",
       "                               tag     version_x       prole          plabel  \\\n",
       "0  ResearchAndDevelopmentInProcess  us-gaap/2019  terseLabel  acquired ipr d   \n",
       "1  ResearchAndDevelopmentInProcess  us-gaap/2019  terseLabel  acquired ipr d   \n",
       "2  ResearchAndDevelopmentInProcess  us-gaap/2019  terseLabel  acquired ipr d   \n",
       "3  ResearchAndDevelopmentInProcess  us-gaap/2019  terseLabel  acquired ipr d   \n",
       "4  ResearchAndDevelopmentInProcess  us-gaap/2019  terseLabel  acquired ipr d   \n",
       "\n",
       "   ...   plabel_proc  y_actual_broad_cat y_pred_broad_cat  broad_cat_pred  \\\n",
       "0  ...  acquired ipr                   3                3           OpExp   \n",
       "1  ...  acquired ipr                   3                3           OpExp   \n",
       "2  ...  acquired ipr                   3                3           OpExp   \n",
       "3  ...  acquired ipr                   3                3           OpExp   \n",
       "4  ...  acquired ipr                   3                3           OpExp   \n",
       "\n",
       "  disagg_level  tag_5                            tag_4  \\\n",
       "0          4.0    NaN  ResearchAndDevelopmentInProcess   \n",
       "1          4.0    NaN  ResearchAndDevelopmentInProcess   \n",
       "2          4.0    NaN  ResearchAndDevelopmentInProcess   \n",
       "3          4.0    NaN  ResearchAndDevelopmentInProcess   \n",
       "4          4.0    NaN  ResearchAndDevelopmentInProcess   \n",
       "\n",
       "                                               tag_3  \\\n",
       "0  AdjustmentsNoncashItemsToReconcileNetIncomeLos...   \n",
       "1  AdjustmentsNoncashItemsToReconcileNetIncomeLos...   \n",
       "2  AdjustmentsNoncashItemsToReconcileNetIncomeLos...   \n",
       "3  AdjustmentsNoncashItemsToReconcileNetIncomeLos...   \n",
       "4  AdjustmentsNoncashItemsToReconcileNetIncomeLos...   \n",
       "\n",
       "                                               tag_2  \\\n",
       "0  AdjustmentsToReconcileNetIncomeLossToCashProvi...   \n",
       "1  AdjustmentsToReconcileNetIncomeLossToCashProvi...   \n",
       "2  AdjustmentsToReconcileNetIncomeLossToCashProvi...   \n",
       "3  AdjustmentsToReconcileNetIncomeLossToCashProvi...   \n",
       "4  AdjustmentsToReconcileNetIncomeLossToCashProvi...   \n",
       "\n",
       "                                        tag_1  \n",
       "0  NetCashProvidedByUsedInOperatingActivities  \n",
       "1  NetCashProvidedByUsedInOperatingActivities  \n",
       "2  NetCashProvidedByUsedInOperatingActivities  \n",
       "3  NetCashProvidedByUsedInOperatingActivities  \n",
       "4  NetCashProvidedByUsedInOperatingActivities  \n",
       "\n",
       "[5 rows x 28 columns]"
      ]
     },
     "execution_count": 95,
     "metadata": {},
     "output_type": "execute_result"
    }
   ],
   "source": [
    "df_new.head()"
   ]
  },
  {
   "cell_type": "markdown",
   "id": "006beab7",
   "metadata": {},
   "source": [
    "# Export dataframe"
   ]
  },
  {
   "cell_type": "code",
   "execution_count": 96,
   "id": "ea2eed91",
   "metadata": {
    "ExecuteTime": {
     "end_time": "2023-07-29T18:57:58.277797Z",
     "start_time": "2023-07-29T18:57:56.289521Z"
    }
   },
   "outputs": [
    {
     "name": "stdout",
     "output_type": "stream",
     "text": [
      "Dataframe is saved into to disk successfully Using Pickle\n"
     ]
    }
   ],
   "source": [
    "# export df\n",
    "\n",
    "object_filename = \"df_with_loc_lvl_step_v4.sav\"\n",
    "saved_df = pickle.dump(df_new, open(object_filename,'wb'))\n",
    "print('Dataframe is saved into to disk successfully Using Pickle')"
   ]
  },
  {
   "cell_type": "code",
   "execution_count": null,
   "id": "441dc8cf",
   "metadata": {},
   "outputs": [],
   "source": []
  },
  {
   "cell_type": "code",
   "execution_count": null,
   "id": "68e6d5bb",
   "metadata": {},
   "outputs": [],
   "source": []
  }
 ],
 "metadata": {
  "kernelspec": {
   "display_name": "Python 3 (ipykernel)",
   "language": "python",
   "name": "python3"
  },
  "language_info": {
   "codemirror_mode": {
    "name": "ipython",
    "version": 3
   },
   "file_extension": ".py",
   "mimetype": "text/x-python",
   "name": "python",
   "nbconvert_exporter": "python",
   "pygments_lexer": "ipython3",
   "version": "3.9.12"
  },
  "toc": {
   "base_numbering": 1,
   "nav_menu": {},
   "number_sections": true,
   "sideBar": true,
   "skip_h1_title": false,
   "title_cell": "Table of Contents",
   "title_sidebar": "Contents",
   "toc_cell": true,
   "toc_position": {},
   "toc_section_display": true,
   "toc_window_display": false
  }
 },
 "nbformat": 4,
 "nbformat_minor": 5
}
